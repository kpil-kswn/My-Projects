{
 "cells": [
  {
   "cell_type": "code",
   "execution_count": 95,
   "id": "39fa4b2a",
   "metadata": {},
   "outputs": [],
   "source": [
    "import pandas as pd\n",
    "# Step 1: Read CSV with header=None to treat entire file as data\n",
    "df = pd.read_csv(\"MANGALORE.csv\")"
   ]
  },
  {
   "cell_type": "code",
   "execution_count": 96,
   "id": "f896e205",
   "metadata": {},
   "outputs": [
    {
     "name": "stdout",
     "output_type": "stream",
     "text": [
      "            INDEX  YEAR  MN      HR      DT   SLP  MSLP   DBT  WBT   DPT  ...  \\\n",
      "43285 2010      1    12   1  1008.0  1011.6  25.4  24.2  23.7  090  29.3  ...   \n",
      "      2010      1    12   2  1009.7  1013.3  25.6  22.6  21.1  076  25.0  ...   \n",
      "      2010      1    12   3  1011.2  1014.9  24.0  21.6  20.3  080  23.8  ...   \n",
      "      2010      1    12   4  1010.5  1014.2  23.2  21.0  19.8  081  23.1  ...   \n",
      "      2010      1    12   5  1008.0  1011.7  22.8  21.0  20.0  084  23.4  ...   \n",
      "...           ...   ...  ..     ...     ...   ...   ...   ...  ...   ...  ...   \n",
      "      2020     12    48  27  1004.3  1007.4  29.2  23.0  19.8  057  23.1  ...   \n",
      "      2020     12    48  28  1005.0  1008.1  30.8  26.2  24.2  068  30.2  ...   \n",
      "      2020     12    48  29  1004.5  1007.6  29.8  25.6  23.7  070  29.4  ...   \n",
      "      2020     12    48  30  1003.4  1006.5  30.6  26.0  24.0  068  29.8  ...   \n",
      "      2020     12    48  31  1005.1  1008.2  31.2  27.2  25.6  072  32.7  ...   \n",
      "\n",
      "            c  a  Ht    RF  EVP  DW  P  H  WAT Unnamed: 36  \n",
      "43285 2010  0  0  99  0000                             NaN  \n",
      "      2010  0  0  99  0000                             NaN  \n",
      "      2010  0  0  99  0000                             NaN  \n",
      "      2010  0  0  99  0000                             NaN  \n",
      "      2010  0  0  99  0000                             NaN  \n",
      "...        .. ..  ..   ...  ...  .. .. ..  ...         ...  \n",
      "      2020     0  99  0000                             NaN  \n",
      "      2020  3  2  60  0000                             NaN  \n",
      "      2020     0  99  0000                             NaN  \n",
      "      2020            0000                             NaN  \n",
      "      2020  6  2  18  0000                             NaN  \n",
      "\n",
      "[9827 rows x 37 columns]\n"
     ]
    }
   ],
   "source": [
    "print(df)"
   ]
  },
  {
   "cell_type": "code",
   "execution_count": 97,
   "id": "70ef7618",
   "metadata": {},
   "outputs": [],
   "source": [
    "df.reset_index(inplace=True)\n",
    "df.columns = df.columns[2:].tolist() + df.columns[:2].tolist()"
   ]
  },
  {
   "cell_type": "code",
   "execution_count": 98,
   "id": "63c07fb1",
   "metadata": {},
   "outputs": [
    {
     "name": "stdout",
     "output_type": "stream",
     "text": [
      "      INDEX  YEAR  MN  HR  DT     SLP    MSLP   DBT   WBT   DPT  ... Ht RF  \\\n",
      "0     43285  2010   1  12   1  1008.0  1011.6  25.4  24.2  23.7  ...  0  0   \n",
      "1     43285  2010   1  12   2  1009.7  1013.3  25.6  22.6  21.1  ...  0  0   \n",
      "2     43285  2010   1  12   3  1011.2  1014.9  24.0  21.6  20.3  ...  0  0   \n",
      "3     43285  2010   1  12   4  1010.5  1014.2  23.2  21.0  19.8  ...  0  0   \n",
      "4     43285  2010   1  12   5  1008.0  1011.7  22.8  21.0  20.0  ...  0  0   \n",
      "...     ...   ...  ..  ..  ..     ...     ...   ...   ...   ...  ... .. ..   \n",
      "9822  43285  2020  12  48  27  1004.3  1007.4  29.2  23.0  19.8  ...     0   \n",
      "9823  43285  2020  12  48  28  1005.0  1008.1  30.8  26.2  24.2  ...  3  2   \n",
      "9824  43285  2020  12  48  29  1004.5  1007.6  29.8  25.6  23.7  ...     0   \n",
      "9825  43285  2020  12  48  30  1003.4  1006.5  30.6  26.0  24.0  ...         \n",
      "9826  43285  2020  12  48  31  1005.1  1008.2  31.2  27.2  25.6  ...  6  2   \n",
      "\n",
      "     EVP    DW    P   H WAT Unnamed: 36 level_0 level_1  \n",
      "0     99  0000                                      NaN  \n",
      "1     99  0000                                      NaN  \n",
      "2     99  0000                                      NaN  \n",
      "3     99  0000                                      NaN  \n",
      "4     99  0000                                      NaN  \n",
      "...   ..   ...  ...  ..  ..         ...     ...     ...  \n",
      "9822  99  0000                                      NaN  \n",
      "9823  60  0000                                      NaN  \n",
      "9824  99  0000                                      NaN  \n",
      "9825      0000                                      NaN  \n",
      "9826  18  0000                                      NaN  \n",
      "\n",
      "[9827 rows x 39 columns]\n"
     ]
    }
   ],
   "source": [
    "print(df)"
   ]
  },
  {
   "cell_type": "code",
   "execution_count": 99,
   "id": "40515a70",
   "metadata": {},
   "outputs": [
    {
     "name": "stdout",
     "output_type": "stream",
     "text": [
      "<class 'pandas.core.frame.DataFrame'>\n",
      "RangeIndex: 9827 entries, 0 to 9826\n",
      "Data columns (total 39 columns):\n",
      " #   Column       Non-Null Count  Dtype  \n",
      "---  ------       --------------  -----  \n",
      " 0   INDEX        9827 non-null   int64  \n",
      " 1   YEAR         9827 non-null   int64  \n",
      " 2   MN           9827 non-null   int64  \n",
      " 3   HR           9827 non-null   int64  \n",
      " 4   DT           9827 non-null   int64  \n",
      " 5   SLP          9827 non-null   float64\n",
      " 6   MSLP         9827 non-null   float64\n",
      " 7   DBT          9826 non-null   float64\n",
      " 8   WBT          9826 non-null   float64\n",
      " 9   DPT          9826 non-null   float64\n",
      " 10  RH           9827 non-null   object \n",
      " 11  VP           9827 non-null   object \n",
      " 12  DD           9827 non-null   object \n",
      " 13  FFF          9827 non-null   object \n",
      " 14  AW           9827 non-null   object \n",
      " 15  VV           9827 non-null   object \n",
      " 16  Cl           9827 non-null   object \n",
      " 17  A            9827 non-null   object \n",
      " 18  Cm           9827 non-null   object \n",
      " 19  A.1          9827 non-null   object \n",
      " 20  Ch           9827 non-null   object \n",
      " 21  A.2          9827 non-null   object \n",
      " 22  Dl           9827 non-null   object \n",
      " 23  Dm           9827 non-null   object \n",
      " 24  Dh           9827 non-null   object \n",
      " 25  TC           9827 non-null   object \n",
      " 26  h            9827 non-null   object \n",
      " 27  c            9827 non-null   object \n",
      " 28  a            9827 non-null   object \n",
      " 29  Ht           9827 non-null   object \n",
      " 30  RF           9827 non-null   object \n",
      " 31  EVP          9827 non-null   object \n",
      " 32  DW           9827 non-null   object \n",
      " 33  P            9827 non-null   object \n",
      " 34  H            9827 non-null   object \n",
      " 35  WAT          9827 non-null   object \n",
      " 36  Unnamed: 36  9827 non-null   object \n",
      " 37  level_0      9827 non-null   object \n",
      " 38  level_1      0 non-null      float64\n",
      "dtypes: float64(6), int64(5), object(28)\n",
      "memory usage: 2.9+ MB\n"
     ]
    }
   ],
   "source": [
    "df.info()"
   ]
  },
  {
   "cell_type": "code",
   "execution_count": 100,
   "id": "44abd1f5",
   "metadata": {},
   "outputs": [],
   "source": [
    "df=df.apply(pd.to_numeric,errors='coerce')"
   ]
  },
  {
   "cell_type": "code",
   "execution_count": 101,
   "id": "709061e3",
   "metadata": {},
   "outputs": [
    {
     "name": "stdout",
     "output_type": "stream",
     "text": [
      "<class 'pandas.core.frame.DataFrame'>\n",
      "RangeIndex: 9827 entries, 0 to 9826\n",
      "Data columns (total 39 columns):\n",
      " #   Column       Non-Null Count  Dtype  \n",
      "---  ------       --------------  -----  \n",
      " 0   INDEX        9827 non-null   int64  \n",
      " 1   YEAR         9827 non-null   int64  \n",
      " 2   MN           9827 non-null   int64  \n",
      " 3   HR           9827 non-null   int64  \n",
      " 4   DT           9827 non-null   int64  \n",
      " 5   SLP          9827 non-null   float64\n",
      " 6   MSLP         9827 non-null   float64\n",
      " 7   DBT          9826 non-null   float64\n",
      " 8   WBT          9826 non-null   float64\n",
      " 9   DPT          9826 non-null   float64\n",
      " 10  RH           9826 non-null   float64\n",
      " 11  VP           9826 non-null   float64\n",
      " 12  DD           9826 non-null   float64\n",
      " 13  FFF          9826 non-null   float64\n",
      " 14  AW           6978 non-null   float64\n",
      " 15  VV           9826 non-null   float64\n",
      " 16  Cl           9825 non-null   float64\n",
      " 17  A            9826 non-null   float64\n",
      " 18  Cm           9826 non-null   float64\n",
      " 19  A.1          9824 non-null   float64\n",
      " 20  Ch           8713 non-null   float64\n",
      " 21  A.2          8863 non-null   float64\n",
      " 22  Dl           9826 non-null   float64\n",
      " 23  Dm           9825 non-null   float64\n",
      " 24  Dh           9003 non-null   float64\n",
      " 25  TC           9826 non-null   float64\n",
      " 26  h            9826 non-null   float64\n",
      " 27  c            9717 non-null   float64\n",
      " 28  a            9742 non-null   float64\n",
      " 29  Ht           9717 non-null   float64\n",
      " 30  RF           9801 non-null   float64\n",
      " 31  EVP          9804 non-null   float64\n",
      " 32  DW           9814 non-null   float64\n",
      " 33  P            1 non-null      float64\n",
      " 34  H            0 non-null      float64\n",
      " 35  WAT          0 non-null      float64\n",
      " 36  Unnamed: 36  0 non-null      float64\n",
      " 37  level_0      0 non-null      float64\n",
      " 38  level_1      0 non-null      float64\n",
      "dtypes: float64(34), int64(5)\n",
      "memory usage: 2.9 MB\n"
     ]
    }
   ],
   "source": [
    "df.info()"
   ]
  },
  {
   "cell_type": "code",
   "execution_count": 102,
   "id": "f966cba2",
   "metadata": {},
   "outputs": [],
   "source": [
    "df.drop(columns=['P', 'H', 'WAT', 'Unnamed: 36','level_0','level_1'], inplace=True)"
   ]
  },
  {
   "cell_type": "code",
   "execution_count": 103,
   "id": "30e610c7",
   "metadata": {},
   "outputs": [
    {
     "data": {
      "text/html": [
       "<div>\n",
       "<style scoped>\n",
       "    .dataframe tbody tr th:only-of-type {\n",
       "        vertical-align: middle;\n",
       "    }\n",
       "\n",
       "    .dataframe tbody tr th {\n",
       "        vertical-align: top;\n",
       "    }\n",
       "\n",
       "    .dataframe thead th {\n",
       "        text-align: right;\n",
       "    }\n",
       "</style>\n",
       "<table border=\"1\" class=\"dataframe\">\n",
       "  <thead>\n",
       "    <tr style=\"text-align: right;\">\n",
       "      <th></th>\n",
       "      <th>INDEX</th>\n",
       "      <th>YEAR</th>\n",
       "      <th>MN</th>\n",
       "      <th>HR</th>\n",
       "      <th>DT</th>\n",
       "      <th>SLP</th>\n",
       "      <th>MSLP</th>\n",
       "      <th>DBT</th>\n",
       "      <th>WBT</th>\n",
       "      <th>DPT</th>\n",
       "      <th>...</th>\n",
       "      <th>Dm</th>\n",
       "      <th>Dh</th>\n",
       "      <th>TC</th>\n",
       "      <th>h</th>\n",
       "      <th>c</th>\n",
       "      <th>a</th>\n",
       "      <th>Ht</th>\n",
       "      <th>RF</th>\n",
       "      <th>EVP</th>\n",
       "      <th>DW</th>\n",
       "    </tr>\n",
       "  </thead>\n",
       "  <tbody>\n",
       "    <tr>\n",
       "      <th>0</th>\n",
       "      <td>43285</td>\n",
       "      <td>2010</td>\n",
       "      <td>1</td>\n",
       "      <td>12</td>\n",
       "      <td>1</td>\n",
       "      <td>1008.0</td>\n",
       "      <td>1011.6</td>\n",
       "      <td>25.4</td>\n",
       "      <td>24.2</td>\n",
       "      <td>23.7</td>\n",
       "      <td>...</td>\n",
       "      <td>0.0</td>\n",
       "      <td>0.0</td>\n",
       "      <td>0.0</td>\n",
       "      <td>9.0</td>\n",
       "      <td>0.0</td>\n",
       "      <td>900.0</td>\n",
       "      <td>0.0</td>\n",
       "      <td>0.0</td>\n",
       "      <td>99.0</td>\n",
       "      <td>0.0</td>\n",
       "    </tr>\n",
       "    <tr>\n",
       "      <th>1</th>\n",
       "      <td>43285</td>\n",
       "      <td>2010</td>\n",
       "      <td>1</td>\n",
       "      <td>12</td>\n",
       "      <td>2</td>\n",
       "      <td>1009.7</td>\n",
       "      <td>1013.3</td>\n",
       "      <td>25.6</td>\n",
       "      <td>22.6</td>\n",
       "      <td>21.1</td>\n",
       "      <td>...</td>\n",
       "      <td>0.0</td>\n",
       "      <td>0.0</td>\n",
       "      <td>0.0</td>\n",
       "      <td>9.0</td>\n",
       "      <td>0.0</td>\n",
       "      <td>900.0</td>\n",
       "      <td>0.0</td>\n",
       "      <td>0.0</td>\n",
       "      <td>99.0</td>\n",
       "      <td>0.0</td>\n",
       "    </tr>\n",
       "    <tr>\n",
       "      <th>2</th>\n",
       "      <td>43285</td>\n",
       "      <td>2010</td>\n",
       "      <td>1</td>\n",
       "      <td>12</td>\n",
       "      <td>3</td>\n",
       "      <td>1011.2</td>\n",
       "      <td>1014.9</td>\n",
       "      <td>24.0</td>\n",
       "      <td>21.6</td>\n",
       "      <td>20.3</td>\n",
       "      <td>...</td>\n",
       "      <td>0.0</td>\n",
       "      <td>0.0</td>\n",
       "      <td>0.0</td>\n",
       "      <td>9.0</td>\n",
       "      <td>0.0</td>\n",
       "      <td>900.0</td>\n",
       "      <td>0.0</td>\n",
       "      <td>0.0</td>\n",
       "      <td>99.0</td>\n",
       "      <td>0.0</td>\n",
       "    </tr>\n",
       "    <tr>\n",
       "      <th>3</th>\n",
       "      <td>43285</td>\n",
       "      <td>2010</td>\n",
       "      <td>1</td>\n",
       "      <td>12</td>\n",
       "      <td>4</td>\n",
       "      <td>1010.5</td>\n",
       "      <td>1014.2</td>\n",
       "      <td>23.2</td>\n",
       "      <td>21.0</td>\n",
       "      <td>19.8</td>\n",
       "      <td>...</td>\n",
       "      <td>0.0</td>\n",
       "      <td>0.0</td>\n",
       "      <td>0.0</td>\n",
       "      <td>9.0</td>\n",
       "      <td>0.0</td>\n",
       "      <td>900.0</td>\n",
       "      <td>0.0</td>\n",
       "      <td>0.0</td>\n",
       "      <td>99.0</td>\n",
       "      <td>0.0</td>\n",
       "    </tr>\n",
       "    <tr>\n",
       "      <th>4</th>\n",
       "      <td>43285</td>\n",
       "      <td>2010</td>\n",
       "      <td>1</td>\n",
       "      <td>12</td>\n",
       "      <td>5</td>\n",
       "      <td>1008.0</td>\n",
       "      <td>1011.7</td>\n",
       "      <td>22.8</td>\n",
       "      <td>21.0</td>\n",
       "      <td>20.0</td>\n",
       "      <td>...</td>\n",
       "      <td>0.0</td>\n",
       "      <td>0.0</td>\n",
       "      <td>0.0</td>\n",
       "      <td>9.0</td>\n",
       "      <td>0.0</td>\n",
       "      <td>900.0</td>\n",
       "      <td>0.0</td>\n",
       "      <td>0.0</td>\n",
       "      <td>99.0</td>\n",
       "      <td>0.0</td>\n",
       "    </tr>\n",
       "  </tbody>\n",
       "</table>\n",
       "<p>5 rows × 33 columns</p>\n",
       "</div>"
      ],
      "text/plain": [
       "   INDEX  YEAR  MN  HR  DT     SLP    MSLP   DBT   WBT   DPT  ...   Dm   Dh  \\\n",
       "0  43285  2010   1  12   1  1008.0  1011.6  25.4  24.2  23.7  ...  0.0  0.0   \n",
       "1  43285  2010   1  12   2  1009.7  1013.3  25.6  22.6  21.1  ...  0.0  0.0   \n",
       "2  43285  2010   1  12   3  1011.2  1014.9  24.0  21.6  20.3  ...  0.0  0.0   \n",
       "3  43285  2010   1  12   4  1010.5  1014.2  23.2  21.0  19.8  ...  0.0  0.0   \n",
       "4  43285  2010   1  12   5  1008.0  1011.7  22.8  21.0  20.0  ...  0.0  0.0   \n",
       "\n",
       "    TC    h    c      a   Ht   RF   EVP   DW  \n",
       "0  0.0  9.0  0.0  900.0  0.0  0.0  99.0  0.0  \n",
       "1  0.0  9.0  0.0  900.0  0.0  0.0  99.0  0.0  \n",
       "2  0.0  9.0  0.0  900.0  0.0  0.0  99.0  0.0  \n",
       "3  0.0  9.0  0.0  900.0  0.0  0.0  99.0  0.0  \n",
       "4  0.0  9.0  0.0  900.0  0.0  0.0  99.0  0.0  \n",
       "\n",
       "[5 rows x 33 columns]"
      ]
     },
     "execution_count": 103,
     "metadata": {},
     "output_type": "execute_result"
    }
   ],
   "source": [
    "df.head()"
   ]
  },
  {
   "cell_type": "code",
   "execution_count": 104,
   "id": "0c4d6bab",
   "metadata": {},
   "outputs": [
    {
     "data": {
      "text/plain": [
       "INDEX       0\n",
       "YEAR        0\n",
       "MN          0\n",
       "HR          0\n",
       "DT          0\n",
       "SLP         0\n",
       "MSLP        0\n",
       "DBT         1\n",
       "WBT         1\n",
       "DPT         1\n",
       "RH          1\n",
       "VP          1\n",
       "DD          1\n",
       "FFF         1\n",
       "AW       2849\n",
       "VV          1\n",
       "Cl          2\n",
       "A           1\n",
       "Cm          1\n",
       "A.1         3\n",
       "Ch       1114\n",
       "A.2       964\n",
       "Dl          1\n",
       "Dm          2\n",
       "Dh        824\n",
       "TC          1\n",
       "h           1\n",
       "c         110\n",
       "a          85\n",
       "Ht        110\n",
       "RF         26\n",
       "EVP        23\n",
       "DW         13\n",
       "dtype: int64"
      ]
     },
     "execution_count": 104,
     "metadata": {},
     "output_type": "execute_result"
    }
   ],
   "source": [
    "df.isnull().sum()"
   ]
  },
  {
   "cell_type": "code",
   "execution_count": 105,
   "id": "0a3bb2fa",
   "metadata": {},
   "outputs": [
    {
     "name": "stdout",
     "output_type": "stream",
     "text": [
      "      INDEX  YEAR  MN  HR  DT     SLP    MSLP   DBT   WBT   DPT  ...   Dm  \\\n",
      "0     43285  2010   1  12   1  1008.0  1011.6  25.4  24.2  23.7  ...  0.0   \n",
      "1     43285  2010   1  12   2  1009.7  1013.3  25.6  22.6  21.1  ...  0.0   \n",
      "2     43285  2010   1  12   3  1011.2  1014.9  24.0  21.6  20.3  ...  0.0   \n",
      "3     43285  2010   1  12   4  1010.5  1014.2  23.2  21.0  19.8  ...  0.0   \n",
      "4     43285  2010   1  12   5  1008.0  1011.7  22.8  21.0  20.0  ...  0.0   \n",
      "...     ...   ...  ..  ..  ..     ...     ...   ...   ...   ...  ...  ...   \n",
      "9822  43285  2020  12  48  27  1004.3  1007.4  29.2  23.0  19.8  ...  0.0   \n",
      "9823  43285  2020  12  48  28  1005.0  1008.1  30.8  26.2  24.2  ...  9.0   \n",
      "9824  43285  2020  12  48  29  1004.5  1007.6  29.8  25.6  23.7  ...  0.0   \n",
      "9825  43285  2020  12  48  30  1003.4  1006.5  30.6  26.0  24.0  ...  0.0   \n",
      "9826  43285  2020  12  48  31  1005.1  1008.2  31.2  27.2  25.6  ...  9.0   \n",
      "\n",
      "       Dh   TC    h    c      a   Ht   RF   EVP   DW  \n",
      "0     0.0  0.0  9.0  0.0  900.0  0.0  0.0  99.0  0.0  \n",
      "1     0.0  0.0  9.0  0.0  900.0  0.0  0.0  99.0  0.0  \n",
      "2     0.0  0.0  9.0  0.0  900.0  0.0  0.0  99.0  0.0  \n",
      "3     0.0  0.0  9.0  0.0  900.0  0.0  0.0  99.0  0.0  \n",
      "4     0.0  0.0  9.0  0.0  900.0  0.0  0.0  99.0  0.0  \n",
      "...   ...  ...  ...  ...    ...  ...  ...   ...  ...  \n",
      "9822  0.0  0.0  9.0  NaN    NaN  NaN  0.0  99.0  0.0  \n",
      "9823  0.0  2.0  9.0  3.0  932.0  3.0  2.0  60.0  0.0  \n",
      "9824  0.0  0.0  9.0  NaN    NaN  NaN  0.0  99.0  0.0  \n",
      "9825  0.0  0.0  9.0  NaN    9.0  NaN  NaN   NaN  0.0  \n",
      "9826  9.0  7.0  4.0  6.0  462.0  6.0  2.0  18.0  0.0  \n",
      "\n",
      "[9827 rows x 33 columns]\n"
     ]
    }
   ],
   "source": [
    "print(df)"
   ]
  },
  {
   "cell_type": "code",
   "execution_count": 106,
   "id": "da84ade3",
   "metadata": {},
   "outputs": [],
   "source": [
    "# Filling each categorical column's null values using the mode of its month\n",
    "for col in ['DD','DW', 'Cl', 'A', 'Cm', 'Ch', 'Dl', 'Dm', 'Dh', 'TC', 'c']:\n",
    "    df[col] = df.groupby('MN')[col].transform(lambda x: x.fillna(x.mode().iloc[0]) if not x.mode().empty else x.fillna(\"Unknown\"))\n",
    "# Fill numeric columns with median of the respective month\n",
    "for col in ['EVP','SLP', 'MSLP', 'DBT', 'WBT', 'DPT', 'RH', 'VP', 'FFF','AW', 'VV', 'A.1', 'A.2', 'a', 'Ht', 'RF', 'h']:\n",
    "    df[col] = df.groupby('MN')[col].transform(lambda x: x.fillna(x.median()))\n"
   ]
  },
  {
   "cell_type": "code",
   "execution_count": 107,
   "id": "9c645427",
   "metadata": {},
   "outputs": [
    {
     "name": "stdout",
     "output_type": "stream",
     "text": [
      "      INDEX  YEAR  MN    HR  DT     SLP    MSLP   DBT   WBT   DPT  ...   Dm  \\\n",
      "0     43285  2010   1   3.0   1  1008.0  1011.6  25.4  24.2  23.7  ...  0.0   \n",
      "1     43285  2010   1   3.0   2  1009.7  1013.3  25.6  22.6  21.1  ...  0.0   \n",
      "2     43285  2010   1   3.0   3  1011.2  1014.9  24.0  21.6  20.3  ...  0.0   \n",
      "3     43285  2010   1   3.0   4  1010.5  1014.2  23.2  21.0  19.8  ...  0.0   \n",
      "4     43285  2010   1   3.0   5  1008.0  1011.7  22.8  21.0  20.0  ...  0.0   \n",
      "...     ...   ...  ..   ...  ..     ...     ...   ...   ...   ...  ...  ...   \n",
      "9822  43285  2020  12  12.0  27  1004.3  1007.4  29.2  23.0  19.8  ...  0.0   \n",
      "9823  43285  2020  12  12.0  28  1005.0  1008.1  30.8  26.2  24.2  ...  9.0   \n",
      "9824  43285  2020  12  12.0  29  1004.5  1007.6  29.8  25.6  23.7  ...  0.0   \n",
      "9825  43285  2020  12  12.0  30  1003.4  1006.5  30.6  26.0  24.0  ...  0.0   \n",
      "9826  43285  2020  12  12.0  31  1005.1  1008.2  31.2  27.2  25.6  ...  9.0   \n",
      "\n",
      "       Dh   TC    h    c      a   Ht   RF   EVP   DW  \n",
      "0     0.0  0.0  9.0  0.0  900.0  0.0  0.0  99.0  0.0  \n",
      "1     0.0  0.0  9.0  0.0  900.0  0.0  0.0  99.0  0.0  \n",
      "2     0.0  0.0  9.0  0.0  900.0  0.0  0.0  99.0  0.0  \n",
      "3     0.0  0.0  9.0  0.0  900.0  0.0  0.0  99.0  0.0  \n",
      "4     0.0  0.0  9.0  0.0  900.0  0.0  0.0  99.0  0.0  \n",
      "...   ...  ...  ...  ...    ...  ...  ...   ...  ...  \n",
      "9822  0.0  0.0  9.0  0.0  900.0  0.0  0.0  99.0  0.0  \n",
      "9823  0.0  2.0  9.0  3.0  932.0  3.0  2.0  60.0  0.0  \n",
      "9824  0.0  0.0  9.0  0.0  900.0  0.0  0.0  99.0  0.0  \n",
      "9825  0.0  0.0  9.0  0.0    9.0  0.0  1.0  75.0  0.0  \n",
      "9826  9.0  7.0  4.0  6.0  462.0  6.0  2.0  18.0  0.0  \n",
      "\n",
      "[9827 rows x 33 columns]\n"
     ]
    }
   ],
   "source": [
    "df['HR']=df['HR']/4\n",
    "print(df)\n"
   ]
  },
  {
   "cell_type": "code",
   "execution_count": 108,
   "id": "79142b2f",
   "metadata": {},
   "outputs": [],
   "source": [
    "\n",
    "df=df.drop('INDEX',axis=1)\n",
    "df['datetime']=pd.to_datetime(df[['YEAR','MN','DT','HR']].rename(columns={\n",
    "    'YEAR':'year',\n",
    "    'MN':'month',\n",
    "    'DT':'day',\n",
    "    'HR':'hour'\n",
    "}),errors='coerce')\n"
   ]
  },
  {
   "cell_type": "code",
   "execution_count": 109,
   "id": "4f59cc5a",
   "metadata": {},
   "outputs": [],
   "source": [
    "\n",
    "df.set_index('datetime',inplace=True)\n",
    "\n",
    "# As month,day and time don't affect fff much so drop them\n",
    "df.drop(['YEAR','MN','DT','HR'],axis=1,inplace=True)\n",
    "\n",
    "# Sorting the dataframe by timestamp\n",
    "df = df.sort_values('datetime')"
   ]
  },
  {
   "cell_type": "code",
   "execution_count": 110,
   "id": "6661e90c",
   "metadata": {},
   "outputs": [
    {
     "name": "stdout",
     "output_type": "stream",
     "text": [
      "                        SLP    MSLP   DBT   WBT   DPT    RH    VP    DD   FFF  \\\n",
      "datetime                                                                        \n",
      "2010-01-01 03:00:00  1008.0  1011.6  25.4  24.2  23.7  90.0  29.3   0.0   0.0   \n",
      "2010-01-01 09:00:00  1005.1  1008.7  31.0  25.4  22.9  62.0  27.9  23.0  10.0   \n",
      "2010-01-01 12:00:00  1005.1  1008.7  29.6  25.4  23.5  70.0  28.9  23.0   6.0   \n",
      "2010-01-02 03:00:00  1009.7  1013.3  25.6  22.6  21.1  76.0  25.0   0.0   0.0   \n",
      "2010-01-02 09:00:00  1007.0  1010.6  31.4  26.2  23.9  65.0  29.7  23.0   8.0   \n",
      "...                     ...     ...   ...   ...   ...   ...   ...   ...   ...   \n",
      "2020-12-30 09:00:00  1003.7  1006.7  34.8  27.2  24.0  54.0  29.7  27.0   8.0   \n",
      "2020-12-30 12:00:00  1003.4  1006.5  30.6  26.0  24.0  68.0  29.8  27.0   6.0   \n",
      "2020-12-31 03:00:00  1007.7  1010.8  25.6  24.4  23.9  90.0  29.5   0.0   0.0   \n",
      "2020-12-31 09:00:00  1004.8  1007.8  36.8  27.8  24.1  48.0  29.9  18.0   6.0   \n",
      "2020-12-31 12:00:00  1005.1  1008.2  31.2  27.2  25.6  72.0  32.7  23.0   6.0   \n",
      "\n",
      "                      AW  ...   Dm   Dh   TC    h    c      a   Ht   RF   EVP  \\\n",
      "datetime                  ...                                                   \n",
      "2010-01-01 03:00:00  0.0  ...  0.0  0.0  0.0  9.0  0.0  900.0  0.0  0.0  99.0   \n",
      "2010-01-01 09:00:00  2.0  ...  0.0  0.0  0.0  9.0  0.0  900.0  0.0  0.0  99.0   \n",
      "2010-01-01 12:00:00  5.0  ...  9.0  0.0  4.0  5.0  6.0  561.0  6.0  1.0  20.0   \n",
      "2010-01-02 03:00:00  0.0  ...  0.0  0.0  0.0  9.0  0.0  900.0  0.0  0.0  99.0   \n",
      "2010-01-02 09:00:00  2.0  ...  0.0  0.0  0.0  9.0  0.0  900.0  0.0  0.0  99.0   \n",
      "...                  ...  ...  ...  ...  ...  ...  ...    ...  ...  ...   ...   \n",
      "2020-12-30 09:00:00  2.0  ...  0.0  0.0  0.0  9.0  0.0    9.0  0.0  1.0  75.0   \n",
      "2020-12-30 12:00:00  4.0  ...  0.0  0.0  0.0  9.0  0.0    9.0  0.0  1.0  75.0   \n",
      "2020-12-31 03:00:00  1.0  ...  0.0  0.0  0.0  9.0  0.0  900.0  0.0  0.0  99.0   \n",
      "2020-12-31 09:00:00  2.0  ...  9.0  9.0  7.0  4.0  6.0  462.0  6.0  2.0  18.0   \n",
      "2020-12-31 12:00:00  5.0  ...  9.0  9.0  7.0  4.0  6.0  462.0  6.0  2.0  18.0   \n",
      "\n",
      "                      DW  \n",
      "datetime                  \n",
      "2010-01-01 03:00:00  0.0  \n",
      "2010-01-01 09:00:00  0.0  \n",
      "2010-01-01 12:00:00  0.0  \n",
      "2010-01-02 03:00:00  0.0  \n",
      "2010-01-02 09:00:00  0.0  \n",
      "...                  ...  \n",
      "2020-12-30 09:00:00  0.0  \n",
      "2020-12-30 12:00:00  0.0  \n",
      "2020-12-31 03:00:00  5.0  \n",
      "2020-12-31 09:00:00  0.0  \n",
      "2020-12-31 12:00:00  0.0  \n",
      "\n",
      "[9827 rows x 28 columns]\n"
     ]
    }
   ],
   "source": [
    "print(df)"
   ]
  },
  {
   "cell_type": "code",
   "execution_count": 111,
   "id": "99d600d8",
   "metadata": {},
   "outputs": [
    {
     "data": {
      "text/plain": [
       "SLP     0\n",
       "MSLP    0\n",
       "DBT     0\n",
       "WBT     0\n",
       "DPT     0\n",
       "RH      0\n",
       "VP      0\n",
       "DD      0\n",
       "FFF     0\n",
       "AW      0\n",
       "VV      0\n",
       "Cl      0\n",
       "A       0\n",
       "Cm      0\n",
       "A.1     0\n",
       "Ch      0\n",
       "A.2     0\n",
       "Dl      0\n",
       "Dm      0\n",
       "Dh      0\n",
       "TC      0\n",
       "h       0\n",
       "c       0\n",
       "a       0\n",
       "Ht      0\n",
       "RF      0\n",
       "EVP     0\n",
       "DW      0\n",
       "dtype: int64"
      ]
     },
     "execution_count": 111,
     "metadata": {},
     "output_type": "execute_result"
    }
   ],
   "source": [
    "df.isnull().sum()"
   ]
  },
  {
   "cell_type": "code",
   "execution_count": 112,
   "id": "730ba0a0",
   "metadata": {},
   "outputs": [
    {
     "name": "stdout",
     "output_type": "stream",
     "text": [
      "FFF     1.000000\n",
      "DD      0.777852\n",
      "DBT     0.576386\n",
      "AW      0.442300\n",
      "WBT     0.304444\n",
      "VV      0.159243\n",
      "EVP     0.103932\n",
      "h       0.100813\n",
      "a       0.095150\n",
      "VP      0.009116\n",
      "DPT     0.001723\n",
      "A.2    -0.004065\n",
      "Ch     -0.012932\n",
      "Dh     -0.039729\n",
      "Dl     -0.061644\n",
      "Cl     -0.083477\n",
      "Ht     -0.084544\n",
      "c      -0.084544\n",
      "A      -0.110027\n",
      "RF     -0.123037\n",
      "DW     -0.163330\n",
      "TC     -0.177922\n",
      "Cm     -0.202351\n",
      "Dm     -0.217117\n",
      "A.1    -0.220205\n",
      "SLP    -0.325303\n",
      "MSLP   -0.330756\n",
      "RH     -0.540944\n",
      "Name: FFF, dtype: float64\n"
     ]
    }
   ],
   "source": [
    "correlation_with_fff = df.corr()['FFF'].sort_values(ascending=False)\n",
    "print(correlation_with_fff)"
   ]
  },
  {
   "cell_type": "markdown",
   "id": "55286fbd",
   "metadata": {},
   "source": [
    "Outlier Detection"
   ]
  },
  {
   "cell_type": "code",
   "execution_count": 113,
   "id": "ac220408",
   "metadata": {},
   "outputs": [],
   "source": [
    "from scipy.stats import zscore\n",
    "import numpy as np\n",
    "\n",
    "# Step 1: Select numeric columns only\n",
    "numeric_cols = df.select_dtypes(include=['float64', 'int64']).columns\n",
    "\n",
    "# Step 2: Compute Z-scores for each numeric column\n",
    "z_scores = np.abs(zscore(df[numeric_cols]))\n",
    "\n",
    "# Step 3: Define a threshold and filter out outliers\n",
    "threshold = 3\n",
    "df = df[(z_scores < threshold).all(axis=1)]"
   ]
  },
  {
   "cell_type": "code",
   "execution_count": 114,
   "id": "34e4bfce",
   "metadata": {},
   "outputs": [
    {
     "name": "stdout",
     "output_type": "stream",
     "text": [
      "FFF     1.000000\n",
      "DD      0.822121\n",
      "DBT     0.607798\n",
      "AW      0.498134\n",
      "WBT     0.331247\n",
      "VV      0.167790\n",
      "EVP     0.103867\n",
      "h       0.102771\n",
      "a       0.102085\n",
      "VP      0.008571\n",
      "DPT     0.001103\n",
      "A.2    -0.004590\n",
      "Ch     -0.021268\n",
      "Dh     -0.033665\n",
      "Dl     -0.059181\n",
      "Cl     -0.083027\n",
      "Ht     -0.085473\n",
      "c      -0.085473\n",
      "A      -0.113528\n",
      "RF     -0.129610\n",
      "TC     -0.181007\n",
      "Cm     -0.207704\n",
      "DW     -0.216289\n",
      "Dm     -0.220522\n",
      "A.1    -0.230132\n",
      "SLP    -0.341276\n",
      "MSLP   -0.347649\n",
      "RH     -0.579542\n",
      "Name: FFF, dtype: float64\n"
     ]
    }
   ],
   "source": [
    "correlation_with_fff = df.corr()['FFF'].sort_values(ascending=False)\n",
    "print(correlation_with_fff)"
   ]
  },
  {
   "cell_type": "code",
   "execution_count": 115,
   "id": "2e502d1c",
   "metadata": {},
   "outputs": [
    {
     "data": {
      "text/plain": [
       "SLP              float64\n",
       "MSLP             float64\n",
       "DBT              float64\n",
       "WBT              float64\n",
       "DPT              float64\n",
       "RH               float64\n",
       "VP               float64\n",
       "DD               float64\n",
       "FFF              float64\n",
       "AW               float64\n",
       "VV               float64\n",
       "Cl               float64\n",
       "A                float64\n",
       "Cm               float64\n",
       "A.1              float64\n",
       "Ch               float64\n",
       "A.2              float64\n",
       "Dl               float64\n",
       "Dm               float64\n",
       "Dh               float64\n",
       "TC               float64\n",
       "h                float64\n",
       "c                float64\n",
       "a                float64\n",
       "Ht               float64\n",
       "RF               float64\n",
       "EVP              float64\n",
       "DW               float64\n",
       "VP_log           float64\n",
       "RF_sqrt          float64\n",
       "temp_diff        float64\n",
       "humid_ratio      float64\n",
       "wind_humidity    float64\n",
       "VV_squared       float64\n",
       "DPT_squared      float64\n",
       "VP_roll3         float64\n",
       "RF_lag1          float64\n",
       "RF_winz          float64\n",
       "month_sin        float64\n",
       "month_cos        float64\n",
       "season_1            bool\n",
       "season_2            bool\n",
       "season_3            bool\n",
       "season_4            bool\n",
       "dtype: object"
      ]
     },
     "execution_count": 115,
     "metadata": {},
     "output_type": "execute_result"
    }
   ],
   "source": [
    "import numpy as np\n",
    "df['VP_log'] = np.log1p(df['VP'])      \n",
    "df['RF_sqrt'] = np.sqrt(df['RF'])       # for skewed rainfall\n",
    "\n",
    "df['temp_diff'] = df['DBT'] - df['WBT']     # humidity proxy\n",
    "df['humid_ratio'] = df['VP'] / (df['DBT'] + 0.1)\n",
    "df['wind_humidity'] = df['RH'] * df['VV']\n",
    "\n",
    "df['VV_squared'] = df['VV'] ** 2\n",
    "df['DPT_squared'] = df['DPT'] ** 2\n",
    "\n",
    "df['VP_roll3'] = df['VP'].rolling(window=3).mean()\n",
    "df['RF_lag1'] = df['RF'].shift(1)\n",
    "\n",
    "from scipy.stats.mstats import winsorize\n",
    "\n",
    "df['RF_winz'] = winsorize(df['RF'], limits=[0.01, 0.01])\n",
    "\n",
    "df['month'] = df.index.month\n",
    "df['season'] = df['month'] % 12 // 3 + 1  # Season: 1=spring, ..., 4=winter\n",
    "\n",
    "# Cyclic encode ==>> As months are in a cycle 1->12->1\n",
    "df['month_sin'] = np.sin(2 * np.pi * df['month'] / 12)\n",
    "df['month_cos'] = np.cos(2 * np.pi * df['month'] / 12)\n",
    "\n",
    "# (Optional) Drop original month column\n",
    "df.drop('month', axis=1, inplace=True)\n",
    "\n",
    "# One hot encoding ==>> COnverting categorical into Binary data\n",
    "season_dummies = pd.get_dummies(df['season'], prefix='season')\n",
    "df = pd.concat([df, season_dummies], axis=1)\n",
    "df.drop('season', axis=1, inplace=True)\n",
    "\n",
    "df.dropna(axis=0,inplace=True)\n",
    "df.isnull().sum()\n",
    "df.dtypes"
   ]
  },
  {
   "cell_type": "code",
   "execution_count": 116,
   "id": "1a94463b",
   "metadata": {},
   "outputs": [
    {
     "data": {
      "text/plain": [
       "SLP              0\n",
       "MSLP             0\n",
       "DBT              0\n",
       "WBT              0\n",
       "DPT              0\n",
       "RH               0\n",
       "VP               0\n",
       "DD               0\n",
       "FFF              0\n",
       "AW               0\n",
       "VV               0\n",
       "Cl               0\n",
       "A                0\n",
       "Cm               0\n",
       "A.1              0\n",
       "Ch               0\n",
       "A.2              0\n",
       "Dl               0\n",
       "Dm               0\n",
       "Dh               0\n",
       "TC               0\n",
       "h                0\n",
       "c                0\n",
       "a                0\n",
       "Ht               0\n",
       "RF               0\n",
       "EVP              0\n",
       "DW               0\n",
       "VP_log           0\n",
       "RF_sqrt          0\n",
       "temp_diff        0\n",
       "humid_ratio      0\n",
       "wind_humidity    0\n",
       "VV_squared       0\n",
       "DPT_squared      0\n",
       "VP_roll3         0\n",
       "RF_lag1          0\n",
       "RF_winz          0\n",
       "month_sin        0\n",
       "month_cos        0\n",
       "season_1         0\n",
       "season_2         0\n",
       "season_3         0\n",
       "season_4         0\n",
       "dtype: int64"
      ]
     },
     "execution_count": 116,
     "metadata": {},
     "output_type": "execute_result"
    }
   ],
   "source": [
    "df.isnull().sum()"
   ]
  },
  {
   "cell_type": "code",
   "execution_count": 117,
   "id": "f11615ad",
   "metadata": {},
   "outputs": [
    {
     "name": "stdout",
     "output_type": "stream",
     "text": [
      "FFF              1.000000\n",
      "DD               0.822105\n",
      "DBT              0.607712\n",
      "temp_diff        0.582562\n",
      "AW               0.498134\n",
      "WBT              0.331222\n",
      "month_sin        0.201692\n",
      "VV_squared       0.167928\n",
      "VV               0.167826\n",
      "season_2         0.139557\n",
      "EVP              0.103901\n",
      "h                0.102797\n",
      "a                0.102110\n",
      "season_1         0.074910\n",
      "month_cos        0.015739\n",
      "VP               0.008633\n",
      "DPT_squared      0.007202\n",
      "DPT              0.001163\n",
      "VP_log           0.000449\n",
      "A.2             -0.004581\n",
      "Ch              -0.021262\n",
      "Dh              -0.033662\n",
      "Dl              -0.059188\n",
      "VP_roll3        -0.063747\n",
      "Cl              -0.083043\n",
      "Ht              -0.085492\n",
      "c               -0.085492\n",
      "season_3        -0.110560\n",
      "A               -0.113551\n",
      "season_4        -0.116767\n",
      "RF_sqrt         -0.121946\n",
      "RF_winz         -0.128785\n",
      "RF              -0.129646\n",
      "RF_lag1         -0.136986\n",
      "TC              -0.181061\n",
      "Cm              -0.207745\n",
      "DW              -0.216325\n",
      "Dm              -0.220571\n",
      "A.1             -0.230179\n",
      "SLP             -0.341189\n",
      "MSLP            -0.347566\n",
      "humid_ratio     -0.473906\n",
      "RH              -0.579427\n",
      "wind_humidity   -0.581664\n",
      "Name: FFF, dtype: float64\n"
     ]
    }
   ],
   "source": [
    "correlation_with_fff = df.corr()['FFF'].sort_values(ascending=False)\n",
    "print(correlation_with_fff)"
   ]
  },
  {
   "cell_type": "code",
   "execution_count": 118,
   "id": "5161546f",
   "metadata": {},
   "outputs": [
    {
     "name": "stdout",
     "output_type": "stream",
     "text": [
      "DD             0.713308\n",
      "temp_diff      0.049104\n",
      "DBT            0.044994\n",
      "VP_roll3       0.036131\n",
      "month_sin      0.015572\n",
      "month_cos      0.015481\n",
      "WBT            0.012306\n",
      "RF_lag1        0.010836\n",
      "TC             0.010576\n",
      "Cl             0.009859\n",
      "A              0.008526\n",
      "VP_log         0.007796\n",
      "DPT_squared    0.007749\n",
      "DPT            0.007420\n",
      "VP             0.007388\n",
      "A.1            0.006128\n",
      "VV_squared     0.003775\n",
      "VV             0.003724\n",
      "Cm             0.003627\n",
      "RF_sqrt        0.003508\n",
      "Dl             0.003506\n",
      "c              0.003412\n",
      "RF             0.003349\n",
      "RF_winz        0.003303\n",
      "Ht             0.003233\n",
      "Dm             0.001346\n",
      "season_2       0.001169\n",
      "season_4       0.001048\n",
      "season_1       0.000934\n",
      "season_3       0.000890\n",
      "dtype: float64\n"
     ]
    }
   ],
   "source": [
    "# Feature columns (you can fine-tune this list)\n",
    "features = [\n",
    "     'DD', 'DBT', 'WBT', 'A', 'temp_diff', 'Cl', 'TC', 'Dl', 'c', 'Ht',\n",
    "    'DPT_squared', 'VP', 'VP_roll3', 'RF_sqrt', 'VV_squared', 'VV',\n",
    "    'RF_lag1', 'DPT', 'VP_log', 'RF_winz', 'RF', 'Dm', 'Cm', 'A.1','season_1','season_2','season_3','season_4','month_sin','month_cos'\n",
    "]\n",
    "from sklearn.ensemble import RandomForestRegressor\n",
    "from sklearn.model_selection import train_test_split\n",
    "import pandas as pd\n",
    "\n",
    "# X = your features, y = your target (e.g. FFF)\n",
    "X = df[features]  # your selected columns\n",
    "Y = df['FFF']\n",
    "\n",
    "# Train-test split\n",
    "X_train, X_test, Y_train, Y_test = train_test_split(X, Y, test_size=0.2, random_state=42)\n",
    "\n",
    "# Train the model\n",
    "rf = RandomForestRegressor(n_estimators=100, random_state=42)\n",
    "rf.fit(X_train, Y_train)\n",
    "\n",
    "# Get feature importances\n",
    "importances = pd.Series(rf.feature_importances_, index=X.columns).sort_values(ascending=False)\n",
    "print(importances)"
   ]
  },
  {
   "cell_type": "code",
   "execution_count": 119,
   "id": "f61906b4",
   "metadata": {},
   "outputs": [],
   "source": [
    "# selected_features = [\n",
    "#     'DD','AW','temp_diff','DBT','WBT','month_sin','month_cos','VV','VV_squared','EVP','h','a','VP_roll3'\n",
    "# ]\n",
    "final_features = [\n",
    "    # 'DD',\n",
    "    # 'DBT',\n",
    "    # 'temp_diff',\n",
    "    # 'WBT',\n",
    "    # 'month_sin',\n",
    "    # 'VV_squared',\n",
    "    # 'VV',\n",
    "    # 'month_cos',\n",
    "    'DD', 'DBT', 'WBT', 'DPT', 'DPT_squared', 'VP_log', 'VP_roll3', 'RF_lag1',\n",
    " 'VP', 'temp_diff', 'TC', 'A', 'Cl','season_3','month_sin','month_cos'\n",
    "]\n"
   ]
  },
  {
   "cell_type": "markdown",
   "id": "5e11cfb8",
   "metadata": {},
   "source": [
    "BiLSTM"
   ]
  },
  {
   "cell_type": "code",
   "execution_count": 120,
   "id": "e6767388",
   "metadata": {},
   "outputs": [
    {
     "name": "stdout",
     "output_type": "stream",
     "text": [
      "Input shape for BiLSTM: (7100, 1, 16)\n"
     ]
    }
   ],
   "source": [
    "# Step 1: Reshape input for BiLSTM\n",
    "import numpy as np\n",
    "from sklearn.model_selection import train_test_split\n",
    "\n",
    "# X = your selected primary features\n",
    "# Y = target variable (FFF)\n",
    "\n",
    "X = df[final_features].values\n",
    "Y = df['FFF'].values\n",
    "\n",
    "# Split into train and test sets\n",
    "X_train, X_test, Y_train, Y_test = train_test_split(X, Y, test_size=0.2, random_state=42)\n",
    "\n",
    "# Ensure input and output are float32\n",
    "X_train = X_train.astype('float32')\n",
    "X_test = X_test.astype('float32')\n",
    "Y_train = Y_train.astype('float32')\n",
    "Y_test = Y_test.astype('float32')\n",
    "\n",
    "\n",
    "# Reshape for LSTM: (samples, timesteps, features)\n",
    "# Here, timesteps = 1 for one-step prediction\n",
    "X_train = X_train.reshape((X_train.shape[0], 1, X_train.shape[1]))\n",
    "X_test = X_test.reshape((X_test.shape[0], 1, X_test.shape[1]))\n",
    "input_shape = (1, X_train.shape[2])\n",
    "print(\"Input shape for BiLSTM:\", X_train.shape)\n"
   ]
  },
  {
   "cell_type": "code",
   "execution_count": 121,
   "id": "eae39568",
   "metadata": {},
   "outputs": [],
   "source": [
    "# Step 2: Define BiLSTM model architecture\n",
    "\n",
    "from tensorflow.keras.models import Sequential\n",
    "from tensorflow.keras.layers import Bidirectional, LSTM, Dense, Dropout\n",
    "from tensorflow.keras.optimizers import Adam\n",
    "\n",
    "def create_bilstm_model(input_shape, units=64, dropout_rate=0.2):\n",
    "    \"\"\"\n",
    "    Builds and returns a compiled BiLSTM model.\n",
    "    Args:\n",
    "        input_shape (tuple): Shape of input (timesteps, features)\n",
    "        units (int): Number of LSTM units\n",
    "        dropout_rate (float): Dropout rate after BiLSTM layer\n",
    "    Returns:\n",
    "        model (Sequential): Compiled Keras model\n",
    "    \"\"\"\n",
    "    model = Sequential()\n",
    "    model.add(Bidirectional(LSTM(units, return_sequences=False), input_shape=input_shape))\n",
    "    model.add(Dropout(dropout_rate))\n",
    "    model.add(Dense(1))  # Output layer for regression (wind speed)\n",
    "    model.compile(optimizer=Adam(), loss='mse', metrics=['mae'])\n",
    "    return model\n"
   ]
  },
  {
   "cell_type": "code",
   "execution_count": 122,
   "id": "7649edcb",
   "metadata": {},
   "outputs": [
    {
     "name": "stdout",
     "output_type": "stream",
     "text": [
      "\n",
      "Iteration 1/10\n"
     ]
    },
    {
     "name": "stderr",
     "output_type": "stream",
     "text": [
      "/Library/Frameworks/Python.framework/Versions/3.12/lib/python3.12/site-packages/keras/src/layers/rnn/bidirectional.py:107: UserWarning: Do not pass an `input_shape`/`input_dim` argument to a layer. When using Sequential models, prefer using an `Input(shape)` object as the first layer in the model instead.\n",
      "  super().__init__(**kwargs)\n"
     ]
    },
    {
     "name": "stdout",
     "output_type": "stream",
     "text": [
      "\u001b[1m56/56\u001b[0m \u001b[32m━━━━━━━━━━━━━━━━━━━━\u001b[0m\u001b[37m\u001b[0m \u001b[1m0s\u001b[0m 5ms/step\n"
     ]
    },
    {
     "name": "stderr",
     "output_type": "stream",
     "text": [
      "/Library/Frameworks/Python.framework/Versions/3.12/lib/python3.12/site-packages/keras/src/layers/rnn/bidirectional.py:107: UserWarning: Do not pass an `input_shape`/`input_dim` argument to a layer. When using Sequential models, prefer using an `Input(shape)` object as the first layer in the model instead.\n",
      "  super().__init__(**kwargs)\n"
     ]
    },
    {
     "name": "stdout",
     "output_type": "stream",
     "text": [
      "\u001b[1m56/56\u001b[0m \u001b[32m━━━━━━━━━━━━━━━━━━━━\u001b[0m\u001b[37m\u001b[0m \u001b[1m0s\u001b[0m 4ms/step\n"
     ]
    },
    {
     "name": "stderr",
     "output_type": "stream",
     "text": [
      "/Library/Frameworks/Python.framework/Versions/3.12/lib/python3.12/site-packages/keras/src/layers/rnn/bidirectional.py:107: UserWarning: Do not pass an `input_shape`/`input_dim` argument to a layer. When using Sequential models, prefer using an `Input(shape)` object as the first layer in the model instead.\n",
      "  super().__init__(**kwargs)\n"
     ]
    },
    {
     "name": "stdout",
     "output_type": "stream",
     "text": [
      "\u001b[1m56/56\u001b[0m \u001b[32m━━━━━━━━━━━━━━━━━━━━\u001b[0m\u001b[37m\u001b[0m \u001b[1m0s\u001b[0m 3ms/step\n"
     ]
    },
    {
     "name": "stderr",
     "output_type": "stream",
     "text": [
      "/Library/Frameworks/Python.framework/Versions/3.12/lib/python3.12/site-packages/keras/src/layers/rnn/bidirectional.py:107: UserWarning: Do not pass an `input_shape`/`input_dim` argument to a layer. When using Sequential models, prefer using an `Input(shape)` object as the first layer in the model instead.\n",
      "  super().__init__(**kwargs)\n"
     ]
    },
    {
     "name": "stdout",
     "output_type": "stream",
     "text": [
      "\u001b[1m56/56\u001b[0m \u001b[32m━━━━━━━━━━━━━━━━━━━━\u001b[0m\u001b[37m\u001b[0m \u001b[1m0s\u001b[0m 4ms/step\n"
     ]
    },
    {
     "name": "stderr",
     "output_type": "stream",
     "text": [
      "/Library/Frameworks/Python.framework/Versions/3.12/lib/python3.12/site-packages/keras/src/layers/rnn/bidirectional.py:107: UserWarning: Do not pass an `input_shape`/`input_dim` argument to a layer. When using Sequential models, prefer using an `Input(shape)` object as the first layer in the model instead.\n",
      "  super().__init__(**kwargs)\n"
     ]
    },
    {
     "name": "stdout",
     "output_type": "stream",
     "text": [
      "\u001b[1m56/56\u001b[0m \u001b[32m━━━━━━━━━━━━━━━━━━━━\u001b[0m\u001b[37m\u001b[0m \u001b[1m0s\u001b[0m 3ms/step\n",
      "\n",
      "Iteration 2/10\n"
     ]
    },
    {
     "name": "stderr",
     "output_type": "stream",
     "text": [
      "/Library/Frameworks/Python.framework/Versions/3.12/lib/python3.12/site-packages/keras/src/layers/rnn/bidirectional.py:107: UserWarning: Do not pass an `input_shape`/`input_dim` argument to a layer. When using Sequential models, prefer using an `Input(shape)` object as the first layer in the model instead.\n",
      "  super().__init__(**kwargs)\n"
     ]
    },
    {
     "name": "stdout",
     "output_type": "stream",
     "text": [
      "\u001b[1m56/56\u001b[0m \u001b[32m━━━━━━━━━━━━━━━━━━━━\u001b[0m\u001b[37m\u001b[0m \u001b[1m0s\u001b[0m 4ms/step\n"
     ]
    },
    {
     "name": "stderr",
     "output_type": "stream",
     "text": [
      "/Library/Frameworks/Python.framework/Versions/3.12/lib/python3.12/site-packages/keras/src/layers/rnn/bidirectional.py:107: UserWarning: Do not pass an `input_shape`/`input_dim` argument to a layer. When using Sequential models, prefer using an `Input(shape)` object as the first layer in the model instead.\n",
      "  super().__init__(**kwargs)\n"
     ]
    },
    {
     "name": "stdout",
     "output_type": "stream",
     "text": [
      "\u001b[1m56/56\u001b[0m \u001b[32m━━━━━━━━━━━━━━━━━━━━\u001b[0m\u001b[37m\u001b[0m \u001b[1m0s\u001b[0m 4ms/step\n"
     ]
    },
    {
     "name": "stderr",
     "output_type": "stream",
     "text": [
      "/Library/Frameworks/Python.framework/Versions/3.12/lib/python3.12/site-packages/keras/src/layers/rnn/bidirectional.py:107: UserWarning: Do not pass an `input_shape`/`input_dim` argument to a layer. When using Sequential models, prefer using an `Input(shape)` object as the first layer in the model instead.\n",
      "  super().__init__(**kwargs)\n"
     ]
    },
    {
     "name": "stdout",
     "output_type": "stream",
     "text": [
      "\u001b[1m56/56\u001b[0m \u001b[32m━━━━━━━━━━━━━━━━━━━━\u001b[0m\u001b[37m\u001b[0m \u001b[1m0s\u001b[0m 4ms/step\n"
     ]
    },
    {
     "name": "stderr",
     "output_type": "stream",
     "text": [
      "/Library/Frameworks/Python.framework/Versions/3.12/lib/python3.12/site-packages/keras/src/layers/rnn/bidirectional.py:107: UserWarning: Do not pass an `input_shape`/`input_dim` argument to a layer. When using Sequential models, prefer using an `Input(shape)` object as the first layer in the model instead.\n",
      "  super().__init__(**kwargs)\n"
     ]
    },
    {
     "name": "stdout",
     "output_type": "stream",
     "text": [
      "\u001b[1m56/56\u001b[0m \u001b[32m━━━━━━━━━━━━━━━━━━━━\u001b[0m\u001b[37m\u001b[0m \u001b[1m0s\u001b[0m 4ms/step\n"
     ]
    },
    {
     "name": "stderr",
     "output_type": "stream",
     "text": [
      "/Library/Frameworks/Python.framework/Versions/3.12/lib/python3.12/site-packages/keras/src/layers/rnn/bidirectional.py:107: UserWarning: Do not pass an `input_shape`/`input_dim` argument to a layer. When using Sequential models, prefer using an `Input(shape)` object as the first layer in the model instead.\n",
      "  super().__init__(**kwargs)\n"
     ]
    },
    {
     "name": "stdout",
     "output_type": "stream",
     "text": [
      "\u001b[1m56/56\u001b[0m \u001b[32m━━━━━━━━━━━━━━━━━━━━\u001b[0m\u001b[37m\u001b[0m \u001b[1m0s\u001b[0m 3ms/step\n",
      "\n",
      "Iteration 3/10\n"
     ]
    },
    {
     "name": "stderr",
     "output_type": "stream",
     "text": [
      "/Library/Frameworks/Python.framework/Versions/3.12/lib/python3.12/site-packages/keras/src/layers/rnn/bidirectional.py:107: UserWarning: Do not pass an `input_shape`/`input_dim` argument to a layer. When using Sequential models, prefer using an `Input(shape)` object as the first layer in the model instead.\n",
      "  super().__init__(**kwargs)\n"
     ]
    },
    {
     "name": "stdout",
     "output_type": "stream",
     "text": [
      "\u001b[1m56/56\u001b[0m \u001b[32m━━━━━━━━━━━━━━━━━━━━\u001b[0m\u001b[37m\u001b[0m \u001b[1m0s\u001b[0m 4ms/step\n"
     ]
    },
    {
     "name": "stderr",
     "output_type": "stream",
     "text": [
      "/Library/Frameworks/Python.framework/Versions/3.12/lib/python3.12/site-packages/keras/src/layers/rnn/bidirectional.py:107: UserWarning: Do not pass an `input_shape`/`input_dim` argument to a layer. When using Sequential models, prefer using an `Input(shape)` object as the first layer in the model instead.\n",
      "  super().__init__(**kwargs)\n"
     ]
    },
    {
     "name": "stdout",
     "output_type": "stream",
     "text": [
      "\u001b[1m56/56\u001b[0m \u001b[32m━━━━━━━━━━━━━━━━━━━━\u001b[0m\u001b[37m\u001b[0m \u001b[1m0s\u001b[0m 3ms/step\n"
     ]
    },
    {
     "name": "stderr",
     "output_type": "stream",
     "text": [
      "/Library/Frameworks/Python.framework/Versions/3.12/lib/python3.12/site-packages/keras/src/layers/rnn/bidirectional.py:107: UserWarning: Do not pass an `input_shape`/`input_dim` argument to a layer. When using Sequential models, prefer using an `Input(shape)` object as the first layer in the model instead.\n",
      "  super().__init__(**kwargs)\n"
     ]
    },
    {
     "name": "stdout",
     "output_type": "stream",
     "text": [
      "\u001b[1m56/56\u001b[0m \u001b[32m━━━━━━━━━━━━━━━━━━━━\u001b[0m\u001b[37m\u001b[0m \u001b[1m0s\u001b[0m 4ms/step\n"
     ]
    },
    {
     "name": "stderr",
     "output_type": "stream",
     "text": [
      "/Library/Frameworks/Python.framework/Versions/3.12/lib/python3.12/site-packages/keras/src/layers/rnn/bidirectional.py:107: UserWarning: Do not pass an `input_shape`/`input_dim` argument to a layer. When using Sequential models, prefer using an `Input(shape)` object as the first layer in the model instead.\n",
      "  super().__init__(**kwargs)\n"
     ]
    },
    {
     "name": "stdout",
     "output_type": "stream",
     "text": [
      "\u001b[1m56/56\u001b[0m \u001b[32m━━━━━━━━━━━━━━━━━━━━\u001b[0m\u001b[37m\u001b[0m \u001b[1m0s\u001b[0m 4ms/step\n"
     ]
    },
    {
     "name": "stderr",
     "output_type": "stream",
     "text": [
      "/Library/Frameworks/Python.framework/Versions/3.12/lib/python3.12/site-packages/keras/src/layers/rnn/bidirectional.py:107: UserWarning: Do not pass an `input_shape`/`input_dim` argument to a layer. When using Sequential models, prefer using an `Input(shape)` object as the first layer in the model instead.\n",
      "  super().__init__(**kwargs)\n"
     ]
    },
    {
     "name": "stdout",
     "output_type": "stream",
     "text": [
      "\u001b[1m56/56\u001b[0m \u001b[32m━━━━━━━━━━━━━━━━━━━━\u001b[0m\u001b[37m\u001b[0m \u001b[1m9s\u001b[0m 6ms/step\n",
      "\n",
      "Iteration 4/10\n"
     ]
    },
    {
     "name": "stderr",
     "output_type": "stream",
     "text": [
      "/Library/Frameworks/Python.framework/Versions/3.12/lib/python3.12/site-packages/keras/src/layers/rnn/bidirectional.py:107: UserWarning: Do not pass an `input_shape`/`input_dim` argument to a layer. When using Sequential models, prefer using an `Input(shape)` object as the first layer in the model instead.\n",
      "  super().__init__(**kwargs)\n"
     ]
    },
    {
     "name": "stdout",
     "output_type": "stream",
     "text": [
      "\u001b[1m56/56\u001b[0m \u001b[32m━━━━━━━━━━━━━━━━━━━━\u001b[0m\u001b[37m\u001b[0m \u001b[1m1s\u001b[0m 6ms/step\n"
     ]
    },
    {
     "name": "stderr",
     "output_type": "stream",
     "text": [
      "/Library/Frameworks/Python.framework/Versions/3.12/lib/python3.12/site-packages/keras/src/layers/rnn/bidirectional.py:107: UserWarning: Do not pass an `input_shape`/`input_dim` argument to a layer. When using Sequential models, prefer using an `Input(shape)` object as the first layer in the model instead.\n",
      "  super().__init__(**kwargs)\n"
     ]
    },
    {
     "name": "stdout",
     "output_type": "stream",
     "text": [
      "\u001b[1m56/56\u001b[0m \u001b[32m━━━━━━━━━━━━━━━━━━━━\u001b[0m\u001b[37m\u001b[0m \u001b[1m0s\u001b[0m 4ms/step \n"
     ]
    },
    {
     "name": "stderr",
     "output_type": "stream",
     "text": [
      "/Library/Frameworks/Python.framework/Versions/3.12/lib/python3.12/site-packages/keras/src/layers/rnn/bidirectional.py:107: UserWarning: Do not pass an `input_shape`/`input_dim` argument to a layer. When using Sequential models, prefer using an `Input(shape)` object as the first layer in the model instead.\n",
      "  super().__init__(**kwargs)\n"
     ]
    },
    {
     "name": "stdout",
     "output_type": "stream",
     "text": [
      "\u001b[1m56/56\u001b[0m \u001b[32m━━━━━━━━━━━━━━━━━━━━\u001b[0m\u001b[37m\u001b[0m \u001b[1m0s\u001b[0m 4ms/step\n"
     ]
    },
    {
     "name": "stderr",
     "output_type": "stream",
     "text": [
      "/Library/Frameworks/Python.framework/Versions/3.12/lib/python3.12/site-packages/keras/src/layers/rnn/bidirectional.py:107: UserWarning: Do not pass an `input_shape`/`input_dim` argument to a layer. When using Sequential models, prefer using an `Input(shape)` object as the first layer in the model instead.\n",
      "  super().__init__(**kwargs)\n"
     ]
    },
    {
     "name": "stdout",
     "output_type": "stream",
     "text": [
      "\u001b[1m56/56\u001b[0m \u001b[32m━━━━━━━━━━━━━━━━━━━━\u001b[0m\u001b[37m\u001b[0m \u001b[1m0s\u001b[0m 5ms/step\n"
     ]
    },
    {
     "name": "stderr",
     "output_type": "stream",
     "text": [
      "/Library/Frameworks/Python.framework/Versions/3.12/lib/python3.12/site-packages/keras/src/layers/rnn/bidirectional.py:107: UserWarning: Do not pass an `input_shape`/`input_dim` argument to a layer. When using Sequential models, prefer using an `Input(shape)` object as the first layer in the model instead.\n",
      "  super().__init__(**kwargs)\n"
     ]
    },
    {
     "name": "stdout",
     "output_type": "stream",
     "text": [
      "\u001b[1m56/56\u001b[0m \u001b[32m━━━━━━━━━━━━━━━━━━━━\u001b[0m\u001b[37m\u001b[0m \u001b[1m0s\u001b[0m 4ms/step\n",
      "\n",
      "Iteration 5/10\n"
     ]
    },
    {
     "name": "stderr",
     "output_type": "stream",
     "text": [
      "/Library/Frameworks/Python.framework/Versions/3.12/lib/python3.12/site-packages/keras/src/layers/rnn/bidirectional.py:107: UserWarning: Do not pass an `input_shape`/`input_dim` argument to a layer. When using Sequential models, prefer using an `Input(shape)` object as the first layer in the model instead.\n",
      "  super().__init__(**kwargs)\n"
     ]
    },
    {
     "name": "stdout",
     "output_type": "stream",
     "text": [
      "\u001b[1m56/56\u001b[0m \u001b[32m━━━━━━━━━━━━━━━━━━━━\u001b[0m\u001b[37m\u001b[0m \u001b[1m0s\u001b[0m 5ms/step\n"
     ]
    },
    {
     "name": "stderr",
     "output_type": "stream",
     "text": [
      "/Library/Frameworks/Python.framework/Versions/3.12/lib/python3.12/site-packages/keras/src/layers/rnn/bidirectional.py:107: UserWarning: Do not pass an `input_shape`/`input_dim` argument to a layer. When using Sequential models, prefer using an `Input(shape)` object as the first layer in the model instead.\n",
      "  super().__init__(**kwargs)\n"
     ]
    },
    {
     "name": "stdout",
     "output_type": "stream",
     "text": [
      "\u001b[1m56/56\u001b[0m \u001b[32m━━━━━━━━━━━━━━━━━━━━\u001b[0m\u001b[37m\u001b[0m \u001b[1m0s\u001b[0m 4ms/step\n"
     ]
    },
    {
     "name": "stderr",
     "output_type": "stream",
     "text": [
      "/Library/Frameworks/Python.framework/Versions/3.12/lib/python3.12/site-packages/keras/src/layers/rnn/bidirectional.py:107: UserWarning: Do not pass an `input_shape`/`input_dim` argument to a layer. When using Sequential models, prefer using an `Input(shape)` object as the first layer in the model instead.\n",
      "  super().__init__(**kwargs)\n"
     ]
    },
    {
     "name": "stdout",
     "output_type": "stream",
     "text": [
      "\u001b[1m56/56\u001b[0m \u001b[32m━━━━━━━━━━━━━━━━━━━━\u001b[0m\u001b[37m\u001b[0m \u001b[1m0s\u001b[0m 4ms/step\n"
     ]
    },
    {
     "name": "stderr",
     "output_type": "stream",
     "text": [
      "/Library/Frameworks/Python.framework/Versions/3.12/lib/python3.12/site-packages/keras/src/layers/rnn/bidirectional.py:107: UserWarning: Do not pass an `input_shape`/`input_dim` argument to a layer. When using Sequential models, prefer using an `Input(shape)` object as the first layer in the model instead.\n",
      "  super().__init__(**kwargs)\n"
     ]
    },
    {
     "name": "stdout",
     "output_type": "stream",
     "text": [
      "\u001b[1m56/56\u001b[0m \u001b[32m━━━━━━━━━━━━━━━━━━━━\u001b[0m\u001b[37m\u001b[0m \u001b[1m0s\u001b[0m 4ms/step\n"
     ]
    },
    {
     "name": "stderr",
     "output_type": "stream",
     "text": [
      "/Library/Frameworks/Python.framework/Versions/3.12/lib/python3.12/site-packages/keras/src/layers/rnn/bidirectional.py:107: UserWarning: Do not pass an `input_shape`/`input_dim` argument to a layer. When using Sequential models, prefer using an `Input(shape)` object as the first layer in the model instead.\n",
      "  super().__init__(**kwargs)\n"
     ]
    },
    {
     "name": "stdout",
     "output_type": "stream",
     "text": [
      "\u001b[1m56/56\u001b[0m \u001b[32m━━━━━━━━━━━━━━━━━━━━\u001b[0m\u001b[37m\u001b[0m \u001b[1m0s\u001b[0m 4ms/step\n",
      "\n",
      "Iteration 6/10\n"
     ]
    },
    {
     "name": "stderr",
     "output_type": "stream",
     "text": [
      "/Library/Frameworks/Python.framework/Versions/3.12/lib/python3.12/site-packages/keras/src/layers/rnn/bidirectional.py:107: UserWarning: Do not pass an `input_shape`/`input_dim` argument to a layer. When using Sequential models, prefer using an `Input(shape)` object as the first layer in the model instead.\n",
      "  super().__init__(**kwargs)\n"
     ]
    },
    {
     "name": "stdout",
     "output_type": "stream",
     "text": [
      "\u001b[1m56/56\u001b[0m \u001b[32m━━━━━━━━━━━━━━━━━━━━\u001b[0m\u001b[37m\u001b[0m \u001b[1m0s\u001b[0m 4ms/step\n"
     ]
    },
    {
     "name": "stderr",
     "output_type": "stream",
     "text": [
      "/Library/Frameworks/Python.framework/Versions/3.12/lib/python3.12/site-packages/keras/src/layers/rnn/bidirectional.py:107: UserWarning: Do not pass an `input_shape`/`input_dim` argument to a layer. When using Sequential models, prefer using an `Input(shape)` object as the first layer in the model instead.\n",
      "  super().__init__(**kwargs)\n"
     ]
    },
    {
     "name": "stdout",
     "output_type": "stream",
     "text": [
      "\u001b[1m56/56\u001b[0m \u001b[32m━━━━━━━━━━━━━━━━━━━━\u001b[0m\u001b[37m\u001b[0m \u001b[1m0s\u001b[0m 4ms/step\n"
     ]
    },
    {
     "name": "stderr",
     "output_type": "stream",
     "text": [
      "/Library/Frameworks/Python.framework/Versions/3.12/lib/python3.12/site-packages/keras/src/layers/rnn/bidirectional.py:107: UserWarning: Do not pass an `input_shape`/`input_dim` argument to a layer. When using Sequential models, prefer using an `Input(shape)` object as the first layer in the model instead.\n",
      "  super().__init__(**kwargs)\n"
     ]
    },
    {
     "name": "stdout",
     "output_type": "stream",
     "text": [
      "\u001b[1m56/56\u001b[0m \u001b[32m━━━━━━━━━━━━━━━━━━━━\u001b[0m\u001b[37m\u001b[0m \u001b[1m0s\u001b[0m 4ms/step\n"
     ]
    },
    {
     "name": "stderr",
     "output_type": "stream",
     "text": [
      "/Library/Frameworks/Python.framework/Versions/3.12/lib/python3.12/site-packages/keras/src/layers/rnn/bidirectional.py:107: UserWarning: Do not pass an `input_shape`/`input_dim` argument to a layer. When using Sequential models, prefer using an `Input(shape)` object as the first layer in the model instead.\n",
      "  super().__init__(**kwargs)\n"
     ]
    },
    {
     "name": "stdout",
     "output_type": "stream",
     "text": [
      "\u001b[1m56/56\u001b[0m \u001b[32m━━━━━━━━━━━━━━━━━━━━\u001b[0m\u001b[37m\u001b[0m \u001b[1m0s\u001b[0m 4ms/step\n"
     ]
    },
    {
     "name": "stderr",
     "output_type": "stream",
     "text": [
      "/Library/Frameworks/Python.framework/Versions/3.12/lib/python3.12/site-packages/keras/src/layers/rnn/bidirectional.py:107: UserWarning: Do not pass an `input_shape`/`input_dim` argument to a layer. When using Sequential models, prefer using an `Input(shape)` object as the first layer in the model instead.\n",
      "  super().__init__(**kwargs)\n"
     ]
    },
    {
     "name": "stdout",
     "output_type": "stream",
     "text": [
      "\u001b[1m56/56\u001b[0m \u001b[32m━━━━━━━━━━━━━━━━━━━━\u001b[0m\u001b[37m\u001b[0m \u001b[1m0s\u001b[0m 4ms/step\n",
      "\n",
      "Iteration 7/10\n"
     ]
    },
    {
     "name": "stderr",
     "output_type": "stream",
     "text": [
      "/Library/Frameworks/Python.framework/Versions/3.12/lib/python3.12/site-packages/keras/src/layers/rnn/bidirectional.py:107: UserWarning: Do not pass an `input_shape`/`input_dim` argument to a layer. When using Sequential models, prefer using an `Input(shape)` object as the first layer in the model instead.\n",
      "  super().__init__(**kwargs)\n"
     ]
    },
    {
     "name": "stdout",
     "output_type": "stream",
     "text": [
      "\u001b[1m56/56\u001b[0m \u001b[32m━━━━━━━━━━━━━━━━━━━━\u001b[0m\u001b[37m\u001b[0m \u001b[1m0s\u001b[0m 5ms/step\n"
     ]
    },
    {
     "name": "stderr",
     "output_type": "stream",
     "text": [
      "/Library/Frameworks/Python.framework/Versions/3.12/lib/python3.12/site-packages/keras/src/layers/rnn/bidirectional.py:107: UserWarning: Do not pass an `input_shape`/`input_dim` argument to a layer. When using Sequential models, prefer using an `Input(shape)` object as the first layer in the model instead.\n",
      "  super().__init__(**kwargs)\n"
     ]
    },
    {
     "name": "stdout",
     "output_type": "stream",
     "text": [
      "\u001b[1m56/56\u001b[0m \u001b[32m━━━━━━━━━━━━━━━━━━━━\u001b[0m\u001b[37m\u001b[0m \u001b[1m0s\u001b[0m 5ms/step\n"
     ]
    },
    {
     "name": "stderr",
     "output_type": "stream",
     "text": [
      "/Library/Frameworks/Python.framework/Versions/3.12/lib/python3.12/site-packages/keras/src/layers/rnn/bidirectional.py:107: UserWarning: Do not pass an `input_shape`/`input_dim` argument to a layer. When using Sequential models, prefer using an `Input(shape)` object as the first layer in the model instead.\n",
      "  super().__init__(**kwargs)\n"
     ]
    },
    {
     "name": "stdout",
     "output_type": "stream",
     "text": [
      "\u001b[1m56/56\u001b[0m \u001b[32m━━━━━━━━━━━━━━━━━━━━\u001b[0m\u001b[37m\u001b[0m \u001b[1m0s\u001b[0m 5ms/step \n"
     ]
    },
    {
     "name": "stderr",
     "output_type": "stream",
     "text": [
      "/Library/Frameworks/Python.framework/Versions/3.12/lib/python3.12/site-packages/keras/src/layers/rnn/bidirectional.py:107: UserWarning: Do not pass an `input_shape`/`input_dim` argument to a layer. When using Sequential models, prefer using an `Input(shape)` object as the first layer in the model instead.\n",
      "  super().__init__(**kwargs)\n"
     ]
    },
    {
     "name": "stdout",
     "output_type": "stream",
     "text": [
      "\u001b[1m56/56\u001b[0m \u001b[32m━━━━━━━━━━━━━━━━━━━━\u001b[0m\u001b[37m\u001b[0m \u001b[1m0s\u001b[0m 5ms/step\n"
     ]
    },
    {
     "name": "stderr",
     "output_type": "stream",
     "text": [
      "/Library/Frameworks/Python.framework/Versions/3.12/lib/python3.12/site-packages/keras/src/layers/rnn/bidirectional.py:107: UserWarning: Do not pass an `input_shape`/`input_dim` argument to a layer. When using Sequential models, prefer using an `Input(shape)` object as the first layer in the model instead.\n",
      "  super().__init__(**kwargs)\n"
     ]
    },
    {
     "name": "stdout",
     "output_type": "stream",
     "text": [
      "\u001b[1m56/56\u001b[0m \u001b[32m━━━━━━━━━━━━━━━━━━━━\u001b[0m\u001b[37m\u001b[0m \u001b[1m0s\u001b[0m 6ms/step\n",
      "\n",
      "Iteration 8/10\n"
     ]
    },
    {
     "name": "stderr",
     "output_type": "stream",
     "text": [
      "/Library/Frameworks/Python.framework/Versions/3.12/lib/python3.12/site-packages/keras/src/layers/rnn/bidirectional.py:107: UserWarning: Do not pass an `input_shape`/`input_dim` argument to a layer. When using Sequential models, prefer using an `Input(shape)` object as the first layer in the model instead.\n",
      "  super().__init__(**kwargs)\n"
     ]
    },
    {
     "name": "stdout",
     "output_type": "stream",
     "text": [
      "\u001b[1m56/56\u001b[0m \u001b[32m━━━━━━━━━━━━━━━━━━━━\u001b[0m\u001b[37m\u001b[0m \u001b[1m0s\u001b[0m 5ms/step\n"
     ]
    },
    {
     "name": "stderr",
     "output_type": "stream",
     "text": [
      "/Library/Frameworks/Python.framework/Versions/3.12/lib/python3.12/site-packages/keras/src/layers/rnn/bidirectional.py:107: UserWarning: Do not pass an `input_shape`/`input_dim` argument to a layer. When using Sequential models, prefer using an `Input(shape)` object as the first layer in the model instead.\n",
      "  super().__init__(**kwargs)\n"
     ]
    },
    {
     "name": "stdout",
     "output_type": "stream",
     "text": [
      "\u001b[1m56/56\u001b[0m \u001b[32m━━━━━━━━━━━━━━━━━━━━\u001b[0m\u001b[37m\u001b[0m \u001b[1m0s\u001b[0m 5ms/step\n"
     ]
    },
    {
     "name": "stderr",
     "output_type": "stream",
     "text": [
      "/Library/Frameworks/Python.framework/Versions/3.12/lib/python3.12/site-packages/keras/src/layers/rnn/bidirectional.py:107: UserWarning: Do not pass an `input_shape`/`input_dim` argument to a layer. When using Sequential models, prefer using an `Input(shape)` object as the first layer in the model instead.\n",
      "  super().__init__(**kwargs)\n"
     ]
    },
    {
     "name": "stdout",
     "output_type": "stream",
     "text": [
      "\u001b[1m56/56\u001b[0m \u001b[32m━━━━━━━━━━━━━━━━━━━━\u001b[0m\u001b[37m\u001b[0m \u001b[1m0s\u001b[0m 5ms/step\n"
     ]
    },
    {
     "name": "stderr",
     "output_type": "stream",
     "text": [
      "/Library/Frameworks/Python.framework/Versions/3.12/lib/python3.12/site-packages/keras/src/layers/rnn/bidirectional.py:107: UserWarning: Do not pass an `input_shape`/`input_dim` argument to a layer. When using Sequential models, prefer using an `Input(shape)` object as the first layer in the model instead.\n",
      "  super().__init__(**kwargs)\n"
     ]
    },
    {
     "name": "stdout",
     "output_type": "stream",
     "text": [
      "\u001b[1m56/56\u001b[0m \u001b[32m━━━━━━━━━━━━━━━━━━━━\u001b[0m\u001b[37m\u001b[0m \u001b[1m0s\u001b[0m 4ms/step\n"
     ]
    },
    {
     "name": "stderr",
     "output_type": "stream",
     "text": [
      "/Library/Frameworks/Python.framework/Versions/3.12/lib/python3.12/site-packages/keras/src/layers/rnn/bidirectional.py:107: UserWarning: Do not pass an `input_shape`/`input_dim` argument to a layer. When using Sequential models, prefer using an `Input(shape)` object as the first layer in the model instead.\n",
      "  super().__init__(**kwargs)\n"
     ]
    },
    {
     "name": "stdout",
     "output_type": "stream",
     "text": [
      "\u001b[1m56/56\u001b[0m \u001b[32m━━━━━━━━━━━━━━━━━━━━\u001b[0m\u001b[37m\u001b[0m \u001b[1m0s\u001b[0m 4ms/step \n",
      "\n",
      "Iteration 9/10\n"
     ]
    },
    {
     "name": "stderr",
     "output_type": "stream",
     "text": [
      "/Library/Frameworks/Python.framework/Versions/3.12/lib/python3.12/site-packages/keras/src/layers/rnn/bidirectional.py:107: UserWarning: Do not pass an `input_shape`/`input_dim` argument to a layer. When using Sequential models, prefer using an `Input(shape)` object as the first layer in the model instead.\n",
      "  super().__init__(**kwargs)\n"
     ]
    },
    {
     "name": "stdout",
     "output_type": "stream",
     "text": [
      "\u001b[1m56/56\u001b[0m \u001b[32m━━━━━━━━━━━━━━━━━━━━\u001b[0m\u001b[37m\u001b[0m \u001b[1m0s\u001b[0m 4ms/step\n"
     ]
    },
    {
     "name": "stderr",
     "output_type": "stream",
     "text": [
      "/Library/Frameworks/Python.framework/Versions/3.12/lib/python3.12/site-packages/keras/src/layers/rnn/bidirectional.py:107: UserWarning: Do not pass an `input_shape`/`input_dim` argument to a layer. When using Sequential models, prefer using an `Input(shape)` object as the first layer in the model instead.\n",
      "  super().__init__(**kwargs)\n"
     ]
    },
    {
     "name": "stdout",
     "output_type": "stream",
     "text": [
      "\u001b[1m56/56\u001b[0m \u001b[32m━━━━━━━━━━━━━━━━━━━━\u001b[0m\u001b[37m\u001b[0m \u001b[1m0s\u001b[0m 4ms/step \n"
     ]
    },
    {
     "name": "stderr",
     "output_type": "stream",
     "text": [
      "/Library/Frameworks/Python.framework/Versions/3.12/lib/python3.12/site-packages/keras/src/layers/rnn/bidirectional.py:107: UserWarning: Do not pass an `input_shape`/`input_dim` argument to a layer. When using Sequential models, prefer using an `Input(shape)` object as the first layer in the model instead.\n",
      "  super().__init__(**kwargs)\n"
     ]
    },
    {
     "name": "stdout",
     "output_type": "stream",
     "text": [
      "\u001b[1m56/56\u001b[0m \u001b[32m━━━━━━━━━━━━━━━━━━━━\u001b[0m\u001b[37m\u001b[0m \u001b[1m0s\u001b[0m 4ms/step\n"
     ]
    },
    {
     "name": "stderr",
     "output_type": "stream",
     "text": [
      "/Library/Frameworks/Python.framework/Versions/3.12/lib/python3.12/site-packages/keras/src/layers/rnn/bidirectional.py:107: UserWarning: Do not pass an `input_shape`/`input_dim` argument to a layer. When using Sequential models, prefer using an `Input(shape)` object as the first layer in the model instead.\n",
      "  super().__init__(**kwargs)\n"
     ]
    },
    {
     "name": "stdout",
     "output_type": "stream",
     "text": [
      "\u001b[1m56/56\u001b[0m \u001b[32m━━━━━━━━━━━━━━━━━━━━\u001b[0m\u001b[37m\u001b[0m \u001b[1m1s\u001b[0m 7ms/step\n"
     ]
    },
    {
     "name": "stderr",
     "output_type": "stream",
     "text": [
      "/Library/Frameworks/Python.framework/Versions/3.12/lib/python3.12/site-packages/keras/src/layers/rnn/bidirectional.py:107: UserWarning: Do not pass an `input_shape`/`input_dim` argument to a layer. When using Sequential models, prefer using an `Input(shape)` object as the first layer in the model instead.\n",
      "  super().__init__(**kwargs)\n"
     ]
    },
    {
     "name": "stdout",
     "output_type": "stream",
     "text": [
      "\u001b[1m56/56\u001b[0m \u001b[32m━━━━━━━━━━━━━━━━━━━━\u001b[0m\u001b[37m\u001b[0m \u001b[1m0s\u001b[0m 5ms/step\n",
      "\n",
      "Iteration 10/10\n"
     ]
    },
    {
     "name": "stderr",
     "output_type": "stream",
     "text": [
      "/Library/Frameworks/Python.framework/Versions/3.12/lib/python3.12/site-packages/keras/src/layers/rnn/bidirectional.py:107: UserWarning: Do not pass an `input_shape`/`input_dim` argument to a layer. When using Sequential models, prefer using an `Input(shape)` object as the first layer in the model instead.\n",
      "  super().__init__(**kwargs)\n"
     ]
    },
    {
     "name": "stdout",
     "output_type": "stream",
     "text": [
      "\u001b[1m56/56\u001b[0m \u001b[32m━━━━━━━━━━━━━━━━━━━━\u001b[0m\u001b[37m\u001b[0m \u001b[1m1s\u001b[0m 7ms/step\n"
     ]
    },
    {
     "name": "stderr",
     "output_type": "stream",
     "text": [
      "/Library/Frameworks/Python.framework/Versions/3.12/lib/python3.12/site-packages/keras/src/layers/rnn/bidirectional.py:107: UserWarning: Do not pass an `input_shape`/`input_dim` argument to a layer. When using Sequential models, prefer using an `Input(shape)` object as the first layer in the model instead.\n",
      "  super().__init__(**kwargs)\n"
     ]
    },
    {
     "name": "stdout",
     "output_type": "stream",
     "text": [
      "\u001b[1m56/56\u001b[0m \u001b[32m━━━━━━━━━━━━━━━━━━━━\u001b[0m\u001b[37m\u001b[0m \u001b[1m0s\u001b[0m 4ms/step\n"
     ]
    },
    {
     "name": "stderr",
     "output_type": "stream",
     "text": [
      "/Library/Frameworks/Python.framework/Versions/3.12/lib/python3.12/site-packages/keras/src/layers/rnn/bidirectional.py:107: UserWarning: Do not pass an `input_shape`/`input_dim` argument to a layer. When using Sequential models, prefer using an `Input(shape)` object as the first layer in the model instead.\n",
      "  super().__init__(**kwargs)\n"
     ]
    },
    {
     "name": "stdout",
     "output_type": "stream",
     "text": [
      "\u001b[1m56/56\u001b[0m \u001b[32m━━━━━━━━━━━━━━━━━━━━\u001b[0m\u001b[37m\u001b[0m \u001b[1m1s\u001b[0m 6ms/step\n"
     ]
    },
    {
     "name": "stderr",
     "output_type": "stream",
     "text": [
      "/Library/Frameworks/Python.framework/Versions/3.12/lib/python3.12/site-packages/keras/src/layers/rnn/bidirectional.py:107: UserWarning: Do not pass an `input_shape`/`input_dim` argument to a layer. When using Sequential models, prefer using an `Input(shape)` object as the first layer in the model instead.\n",
      "  super().__init__(**kwargs)\n"
     ]
    },
    {
     "name": "stdout",
     "output_type": "stream",
     "text": [
      "\u001b[1m56/56\u001b[0m \u001b[32m━━━━━━━━━━━━━━━━━━━━\u001b[0m\u001b[37m\u001b[0m \u001b[1m0s\u001b[0m 5ms/step \n"
     ]
    },
    {
     "name": "stderr",
     "output_type": "stream",
     "text": [
      "/Library/Frameworks/Python.framework/Versions/3.12/lib/python3.12/site-packages/keras/src/layers/rnn/bidirectional.py:107: UserWarning: Do not pass an `input_shape`/`input_dim` argument to a layer. When using Sequential models, prefer using an `Input(shape)` object as the first layer in the model instead.\n",
      "  super().__init__(**kwargs)\n"
     ]
    },
    {
     "name": "stdout",
     "output_type": "stream",
     "text": [
      "\u001b[1m56/56\u001b[0m \u001b[32m━━━━━━━━━━━━━━━━━━━━\u001b[0m\u001b[37m\u001b[0m \u001b[1m0s\u001b[0m 5ms/step \n",
      "Best MSE so far: 4.0556\n",
      "Best Params → Units: 112, Dropout: 0.10, Batch Size: 32\n"
     ]
    }
   ],
   "source": [
    "def pso_objective(params):\n",
    "    from sklearn.metrics import mean_squared_error\n",
    "    \"\"\"\n",
    "    Objective function for PSO. Builds and evaluates a BiLSTM model with given hyperparameters.\n",
    "    params: [units, dropout, batch_size]\n",
    "    \"\"\"\n",
    "    units = int(params[0])\n",
    "    dropout = float(params[1])\n",
    "    batch_size = int(params[2])\n",
    "\n",
    "    # Build model\n",
    "    model = create_bilstm_model(input_shape=(1, X_train.shape[2]), units=units, dropout_rate=dropout)\n",
    "\n",
    "    # Train briefly (you can increase epochs later)\n",
    "    model.fit(X_train, Y_train, epochs=10, batch_size=batch_size, verbose=0, validation_split=0.1)\n",
    "\n",
    "    # Predict and calculate MSE\n",
    "    preds = model.predict(X_test)\n",
    "    mse = mean_squared_error(Y_test, preds)\n",
    "    return mse\n",
    "\n",
    "import random\n",
    "\n",
    "class Particle:\n",
    "    def __init__(self, bounds):\n",
    "        self.position = [random.uniform(b[0], b[1]) for b in bounds]\n",
    "        self.velocity = [random.uniform(-1, 1) for _ in bounds]\n",
    "        self.best_position = list(self.position)\n",
    "        self.best_score = float('inf')\n",
    "        self.score = float('inf')\n",
    "\n",
    "    def update_velocity(self, global_best, w=0.5, c1=1, c2=2):\n",
    "        for i in range(len(self.velocity)):\n",
    "            r1, r2 = random.random(), random.random()\n",
    "            cognitive = c1 * r1 * (self.best_position[i] - self.position[i])\n",
    "            social = c2 * r2 * (global_best[i] - self.position[i])\n",
    "            self.velocity[i] = w * self.velocity[i] + cognitive + social\n",
    "\n",
    "    def update_position(self, bounds):\n",
    "        for i in range(len(self.position)):\n",
    "            self.position[i] += self.velocity[i]\n",
    "            # Clamp to bounds\n",
    "            self.position[i] = max(bounds[i][0], min(bounds[i][1], self.position[i]))\n",
    "\n",
    "# Define bounds: (min, max) for each parameter\n",
    "# Format: [units, dropout, batch_size]\n",
    "bounds = [\n",
    "    (32, 128),    # LSTM units\n",
    "    (0.1, 0.5),   # Dropout\n",
    "    (16, 64)      # Batch size\n",
    "]\n",
    "\n",
    "# PSO Settings\n",
    "num_particles = 5\n",
    "num_iterations = 10\n",
    "\n",
    "# Initialize swarm\n",
    "swarm = [Particle(bounds) for _ in range(num_particles)]\n",
    "global_best_position = None\n",
    "global_best_score = float('inf')\n",
    "\n",
    "for iter in range(num_iterations):\n",
    "    print(f\"\\nIteration {iter+1}/{num_iterations}\")\n",
    "    \n",
    "    for particle in swarm:\n",
    "        # Evaluate current position\n",
    "        score = pso_objective(particle.position)\n",
    "        particle.score = score\n",
    "\n",
    "        # Update personal best\n",
    "        if score < particle.best_score:\n",
    "            particle.best_score = score\n",
    "            particle.best_position = list(particle.position)\n",
    "\n",
    "        # Update global best\n",
    "        if score < global_best_score:\n",
    "            global_best_score = score\n",
    "            global_best_position = list(particle.position)\n",
    "\n",
    "    # Update velocities and positions\n",
    "    for particle in swarm:\n",
    "        particle.update_velocity(global_best_position)\n",
    "        particle.update_position(bounds)\n",
    "\n",
    "\n",
    "best_units = int(global_best_position[0])\n",
    "best_dropout = float(global_best_position[1])\n",
    "best_batch_size = int(global_best_position[2])\n",
    "\n",
    "print(f\"Best MSE so far: {global_best_score:.4f}\")\n",
    "print(f\"Best Params → Units: {best_units}, Dropout: {best_dropout:.2f}, Batch Size: {best_batch_size}\")"
   ]
  },
  {
   "cell_type": "code",
   "execution_count": 123,
   "id": "10142ac5",
   "metadata": {},
   "outputs": [
    {
     "name": "stdout",
     "output_type": "stream",
     "text": [
      "Epoch 1/50\n"
     ]
    },
    {
     "name": "stderr",
     "output_type": "stream",
     "text": [
      "/Library/Frameworks/Python.framework/Versions/3.12/lib/python3.12/site-packages/keras/src/layers/rnn/bidirectional.py:107: UserWarning: Do not pass an `input_shape`/`input_dim` argument to a layer. When using Sequential models, prefer using an `Input(shape)` object as the first layer in the model instead.\n",
      "  super().__init__(**kwargs)\n"
     ]
    },
    {
     "name": "stdout",
     "output_type": "stream",
     "text": [
      "\u001b[1m200/200\u001b[0m \u001b[32m━━━━━━━━━━━━━━━━━━━━\u001b[0m\u001b[37m\u001b[0m \u001b[1m4s\u001b[0m 4ms/step - loss: 21.0768 - mae: 3.7227 - val_loss: 6.6853 - val_mae: 2.1253\n",
      "Epoch 2/50\n",
      "\u001b[1m200/200\u001b[0m \u001b[32m━━━━━━━━━━━━━━━━━━━━\u001b[0m\u001b[37m\u001b[0m \u001b[1m1s\u001b[0m 3ms/step - loss: 9.0876 - mae: 2.1971 - val_loss: 4.8338 - val_mae: 1.7238\n",
      "Epoch 3/50\n",
      "\u001b[1m200/200\u001b[0m \u001b[32m━━━━━━━━━━━━━━━━━━━━\u001b[0m\u001b[37m\u001b[0m \u001b[1m1s\u001b[0m 3ms/step - loss: 8.0904 - mae: 1.9569 - val_loss: 4.8258 - val_mae: 1.4572\n",
      "Epoch 4/50\n",
      "\u001b[1m200/200\u001b[0m \u001b[32m━━━━━━━━━━━━━━━━━━━━\u001b[0m\u001b[37m\u001b[0m \u001b[1m1s\u001b[0m 3ms/step - loss: 8.1570 - mae: 1.9358 - val_loss: 4.7754 - val_mae: 1.4503\n",
      "Epoch 5/50\n",
      "\u001b[1m200/200\u001b[0m \u001b[32m━━━━━━━━━━━━━━━━━━━━\u001b[0m\u001b[37m\u001b[0m \u001b[1m1s\u001b[0m 3ms/step - loss: 8.1288 - mae: 1.9343 - val_loss: 4.8512 - val_mae: 1.5113\n",
      "Epoch 6/50\n",
      "\u001b[1m200/200\u001b[0m \u001b[32m━━━━━━━━━━━━━━━━━━━━\u001b[0m\u001b[37m\u001b[0m \u001b[1m1s\u001b[0m 3ms/step - loss: 8.0639 - mae: 1.9413 - val_loss: 5.1474 - val_mae: 1.4713\n",
      "Epoch 7/50\n",
      "\u001b[1m200/200\u001b[0m \u001b[32m━━━━━━━━━━━━━━━━━━━━\u001b[0m\u001b[37m\u001b[0m \u001b[1m1s\u001b[0m 4ms/step - loss: 7.3487 - mae: 1.8441 - val_loss: 4.4410 - val_mae: 1.4184\n",
      "Epoch 8/50\n",
      "\u001b[1m200/200\u001b[0m \u001b[32m━━━━━━━━━━━━━━━━━━━━\u001b[0m\u001b[37m\u001b[0m \u001b[1m1s\u001b[0m 3ms/step - loss: 7.3610 - mae: 1.8635 - val_loss: 4.3350 - val_mae: 1.4926\n",
      "Epoch 9/50\n",
      "\u001b[1m200/200\u001b[0m \u001b[32m━━━━━━━━━━━━━━━━━━━━\u001b[0m\u001b[37m\u001b[0m \u001b[1m1s\u001b[0m 3ms/step - loss: 7.9670 - mae: 1.9253 - val_loss: 4.3434 - val_mae: 1.4152\n",
      "Epoch 10/50\n",
      "\u001b[1m200/200\u001b[0m \u001b[32m━━━━━━━━━━━━━━━━━━━━\u001b[0m\u001b[37m\u001b[0m \u001b[1m1s\u001b[0m 3ms/step - loss: 7.4793 - mae: 1.8671 - val_loss: 4.3844 - val_mae: 1.5171\n",
      "Epoch 11/50\n",
      "\u001b[1m200/200\u001b[0m \u001b[32m━━━━━━━━━━━━━━━━━━━━\u001b[0m\u001b[37m\u001b[0m \u001b[1m1s\u001b[0m 3ms/step - loss: 7.4163 - mae: 1.8860 - val_loss: 4.4717 - val_mae: 1.3858\n",
      "Epoch 12/50\n",
      "\u001b[1m200/200\u001b[0m \u001b[32m━━━━━━━━━━━━━━━━━━━━\u001b[0m\u001b[37m\u001b[0m \u001b[1m1s\u001b[0m 3ms/step - loss: 7.2557 - mae: 1.8728 - val_loss: 4.2859 - val_mae: 1.3980\n",
      "Epoch 13/50\n",
      "\u001b[1m200/200\u001b[0m \u001b[32m━━━━━━━━━━━━━━━━━━━━\u001b[0m\u001b[37m\u001b[0m \u001b[1m1s\u001b[0m 2ms/step - loss: 7.1271 - mae: 1.8452 - val_loss: 4.6046 - val_mae: 1.4603\n",
      "Epoch 14/50\n",
      "\u001b[1m200/200\u001b[0m \u001b[32m━━━━━━━━━━━━━━━━━━━━\u001b[0m\u001b[37m\u001b[0m \u001b[1m0s\u001b[0m 2ms/step - loss: 6.9993 - mae: 1.7981 - val_loss: 4.2270 - val_mae: 1.3691\n",
      "Epoch 15/50\n",
      "\u001b[1m200/200\u001b[0m \u001b[32m━━━━━━━━━━━━━━━━━━━━\u001b[0m\u001b[37m\u001b[0m \u001b[1m0s\u001b[0m 2ms/step - loss: 6.8614 - mae: 1.8299 - val_loss: 4.8634 - val_mae: 1.4159\n",
      "Epoch 16/50\n",
      "\u001b[1m200/200\u001b[0m \u001b[32m━━━━━━━━━━━━━━━━━━━━\u001b[0m\u001b[37m\u001b[0m \u001b[1m1s\u001b[0m 4ms/step - loss: 6.6623 - mae: 1.7892 - val_loss: 4.2335 - val_mae: 1.4334\n",
      "Epoch 17/50\n",
      "\u001b[1m200/200\u001b[0m \u001b[32m━━━━━━━━━━━━━━━━━━━━\u001b[0m\u001b[37m\u001b[0m \u001b[1m1s\u001b[0m 3ms/step - loss: 6.8143 - mae: 1.8064 - val_loss: 4.0618 - val_mae: 1.4353\n",
      "Epoch 18/50\n",
      "\u001b[1m200/200\u001b[0m \u001b[32m━━━━━━━━━━━━━━━━━━━━\u001b[0m\u001b[37m\u001b[0m \u001b[1m1s\u001b[0m 2ms/step - loss: 6.6653 - mae: 1.7880 - val_loss: 4.3270 - val_mae: 1.5295\n",
      "Epoch 19/50\n",
      "\u001b[1m200/200\u001b[0m \u001b[32m━━━━━━━━━━━━━━━━━━━━\u001b[0m\u001b[37m\u001b[0m \u001b[1m1s\u001b[0m 3ms/step - loss: 6.3495 - mae: 1.7846 - val_loss: 4.0540 - val_mae: 1.3616\n",
      "Epoch 20/50\n",
      "\u001b[1m200/200\u001b[0m \u001b[32m━━━━━━━━━━━━━━━━━━━━\u001b[0m\u001b[37m\u001b[0m \u001b[1m1s\u001b[0m 3ms/step - loss: 6.5155 - mae: 1.7665 - val_loss: 4.5576 - val_mae: 1.6562\n",
      "Epoch 21/50\n",
      "\u001b[1m200/200\u001b[0m \u001b[32m━━━━━━━━━━━━━━━━━━━━\u001b[0m\u001b[37m\u001b[0m \u001b[1m1s\u001b[0m 3ms/step - loss: 6.6042 - mae: 1.8190 - val_loss: 4.3415 - val_mae: 1.3819\n",
      "Epoch 22/50\n",
      "\u001b[1m200/200\u001b[0m \u001b[32m━━━━━━━━━━━━━━━━━━━━\u001b[0m\u001b[37m\u001b[0m \u001b[1m1s\u001b[0m 3ms/step - loss: 5.9153 - mae: 1.7518 - val_loss: 4.1222 - val_mae: 1.4842\n",
      "Epoch 23/50\n",
      "\u001b[1m200/200\u001b[0m \u001b[32m━━━━━━━━━━━━━━━━━━━━\u001b[0m\u001b[37m\u001b[0m \u001b[1m1s\u001b[0m 3ms/step - loss: 6.6951 - mae: 1.8455 - val_loss: 3.9727 - val_mae: 1.3895\n",
      "Epoch 24/50\n",
      "\u001b[1m200/200\u001b[0m \u001b[32m━━━━━━━━━━━━━━━━━━━━\u001b[0m\u001b[37m\u001b[0m \u001b[1m1s\u001b[0m 3ms/step - loss: 6.1211 - mae: 1.7624 - val_loss: 4.1374 - val_mae: 1.3727\n",
      "Epoch 25/50\n",
      "\u001b[1m200/200\u001b[0m \u001b[32m━━━━━━━━━━━━━━━━━━━━\u001b[0m\u001b[37m\u001b[0m \u001b[1m1s\u001b[0m 3ms/step - loss: 6.0587 - mae: 1.7534 - val_loss: 3.9965 - val_mae: 1.3991\n",
      "Epoch 26/50\n",
      "\u001b[1m200/200\u001b[0m \u001b[32m━━━━━━━━━━━━━━━━━━━━\u001b[0m\u001b[37m\u001b[0m \u001b[1m1s\u001b[0m 3ms/step - loss: 6.0332 - mae: 1.7411 - val_loss: 4.1461 - val_mae: 1.4131\n",
      "Epoch 27/50\n",
      "\u001b[1m200/200\u001b[0m \u001b[32m━━━━━━━━━━━━━━━━━━━━\u001b[0m\u001b[37m\u001b[0m \u001b[1m1s\u001b[0m 3ms/step - loss: 5.9922 - mae: 1.7483 - val_loss: 4.3739 - val_mae: 1.4014\n",
      "Epoch 28/50\n",
      "\u001b[1m200/200\u001b[0m \u001b[32m━━━━━━━━━━━━━━━━━━━━\u001b[0m\u001b[37m\u001b[0m \u001b[1m1s\u001b[0m 3ms/step - loss: 5.9372 - mae: 1.7459 - val_loss: 4.0318 - val_mae: 1.4428\n",
      "Epoch 29/50\n",
      "\u001b[1m200/200\u001b[0m \u001b[32m━━━━━━━━━━━━━━━━━━━━\u001b[0m\u001b[37m\u001b[0m \u001b[1m1s\u001b[0m 3ms/step - loss: 6.4379 - mae: 1.8253 - val_loss: 4.0671 - val_mae: 1.4345\n",
      "Epoch 30/50\n",
      "\u001b[1m200/200\u001b[0m \u001b[32m━━━━━━━━━━━━━━━━━━━━\u001b[0m\u001b[37m\u001b[0m \u001b[1m1s\u001b[0m 3ms/step - loss: 5.9584 - mae: 1.7292 - val_loss: 4.1145 - val_mae: 1.3755\n",
      "Epoch 31/50\n",
      "\u001b[1m200/200\u001b[0m \u001b[32m━━━━━━━━━━━━━━━━━━━━\u001b[0m\u001b[37m\u001b[0m \u001b[1m1s\u001b[0m 3ms/step - loss: 6.1050 - mae: 1.7536 - val_loss: 4.1524 - val_mae: 1.4652\n",
      "Epoch 32/50\n",
      "\u001b[1m200/200\u001b[0m \u001b[32m━━━━━━━━━━━━━━━━━━━━\u001b[0m\u001b[37m\u001b[0m \u001b[1m1s\u001b[0m 3ms/step - loss: 6.0665 - mae: 1.7701 - val_loss: 4.0747 - val_mae: 1.3999\n",
      "Epoch 33/50\n",
      "\u001b[1m200/200\u001b[0m \u001b[32m━━━━━━━━━━━━━━━━━━━━\u001b[0m\u001b[37m\u001b[0m \u001b[1m1s\u001b[0m 3ms/step - loss: 5.6814 - mae: 1.7260 - val_loss: 4.0640 - val_mae: 1.3218\n",
      "Epoch 34/50\n",
      "\u001b[1m200/200\u001b[0m \u001b[32m━━━━━━━━━━━━━━━━━━━━\u001b[0m\u001b[37m\u001b[0m \u001b[1m1s\u001b[0m 3ms/step - loss: 6.4155 - mae: 1.7898 - val_loss: 4.0516 - val_mae: 1.4299\n",
      "Epoch 35/50\n",
      "\u001b[1m200/200\u001b[0m \u001b[32m━━━━━━━━━━━━━━━━━━━━\u001b[0m\u001b[37m\u001b[0m \u001b[1m1s\u001b[0m 3ms/step - loss: 6.0617 - mae: 1.7639 - val_loss: 3.9966 - val_mae: 1.3293\n",
      "Epoch 36/50\n",
      "\u001b[1m200/200\u001b[0m \u001b[32m━━━━━━━━━━━━━━━━━━━━\u001b[0m\u001b[37m\u001b[0m \u001b[1m1s\u001b[0m 3ms/step - loss: 5.7639 - mae: 1.7130 - val_loss: 4.0292 - val_mae: 1.3578\n",
      "Epoch 37/50\n",
      "\u001b[1m200/200\u001b[0m \u001b[32m━━━━━━━━━━━━━━━━━━━━\u001b[0m\u001b[37m\u001b[0m \u001b[1m1s\u001b[0m 3ms/step - loss: 5.8808 - mae: 1.7471 - val_loss: 4.0744 - val_mae: 1.3916\n",
      "Epoch 38/50\n",
      "\u001b[1m200/200\u001b[0m \u001b[32m━━━━━━━━━━━━━━━━━━━━\u001b[0m\u001b[37m\u001b[0m \u001b[1m1s\u001b[0m 3ms/step - loss: 5.7142 - mae: 1.7101 - val_loss: 4.1106 - val_mae: 1.3415\n",
      "Epoch 39/50\n",
      "\u001b[1m200/200\u001b[0m \u001b[32m━━━━━━━━━━━━━━━━━━━━\u001b[0m\u001b[37m\u001b[0m \u001b[1m1s\u001b[0m 3ms/step - loss: 5.8627 - mae: 1.7510 - val_loss: 4.0349 - val_mae: 1.4266\n",
      "Epoch 40/50\n",
      "\u001b[1m200/200\u001b[0m \u001b[32m━━━━━━━━━━━━━━━━━━━━\u001b[0m\u001b[37m\u001b[0m \u001b[1m0s\u001b[0m 2ms/step - loss: 5.8791 - mae: 1.7732 - val_loss: 4.0678 - val_mae: 1.4116\n",
      "Epoch 41/50\n",
      "\u001b[1m200/200\u001b[0m \u001b[32m━━━━━━━━━━━━━━━━━━━━\u001b[0m\u001b[37m\u001b[0m \u001b[1m1s\u001b[0m 3ms/step - loss: 5.7987 - mae: 1.7655 - val_loss: 4.0433 - val_mae: 1.4635\n",
      "Epoch 42/50\n",
      "\u001b[1m200/200\u001b[0m \u001b[32m━━━━━━━━━━━━━━━━━━━━\u001b[0m\u001b[37m\u001b[0m \u001b[1m1s\u001b[0m 3ms/step - loss: 5.6292 - mae: 1.7108 - val_loss: 3.9641 - val_mae: 1.3954\n",
      "Epoch 43/50\n",
      "\u001b[1m200/200\u001b[0m \u001b[32m━━━━━━━━━━━━━━━━━━━━\u001b[0m\u001b[37m\u001b[0m \u001b[1m0s\u001b[0m 2ms/step - loss: 5.9739 - mae: 1.7496 - val_loss: 4.0367 - val_mae: 1.5234\n",
      "Epoch 44/50\n",
      "\u001b[1m200/200\u001b[0m \u001b[32m━━━━━━━━━━━━━━━━━━━━\u001b[0m\u001b[37m\u001b[0m \u001b[1m0s\u001b[0m 2ms/step - loss: 5.8939 - mae: 1.7599 - val_loss: 3.9768 - val_mae: 1.4762\n",
      "Epoch 45/50\n",
      "\u001b[1m200/200\u001b[0m \u001b[32m━━━━━━━━━━━━━━━━━━━━\u001b[0m\u001b[37m\u001b[0m \u001b[1m0s\u001b[0m 2ms/step - loss: 5.6177 - mae: 1.7260 - val_loss: 3.9203 - val_mae: 1.3853\n",
      "Epoch 46/50\n",
      "\u001b[1m200/200\u001b[0m \u001b[32m━━━━━━━━━━━━━━━━━━━━\u001b[0m\u001b[37m\u001b[0m \u001b[1m1s\u001b[0m 3ms/step - loss: 5.8931 - mae: 1.7635 - val_loss: 4.0884 - val_mae: 1.4006\n",
      "Epoch 47/50\n",
      "\u001b[1m200/200\u001b[0m \u001b[32m━━━━━━━━━━━━━━━━━━━━\u001b[0m\u001b[37m\u001b[0m \u001b[1m0s\u001b[0m 2ms/step - loss: 5.7015 - mae: 1.7210 - val_loss: 4.4177 - val_mae: 1.4679\n",
      "Epoch 48/50\n",
      "\u001b[1m200/200\u001b[0m \u001b[32m━━━━━━━━━━━━━━━━━━━━\u001b[0m\u001b[37m\u001b[0m \u001b[1m1s\u001b[0m 3ms/step - loss: 6.0844 - mae: 1.7761 - val_loss: 3.9444 - val_mae: 1.4749\n",
      "Epoch 49/50\n",
      "\u001b[1m200/200\u001b[0m \u001b[32m━━━━━━━━━━━━━━━━━━━━\u001b[0m\u001b[37m\u001b[0m \u001b[1m1s\u001b[0m 3ms/step - loss: 5.9613 - mae: 1.7784 - val_loss: 4.0257 - val_mae: 1.4893\n",
      "Epoch 50/50\n",
      "\u001b[1m200/200\u001b[0m \u001b[32m━━━━━━━━━━━━━━━━━━━━\u001b[0m\u001b[37m\u001b[0m \u001b[1m0s\u001b[0m 2ms/step - loss: 5.6956 - mae: 1.7388 - val_loss: 4.2445 - val_mae: 1.4018\n",
      "\u001b[1m56/56\u001b[0m \u001b[32m━━━━━━━━━━━━━━━━━━━━\u001b[0m\u001b[37m\u001b[0m \u001b[1m0s\u001b[0m 4ms/step \n",
      "MSE: 4.3311\n",
      "MAE: 1.3991\n",
      "R² Score: 0.7373\n"
     ]
    }
   ],
   "source": [
    "from sklearn.metrics import mean_squared_error, mean_absolute_error, r2_score\n",
    "# Step 3: Train the BiLSTM model\n",
    "model = create_bilstm_model(input_shape=(1, X_train.shape[2]), units=best_units)\n",
    "model.add(Dropout(best_dropout))\n",
    "model.add(Dense(1))\n",
    "model.compile(optimizer='adam', loss='mean_squared_error')\n",
    "model.fit(X_train, Y_train,epochs=50,batch_size=best_batch_size,validation_split=0.1,verbose=1)\n",
    "\n",
    "# Step 4: Make predictions\n",
    "Y_pred = model.predict(X_test)\n",
    "\n",
    "# Step 5: Evaluate\n",
    "mse = mean_squared_error(Y_test, Y_pred)\n",
    "mae = mean_absolute_error(Y_test, Y_pred)\n",
    "r2 = r2_score(Y_test, Y_pred)\n",
    "\n",
    "print(f\"MSE: {mse:.4f}\")\n",
    "print(f\"MAE: {mae:.4f}\")\n",
    "print(f\"R² Score: {r2:.4f}\")"
   ]
  },
  {
   "cell_type": "code",
   "execution_count": 124,
   "id": "1f433806",
   "metadata": {},
   "outputs": [
    {
     "data": {
      "image/png": "[encoded data removed]",
      "text/plain": [
       "<Figure size 1500x500 with 1 Axes>"
      ]
     },
     "metadata": {},
     "output_type": "display_data"
    }
   ],
   "source": [
    "import matplotlib.pyplot as plt\n",
    "\n",
    "plt.figure(figsize=(15, 5))\n",
    "plt.plot(Y_test, label='Actual', linewidth=2)\n",
    "plt.plot(Y_pred, label='Predicted', linewidth=2)\n",
    "plt.title(\"Actual vs Predicted Wind Speed (FFF) - Full Test Set\")\n",
    "plt.xlabel(\"Sample Index\")\n",
    "plt.ylabel(\"Wind Speed\")\n",
    "plt.legend()\n",
    "plt.grid(True)\n",
    "plt.tight_layout()\n",
    "plt.show()\n"
   ]
  },
  {
   "cell_type": "code",
   "execution_count": 125,
   "id": "c5f775b5",
   "metadata": {},
   "outputs": [
    {
     "name": "stdout",
     "output_type": "stream",
     "text": [
      "Results appended to CSV: plot/history_MG_bi.csv\n"
     ]
    }
   ],
   "source": [
    "import os\n",
    "import matplotlib.pyplot as plt\n",
    "from datetime import datetime\n",
    "\n",
    "# Directory for saving plots and CSV\n",
    "output_dir = \"plot\"\n",
    "os.makedirs(output_dir, exist_ok=True)\n",
    "\n",
    "timestamp = datetime.now().strftime(\"%Y-%m-%d_%H-%M-%S\")\n",
    "\n",
    "import pandas as pd\n",
    "\n",
    "# Replace with actual best values from your GWO\n",
    "result = {\n",
    "    \"Timestamp\": timestamp,\n",
    "    \"Units\": best_units,\n",
    "    \"Dropout\":best_dropout,\n",
    "    \"Batch Size\":best_batch_size,\n",
    "    \"MAE\": mae,\n",
    "    \"MSE\": mse,\n",
    "    \"R2\":r2\n",
    "}\n",
    "\n",
    "csv_path = os.path.join(output_dir, \"history_MG_bi.csv\")\n",
    "\n",
    "# Append to CSV\n",
    "if os.path.exists(csv_path):\n",
    "    df_existing = pd.read_csv(csv_path)\n",
    "    df_existing = pd.concat([df_existing, pd.DataFrame([result])], ignore_index=True)\n",
    "    df_existing.to_csv(csv_path, index=False)\n",
    "else:\n",
    "    pd.DataFrame([result]).to_csv(csv_path, index=False)\n",
    "\n",
    "print(f\"Results appended to CSV: {csv_path}\")\n"
   ]
  }
 ],
 "metadata": {
  "kernelspec": {
   "display_name": "Python 3",
   "language": "python",
   "name": "python3"
  },
  "language_info": {
   "codemirror_mode": {
    "name": "ipython",
    "version": 3
   },
   "file_extension": ".py",
   "mimetype": "text/x-python",
   "name": "python",
   "nbconvert_exporter": "python",
   "pygments_lexer": "ipython3",
   "version": "3.12.4"
  }
 },
 "nbformat": 4,
 "nbformat_minor": 5
}
