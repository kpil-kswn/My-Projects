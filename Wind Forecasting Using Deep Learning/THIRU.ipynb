{
 "cells": [
  {
   "cell_type": "code",
   "execution_count": 297,
   "id": "d5b1c946",
   "metadata": {},
   "outputs": [
    {
     "name": "stderr",
     "output_type": "stream",
     "text": [
      "/var/folders/kt/q0sjjgn94nz3_lf77pxkgr6h0000gn/T/ipykernel_1020/130860208.py:3: DtypeWarning: Columns (28) have mixed types. Specify dtype option on import or set low_memory=False.\n",
      "  df=pd.read_csv(\"THIRUVANANTHAPURAM.csv\")\n"
     ]
    }
   ],
   "source": [
    "import pandas as pd \n",
    "import numpy as np\n",
    "df=pd.read_csv(\"THIRUVANANTHAPURAM.csv\")"
   ]
  },
  {
   "cell_type": "code",
   "execution_count": 298,
   "id": "2010450e",
   "metadata": {},
   "outputs": [
    {
     "name": "stdout",
     "output_type": "stream",
     "text": [
      "            INDEX  YEAR  MN      HR      DT   SLP  MSLP   DBT  WBT   DPT  ...  \\\n",
      "43371 2010      1     0   1  1001.8  1009.1  23.6  22.8  22.4  093  27.1  ...   \n",
      "      2010      1     0   2  1003.9  1011.2  25.4  24.6  24.2  093  30.2  ...   \n",
      "      2010      1     0   3  1004.6  1011.9  24.0  22.8  22.2  090  26.7  ...   \n",
      "      2010      1     0   4  1003.9  1011.2  24.8  23.2  22.4  087  27.1  ...   \n",
      "      2010      1     0   5  1003.0  1010.3  23.4  22.2  21.6  090  25.8  ...   \n",
      "...           ...   ...  ..     ...     ...   ...   ...   ...  ...   ...  ...   \n",
      "      2020     12    84  27  1001.2  1008.5  25.6  23.0  21.7  079  25.9  ...   \n",
      "      2020     12    84  28  1001.6  1008.9  25.8  24.4  23.8  088  29.5  ...   \n",
      "      2020     12    84  29  1001.7  1009.0  25.8  23.0  21.6  078  25.8  ...   \n",
      "      2020     12    84  30  1001.7  1009.0  25.8  23.0  21.6  078  25.8  ...   \n",
      "      2020     12    84  31  1000.9  1008.2  26.0  25.2  24.9  093  31.5  ...   \n",
      "\n",
      "            c  a  Ht    RF  EVP  DW  P  H  WAT Unnamed: 36  \n",
      "43371 2010  6  2  20  0000                             NaN  \n",
      "      2010  6  1  20  0000                             NaN  \n",
      "      2010  6  2  20  0000                             NaN  \n",
      "      2010  6  3  20  0000                             NaN  \n",
      "      2010  6  2  20  0000                             NaN  \n",
      "...        .. ..  ..   ...  ...  .. .. ..  ...         ...  \n",
      "      2020  6  2  18  0000  120                        NaN  \n",
      "      2020  6  2  20  0000  120                        NaN  \n",
      "      2020  6  3  18  0000  120                        NaN  \n",
      "      2020  6  3  18  0000  120                        NaN  \n",
      "      2020  6  3  18  0004  120                        NaN  \n",
      "\n",
      "[31553 rows x 37 columns]\n"
     ]
    }
   ],
   "source": [
    "print(df)"
   ]
  },
  {
   "cell_type": "code",
   "execution_count": 299,
   "id": "68d1393a",
   "metadata": {},
   "outputs": [],
   "source": [
    "\n",
    "df.reset_index(inplace=True)\n",
    "df.columns = df.columns[2:].tolist() + df.columns[:2].tolist()"
   ]
  },
  {
   "cell_type": "code",
   "execution_count": 300,
   "id": "fc20368b",
   "metadata": {},
   "outputs": [
    {
     "name": "stdout",
     "output_type": "stream",
     "text": [
      "       INDEX  YEAR  MN  HR  DT     SLP    MSLP   DBT   WBT   DPT  ... Ht RF  \\\n",
      "0      43371  2010   1   0   1  1001.8  1009.1  23.6  22.8  22.4  ...  6  2   \n",
      "1      43371  2010   1   0   2  1003.9  1011.2  25.4  24.6  24.2  ...  6  1   \n",
      "2      43371  2010   1   0   3  1004.6  1011.9  24.0  22.8  22.2  ...  6  2   \n",
      "3      43371  2010   1   0   4  1003.9  1011.2  24.8  23.2  22.4  ...  6  3   \n",
      "4      43371  2010   1   0   5  1003.0  1010.3  23.4  22.2  21.6  ...  6  2   \n",
      "...      ...   ...  ..  ..  ..     ...     ...   ...   ...   ...  ... .. ..   \n",
      "31548  43371  2020  12  84  27  1001.2  1008.5  25.6  23.0  21.7  ...  6  2   \n",
      "31549  43371  2020  12  84  28  1001.6  1008.9  25.8  24.4  23.8  ...  6  2   \n",
      "31550  43371  2020  12  84  29  1001.7  1009.0  25.8  23.0  21.6  ...  6  3   \n",
      "31551  43371  2020  12  84  30  1001.7  1009.0  25.8  23.0  21.6  ...  6  3   \n",
      "31552  43371  2020  12  84  31  1000.9  1008.2  26.0  25.2  24.9  ...  6  3   \n",
      "\n",
      "      EVP    DW    P   H WAT Unnamed: 36 level_0 level_1  \n",
      "0      20  0000                                      NaN  \n",
      "1      20  0000                                      NaN  \n",
      "2      20  0000                                      NaN  \n",
      "3      20  0000                                      NaN  \n",
      "4      20  0000                                      NaN  \n",
      "...    ..   ...  ...  ..  ..         ...     ...     ...  \n",
      "31548  18  0000  120                                 NaN  \n",
      "31549  20  0000  120                                 NaN  \n",
      "31550  18  0000  120                                 NaN  \n",
      "31551  18  0000  120                                 NaN  \n",
      "31552  18  0004  120                                 NaN  \n",
      "\n",
      "[31553 rows x 39 columns]\n"
     ]
    }
   ],
   "source": [
    "\n",
    "print(df)"
   ]
  },
  {
   "cell_type": "code",
   "execution_count": 301,
   "id": "d75dd840",
   "metadata": {},
   "outputs": [
    {
     "name": "stdout",
     "output_type": "stream",
     "text": [
      "<class 'pandas.core.frame.DataFrame'>\n",
      "RangeIndex: 31553 entries, 0 to 31552\n",
      "Data columns (total 39 columns):\n",
      " #   Column       Non-Null Count  Dtype  \n",
      "---  ------       --------------  -----  \n",
      " 0   INDEX        31553 non-null  int64  \n",
      " 1   YEAR         31553 non-null  int64  \n",
      " 2   MN           31553 non-null  int64  \n",
      " 3   HR           31553 non-null  int64  \n",
      " 4   DT           31553 non-null  int64  \n",
      " 5   SLP          31553 non-null  float64\n",
      " 6   MSLP         31553 non-null  float64\n",
      " 7   DBT          31551 non-null  float64\n",
      " 8   WBT          31550 non-null  float64\n",
      " 9   DPT          31550 non-null  float64\n",
      " 10  RH           31553 non-null  object \n",
      " 11  VP           31553 non-null  object \n",
      " 12  DD           31553 non-null  object \n",
      " 13  FFF          31553 non-null  object \n",
      " 14  AW           31553 non-null  object \n",
      " 15  VV           31553 non-null  object \n",
      " 16  Cl           31553 non-null  object \n",
      " 17  A            31553 non-null  object \n",
      " 18  Cm           31553 non-null  object \n",
      " 19  A.1          31553 non-null  object \n",
      " 20  Ch           31553 non-null  object \n",
      " 21  A.2          31553 non-null  object \n",
      " 22  Dl           31553 non-null  object \n",
      " 23  Dm           31553 non-null  object \n",
      " 24  Dh           31553 non-null  object \n",
      " 25  TC           31553 non-null  object \n",
      " 26  h            31553 non-null  object \n",
      " 27  c            31553 non-null  object \n",
      " 28  a            31553 non-null  object \n",
      " 29  Ht           31553 non-null  object \n",
      " 30  RF           31553 non-null  object \n",
      " 31  EVP          31553 non-null  object \n",
      " 32  DW           31553 non-null  object \n",
      " 33  P            31553 non-null  object \n",
      " 34  H            31553 non-null  object \n",
      " 35  WAT          31553 non-null  object \n",
      " 36  Unnamed: 36  31553 non-null  object \n",
      " 37  level_0      31553 non-null  object \n",
      " 38  level_1      0 non-null      float64\n",
      "dtypes: float64(6), int64(5), object(28)\n",
      "memory usage: 9.4+ MB\n"
     ]
    }
   ],
   "source": [
    "df.info()"
   ]
  },
  {
   "cell_type": "code",
   "execution_count": 302,
   "id": "a9937aa7",
   "metadata": {},
   "outputs": [],
   "source": [
    "df=df.apply(pd.to_numeric,errors='coerce')"
   ]
  },
  {
   "cell_type": "code",
   "execution_count": 303,
   "id": "0801f484",
   "metadata": {},
   "outputs": [
    {
     "name": "stdout",
     "output_type": "stream",
     "text": [
      "       INDEX  YEAR  MN  HR  DT     SLP    MSLP   DBT   WBT   DPT  ...   Ht  \\\n",
      "0      43371  2010   1   0   1  1001.8  1009.1  23.6  22.8  22.4  ...  6.0   \n",
      "1      43371  2010   1   0   2  1003.9  1011.2  25.4  24.6  24.2  ...  6.0   \n",
      "2      43371  2010   1   0   3  1004.6  1011.9  24.0  22.8  22.2  ...  6.0   \n",
      "3      43371  2010   1   0   4  1003.9  1011.2  24.8  23.2  22.4  ...  6.0   \n",
      "4      43371  2010   1   0   5  1003.0  1010.3  23.4  22.2  21.6  ...  6.0   \n",
      "...      ...   ...  ..  ..  ..     ...     ...   ...   ...   ...  ...  ...   \n",
      "31548  43371  2020  12  84  27  1001.2  1008.5  25.6  23.0  21.7  ...  6.0   \n",
      "31549  43371  2020  12  84  28  1001.6  1008.9  25.8  24.4  23.8  ...  6.0   \n",
      "31550  43371  2020  12  84  29  1001.7  1009.0  25.8  23.0  21.6  ...  6.0   \n",
      "31551  43371  2020  12  84  30  1001.7  1009.0  25.8  23.0  21.6  ...  6.0   \n",
      "31552  43371  2020  12  84  31  1000.9  1008.2  26.0  25.2  24.9  ...  6.0   \n",
      "\n",
      "        RF   EVP   DW      P   H  WAT  Unnamed: 36  level_0  level_1  \n",
      "0      2.0  20.0  0.0    NaN NaN  NaN          NaN      NaN      NaN  \n",
      "1      1.0  20.0  0.0    NaN NaN  NaN          NaN      NaN      NaN  \n",
      "2      2.0  20.0  0.0    NaN NaN  NaN          NaN      NaN      NaN  \n",
      "3      3.0  20.0  0.0    NaN NaN  NaN          NaN      NaN      NaN  \n",
      "4      2.0  20.0  0.0    NaN NaN  NaN          NaN      NaN      NaN  \n",
      "...    ...   ...  ...    ...  ..  ...          ...      ...      ...  \n",
      "31548  2.0  18.0  0.0  120.0 NaN  NaN          NaN      NaN      NaN  \n",
      "31549  2.0  20.0  0.0  120.0 NaN  NaN          NaN      NaN      NaN  \n",
      "31550  3.0  18.0  0.0  120.0 NaN  NaN          NaN      NaN      NaN  \n",
      "31551  3.0  18.0  0.0  120.0 NaN  NaN          NaN      NaN      NaN  \n",
      "31552  3.0  18.0  4.0  120.0 NaN  NaN          NaN      NaN      NaN  \n",
      "\n",
      "[31553 rows x 39 columns]\n"
     ]
    }
   ],
   "source": [
    "print(df)"
   ]
  },
  {
   "cell_type": "code",
   "execution_count": 304,
   "id": "c0b3678a",
   "metadata": {},
   "outputs": [
    {
     "name": "stdout",
     "output_type": "stream",
     "text": [
      "<class 'pandas.core.frame.DataFrame'>\n",
      "RangeIndex: 31553 entries, 0 to 31552\n",
      "Data columns (total 39 columns):\n",
      " #   Column       Non-Null Count  Dtype  \n",
      "---  ------       --------------  -----  \n",
      " 0   INDEX        31553 non-null  int64  \n",
      " 1   YEAR         31553 non-null  int64  \n",
      " 2   MN           31553 non-null  int64  \n",
      " 3   HR           31553 non-null  int64  \n",
      " 4   DT           31553 non-null  int64  \n",
      " 5   SLP          31553 non-null  float64\n",
      " 6   MSLP         31553 non-null  float64\n",
      " 7   DBT          31551 non-null  float64\n",
      " 8   WBT          31550 non-null  float64\n",
      " 9   DPT          31550 non-null  float64\n",
      " 10  RH           31550 non-null  float64\n",
      " 11  VP           31546 non-null  float64\n",
      " 12  DD           31549 non-null  float64\n",
      " 13  FFF          31506 non-null  float64\n",
      " 14  AW           7731 non-null   float64\n",
      " 15  VV           31548 non-null  float64\n",
      " 16  Cl           31546 non-null  float64\n",
      " 17  A            31545 non-null  float64\n",
      " 18  Cm           31492 non-null  float64\n",
      " 19  A.1          31488 non-null  float64\n",
      " 20  Ch           27589 non-null  float64\n",
      " 21  A.2          27930 non-null  float64\n",
      " 22  Dl           31529 non-null  float64\n",
      " 23  Dm           31485 non-null  float64\n",
      " 24  Dh           30236 non-null  float64\n",
      " 25  TC           31544 non-null  float64\n",
      " 26  h            31549 non-null  float64\n",
      " 27  c            31499 non-null  float64\n",
      " 28  a            31551 non-null  float64\n",
      " 29  Ht           31499 non-null  float64\n",
      " 30  RF           31499 non-null  float64\n",
      " 31  EVP          31499 non-null  float64\n",
      " 32  DW           31460 non-null  float64\n",
      " 33  P            8612 non-null   float64\n",
      " 34  H            1 non-null      float64\n",
      " 35  WAT          1 non-null      float64\n",
      " 36  Unnamed: 36  1 non-null      float64\n",
      " 37  level_0      7949 non-null   float64\n",
      " 38  level_1      0 non-null      float64\n",
      "dtypes: float64(34), int64(5)\n",
      "memory usage: 9.4 MB\n"
     ]
    }
   ],
   "source": [
    "df.info()"
   ]
  },
  {
   "cell_type": "code",
   "execution_count": 305,
   "id": "27d22eaa",
   "metadata": {},
   "outputs": [
    {
     "data": {
      "text/plain": [
       "INDEX              0\n",
       "YEAR               0\n",
       "MN                 0\n",
       "HR                 0\n",
       "DT                 0\n",
       "SLP                0\n",
       "MSLP               0\n",
       "DBT                2\n",
       "WBT                3\n",
       "DPT                3\n",
       "RH                 3\n",
       "VP                 7\n",
       "DD                 4\n",
       "FFF               47\n",
       "AW             23822\n",
       "VV                 5\n",
       "Cl                 7\n",
       "A                  8\n",
       "Cm                61\n",
       "A.1               65\n",
       "Ch              3964\n",
       "A.2             3623\n",
       "Dl                24\n",
       "Dm                68\n",
       "Dh              1317\n",
       "TC                 9\n",
       "h                  4\n",
       "c                 54\n",
       "a                  2\n",
       "Ht                54\n",
       "RF                54\n",
       "EVP               54\n",
       "DW                93\n",
       "P              22941\n",
       "H              31552\n",
       "WAT            31552\n",
       "Unnamed: 36    31552\n",
       "level_0        23604\n",
       "level_1        31553\n",
       "dtype: int64"
      ]
     },
     "execution_count": 305,
     "metadata": {},
     "output_type": "execute_result"
    }
   ],
   "source": [
    "df.isnull().sum()"
   ]
  },
  {
   "cell_type": "code",
   "execution_count": 306,
   "id": "98f6795f",
   "metadata": {},
   "outputs": [],
   "source": [
    "# For below columns more than 70% data is missing.\n",
    "df.drop(columns=['P', 'H', 'WAT', 'Unnamed: 36', 'level_0', 'level_1','AW'], inplace=True)       "
   ]
  },
  {
   "cell_type": "code",
   "execution_count": 307,
   "id": "9e893942",
   "metadata": {},
   "outputs": [
    {
     "data": {
      "text/plain": [
       "INDEX       0\n",
       "YEAR        0\n",
       "MN          0\n",
       "HR          0\n",
       "DT          0\n",
       "SLP         0\n",
       "MSLP        0\n",
       "DBT         2\n",
       "WBT         3\n",
       "DPT         3\n",
       "RH          3\n",
       "VP          7\n",
       "DD          4\n",
       "FFF        47\n",
       "VV          5\n",
       "Cl          7\n",
       "A           8\n",
       "Cm         61\n",
       "A.1        65\n",
       "Ch       3964\n",
       "A.2      3623\n",
       "Dl         24\n",
       "Dm         68\n",
       "Dh       1317\n",
       "TC          9\n",
       "h           4\n",
       "c          54\n",
       "a           2\n",
       "Ht         54\n",
       "RF         54\n",
       "EVP        54\n",
       "DW         93\n",
       "dtype: int64"
      ]
     },
     "execution_count": 307,
     "metadata": {},
     "output_type": "execute_result"
    }
   ],
   "source": [
    "df.isnull().sum()"
   ]
  },
  {
   "cell_type": "code",
   "execution_count": 308,
   "id": "f32e2922",
   "metadata": {},
   "outputs": [],
   "source": [
    "# Fill categorical columns by month-wise mode\n",
    "categorical_cols = ['DD', 'Cl', 'A', 'Cm', 'A.1','A.2', 'Ch', 'Dl', 'Dm', 'Dh', 'TC', 'h', 'c', 'a', 'DW']\n",
    "for col in categorical_cols:\n",
    "    df[col] = df.groupby('MN')[col].transform(lambda x: x.fillna(x.mode().iloc[0]) if not x.mode().empty else x.fillna(\"Unknown\"))\n",
    "\n",
    "# Fill numerical columns by month-wise median\n",
    "numerical_cols = ['VP', 'FFF', 'VV', 'RF', 'EVP', 'Ht']\n",
    "for col in numerical_cols:\n",
    "    df[col] = df.groupby('MN')[col].transform(lambda x: x.fillna(x.median()))"
   ]
  },
  {
   "cell_type": "code",
   "execution_count": 309,
   "id": "20eb194f",
   "metadata": {},
   "outputs": [],
   "source": [
    "# Removing INDEX and setime datetime as new Index\n",
    "df=df.drop('INDEX',axis=1)\n",
    "df['datetime']=pd.to_datetime(df[['YEAR','MN','DT','HR']].rename(columns={\n",
    "    'YEAR':'year',\n",
    "    'MN':'month',\n",
    "    'DT':'day',\n",
    "    'HR':'hour'\n",
    "}),errors='coerce')\n",
    "\n",
    "df.index = pd.to_datetime(df.index)\n",
    "# df = df[df['datetime'].dt.year != 2020]\n",
    "df.set_index('datetime',inplace=True)\n",
    "\n",
    "# As month,day and time don't affect fff much so drop them\n",
    "df.drop(['YEAR','MN','DT','HR'],axis=1,inplace=True)\n",
    "\n",
    "# Sorting the dataframe by timestamp\n",
    "df = df.sort_values('datetime')"
   ]
  },
  {
   "cell_type": "code",
   "execution_count": 310,
   "id": "488b0be1",
   "metadata": {},
   "outputs": [
    {
     "data": {
      "text/html": [
       "<div>\n",
       "<style scoped>\n",
       "    .dataframe tbody tr th:only-of-type {\n",
       "        vertical-align: middle;\n",
       "    }\n",
       "\n",
       "    .dataframe tbody tr th {\n",
       "        vertical-align: top;\n",
       "    }\n",
       "\n",
       "    .dataframe thead th {\n",
       "        text-align: right;\n",
       "    }\n",
       "</style>\n",
       "<table border=\"1\" class=\"dataframe\">\n",
       "  <thead>\n",
       "    <tr style=\"text-align: right;\">\n",
       "      <th></th>\n",
       "      <th>SLP</th>\n",
       "      <th>MSLP</th>\n",
       "      <th>DBT</th>\n",
       "      <th>WBT</th>\n",
       "      <th>DPT</th>\n",
       "      <th>RH</th>\n",
       "      <th>VP</th>\n",
       "      <th>DD</th>\n",
       "      <th>FFF</th>\n",
       "      <th>VV</th>\n",
       "      <th>...</th>\n",
       "      <th>Dm</th>\n",
       "      <th>Dh</th>\n",
       "      <th>TC</th>\n",
       "      <th>h</th>\n",
       "      <th>c</th>\n",
       "      <th>a</th>\n",
       "      <th>Ht</th>\n",
       "      <th>RF</th>\n",
       "      <th>EVP</th>\n",
       "      <th>DW</th>\n",
       "    </tr>\n",
       "    <tr>\n",
       "      <th>datetime</th>\n",
       "      <th></th>\n",
       "      <th></th>\n",
       "      <th></th>\n",
       "      <th></th>\n",
       "      <th></th>\n",
       "      <th></th>\n",
       "      <th></th>\n",
       "      <th></th>\n",
       "      <th></th>\n",
       "      <th></th>\n",
       "      <th></th>\n",
       "      <th></th>\n",
       "      <th></th>\n",
       "      <th></th>\n",
       "      <th></th>\n",
       "      <th></th>\n",
       "      <th></th>\n",
       "      <th></th>\n",
       "      <th></th>\n",
       "      <th></th>\n",
       "      <th></th>\n",
       "    </tr>\n",
       "  </thead>\n",
       "  <tbody>\n",
       "    <tr>\n",
       "      <th>2010-01-01 00:00:00</th>\n",
       "      <td>1001.8</td>\n",
       "      <td>1009.1</td>\n",
       "      <td>23.6</td>\n",
       "      <td>22.8</td>\n",
       "      <td>22.4</td>\n",
       "      <td>93.0</td>\n",
       "      <td>27.1</td>\n",
       "      <td>0.0</td>\n",
       "      <td>0.0</td>\n",
       "      <td>96.0</td>\n",
       "      <td>...</td>\n",
       "      <td>9.0</td>\n",
       "      <td>3.0</td>\n",
       "      <td>3.0</td>\n",
       "      <td>5.0</td>\n",
       "      <td>6.0</td>\n",
       "      <td>562.0</td>\n",
       "      <td>6.0</td>\n",
       "      <td>2.0</td>\n",
       "      <td>20.0</td>\n",
       "      <td>0.0</td>\n",
       "    </tr>\n",
       "    <tr>\n",
       "      <th>2010-01-01 12:00:00</th>\n",
       "      <td>1004.1</td>\n",
       "      <td>1011.4</td>\n",
       "      <td>25.0</td>\n",
       "      <td>23.6</td>\n",
       "      <td>22.9</td>\n",
       "      <td>88.0</td>\n",
       "      <td>27.9</td>\n",
       "      <td>0.0</td>\n",
       "      <td>0.0</td>\n",
       "      <td>96.0</td>\n",
       "      <td>...</td>\n",
       "      <td>0.0</td>\n",
       "      <td>9.0</td>\n",
       "      <td>2.0</td>\n",
       "      <td>5.0</td>\n",
       "      <td>8.0</td>\n",
       "      <td>581.0</td>\n",
       "      <td>8.0</td>\n",
       "      <td>1.0</td>\n",
       "      <td>25.0</td>\n",
       "      <td>0.0</td>\n",
       "    </tr>\n",
       "    <tr>\n",
       "      <th>2010-01-02 00:00:00</th>\n",
       "      <td>1004.4</td>\n",
       "      <td>1011.6</td>\n",
       "      <td>30.8</td>\n",
       "      <td>27.0</td>\n",
       "      <td>25.4</td>\n",
       "      <td>73.0</td>\n",
       "      <td>32.4</td>\n",
       "      <td>99.0</td>\n",
       "      <td>4.0</td>\n",
       "      <td>97.0</td>\n",
       "      <td>...</td>\n",
       "      <td>0.0</td>\n",
       "      <td>9.0</td>\n",
       "      <td>5.0</td>\n",
       "      <td>5.0</td>\n",
       "      <td>6.0</td>\n",
       "      <td>562.0</td>\n",
       "      <td>6.0</td>\n",
       "      <td>2.0</td>\n",
       "      <td>20.0</td>\n",
       "      <td>0.0</td>\n",
       "    </tr>\n",
       "    <tr>\n",
       "      <th>2010-01-02 00:00:00</th>\n",
       "      <td>1003.9</td>\n",
       "      <td>1011.2</td>\n",
       "      <td>25.4</td>\n",
       "      <td>24.6</td>\n",
       "      <td>24.2</td>\n",
       "      <td>93.0</td>\n",
       "      <td>30.2</td>\n",
       "      <td>0.0</td>\n",
       "      <td>0.0</td>\n",
       "      <td>96.0</td>\n",
       "      <td>...</td>\n",
       "      <td>9.0</td>\n",
       "      <td>9.0</td>\n",
       "      <td>5.0</td>\n",
       "      <td>5.0</td>\n",
       "      <td>6.0</td>\n",
       "      <td>561.0</td>\n",
       "      <td>6.0</td>\n",
       "      <td>1.0</td>\n",
       "      <td>20.0</td>\n",
       "      <td>0.0</td>\n",
       "    </tr>\n",
       "    <tr>\n",
       "      <th>2010-01-02 12:00:00</th>\n",
       "      <td>1000.7</td>\n",
       "      <td>1007.8</td>\n",
       "      <td>32.0</td>\n",
       "      <td>26.4</td>\n",
       "      <td>24.0</td>\n",
       "      <td>63.0</td>\n",
       "      <td>29.8</td>\n",
       "      <td>27.0</td>\n",
       "      <td>6.0</td>\n",
       "      <td>97.0</td>\n",
       "      <td>...</td>\n",
       "      <td>0.0</td>\n",
       "      <td>0.0</td>\n",
       "      <td>2.0</td>\n",
       "      <td>5.0</td>\n",
       "      <td>6.0</td>\n",
       "      <td>562.0</td>\n",
       "      <td>6.0</td>\n",
       "      <td>2.0</td>\n",
       "      <td>20.0</td>\n",
       "      <td>0.0</td>\n",
       "    </tr>\n",
       "  </tbody>\n",
       "</table>\n",
       "<p>5 rows × 27 columns</p>\n",
       "</div>"
      ],
      "text/plain": [
       "                        SLP    MSLP   DBT   WBT   DPT    RH    VP    DD  FFF  \\\n",
       "datetime                                                                       \n",
       "2010-01-01 00:00:00  1001.8  1009.1  23.6  22.8  22.4  93.0  27.1   0.0  0.0   \n",
       "2010-01-01 12:00:00  1004.1  1011.4  25.0  23.6  22.9  88.0  27.9   0.0  0.0   \n",
       "2010-01-02 00:00:00  1004.4  1011.6  30.8  27.0  25.4  73.0  32.4  99.0  4.0   \n",
       "2010-01-02 00:00:00  1003.9  1011.2  25.4  24.6  24.2  93.0  30.2   0.0  0.0   \n",
       "2010-01-02 12:00:00  1000.7  1007.8  32.0  26.4  24.0  63.0  29.8  27.0  6.0   \n",
       "\n",
       "                       VV  ...   Dm   Dh   TC    h    c      a   Ht   RF  \\\n",
       "datetime                   ...                                             \n",
       "2010-01-01 00:00:00  96.0  ...  9.0  3.0  3.0  5.0  6.0  562.0  6.0  2.0   \n",
       "2010-01-01 12:00:00  96.0  ...  0.0  9.0  2.0  5.0  8.0  581.0  8.0  1.0   \n",
       "2010-01-02 00:00:00  97.0  ...  0.0  9.0  5.0  5.0  6.0  562.0  6.0  2.0   \n",
       "2010-01-02 00:00:00  96.0  ...  9.0  9.0  5.0  5.0  6.0  561.0  6.0  1.0   \n",
       "2010-01-02 12:00:00  97.0  ...  0.0  0.0  2.0  5.0  6.0  562.0  6.0  2.0   \n",
       "\n",
       "                      EVP   DW  \n",
       "datetime                        \n",
       "2010-01-01 00:00:00  20.0  0.0  \n",
       "2010-01-01 12:00:00  25.0  0.0  \n",
       "2010-01-02 00:00:00  20.0  0.0  \n",
       "2010-01-02 00:00:00  20.0  0.0  \n",
       "2010-01-02 12:00:00  20.0  0.0  \n",
       "\n",
       "[5 rows x 27 columns]"
      ]
     },
     "execution_count": 310,
     "metadata": {},
     "output_type": "execute_result"
    }
   ],
   "source": [
    "df.head()"
   ]
  },
  {
   "cell_type": "code",
   "execution_count": 311,
   "id": "08cd3fde",
   "metadata": {},
   "outputs": [
    {
     "name": "stdout",
     "output_type": "stream",
     "text": [
      "                        SLP    MSLP   DBT   WBT   DPT    RH    VP    DD  FFF  \\\n",
      "datetime                                                                       \n",
      "2010-01-01 00:00:00  1001.8  1009.1  23.6  22.8  22.4  93.0  27.1   0.0  0.0   \n",
      "2010-01-01 12:00:00  1004.1  1011.4  25.0  23.6  22.9  88.0  27.9   0.0  0.0   \n",
      "2010-01-02 00:00:00  1004.4  1011.6  30.8  27.0  25.4  73.0  32.4  99.0  4.0   \n",
      "2010-01-02 00:00:00  1003.9  1011.2  25.4  24.6  24.2  93.0  30.2   0.0  0.0   \n",
      "2010-01-02 12:00:00  1000.7  1007.8  32.0  26.4  24.0  63.0  29.8  27.0  6.0   \n",
      "...                     ...     ...   ...   ...   ...   ...   ...   ...  ...   \n",
      "2021-01-02 00:00:00  1001.8  1009.0  27.6  25.6  24.7  85.0  31.1   0.0  0.0   \n",
      "2021-01-02 12:00:00  1003.2  1010.5  25.0  24.0  23.5  92.0  29.0   0.0  0.0   \n",
      "2021-01-02 12:00:00  1001.7  1009.0  25.8  23.0  21.6  78.0  25.8   5.0  2.0   \n",
      "2021-01-03 00:00:00  1003.0  1010.3  25.0  24.2  23.8  93.0  29.5   0.0  0.0   \n",
      "2021-01-03 12:00:00  1000.9  1008.2  26.0  25.2  24.9  93.0  31.5   0.0  0.0   \n",
      "\n",
      "                       VV  ...   Dm   Dh   TC    h    c      a   Ht   RF  \\\n",
      "datetime                   ...                                             \n",
      "2010-01-01 00:00:00  96.0  ...  9.0  3.0  3.0  5.0  6.0  562.0  6.0  2.0   \n",
      "2010-01-01 12:00:00  96.0  ...  0.0  9.0  2.0  5.0  8.0  581.0  8.0  1.0   \n",
      "2010-01-02 00:00:00  97.0  ...  0.0  9.0  5.0  5.0  6.0  562.0  6.0  2.0   \n",
      "2010-01-02 00:00:00  96.0  ...  9.0  9.0  5.0  5.0  6.0  561.0  6.0  1.0   \n",
      "2010-01-02 12:00:00  97.0  ...  0.0  0.0  2.0  5.0  6.0  562.0  6.0  2.0   \n",
      "...                   ...  ...  ...  ...  ...  ...  ...    ...  ...  ...   \n",
      "2021-01-02 00:00:00  96.0  ...  9.0  0.0  5.0  4.0  6.0  463.0  6.0  3.0   \n",
      "2021-01-02 12:00:00  96.0  ...  9.0  0.0  7.0  4.0  7.0  472.0  7.0  2.0   \n",
      "2021-01-02 12:00:00  96.0  ...  9.0  9.0  6.0  4.0  6.0  463.0  6.0  3.0   \n",
      "2021-01-03 00:00:00  96.0  ...  9.0  0.0  7.0  4.0  7.0  471.0  7.0  1.0   \n",
      "2021-01-03 12:00:00  96.0  ...  9.0  0.0  5.0  4.0  6.0  463.0  6.0  3.0   \n",
      "\n",
      "                      EVP   DW  \n",
      "datetime                        \n",
      "2010-01-01 00:00:00  20.0  0.0  \n",
      "2010-01-01 12:00:00  25.0  0.0  \n",
      "2010-01-02 00:00:00  20.0  0.0  \n",
      "2010-01-02 00:00:00  20.0  0.0  \n",
      "2010-01-02 12:00:00  20.0  0.0  \n",
      "...                   ...  ...  \n",
      "2021-01-02 00:00:00  18.0  0.0  \n",
      "2021-01-02 12:00:00  15.0  0.0  \n",
      "2021-01-02 12:00:00  18.0  0.0  \n",
      "2021-01-03 00:00:00  15.0  0.0  \n",
      "2021-01-03 12:00:00  18.0  4.0  \n",
      "\n",
      "[31553 rows x 27 columns]\n"
     ]
    }
   ],
   "source": [
    "print(df)"
   ]
  },
  {
   "cell_type": "markdown",
   "id": "293e3306",
   "metadata": {},
   "source": [
    "Outlier Removal"
   ]
  },
  {
   "cell_type": "code",
   "execution_count": 312,
   "id": "3ff6049b",
   "metadata": {},
   "outputs": [],
   "source": [
    "# from scipy.stats import zscore\n",
    "# import numpy as np\n",
    "\n",
    "# # Step 1: Select numeric columns only\n",
    "# numeric_cols = df.select_dtypes(include=['float64', 'int64']).columns\n",
    "\n",
    "# # Step 2: Compute Z-scores for each numeric column\n",
    "# z_scores = np.abs(zscore(df[numeric_cols]))\n",
    "\n",
    "# # Step 3: Define a threshold and filter out outliers\n",
    "# threshold = 3\n",
    "# df = df[(z_scores < threshold)]\n"
   ]
  },
  {
   "cell_type": "code",
   "execution_count": 313,
   "id": "2e1512c1",
   "metadata": {},
   "outputs": [
    {
     "name": "stdout",
     "output_type": "stream",
     "text": [
      "                        SLP    MSLP   DBT   WBT   DPT    RH    VP    DD  FFF  \\\n",
      "datetime                                                                       \n",
      "2010-01-01 00:00:00  1001.8  1009.1  23.6  22.8  22.4  93.0  27.1   0.0  0.0   \n",
      "2010-01-01 12:00:00  1004.1  1011.4  25.0  23.6  22.9  88.0  27.9   0.0  0.0   \n",
      "2010-01-02 00:00:00  1004.4  1011.6  30.8  27.0  25.4  73.0  32.4  99.0  4.0   \n",
      "2010-01-02 00:00:00  1003.9  1011.2  25.4  24.6  24.2  93.0  30.2   0.0  0.0   \n",
      "2010-01-02 12:00:00  1000.7  1007.8  32.0  26.4  24.0  63.0  29.8  27.0  6.0   \n",
      "...                     ...     ...   ...   ...   ...   ...   ...   ...  ...   \n",
      "2021-01-02 00:00:00  1001.8  1009.0  27.6  25.6  24.7  85.0  31.1   0.0  0.0   \n",
      "2021-01-02 12:00:00  1003.2  1010.5  25.0  24.0  23.5  92.0  29.0   0.0  0.0   \n",
      "2021-01-02 12:00:00  1001.7  1009.0  25.8  23.0  21.6  78.0  25.8   5.0  2.0   \n",
      "2021-01-03 00:00:00  1003.0  1010.3  25.0  24.2  23.8  93.0  29.5   0.0  0.0   \n",
      "2021-01-03 12:00:00  1000.9  1008.2  26.0  25.2  24.9  93.0  31.5   0.0  0.0   \n",
      "\n",
      "                       VV  ...   Dm   Dh   TC    h    c      a   Ht   RF  \\\n",
      "datetime                   ...                                             \n",
      "2010-01-01 00:00:00  96.0  ...  9.0  3.0  3.0  5.0  6.0  562.0  6.0  2.0   \n",
      "2010-01-01 12:00:00  96.0  ...  0.0  9.0  2.0  5.0  8.0  581.0  8.0  1.0   \n",
      "2010-01-02 00:00:00  97.0  ...  0.0  9.0  5.0  5.0  6.0  562.0  6.0  2.0   \n",
      "2010-01-02 00:00:00  96.0  ...  9.0  9.0  5.0  5.0  6.0  561.0  6.0  1.0   \n",
      "2010-01-02 12:00:00  97.0  ...  0.0  0.0  2.0  5.0  6.0  562.0  6.0  2.0   \n",
      "...                   ...  ...  ...  ...  ...  ...  ...    ...  ...  ...   \n",
      "2021-01-02 00:00:00  96.0  ...  9.0  0.0  5.0  4.0  6.0  463.0  6.0  3.0   \n",
      "2021-01-02 12:00:00  96.0  ...  9.0  0.0  7.0  4.0  7.0  472.0  7.0  2.0   \n",
      "2021-01-02 12:00:00  96.0  ...  9.0  9.0  6.0  4.0  6.0  463.0  6.0  3.0   \n",
      "2021-01-03 00:00:00  96.0  ...  9.0  0.0  7.0  4.0  7.0  471.0  7.0  1.0   \n",
      "2021-01-03 12:00:00  96.0  ...  9.0  0.0  5.0  4.0  6.0  463.0  6.0  3.0   \n",
      "\n",
      "                      EVP   DW  \n",
      "datetime                        \n",
      "2010-01-01 00:00:00  20.0  0.0  \n",
      "2010-01-01 12:00:00  25.0  0.0  \n",
      "2010-01-02 00:00:00  20.0  0.0  \n",
      "2010-01-02 00:00:00  20.0  0.0  \n",
      "2010-01-02 12:00:00  20.0  0.0  \n",
      "...                   ...  ...  \n",
      "2021-01-02 00:00:00  18.0  0.0  \n",
      "2021-01-02 12:00:00  15.0  0.0  \n",
      "2021-01-02 12:00:00  18.0  0.0  \n",
      "2021-01-03 00:00:00  15.0  0.0  \n",
      "2021-01-03 12:00:00  18.0  4.0  \n",
      "\n",
      "[31553 rows x 27 columns]\n"
     ]
    }
   ],
   "source": [
    "print(df)"
   ]
  },
  {
   "cell_type": "code",
   "execution_count": 314,
   "id": "c853a504",
   "metadata": {},
   "outputs": [
    {
     "data": {
      "text/plain": [
       "SLP     0\n",
       "MSLP    0\n",
       "DBT     2\n",
       "WBT     3\n",
       "DPT     3\n",
       "RH      3\n",
       "VP      0\n",
       "DD      0\n",
       "FFF     0\n",
       "VV      0\n",
       "Cl      0\n",
       "A       0\n",
       "Cm      0\n",
       "A.1     0\n",
       "Ch      0\n",
       "A.2     0\n",
       "Dl      0\n",
       "Dm      0\n",
       "Dh      0\n",
       "TC      0\n",
       "h       0\n",
       "c       0\n",
       "a       0\n",
       "Ht      0\n",
       "RF      0\n",
       "EVP     0\n",
       "DW      0\n",
       "dtype: int64"
      ]
     },
     "execution_count": 314,
     "metadata": {},
     "output_type": "execute_result"
    }
   ],
   "source": [
    "df.isnull().sum()"
   ]
  },
  {
   "cell_type": "code",
   "execution_count": 315,
   "id": "3ebdc039",
   "metadata": {},
   "outputs": [
    {
     "name": "stdout",
     "output_type": "stream",
     "text": [
      "FFF     1.000000\n",
      "DD      0.507698\n",
      "DBT     0.366408\n",
      "VV      0.342605\n",
      "WBT     0.268559\n",
      "A       0.133338\n",
      "Ht      0.123453\n",
      "c       0.123453\n",
      "TC      0.093059\n",
      "VP      0.084852\n",
      "DPT     0.081317\n",
      "Ch      0.055633\n",
      "Cl      0.049618\n",
      "Dh      0.040795\n",
      "A.2     0.018685\n",
      "Dm      0.016303\n",
      "Dl     -0.011641\n",
      "A.1    -0.015149\n",
      "Cm     -0.015430\n",
      "RF     -0.020254\n",
      "DW     -0.024816\n",
      "SLP    -0.058943\n",
      "EVP    -0.059952\n",
      "MSLP   -0.061596\n",
      "a      -0.064433\n",
      "h      -0.081127\n",
      "RH     -0.306370\n",
      "Name: FFF, dtype: float64\n"
     ]
    }
   ],
   "source": [
    "correlation_with_fff = df.corr()['FFF'].sort_values(ascending=False)\n",
    "print(correlation_with_fff)"
   ]
  },
  {
   "cell_type": "code",
   "execution_count": 316,
   "id": "b130905a",
   "metadata": {},
   "outputs": [
    {
     "data": {
      "text/plain": [
       "SLP              float64\n",
       "MSLP             float64\n",
       "DBT              float64\n",
       "WBT              float64\n",
       "DPT              float64\n",
       "RH               float64\n",
       "VP               float64\n",
       "DD               float64\n",
       "FFF              float64\n",
       "VV               float64\n",
       "Cl               float64\n",
       "A                float64\n",
       "Cm               float64\n",
       "A.1              float64\n",
       "Ch               float64\n",
       "A.2              float64\n",
       "Dl               float64\n",
       "Dm               float64\n",
       "Dh               float64\n",
       "TC               float64\n",
       "h                float64\n",
       "c                float64\n",
       "a                float64\n",
       "Ht               float64\n",
       "RF               float64\n",
       "EVP              float64\n",
       "DW               float64\n",
       "VP_log           float64\n",
       "RF_sqrt          float64\n",
       "temp_diff        float64\n",
       "humid_ratio      float64\n",
       "wind_humidity    float64\n",
       "VV_squared       float64\n",
       "DPT_squared      float64\n",
       "VP_roll3         float64\n",
       "RF_lag1          float64\n",
       "RF_winz          float64\n",
       "month_sin        float64\n",
       "month_cos        float64\n",
       "season_1            bool\n",
       "season_2            bool\n",
       "season_3            bool\n",
       "season_4            bool\n",
       "dtype: object"
      ]
     },
     "execution_count": 316,
     "metadata": {},
     "output_type": "execute_result"
    }
   ],
   "source": [
    "\n",
    "import numpy as np\n",
    "df['VP_log'] = np.log1p(df['VP'])      \n",
    "df['RF_sqrt'] = np.sqrt(df['RF'])       # for skewed rainfall\n",
    "\n",
    "df['temp_diff'] = df['DBT'] - df['WBT']     # humidity proxy\n",
    "df['humid_ratio'] = df['VP'] / (df['DBT'] + 0.1)\n",
    "df['wind_humidity'] = df['RH'] * df['VV']\n",
    "\n",
    "df['VV_squared'] = df['VV'] ** 2\n",
    "df['DPT_squared'] = df['DPT'] ** 2\n",
    "\n",
    "df['VP_roll3'] = df['VP'].rolling(window=3).mean()\n",
    "df['RF_lag1'] = df['RF'].shift(1)\n",
    "\n",
    "from scipy.stats.mstats import winsorize\n",
    "df['RF_winz'] = winsorize(df['RF'], limits=[0.01, 0.01])\n",
    "\n",
    "df['month'] = df.index.month\n",
    "df['season'] = df['month'] % 12 // 3 + 1  # Season: 1=spring, ..., 4=winter\n",
    "\n",
    "# Cyclic encode ==>> As months are in a cycle 1->12->1\n",
    "df['month_sin'] = np.sin(2 * np.pi * df['month'] / 12)\n",
    "df['month_cos'] = np.cos(2 * np.pi * df['month'] / 12)\n",
    "\n",
    "# (Optional) Drop original month column\n",
    "df.drop('month', axis=1, inplace=True)\n",
    "\n",
    "# One hot encoding ==>> COnverting categorical into Binary data\n",
    "season_dummies = pd.get_dummies(df['season'], prefix='season')\n",
    "df = pd.concat([df, season_dummies], axis=1)\n",
    "df.drop('season', axis=1, inplace=True)\n",
    "\n",
    "df.dropna(axis=0,inplace=True)\n",
    "df.isnull().sum()\n",
    "df.dtypes"
   ]
  },
  {
   "cell_type": "code",
   "execution_count": 317,
   "id": "da92dde9",
   "metadata": {},
   "outputs": [
    {
     "name": "stdout",
     "output_type": "stream",
     "text": [
      "FFF              1.000000\n",
      "DD               0.507657\n",
      "DBT              0.366442\n",
      "VV_squared       0.343041\n",
      "VV               0.342602\n",
      "temp_diff        0.304841\n",
      "season_3         0.291421\n",
      "WBT              0.268512\n",
      "A                0.133255\n",
      "c                0.123420\n",
      "Ht               0.123420\n",
      "TC               0.092968\n",
      "VP               0.084774\n",
      "DPT_squared      0.084061\n",
      "VP_log           0.081410\n",
      "DPT              0.081284\n",
      "VP_roll3         0.079274\n",
      "Ch               0.055616\n",
      "Cl               0.049491\n",
      "RF_lag1          0.049292\n",
      "Dh               0.040728\n",
      "A.2              0.018662\n",
      "Dm               0.016315\n",
      "Dl              -0.011738\n",
      "season_2        -0.012584\n",
      "A.1             -0.015190\n",
      "Cm              -0.015469\n",
      "RF_sqrt         -0.016474\n",
      "RF_winz         -0.019945\n",
      "RF              -0.020361\n",
      "DW              -0.024826\n",
      "SLP             -0.058924\n",
      "EVP             -0.059821\n",
      "MSLP            -0.061576\n",
      "a               -0.064319\n",
      "season_4        -0.076477\n",
      "h               -0.081022\n",
      "month_sin       -0.142242\n",
      "season_1        -0.205359\n",
      "humid_ratio     -0.231378\n",
      "month_cos       -0.298434\n",
      "wind_humidity   -0.301216\n",
      "RH              -0.306341\n",
      "Name: FFF, dtype: float64\n"
     ]
    }
   ],
   "source": [
    "correlation_with_fff = df.corr()['FFF'].sort_values(ascending=False)\n",
    "print(correlation_with_fff)"
   ]
  },
  {
   "cell_type": "code",
   "execution_count": 318,
   "id": "ff5db82e",
   "metadata": {},
   "outputs": [
    {
     "name": "stdout",
     "output_type": "stream",
     "text": [
      "DD             0.659939\n",
      "VP_roll3       0.046683\n",
      "temp_diff      0.043295\n",
      "month_cos      0.027968\n",
      "DBT            0.027654\n",
      "TC             0.016955\n",
      "Dl             0.016065\n",
      "RF_lag1        0.014811\n",
      "Cl             0.014367\n",
      "WBT            0.014313\n",
      "A              0.013563\n",
      "month_sin      0.012303\n",
      "VP_log         0.010302\n",
      "A.1            0.009981\n",
      "VP             0.009771\n",
      "DPT_squared    0.009529\n",
      "DPT            0.009169\n",
      "Cm             0.007497\n",
      "RF             0.004665\n",
      "RF_sqrt        0.004619\n",
      "RF_winz        0.004583\n",
      "c              0.003626\n",
      "VV             0.003593\n",
      "VV_squared     0.003542\n",
      "Ht             0.003360\n",
      "season_3       0.002065\n",
      "season_2       0.002016\n",
      "Dm             0.001993\n",
      "season_4       0.001404\n",
      "season_1       0.000367\n",
      "dtype: float64\n"
     ]
    }
   ],
   "source": [
    "# Feature columns (you can fine-tune this list)\n",
    "features = [\n",
    "     'DD', 'DBT', 'WBT', 'A', 'temp_diff', 'Cl', 'TC', 'Dl', 'c', 'Ht',\n",
    "    'DPT_squared', 'VP', 'VP_roll3', 'RF_sqrt', 'VV_squared', 'VV',\n",
    "    'RF_lag1', 'DPT', 'VP_log', 'RF_winz', 'RF', 'Dm', 'Cm', 'A.1','season_1','season_2','season_3','season_4','month_sin','month_cos'\n",
    "]\n",
    "from sklearn.ensemble import RandomForestRegressor\n",
    "from sklearn.model_selection import train_test_split\n",
    "import pandas as pd\n",
    "\n",
    "# X = your features, y = your target (e.g. FFF)\n",
    "X = df[features]  # your selected columns\n",
    "Y = df['FFF']\n",
    "\n",
    "# Train-test split\n",
    "X_train, X_test, Y_train, Y_test = train_test_split(X, Y, test_size=0.2, random_state=42)\n",
    "\n",
    "# Train the model\n",
    "rf = RandomForestRegressor(n_estimators=100, random_state=42)\n",
    "rf.fit(X_train, Y_train)\n",
    "\n",
    "# Get feature importances\n",
    "importances = pd.Series(rf.feature_importances_, index=X.columns).sort_values(ascending=False)\n",
    "print(importances)"
   ]
  },
  {
   "cell_type": "code",
   "execution_count": 319,
   "id": "170b6141",
   "metadata": {},
   "outputs": [],
   "source": [
    "selected_features = [\n",
    "    # 'DD',          # High correlation & importance\n",
    "    # 'DBT',         # High correlation & importance\n",
    "    # 'temp_diff',   # High correlation & importance\n",
    "    # 'VP_roll3',    # Moderate correlation & good importance\n",
    "    # 'WBT',         # Moderate correlation & decent importance\n",
    "    # 'month_sin',   # Lower correlation but good importance\n",
    "    # 'VP_log',      # Low correlation but decent importance\n",
    "    # 'DPT_squared', # Low correlation but decent importance\n",
    "    # 'VP',          # Low correlation but still included\n",
    "    # 'DPT',         # Low correlation but included\n",
    "    # 'A'            # Slightly negative correlation, but decent importance\n",
    "    'DD', 'DBT', 'WBT', 'DPT', 'DPT_squared', 'VP_log', 'VP_roll3', 'RF_lag1',\n",
    " 'VP', 'temp_diff', 'TC', 'A', 'Cl','season_3','month_sin','month_cos'\n",
    "]\n"
   ]
  },
  {
   "cell_type": "code",
   "execution_count": 320,
   "id": "3ef764da",
   "metadata": {},
   "outputs": [
    {
     "name": "stdout",
     "output_type": "stream",
     "text": [
      "Input shape for BiLSTM: (25238, 1, 16)\n"
     ]
    }
   ],
   "source": [
    "# BiLSTM\n",
    "\n",
    "# Step 1: Reshape input for BiLSTM\n",
    "import numpy as np\n",
    "from sklearn.model_selection import train_test_split\n",
    "\n",
    "# X = your selected primary features\n",
    "# Y = target variable (FFF)\n",
    "\n",
    "X = df[selected_features].values\n",
    "Y = df['FFF'].values\n",
    "\n",
    "# Split into train and test sets\n",
    "X_train, X_test, Y_train, Y_test = train_test_split(X, Y, test_size=0.2, random_state=42)\n",
    "\n",
    "# Ensure input and output are float32\n",
    "X_train = X_train.astype('float32')\n",
    "X_test = X_test.astype('float32')\n",
    "Y_train = Y_train.astype('float32')\n",
    "Y_test = Y_test.astype('float32')\n",
    "\n",
    "\n",
    "# Reshape for LSTM: (samples, timesteps, features)\n",
    "# Here, timesteps = 1 for one-step prediction\n",
    "X_train = X_train.reshape((X_train.shape[0], 1, X_train.shape[1]))\n",
    "X_test = X_test.reshape((X_test.shape[0], 1, X_test.shape[1]))\n",
    "input_shape = (1, X_train.shape[2])\n",
    "print(\"Input shape for BiLSTM:\", X_train.shape)"
   ]
  },
  {
   "cell_type": "code",
   "execution_count": 321,
   "id": "bf7673af",
   "metadata": {},
   "outputs": [],
   "source": [
    "\n",
    "# Step 2: Define BiLSTM model architecture\n",
    "\n",
    "from tensorflow.keras.models import Sequential\n",
    "from tensorflow.keras.layers import Bidirectional, LSTM, Dense, Dropout\n",
    "from tensorflow.keras.optimizers import Adam\n",
    "\n",
    "def create_bilstm_model(input_shape, units=64, dropout_rate=0.2):\n",
    "    \"\"\"\n",
    "    Builds and returns a compiled BiLSTM model.\n",
    "    Args:\n",
    "        input_shape (tuple): Shape of input (timesteps, features)\n",
    "        units (int): Number of LSTM units\n",
    "        dropout_rate (float): Dropout rate after BiLSTM layer\n",
    "    Returns:\n",
    "        model (Sequential): Compiled Keras model\n",
    "    \"\"\"\n",
    "    model = Sequential()\n",
    "    model.add(Bidirectional(LSTM(units, return_sequences=False), input_shape=input_shape))\n",
    "    model.add(Dropout(dropout_rate))\n",
    "    model.add(Dense(1))  # Output layer for regression (wind speed)\n",
    "    model.compile(optimizer=Adam(), loss='mse', metrics=['mae'])\n",
    "    return model"
   ]
  },
  {
   "cell_type": "code",
   "execution_count": 322,
   "id": "99e93728",
   "metadata": {},
   "outputs": [
    {
     "name": "stdout",
     "output_type": "stream",
     "text": [
      "\n",
      "Iteration 1/10\n"
     ]
    },
    {
     "name": "stderr",
     "output_type": "stream",
     "text": [
      "/Library/Frameworks/Python.framework/Versions/3.12/lib/python3.12/site-packages/keras/src/layers/rnn/bidirectional.py:107: UserWarning: Do not pass an `input_shape`/`input_dim` argument to a layer. When using Sequential models, prefer using an `Input(shape)` object as the first layer in the model instead.\n",
      "  super().__init__(**kwargs)\n"
     ]
    },
    {
     "name": "stdout",
     "output_type": "stream",
     "text": [
      "\u001b[1m198/198\u001b[0m \u001b[32m━━━━━━━━━━━━━━━━━━━━\u001b[0m\u001b[37m\u001b[0m \u001b[1m0s\u001b[0m 1ms/step\n"
     ]
    },
    {
     "name": "stderr",
     "output_type": "stream",
     "text": [
      "/Library/Frameworks/Python.framework/Versions/3.12/lib/python3.12/site-packages/keras/src/layers/rnn/bidirectional.py:107: UserWarning: Do not pass an `input_shape`/`input_dim` argument to a layer. When using Sequential models, prefer using an `Input(shape)` object as the first layer in the model instead.\n",
      "  super().__init__(**kwargs)\n"
     ]
    },
    {
     "name": "stdout",
     "output_type": "stream",
     "text": [
      "\u001b[1m198/198\u001b[0m \u001b[32m━━━━━━━━━━━━━━━━━━━━\u001b[0m\u001b[37m\u001b[0m \u001b[1m0s\u001b[0m 1ms/step  \n"
     ]
    },
    {
     "name": "stderr",
     "output_type": "stream",
     "text": [
      "/Library/Frameworks/Python.framework/Versions/3.12/lib/python3.12/site-packages/keras/src/layers/rnn/bidirectional.py:107: UserWarning: Do not pass an `input_shape`/`input_dim` argument to a layer. When using Sequential models, prefer using an `Input(shape)` object as the first layer in the model instead.\n",
      "  super().__init__(**kwargs)\n"
     ]
    },
    {
     "name": "stdout",
     "output_type": "stream",
     "text": [
      "\u001b[1m198/198\u001b[0m \u001b[32m━━━━━━━━━━━━━━━━━━━━\u001b[0m\u001b[37m\u001b[0m \u001b[1m0s\u001b[0m 2ms/step\n"
     ]
    },
    {
     "name": "stderr",
     "output_type": "stream",
     "text": [
      "/Library/Frameworks/Python.framework/Versions/3.12/lib/python3.12/site-packages/keras/src/layers/rnn/bidirectional.py:107: UserWarning: Do not pass an `input_shape`/`input_dim` argument to a layer. When using Sequential models, prefer using an `Input(shape)` object as the first layer in the model instead.\n",
      "  super().__init__(**kwargs)\n"
     ]
    },
    {
     "name": "stdout",
     "output_type": "stream",
     "text": [
      "\u001b[1m198/198\u001b[0m \u001b[32m━━━━━━━━━━━━━━━━━━━━\u001b[0m\u001b[37m\u001b[0m \u001b[1m0s\u001b[0m 2ms/step\n"
     ]
    },
    {
     "name": "stderr",
     "output_type": "stream",
     "text": [
      "/Library/Frameworks/Python.framework/Versions/3.12/lib/python3.12/site-packages/keras/src/layers/rnn/bidirectional.py:107: UserWarning: Do not pass an `input_shape`/`input_dim` argument to a layer. When using Sequential models, prefer using an `Input(shape)` object as the first layer in the model instead.\n",
      "  super().__init__(**kwargs)\n"
     ]
    },
    {
     "name": "stdout",
     "output_type": "stream",
     "text": [
      "\u001b[1m198/198\u001b[0m \u001b[32m━━━━━━━━━━━━━━━━━━━━\u001b[0m\u001b[37m\u001b[0m \u001b[1m1s\u001b[0m 2ms/step\n",
      "\n",
      "Iteration 2/10\n"
     ]
    },
    {
     "name": "stderr",
     "output_type": "stream",
     "text": [
      "/Library/Frameworks/Python.framework/Versions/3.12/lib/python3.12/site-packages/keras/src/layers/rnn/bidirectional.py:107: UserWarning: Do not pass an `input_shape`/`input_dim` argument to a layer. When using Sequential models, prefer using an `Input(shape)` object as the first layer in the model instead.\n",
      "  super().__init__(**kwargs)\n"
     ]
    },
    {
     "name": "stdout",
     "output_type": "stream",
     "text": [
      "\u001b[1m198/198\u001b[0m \u001b[32m━━━━━━━━━━━━━━━━━━━━\u001b[0m\u001b[37m\u001b[0m \u001b[1m1s\u001b[0m 2ms/step\n"
     ]
    },
    {
     "name": "stderr",
     "output_type": "stream",
     "text": [
      "/Library/Frameworks/Python.framework/Versions/3.12/lib/python3.12/site-packages/keras/src/layers/rnn/bidirectional.py:107: UserWarning: Do not pass an `input_shape`/`input_dim` argument to a layer. When using Sequential models, prefer using an `Input(shape)` object as the first layer in the model instead.\n",
      "  super().__init__(**kwargs)\n"
     ]
    },
    {
     "name": "stdout",
     "output_type": "stream",
     "text": [
      "\u001b[1m198/198\u001b[0m \u001b[32m━━━━━━━━━━━━━━━━━━━━\u001b[0m\u001b[37m\u001b[0m \u001b[1m1s\u001b[0m 2ms/step\n"
     ]
    },
    {
     "name": "stderr",
     "output_type": "stream",
     "text": [
      "/Library/Frameworks/Python.framework/Versions/3.12/lib/python3.12/site-packages/keras/src/layers/rnn/bidirectional.py:107: UserWarning: Do not pass an `input_shape`/`input_dim` argument to a layer. When using Sequential models, prefer using an `Input(shape)` object as the first layer in the model instead.\n",
      "  super().__init__(**kwargs)\n"
     ]
    },
    {
     "name": "stdout",
     "output_type": "stream",
     "text": [
      "\u001b[1m198/198\u001b[0m \u001b[32m━━━━━━━━━━━━━━━━━━━━\u001b[0m\u001b[37m\u001b[0m \u001b[1m0s\u001b[0m 2ms/step\n"
     ]
    },
    {
     "name": "stderr",
     "output_type": "stream",
     "text": [
      "/Library/Frameworks/Python.framework/Versions/3.12/lib/python3.12/site-packages/keras/src/layers/rnn/bidirectional.py:107: UserWarning: Do not pass an `input_shape`/`input_dim` argument to a layer. When using Sequential models, prefer using an `Input(shape)` object as the first layer in the model instead.\n",
      "  super().__init__(**kwargs)\n"
     ]
    },
    {
     "name": "stdout",
     "output_type": "stream",
     "text": [
      "\u001b[1m198/198\u001b[0m \u001b[32m━━━━━━━━━━━━━━━━━━━━\u001b[0m\u001b[37m\u001b[0m \u001b[1m1s\u001b[0m 2ms/step\n"
     ]
    },
    {
     "name": "stderr",
     "output_type": "stream",
     "text": [
      "/Library/Frameworks/Python.framework/Versions/3.12/lib/python3.12/site-packages/keras/src/layers/rnn/bidirectional.py:107: UserWarning: Do not pass an `input_shape`/`input_dim` argument to a layer. When using Sequential models, prefer using an `Input(shape)` object as the first layer in the model instead.\n",
      "  super().__init__(**kwargs)\n"
     ]
    },
    {
     "name": "stdout",
     "output_type": "stream",
     "text": [
      "\u001b[1m198/198\u001b[0m \u001b[32m━━━━━━━━━━━━━━━━━━━━\u001b[0m\u001b[37m\u001b[0m \u001b[1m1s\u001b[0m 2ms/step\n",
      "\n",
      "Iteration 3/10\n"
     ]
    },
    {
     "name": "stderr",
     "output_type": "stream",
     "text": [
      "/Library/Frameworks/Python.framework/Versions/3.12/lib/python3.12/site-packages/keras/src/layers/rnn/bidirectional.py:107: UserWarning: Do not pass an `input_shape`/`input_dim` argument to a layer. When using Sequential models, prefer using an `Input(shape)` object as the first layer in the model instead.\n",
      "  super().__init__(**kwargs)\n"
     ]
    },
    {
     "name": "stdout",
     "output_type": "stream",
     "text": [
      "\u001b[1m198/198\u001b[0m \u001b[32m━━━━━━━━━━━━━━━━━━━━\u001b[0m\u001b[37m\u001b[0m \u001b[1m1s\u001b[0m 2ms/step\n"
     ]
    },
    {
     "name": "stderr",
     "output_type": "stream",
     "text": [
      "/Library/Frameworks/Python.framework/Versions/3.12/lib/python3.12/site-packages/keras/src/layers/rnn/bidirectional.py:107: UserWarning: Do not pass an `input_shape`/`input_dim` argument to a layer. When using Sequential models, prefer using an `Input(shape)` object as the first layer in the model instead.\n",
      "  super().__init__(**kwargs)\n"
     ]
    },
    {
     "name": "stdout",
     "output_type": "stream",
     "text": [
      "\u001b[1m198/198\u001b[0m \u001b[32m━━━━━━━━━━━━━━━━━━━━\u001b[0m\u001b[37m\u001b[0m \u001b[1m0s\u001b[0m 1ms/step\n"
     ]
    },
    {
     "name": "stderr",
     "output_type": "stream",
     "text": [
      "/Library/Frameworks/Python.framework/Versions/3.12/lib/python3.12/site-packages/keras/src/layers/rnn/bidirectional.py:107: UserWarning: Do not pass an `input_shape`/`input_dim` argument to a layer. When using Sequential models, prefer using an `Input(shape)` object as the first layer in the model instead.\n",
      "  super().__init__(**kwargs)\n"
     ]
    },
    {
     "name": "stdout",
     "output_type": "stream",
     "text": [
      "\u001b[1m198/198\u001b[0m \u001b[32m━━━━━━━━━━━━━━━━━━━━\u001b[0m\u001b[37m\u001b[0m \u001b[1m1s\u001b[0m 3ms/step\n"
     ]
    },
    {
     "name": "stderr",
     "output_type": "stream",
     "text": [
      "/Library/Frameworks/Python.framework/Versions/3.12/lib/python3.12/site-packages/keras/src/layers/rnn/bidirectional.py:107: UserWarning: Do not pass an `input_shape`/`input_dim` argument to a layer. When using Sequential models, prefer using an `Input(shape)` object as the first layer in the model instead.\n",
      "  super().__init__(**kwargs)\n"
     ]
    },
    {
     "name": "stdout",
     "output_type": "stream",
     "text": [
      "\u001b[1m198/198\u001b[0m \u001b[32m━━━━━━━━━━━━━━━━━━━━\u001b[0m\u001b[37m\u001b[0m \u001b[1m1s\u001b[0m 2ms/step\n"
     ]
    },
    {
     "name": "stderr",
     "output_type": "stream",
     "text": [
      "/Library/Frameworks/Python.framework/Versions/3.12/lib/python3.12/site-packages/keras/src/layers/rnn/bidirectional.py:107: UserWarning: Do not pass an `input_shape`/`input_dim` argument to a layer. When using Sequential models, prefer using an `Input(shape)` object as the first layer in the model instead.\n",
      "  super().__init__(**kwargs)\n"
     ]
    },
    {
     "name": "stdout",
     "output_type": "stream",
     "text": [
      "\u001b[1m198/198\u001b[0m \u001b[32m━━━━━━━━━━━━━━━━━━━━\u001b[0m\u001b[37m\u001b[0m \u001b[1m1s\u001b[0m 2ms/step\n",
      "\n",
      "Iteration 4/10\n"
     ]
    },
    {
     "name": "stderr",
     "output_type": "stream",
     "text": [
      "/Library/Frameworks/Python.framework/Versions/3.12/lib/python3.12/site-packages/keras/src/layers/rnn/bidirectional.py:107: UserWarning: Do not pass an `input_shape`/`input_dim` argument to a layer. When using Sequential models, prefer using an `Input(shape)` object as the first layer in the model instead.\n",
      "  super().__init__(**kwargs)\n"
     ]
    },
    {
     "name": "stdout",
     "output_type": "stream",
     "text": [
      "\u001b[1m198/198\u001b[0m \u001b[32m━━━━━━━━━━━━━━━━━━━━\u001b[0m\u001b[37m\u001b[0m \u001b[1m1s\u001b[0m 2ms/step\n"
     ]
    },
    {
     "name": "stderr",
     "output_type": "stream",
     "text": [
      "/Library/Frameworks/Python.framework/Versions/3.12/lib/python3.12/site-packages/keras/src/layers/rnn/bidirectional.py:107: UserWarning: Do not pass an `input_shape`/`input_dim` argument to a layer. When using Sequential models, prefer using an `Input(shape)` object as the first layer in the model instead.\n",
      "  super().__init__(**kwargs)\n"
     ]
    },
    {
     "name": "stdout",
     "output_type": "stream",
     "text": [
      "\u001b[1m198/198\u001b[0m \u001b[32m━━━━━━━━━━━━━━━━━━━━\u001b[0m\u001b[37m\u001b[0m \u001b[1m1s\u001b[0m 2ms/step\n"
     ]
    },
    {
     "name": "stderr",
     "output_type": "stream",
     "text": [
      "/Library/Frameworks/Python.framework/Versions/3.12/lib/python3.12/site-packages/keras/src/layers/rnn/bidirectional.py:107: UserWarning: Do not pass an `input_shape`/`input_dim` argument to a layer. When using Sequential models, prefer using an `Input(shape)` object as the first layer in the model instead.\n",
      "  super().__init__(**kwargs)\n"
     ]
    },
    {
     "name": "stdout",
     "output_type": "stream",
     "text": [
      "\u001b[1m198/198\u001b[0m \u001b[32m━━━━━━━━━━━━━━━━━━━━\u001b[0m\u001b[37m\u001b[0m \u001b[1m1s\u001b[0m 2ms/step\n"
     ]
    },
    {
     "name": "stderr",
     "output_type": "stream",
     "text": [
      "/Library/Frameworks/Python.framework/Versions/3.12/lib/python3.12/site-packages/keras/src/layers/rnn/bidirectional.py:107: UserWarning: Do not pass an `input_shape`/`input_dim` argument to a layer. When using Sequential models, prefer using an `Input(shape)` object as the first layer in the model instead.\n",
      "  super().__init__(**kwargs)\n"
     ]
    },
    {
     "name": "stdout",
     "output_type": "stream",
     "text": [
      "\u001b[1m198/198\u001b[0m \u001b[32m━━━━━━━━━━━━━━━━━━━━\u001b[0m\u001b[37m\u001b[0m \u001b[1m1s\u001b[0m 3ms/step\n"
     ]
    },
    {
     "name": "stderr",
     "output_type": "stream",
     "text": [
      "/Library/Frameworks/Python.framework/Versions/3.12/lib/python3.12/site-packages/keras/src/layers/rnn/bidirectional.py:107: UserWarning: Do not pass an `input_shape`/`input_dim` argument to a layer. When using Sequential models, prefer using an `Input(shape)` object as the first layer in the model instead.\n",
      "  super().__init__(**kwargs)\n"
     ]
    },
    {
     "name": "stdout",
     "output_type": "stream",
     "text": [
      "\u001b[1m198/198\u001b[0m \u001b[32m━━━━━━━━━━━━━━━━━━━━\u001b[0m\u001b[37m\u001b[0m \u001b[1m1s\u001b[0m 2ms/step\n",
      "\n",
      "Iteration 5/10\n"
     ]
    },
    {
     "name": "stderr",
     "output_type": "stream",
     "text": [
      "/Library/Frameworks/Python.framework/Versions/3.12/lib/python3.12/site-packages/keras/src/layers/rnn/bidirectional.py:107: UserWarning: Do not pass an `input_shape`/`input_dim` argument to a layer. When using Sequential models, prefer using an `Input(shape)` object as the first layer in the model instead.\n",
      "  super().__init__(**kwargs)\n"
     ]
    },
    {
     "name": "stdout",
     "output_type": "stream",
     "text": [
      "\u001b[1m198/198\u001b[0m \u001b[32m━━━━━━━━━━━━━━━━━━━━\u001b[0m\u001b[37m\u001b[0m \u001b[1m1s\u001b[0m 2ms/step\n"
     ]
    },
    {
     "name": "stderr",
     "output_type": "stream",
     "text": [
      "/Library/Frameworks/Python.framework/Versions/3.12/lib/python3.12/site-packages/keras/src/layers/rnn/bidirectional.py:107: UserWarning: Do not pass an `input_shape`/`input_dim` argument to a layer. When using Sequential models, prefer using an `Input(shape)` object as the first layer in the model instead.\n",
      "  super().__init__(**kwargs)\n"
     ]
    },
    {
     "name": "stdout",
     "output_type": "stream",
     "text": [
      "\u001b[1m198/198\u001b[0m \u001b[32m━━━━━━━━━━━━━━━━━━━━\u001b[0m\u001b[37m\u001b[0m \u001b[1m0s\u001b[0m 2ms/step\n"
     ]
    },
    {
     "name": "stderr",
     "output_type": "stream",
     "text": [
      "/Library/Frameworks/Python.framework/Versions/3.12/lib/python3.12/site-packages/keras/src/layers/rnn/bidirectional.py:107: UserWarning: Do not pass an `input_shape`/`input_dim` argument to a layer. When using Sequential models, prefer using an `Input(shape)` object as the first layer in the model instead.\n",
      "  super().__init__(**kwargs)\n"
     ]
    },
    {
     "name": "stdout",
     "output_type": "stream",
     "text": [
      "\u001b[1m198/198\u001b[0m \u001b[32m━━━━━━━━━━━━━━━━━━━━\u001b[0m\u001b[37m\u001b[0m \u001b[1m0s\u001b[0m 1ms/step\n"
     ]
    },
    {
     "name": "stderr",
     "output_type": "stream",
     "text": [
      "/Library/Frameworks/Python.framework/Versions/3.12/lib/python3.12/site-packages/keras/src/layers/rnn/bidirectional.py:107: UserWarning: Do not pass an `input_shape`/`input_dim` argument to a layer. When using Sequential models, prefer using an `Input(shape)` object as the first layer in the model instead.\n",
      "  super().__init__(**kwargs)\n"
     ]
    },
    {
     "name": "stdout",
     "output_type": "stream",
     "text": [
      "\u001b[1m198/198\u001b[0m \u001b[32m━━━━━━━━━━━━━━━━━━━━\u001b[0m\u001b[37m\u001b[0m \u001b[1m1s\u001b[0m 2ms/step\n"
     ]
    },
    {
     "name": "stderr",
     "output_type": "stream",
     "text": [
      "/Library/Frameworks/Python.framework/Versions/3.12/lib/python3.12/site-packages/keras/src/layers/rnn/bidirectional.py:107: UserWarning: Do not pass an `input_shape`/`input_dim` argument to a layer. When using Sequential models, prefer using an `Input(shape)` object as the first layer in the model instead.\n",
      "  super().__init__(**kwargs)\n"
     ]
    },
    {
     "name": "stdout",
     "output_type": "stream",
     "text": [
      "\u001b[1m198/198\u001b[0m \u001b[32m━━━━━━━━━━━━━━━━━━━━\u001b[0m\u001b[37m\u001b[0m \u001b[1m0s\u001b[0m 2ms/step\n",
      "\n",
      "Iteration 6/10\n"
     ]
    },
    {
     "name": "stderr",
     "output_type": "stream",
     "text": [
      "/Library/Frameworks/Python.framework/Versions/3.12/lib/python3.12/site-packages/keras/src/layers/rnn/bidirectional.py:107: UserWarning: Do not pass an `input_shape`/`input_dim` argument to a layer. When using Sequential models, prefer using an `Input(shape)` object as the first layer in the model instead.\n",
      "  super().__init__(**kwargs)\n"
     ]
    },
    {
     "name": "stdout",
     "output_type": "stream",
     "text": [
      "\u001b[1m198/198\u001b[0m \u001b[32m━━━━━━━━━━━━━━━━━━━━\u001b[0m\u001b[37m\u001b[0m \u001b[1m0s\u001b[0m 1ms/step\n"
     ]
    },
    {
     "name": "stderr",
     "output_type": "stream",
     "text": [
      "/Library/Frameworks/Python.framework/Versions/3.12/lib/python3.12/site-packages/keras/src/layers/rnn/bidirectional.py:107: UserWarning: Do not pass an `input_shape`/`input_dim` argument to a layer. When using Sequential models, prefer using an `Input(shape)` object as the first layer in the model instead.\n",
      "  super().__init__(**kwargs)\n"
     ]
    },
    {
     "name": "stdout",
     "output_type": "stream",
     "text": [
      "\u001b[1m198/198\u001b[0m \u001b[32m━━━━━━━━━━━━━━━━━━━━\u001b[0m\u001b[37m\u001b[0m \u001b[1m0s\u001b[0m 1ms/step\n"
     ]
    },
    {
     "name": "stderr",
     "output_type": "stream",
     "text": [
      "/Library/Frameworks/Python.framework/Versions/3.12/lib/python3.12/site-packages/keras/src/layers/rnn/bidirectional.py:107: UserWarning: Do not pass an `input_shape`/`input_dim` argument to a layer. When using Sequential models, prefer using an `Input(shape)` object as the first layer in the model instead.\n",
      "  super().__init__(**kwargs)\n"
     ]
    },
    {
     "name": "stdout",
     "output_type": "stream",
     "text": [
      "\u001b[1m198/198\u001b[0m \u001b[32m━━━━━━━━━━━━━━━━━━━━\u001b[0m\u001b[37m\u001b[0m \u001b[1m0s\u001b[0m 1ms/step\n"
     ]
    },
    {
     "name": "stderr",
     "output_type": "stream",
     "text": [
      "/Library/Frameworks/Python.framework/Versions/3.12/lib/python3.12/site-packages/keras/src/layers/rnn/bidirectional.py:107: UserWarning: Do not pass an `input_shape`/`input_dim` argument to a layer. When using Sequential models, prefer using an `Input(shape)` object as the first layer in the model instead.\n",
      "  super().__init__(**kwargs)\n"
     ]
    },
    {
     "name": "stdout",
     "output_type": "stream",
     "text": [
      "\u001b[1m198/198\u001b[0m \u001b[32m━━━━━━━━━━━━━━━━━━━━\u001b[0m\u001b[37m\u001b[0m \u001b[1m0s\u001b[0m 1ms/step\n"
     ]
    },
    {
     "name": "stderr",
     "output_type": "stream",
     "text": [
      "/Library/Frameworks/Python.framework/Versions/3.12/lib/python3.12/site-packages/keras/src/layers/rnn/bidirectional.py:107: UserWarning: Do not pass an `input_shape`/`input_dim` argument to a layer. When using Sequential models, prefer using an `Input(shape)` object as the first layer in the model instead.\n",
      "  super().__init__(**kwargs)\n"
     ]
    },
    {
     "name": "stdout",
     "output_type": "stream",
     "text": [
      "\u001b[1m198/198\u001b[0m \u001b[32m━━━━━━━━━━━━━━━━━━━━\u001b[0m\u001b[37m\u001b[0m \u001b[1m0s\u001b[0m 1ms/step\n",
      "\n",
      "Iteration 7/10\n"
     ]
    },
    {
     "name": "stderr",
     "output_type": "stream",
     "text": [
      "/Library/Frameworks/Python.framework/Versions/3.12/lib/python3.12/site-packages/keras/src/layers/rnn/bidirectional.py:107: UserWarning: Do not pass an `input_shape`/`input_dim` argument to a layer. When using Sequential models, prefer using an `Input(shape)` object as the first layer in the model instead.\n",
      "  super().__init__(**kwargs)\n"
     ]
    },
    {
     "name": "stdout",
     "output_type": "stream",
     "text": [
      "\u001b[1m198/198\u001b[0m \u001b[32m━━━━━━━━━━━━━━━━━━━━\u001b[0m\u001b[37m\u001b[0m \u001b[1m0s\u001b[0m 1ms/step\n"
     ]
    },
    {
     "name": "stderr",
     "output_type": "stream",
     "text": [
      "/Library/Frameworks/Python.framework/Versions/3.12/lib/python3.12/site-packages/keras/src/layers/rnn/bidirectional.py:107: UserWarning: Do not pass an `input_shape`/`input_dim` argument to a layer. When using Sequential models, prefer using an `Input(shape)` object as the first layer in the model instead.\n",
      "  super().__init__(**kwargs)\n"
     ]
    },
    {
     "name": "stdout",
     "output_type": "stream",
     "text": [
      "\u001b[1m198/198\u001b[0m \u001b[32m━━━━━━━━━━━━━━━━━━━━\u001b[0m\u001b[37m\u001b[0m \u001b[1m0s\u001b[0m 1ms/step  \n"
     ]
    },
    {
     "name": "stderr",
     "output_type": "stream",
     "text": [
      "/Library/Frameworks/Python.framework/Versions/3.12/lib/python3.12/site-packages/keras/src/layers/rnn/bidirectional.py:107: UserWarning: Do not pass an `input_shape`/`input_dim` argument to a layer. When using Sequential models, prefer using an `Input(shape)` object as the first layer in the model instead.\n",
      "  super().__init__(**kwargs)\n"
     ]
    },
    {
     "name": "stdout",
     "output_type": "stream",
     "text": [
      "\u001b[1m198/198\u001b[0m \u001b[32m━━━━━━━━━━━━━━━━━━━━\u001b[0m\u001b[37m\u001b[0m \u001b[1m0s\u001b[0m 1ms/step\n"
     ]
    },
    {
     "name": "stderr",
     "output_type": "stream",
     "text": [
      "/Library/Frameworks/Python.framework/Versions/3.12/lib/python3.12/site-packages/keras/src/layers/rnn/bidirectional.py:107: UserWarning: Do not pass an `input_shape`/`input_dim` argument to a layer. When using Sequential models, prefer using an `Input(shape)` object as the first layer in the model instead.\n",
      "  super().__init__(**kwargs)\n"
     ]
    },
    {
     "name": "stdout",
     "output_type": "stream",
     "text": [
      "\u001b[1m198/198\u001b[0m \u001b[32m━━━━━━━━━━━━━━━━━━━━\u001b[0m\u001b[37m\u001b[0m \u001b[1m0s\u001b[0m 1ms/step\n"
     ]
    },
    {
     "name": "stderr",
     "output_type": "stream",
     "text": [
      "/Library/Frameworks/Python.framework/Versions/3.12/lib/python3.12/site-packages/keras/src/layers/rnn/bidirectional.py:107: UserWarning: Do not pass an `input_shape`/`input_dim` argument to a layer. When using Sequential models, prefer using an `Input(shape)` object as the first layer in the model instead.\n",
      "  super().__init__(**kwargs)\n"
     ]
    },
    {
     "name": "stdout",
     "output_type": "stream",
     "text": [
      "\u001b[1m198/198\u001b[0m \u001b[32m━━━━━━━━━━━━━━━━━━━━\u001b[0m\u001b[37m\u001b[0m \u001b[1m0s\u001b[0m 1ms/step\n",
      "\n",
      "Iteration 8/10\n"
     ]
    },
    {
     "name": "stderr",
     "output_type": "stream",
     "text": [
      "/Library/Frameworks/Python.framework/Versions/3.12/lib/python3.12/site-packages/keras/src/layers/rnn/bidirectional.py:107: UserWarning: Do not pass an `input_shape`/`input_dim` argument to a layer. When using Sequential models, prefer using an `Input(shape)` object as the first layer in the model instead.\n",
      "  super().__init__(**kwargs)\n"
     ]
    },
    {
     "name": "stdout",
     "output_type": "stream",
     "text": [
      "\u001b[1m198/198\u001b[0m \u001b[32m━━━━━━━━━━━━━━━━━━━━\u001b[0m\u001b[37m\u001b[0m \u001b[1m0s\u001b[0m 1ms/step\n"
     ]
    },
    {
     "name": "stderr",
     "output_type": "stream",
     "text": [
      "/Library/Frameworks/Python.framework/Versions/3.12/lib/python3.12/site-packages/keras/src/layers/rnn/bidirectional.py:107: UserWarning: Do not pass an `input_shape`/`input_dim` argument to a layer. When using Sequential models, prefer using an `Input(shape)` object as the first layer in the model instead.\n",
      "  super().__init__(**kwargs)\n"
     ]
    },
    {
     "name": "stdout",
     "output_type": "stream",
     "text": [
      "\u001b[1m198/198\u001b[0m \u001b[32m━━━━━━━━━━━━━━━━━━━━\u001b[0m\u001b[37m\u001b[0m \u001b[1m0s\u001b[0m 1ms/step\n"
     ]
    },
    {
     "name": "stderr",
     "output_type": "stream",
     "text": [
      "/Library/Frameworks/Python.framework/Versions/3.12/lib/python3.12/site-packages/keras/src/layers/rnn/bidirectional.py:107: UserWarning: Do not pass an `input_shape`/`input_dim` argument to a layer. When using Sequential models, prefer using an `Input(shape)` object as the first layer in the model instead.\n",
      "  super().__init__(**kwargs)\n"
     ]
    },
    {
     "name": "stdout",
     "output_type": "stream",
     "text": [
      "\u001b[1m198/198\u001b[0m \u001b[32m━━━━━━━━━━━━━━━━━━━━\u001b[0m\u001b[37m\u001b[0m \u001b[1m0s\u001b[0m 953us/step\n"
     ]
    },
    {
     "name": "stderr",
     "output_type": "stream",
     "text": [
      "/Library/Frameworks/Python.framework/Versions/3.12/lib/python3.12/site-packages/keras/src/layers/rnn/bidirectional.py:107: UserWarning: Do not pass an `input_shape`/`input_dim` argument to a layer. When using Sequential models, prefer using an `Input(shape)` object as the first layer in the model instead.\n",
      "  super().__init__(**kwargs)\n"
     ]
    },
    {
     "name": "stdout",
     "output_type": "stream",
     "text": [
      "\u001b[1m198/198\u001b[0m \u001b[32m━━━━━━━━━━━━━━━━━━━━\u001b[0m\u001b[37m\u001b[0m \u001b[1m0s\u001b[0m 1ms/step  \n"
     ]
    },
    {
     "name": "stderr",
     "output_type": "stream",
     "text": [
      "/Library/Frameworks/Python.framework/Versions/3.12/lib/python3.12/site-packages/keras/src/layers/rnn/bidirectional.py:107: UserWarning: Do not pass an `input_shape`/`input_dim` argument to a layer. When using Sequential models, prefer using an `Input(shape)` object as the first layer in the model instead.\n",
      "  super().__init__(**kwargs)\n"
     ]
    },
    {
     "name": "stdout",
     "output_type": "stream",
     "text": [
      "\u001b[1m198/198\u001b[0m \u001b[32m━━━━━━━━━━━━━━━━━━━━\u001b[0m\u001b[37m\u001b[0m \u001b[1m0s\u001b[0m 1ms/step  \n",
      "\n",
      "Iteration 9/10\n"
     ]
    },
    {
     "name": "stderr",
     "output_type": "stream",
     "text": [
      "/Library/Frameworks/Python.framework/Versions/3.12/lib/python3.12/site-packages/keras/src/layers/rnn/bidirectional.py:107: UserWarning: Do not pass an `input_shape`/`input_dim` argument to a layer. When using Sequential models, prefer using an `Input(shape)` object as the first layer in the model instead.\n",
      "  super().__init__(**kwargs)\n"
     ]
    },
    {
     "name": "stdout",
     "output_type": "stream",
     "text": [
      "\u001b[1m198/198\u001b[0m \u001b[32m━━━━━━━━━━━━━━━━━━━━\u001b[0m\u001b[37m\u001b[0m \u001b[1m0s\u001b[0m 1ms/step  \n"
     ]
    },
    {
     "name": "stderr",
     "output_type": "stream",
     "text": [
      "/Library/Frameworks/Python.framework/Versions/3.12/lib/python3.12/site-packages/keras/src/layers/rnn/bidirectional.py:107: UserWarning: Do not pass an `input_shape`/`input_dim` argument to a layer. When using Sequential models, prefer using an `Input(shape)` object as the first layer in the model instead.\n",
      "  super().__init__(**kwargs)\n"
     ]
    },
    {
     "name": "stdout",
     "output_type": "stream",
     "text": [
      "\u001b[1m198/198\u001b[0m \u001b[32m━━━━━━━━━━━━━━━━━━━━\u001b[0m\u001b[37m\u001b[0m \u001b[1m0s\u001b[0m 1ms/step  \n"
     ]
    },
    {
     "name": "stderr",
     "output_type": "stream",
     "text": [
      "/Library/Frameworks/Python.framework/Versions/3.12/lib/python3.12/site-packages/keras/src/layers/rnn/bidirectional.py:107: UserWarning: Do not pass an `input_shape`/`input_dim` argument to a layer. When using Sequential models, prefer using an `Input(shape)` object as the first layer in the model instead.\n",
      "  super().__init__(**kwargs)\n"
     ]
    },
    {
     "name": "stdout",
     "output_type": "stream",
     "text": [
      "\u001b[1m198/198\u001b[0m \u001b[32m━━━━━━━━━━━━━━━━━━━━\u001b[0m\u001b[37m\u001b[0m \u001b[1m0s\u001b[0m 1ms/step  \n"
     ]
    },
    {
     "name": "stderr",
     "output_type": "stream",
     "text": [
      "/Library/Frameworks/Python.framework/Versions/3.12/lib/python3.12/site-packages/keras/src/layers/rnn/bidirectional.py:107: UserWarning: Do not pass an `input_shape`/`input_dim` argument to a layer. When using Sequential models, prefer using an `Input(shape)` object as the first layer in the model instead.\n",
      "  super().__init__(**kwargs)\n"
     ]
    },
    {
     "name": "stdout",
     "output_type": "stream",
     "text": [
      "\u001b[1m198/198\u001b[0m \u001b[32m━━━━━━━━━━━━━━━━━━━━\u001b[0m\u001b[37m\u001b[0m \u001b[1m0s\u001b[0m 1ms/step\n"
     ]
    },
    {
     "name": "stderr",
     "output_type": "stream",
     "text": [
      "/Library/Frameworks/Python.framework/Versions/3.12/lib/python3.12/site-packages/keras/src/layers/rnn/bidirectional.py:107: UserWarning: Do not pass an `input_shape`/`input_dim` argument to a layer. When using Sequential models, prefer using an `Input(shape)` object as the first layer in the model instead.\n",
      "  super().__init__(**kwargs)\n"
     ]
    },
    {
     "name": "stdout",
     "output_type": "stream",
     "text": [
      "\u001b[1m198/198\u001b[0m \u001b[32m━━━━━━━━━━━━━━━━━━━━\u001b[0m\u001b[37m\u001b[0m \u001b[1m0s\u001b[0m 998us/step\n",
      "\n",
      "Iteration 10/10\n"
     ]
    },
    {
     "name": "stderr",
     "output_type": "stream",
     "text": [
      "/Library/Frameworks/Python.framework/Versions/3.12/lib/python3.12/site-packages/keras/src/layers/rnn/bidirectional.py:107: UserWarning: Do not pass an `input_shape`/`input_dim` argument to a layer. When using Sequential models, prefer using an `Input(shape)` object as the first layer in the model instead.\n",
      "  super().__init__(**kwargs)\n"
     ]
    },
    {
     "name": "stdout",
     "output_type": "stream",
     "text": [
      "\u001b[1m198/198\u001b[0m \u001b[32m━━━━━━━━━━━━━━━━━━━━\u001b[0m\u001b[37m\u001b[0m \u001b[1m0s\u001b[0m 1ms/step  \n"
     ]
    },
    {
     "name": "stderr",
     "output_type": "stream",
     "text": [
      "/Library/Frameworks/Python.framework/Versions/3.12/lib/python3.12/site-packages/keras/src/layers/rnn/bidirectional.py:107: UserWarning: Do not pass an `input_shape`/`input_dim` argument to a layer. When using Sequential models, prefer using an `Input(shape)` object as the first layer in the model instead.\n",
      "  super().__init__(**kwargs)\n"
     ]
    },
    {
     "name": "stdout",
     "output_type": "stream",
     "text": [
      "\u001b[1m198/198\u001b[0m \u001b[32m━━━━━━━━━━━━━━━━━━━━\u001b[0m\u001b[37m\u001b[0m \u001b[1m0s\u001b[0m 1ms/step  \n"
     ]
    },
    {
     "name": "stderr",
     "output_type": "stream",
     "text": [
      "/Library/Frameworks/Python.framework/Versions/3.12/lib/python3.12/site-packages/keras/src/layers/rnn/bidirectional.py:107: UserWarning: Do not pass an `input_shape`/`input_dim` argument to a layer. When using Sequential models, prefer using an `Input(shape)` object as the first layer in the model instead.\n",
      "  super().__init__(**kwargs)\n"
     ]
    },
    {
     "name": "stdout",
     "output_type": "stream",
     "text": [
      "\u001b[1m198/198\u001b[0m \u001b[32m━━━━━━━━━━━━━━━━━━━━\u001b[0m\u001b[37m\u001b[0m \u001b[1m0s\u001b[0m 990us/step\n"
     ]
    },
    {
     "name": "stderr",
     "output_type": "stream",
     "text": [
      "/Library/Frameworks/Python.framework/Versions/3.12/lib/python3.12/site-packages/keras/src/layers/rnn/bidirectional.py:107: UserWarning: Do not pass an `input_shape`/`input_dim` argument to a layer. When using Sequential models, prefer using an `Input(shape)` object as the first layer in the model instead.\n",
      "  super().__init__(**kwargs)\n"
     ]
    },
    {
     "name": "stdout",
     "output_type": "stream",
     "text": [
      "\u001b[1m198/198\u001b[0m \u001b[32m━━━━━━━━━━━━━━━━━━━━\u001b[0m\u001b[37m\u001b[0m \u001b[1m0s\u001b[0m 1ms/step   \n"
     ]
    },
    {
     "name": "stderr",
     "output_type": "stream",
     "text": [
      "/Library/Frameworks/Python.framework/Versions/3.12/lib/python3.12/site-packages/keras/src/layers/rnn/bidirectional.py:107: UserWarning: Do not pass an `input_shape`/`input_dim` argument to a layer. When using Sequential models, prefer using an `Input(shape)` object as the first layer in the model instead.\n",
      "  super().__init__(**kwargs)\n"
     ]
    },
    {
     "name": "stdout",
     "output_type": "stream",
     "text": [
      "\u001b[1m198/198\u001b[0m \u001b[32m━━━━━━━━━━━━━━━━━━━━\u001b[0m\u001b[37m\u001b[0m \u001b[1m0s\u001b[0m 1ms/step  \n",
      "Best MSE so far: 7.7554\n",
      "Best Params → Units: 97, Dropout: 0.10, Batch Size: 16\n"
     ]
    }
   ],
   "source": [
    "def pso_objective(params):\n",
    "    from sklearn.metrics import mean_squared_error\n",
    "    \"\"\"\n",
    "    Objective function for PSO. Builds and evaluates a BiLSTM model with given hyperparameters.\n",
    "    params: [units, dropout, batch_size]\n",
    "    \"\"\"\n",
    "    units = int(params[0])\n",
    "    dropout = float(params[1])\n",
    "    batch_size = int(params[2])\n",
    "\n",
    "    # Build model\n",
    "    model = create_bilstm_model(input_shape=(1, X_train.shape[2]), units=units, dropout_rate=dropout)\n",
    "\n",
    "    # Train briefly (you can increase epochs later)\n",
    "    model.fit(X_train, Y_train, epochs=10, batch_size=batch_size, verbose=0, validation_split=0.1)\n",
    "\n",
    "    # Predict and calculate MSE\n",
    "    preds = model.predict(X_test)\n",
    "    mse = mean_squared_error(Y_test, preds)\n",
    "    return mse\n",
    "\n",
    "import random\n",
    "\n",
    "class Particle:\n",
    "    def __init__(self, bounds):\n",
    "        self.position = [random.uniform(b[0], b[1]) for b in bounds]\n",
    "        self.velocity = [random.uniform(-1, 1) for _ in bounds]\n",
    "        self.best_position = list(self.position)\n",
    "        self.best_score = float('inf')\n",
    "        self.score = float('inf')\n",
    "\n",
    "    def update_velocity(self, global_best, w=0.5, c1=1, c2=2):\n",
    "        for i in range(len(self.velocity)):\n",
    "            r1, r2 = random.random(), random.random()\n",
    "            cognitive = c1 * r1 * (self.best_position[i] - self.position[i])\n",
    "            social = c2 * r2 * (global_best[i] - self.position[i])\n",
    "            self.velocity[i] = w * self.velocity[i] + cognitive + social\n",
    "\n",
    "    def update_position(self, bounds):\n",
    "        for i in range(len(self.position)):\n",
    "            self.position[i] += self.velocity[i]\n",
    "            # Clamp to bounds\n",
    "            self.position[i] = max(bounds[i][0], min(bounds[i][1], self.position[i]))\n",
    "\n",
    "# Define bounds: (min, max) for each parameter\n",
    "# Format: [units, dropout, batch_size]\n",
    "bounds = [\n",
    "    (32, 128),    # LSTM units\n",
    "    (0.1, 0.5),   # Dropout\n",
    "    (16, 64)      # Batch size\n",
    "]\n",
    "\n",
    "# PSO Settings\n",
    "num_particles = 5\n",
    "num_iterations = 10\n",
    "\n",
    "# Initialize swarm\n",
    "swarm = [Particle(bounds) for _ in range(num_particles)]\n",
    "global_best_position = None\n",
    "global_best_score = float('inf')\n",
    "\n",
    "for iter in range(num_iterations):\n",
    "    print(f\"\\nIteration {iter+1}/{num_iterations}\")\n",
    "    \n",
    "    for particle in swarm:\n",
    "        # Evaluate current position\n",
    "        score = pso_objective(particle.position)\n",
    "        particle.score = score\n",
    "\n",
    "        # Update personal best\n",
    "        if score < particle.best_score:\n",
    "            particle.best_score = score\n",
    "            particle.best_position = list(particle.position)\n",
    "\n",
    "        # Update global best\n",
    "        if score < global_best_score:\n",
    "            global_best_score = score\n",
    "            global_best_position = list(particle.position)\n",
    "\n",
    "    # Update velocities and positions\n",
    "    for particle in swarm:\n",
    "        particle.update_velocity(global_best_position)\n",
    "        particle.update_position(bounds)\n",
    "\n",
    "\n",
    "best_units = int(global_best_position[0])\n",
    "best_dropout = float(global_best_position[1])\n",
    "best_batch_size = int(global_best_position[2])\n",
    "\n",
    "print(f\"Best MSE so far: {global_best_score:.4f}\")\n",
    "print(f\"Best Params → Units: {best_units}, Dropout: {best_dropout:.2f}, Batch Size: {best_batch_size}\")"
   ]
  },
  {
   "cell_type": "code",
   "execution_count": 323,
   "id": "1dbe5352",
   "metadata": {},
   "outputs": [
    {
     "name": "stdout",
     "output_type": "stream",
     "text": [
      "Epoch 1/50\n"
     ]
    },
    {
     "name": "stderr",
     "output_type": "stream",
     "text": [
      "/Library/Frameworks/Python.framework/Versions/3.12/lib/python3.12/site-packages/keras/src/layers/rnn/bidirectional.py:107: UserWarning: Do not pass an `input_shape`/`input_dim` argument to a layer. When using Sequential models, prefer using an `Input(shape)` object as the first layer in the model instead.\n",
      "  super().__init__(**kwargs)\n"
     ]
    },
    {
     "name": "stdout",
     "output_type": "stream",
     "text": [
      "\u001b[1m1420/1420\u001b[0m \u001b[32m━━━━━━━━━━━━━━━━━━━━\u001b[0m\u001b[37m\u001b[0m \u001b[1m3s\u001b[0m 2ms/step - loss: 14.4040 - mae: 2.4138 - val_loss: 7.5390 - val_mae: 1.8158\n",
      "Epoch 2/50\n",
      "\u001b[1m1420/1420\u001b[0m \u001b[32m━━━━━━━━━━━━━━━━━━━━\u001b[0m\u001b[37m\u001b[0m \u001b[1m2s\u001b[0m 1ms/step - loss: 10.9388 - mae: 2.0304 - val_loss: 7.2854 - val_mae: 1.3934\n",
      "Epoch 3/50\n",
      "\u001b[1m1420/1420\u001b[0m \u001b[32m━━━━━━━━━━━━━━━━━━━━\u001b[0m\u001b[37m\u001b[0m \u001b[1m2s\u001b[0m 1ms/step - loss: 10.9852 - mae: 2.0286 - val_loss: 7.0364 - val_mae: 1.4292\n",
      "Epoch 4/50\n",
      "\u001b[1m1420/1420\u001b[0m \u001b[32m━━━━━━━━━━━━━━━━━━━━\u001b[0m\u001b[37m\u001b[0m \u001b[1m2s\u001b[0m 2ms/step - loss: 10.1955 - mae: 1.9856 - val_loss: 7.0253 - val_mae: 1.4273\n",
      "Epoch 5/50\n",
      "\u001b[1m1420/1420\u001b[0m \u001b[32m━━━━━━━━━━━━━━━━━━━━\u001b[0m\u001b[37m\u001b[0m \u001b[1m2s\u001b[0m 1ms/step - loss: 9.7003 - mae: 1.9600 - val_loss: 6.9778 - val_mae: 1.5244\n",
      "Epoch 6/50\n",
      "\u001b[1m1420/1420\u001b[0m \u001b[32m━━━━━━━━━━━━━━━━━━━━\u001b[0m\u001b[37m\u001b[0m \u001b[1m2s\u001b[0m 1ms/step - loss: 10.3408 - mae: 2.0314 - val_loss: 7.0731 - val_mae: 1.5697\n",
      "Epoch 7/50\n",
      "\u001b[1m1420/1420\u001b[0m \u001b[32m━━━━━━━━━━━━━━━━━━━━\u001b[0m\u001b[37m\u001b[0m \u001b[1m2s\u001b[0m 1ms/step - loss: 9.6065 - mae: 1.9637 - val_loss: 7.1933 - val_mae: 1.8211\n",
      "Epoch 8/50\n",
      "\u001b[1m1420/1420\u001b[0m \u001b[32m━━━━━━━━━━━━━━━━━━━━\u001b[0m\u001b[37m\u001b[0m \u001b[1m2s\u001b[0m 1ms/step - loss: 9.1779 - mae: 1.9841 - val_loss: 7.0810 - val_mae: 1.4683\n",
      "Epoch 9/50\n",
      "\u001b[1m1420/1420\u001b[0m \u001b[32m━━━━━━━━━━━━━━━━━━━━\u001b[0m\u001b[37m\u001b[0m \u001b[1m2s\u001b[0m 1ms/step - loss: 9.3947 - mae: 2.0240 - val_loss: 6.7351 - val_mae: 1.6115\n",
      "Epoch 10/50\n",
      "\u001b[1m1420/1420\u001b[0m \u001b[32m━━━━━━━━━━━━━━━━━━━━\u001b[0m\u001b[37m\u001b[0m \u001b[1m2s\u001b[0m 1ms/step - loss: 10.2676 - mae: 2.0385 - val_loss: 6.7410 - val_mae: 1.3648\n",
      "Epoch 11/50\n",
      "\u001b[1m1420/1420\u001b[0m \u001b[32m━━━━━━━━━━━━━━━━━━━━\u001b[0m\u001b[37m\u001b[0m \u001b[1m2s\u001b[0m 1ms/step - loss: 9.4610 - mae: 2.0283 - val_loss: 7.1514 - val_mae: 1.5248\n",
      "Epoch 12/50\n",
      "\u001b[1m1420/1420\u001b[0m \u001b[32m━━━━━━━━━━━━━━━━━━━━\u001b[0m\u001b[37m\u001b[0m \u001b[1m2s\u001b[0m 1ms/step - loss: 9.7124 - mae: 2.0410 - val_loss: 6.8420 - val_mae: 1.6124\n",
      "Epoch 13/50\n",
      "\u001b[1m1420/1420\u001b[0m \u001b[32m━━━━━━━━━━━━━━━━━━━━\u001b[0m\u001b[37m\u001b[0m \u001b[1m2s\u001b[0m 1ms/step - loss: 9.6805 - mae: 2.0706 - val_loss: 6.6858 - val_mae: 1.5293\n",
      "Epoch 14/50\n",
      "\u001b[1m1420/1420\u001b[0m \u001b[32m━━━━━━━━━━━━━━━━━━━━\u001b[0m\u001b[37m\u001b[0m \u001b[1m2s\u001b[0m 1ms/step - loss: 9.4782 - mae: 2.0718 - val_loss: 6.7738 - val_mae: 1.7062\n",
      "Epoch 15/50\n",
      "\u001b[1m1420/1420\u001b[0m \u001b[32m━━━━━━━━━━━━━━━━━━━━\u001b[0m\u001b[37m\u001b[0m \u001b[1m2s\u001b[0m 1ms/step - loss: 9.4163 - mae: 2.0319 - val_loss: 6.6652 - val_mae: 1.5258\n",
      "Epoch 16/50\n",
      "\u001b[1m1420/1420\u001b[0m \u001b[32m━━━━━━━━━━━━━━━━━━━━\u001b[0m\u001b[37m\u001b[0m \u001b[1m2s\u001b[0m 1ms/step - loss: 9.6378 - mae: 2.0475 - val_loss: 6.6891 - val_mae: 1.5274\n",
      "Epoch 17/50\n",
      "\u001b[1m1420/1420\u001b[0m \u001b[32m━━━━━━━━━━━━━━━━━━━━\u001b[0m\u001b[37m\u001b[0m \u001b[1m2s\u001b[0m 1ms/step - loss: 9.3510 - mae: 2.0116 - val_loss: 6.8090 - val_mae: 1.6251\n",
      "Epoch 18/50\n",
      "\u001b[1m1420/1420\u001b[0m \u001b[32m━━━━━━━━━━━━━━━━━━━━\u001b[0m\u001b[37m\u001b[0m \u001b[1m2s\u001b[0m 1ms/step - loss: 9.4971 - mae: 2.0472 - val_loss: 6.5152 - val_mae: 1.5066\n",
      "Epoch 19/50\n",
      "\u001b[1m1420/1420\u001b[0m \u001b[32m━━━━━━━━━━━━━━━━━━━━\u001b[0m\u001b[37m\u001b[0m \u001b[1m2s\u001b[0m 1ms/step - loss: 9.6418 - mae: 2.0674 - val_loss: 6.9921 - val_mae: 1.6570\n",
      "Epoch 20/50\n",
      "\u001b[1m1420/1420\u001b[0m \u001b[32m━━━━━━━━━━━━━━━━━━━━\u001b[0m\u001b[37m\u001b[0m \u001b[1m2s\u001b[0m 1ms/step - loss: 9.1443 - mae: 2.0130 - val_loss: 6.5873 - val_mae: 1.5798\n",
      "Epoch 21/50\n",
      "\u001b[1m1420/1420\u001b[0m \u001b[32m━━━━━━━━━━━━━━━━━━━━\u001b[0m\u001b[37m\u001b[0m \u001b[1m2s\u001b[0m 1ms/step - loss: 9.4690 - mae: 2.0611 - val_loss: 6.8711 - val_mae: 1.7387\n",
      "Epoch 22/50\n",
      "\u001b[1m1420/1420\u001b[0m \u001b[32m━━━━━━━━━━━━━━━━━━━━\u001b[0m\u001b[37m\u001b[0m \u001b[1m2s\u001b[0m 1ms/step - loss: 9.7285 - mae: 2.0740 - val_loss: 6.7848 - val_mae: 1.6305\n",
      "Epoch 23/50\n",
      "\u001b[1m1420/1420\u001b[0m \u001b[32m━━━━━━━━━━━━━━━━━━━━\u001b[0m\u001b[37m\u001b[0m \u001b[1m2s\u001b[0m 1ms/step - loss: 10.0244 - mae: 2.1012 - val_loss: 6.8772 - val_mae: 1.5231\n",
      "Epoch 24/50\n",
      "\u001b[1m1420/1420\u001b[0m \u001b[32m━━━━━━━━━━━━━━━━━━━━\u001b[0m\u001b[37m\u001b[0m \u001b[1m2s\u001b[0m 1ms/step - loss: 9.9531 - mae: 2.1240 - val_loss: 6.7648 - val_mae: 1.6073\n",
      "Epoch 25/50\n",
      "\u001b[1m1420/1420\u001b[0m \u001b[32m━━━━━━━━━━━━━━━━━━━━\u001b[0m\u001b[37m\u001b[0m \u001b[1m2s\u001b[0m 1ms/step - loss: 9.8027 - mae: 2.1096 - val_loss: 6.8295 - val_mae: 1.5420\n",
      "Epoch 26/50\n",
      "\u001b[1m1420/1420\u001b[0m \u001b[32m━━━━━━━━━━━━━━━━━━━━\u001b[0m\u001b[37m\u001b[0m \u001b[1m2s\u001b[0m 1ms/step - loss: 9.8088 - mae: 2.1077 - val_loss: 6.8611 - val_mae: 1.5721\n",
      "Epoch 27/50\n",
      "\u001b[1m1420/1420\u001b[0m \u001b[32m━━━━━━━━━━━━━━━━━━━━\u001b[0m\u001b[37m\u001b[0m \u001b[1m2s\u001b[0m 1ms/step - loss: 9.6281 - mae: 2.0912 - val_loss: 6.8238 - val_mae: 1.6195\n",
      "Epoch 28/50\n",
      "\u001b[1m1420/1420\u001b[0m \u001b[32m━━━━━━━━━━━━━━━━━━━━\u001b[0m\u001b[37m\u001b[0m \u001b[1m2s\u001b[0m 1ms/step - loss: 9.8433 - mae: 2.1026 - val_loss: 6.9291 - val_mae: 1.5951\n",
      "Epoch 29/50\n",
      "\u001b[1m1420/1420\u001b[0m \u001b[32m━━━━━━━━━━━━━━━━━━━━\u001b[0m\u001b[37m\u001b[0m \u001b[1m2s\u001b[0m 1ms/step - loss: 10.1833 - mae: 2.1220 - val_loss: 6.7942 - val_mae: 1.5848\n",
      "Epoch 30/50\n",
      "\u001b[1m1420/1420\u001b[0m \u001b[32m━━━━━━━━━━━━━━━━━━━━\u001b[0m\u001b[37m\u001b[0m \u001b[1m2s\u001b[0m 1ms/step - loss: 9.7558 - mae: 2.0841 - val_loss: 7.1599 - val_mae: 1.7594\n",
      "Epoch 31/50\n",
      "\u001b[1m1420/1420\u001b[0m \u001b[32m━━━━━━━━━━━━━━━━━━━━\u001b[0m\u001b[37m\u001b[0m \u001b[1m2s\u001b[0m 1ms/step - loss: 10.0975 - mae: 2.1132 - val_loss: 6.7458 - val_mae: 1.6300\n",
      "Epoch 32/50\n",
      "\u001b[1m1420/1420\u001b[0m \u001b[32m━━━━━━━━━━━━━━━━━━━━\u001b[0m\u001b[37m\u001b[0m \u001b[1m2s\u001b[0m 1ms/step - loss: 9.7418 - mae: 2.0912 - val_loss: 6.7190 - val_mae: 1.5128\n",
      "Epoch 33/50\n",
      "\u001b[1m1420/1420\u001b[0m \u001b[32m━━━━━━━━━━━━━━━━━━━━\u001b[0m\u001b[37m\u001b[0m \u001b[1m2s\u001b[0m 1ms/step - loss: 9.4510 - mae: 2.1114 - val_loss: 6.7964 - val_mae: 1.5429\n",
      "Epoch 34/50\n",
      "\u001b[1m1420/1420\u001b[0m \u001b[32m━━━━━━━━━━━━━━━━━━━━\u001b[0m\u001b[37m\u001b[0m \u001b[1m2s\u001b[0m 1ms/step - loss: 9.7346 - mae: 2.1107 - val_loss: 6.8074 - val_mae: 1.5704\n",
      "Epoch 35/50\n",
      "\u001b[1m1420/1420\u001b[0m \u001b[32m━━━━━━━━━━━━━━━━━━━━\u001b[0m\u001b[37m\u001b[0m \u001b[1m2s\u001b[0m 1ms/step - loss: 9.6672 - mae: 2.0972 - val_loss: 6.7118 - val_mae: 1.6536\n",
      "Epoch 36/50\n",
      "\u001b[1m1420/1420\u001b[0m \u001b[32m━━━━━━━━━━━━━━━━━━━━\u001b[0m\u001b[37m\u001b[0m \u001b[1m2s\u001b[0m 1ms/step - loss: 10.2602 - mae: 2.1417 - val_loss: 7.0304 - val_mae: 1.6425\n",
      "Epoch 37/50\n",
      "\u001b[1m1420/1420\u001b[0m \u001b[32m━━━━━━━━━━━━━━━━━━━━\u001b[0m\u001b[37m\u001b[0m \u001b[1m2s\u001b[0m 1ms/step - loss: 9.5666 - mae: 2.1040 - val_loss: 6.7183 - val_mae: 1.6676\n",
      "Epoch 38/50\n",
      "\u001b[1m1420/1420\u001b[0m \u001b[32m━━━━━━━━━━━━━━━━━━━━\u001b[0m\u001b[37m\u001b[0m \u001b[1m2s\u001b[0m 1ms/step - loss: 9.7138 - mae: 2.1172 - val_loss: 6.7661 - val_mae: 1.6423\n",
      "Epoch 39/50\n",
      "\u001b[1m1420/1420\u001b[0m \u001b[32m━━━━━━━━━━━━━━━━━━━━\u001b[0m\u001b[37m\u001b[0m \u001b[1m2s\u001b[0m 1ms/step - loss: 9.5043 - mae: 2.1226 - val_loss: 6.7301 - val_mae: 1.5356\n",
      "Epoch 40/50\n",
      "\u001b[1m1420/1420\u001b[0m \u001b[32m━━━━━━━━━━━━━━━━━━━━\u001b[0m\u001b[37m\u001b[0m \u001b[1m2s\u001b[0m 1ms/step - loss: 10.3181 - mae: 2.1135 - val_loss: 6.7424 - val_mae: 1.5671\n",
      "Epoch 41/50\n",
      "\u001b[1m1420/1420\u001b[0m \u001b[32m━━━━━━━━━━━━━━━━━━━━\u001b[0m\u001b[37m\u001b[0m \u001b[1m2s\u001b[0m 1ms/step - loss: 9.2352 - mae: 2.0647 - val_loss: 6.7404 - val_mae: 1.5590\n",
      "Epoch 42/50\n",
      "\u001b[1m1420/1420\u001b[0m \u001b[32m━━━━━━━━━━━━━━━━━━━━\u001b[0m\u001b[37m\u001b[0m \u001b[1m2s\u001b[0m 1ms/step - loss: 10.5640 - mae: 2.1179 - val_loss: 6.8330 - val_mae: 1.6617\n",
      "Epoch 43/50\n",
      "\u001b[1m1420/1420\u001b[0m \u001b[32m━━━━━━━━━━━━━━━━━━━━\u001b[0m\u001b[37m\u001b[0m \u001b[1m2s\u001b[0m 1ms/step - loss: 9.5940 - mae: 2.1077 - val_loss: 6.8502 - val_mae: 1.5522\n",
      "Epoch 44/50\n",
      "\u001b[1m1420/1420\u001b[0m \u001b[32m━━━━━━━━━━━━━━━━━━━━\u001b[0m\u001b[37m\u001b[0m \u001b[1m2s\u001b[0m 1ms/step - loss: 10.6192 - mae: 2.1259 - val_loss: 6.8291 - val_mae: 1.6112\n",
      "Epoch 45/50\n",
      "\u001b[1m1420/1420\u001b[0m \u001b[32m━━━━━━━━━━━━━━━━━━━━\u001b[0m\u001b[37m\u001b[0m \u001b[1m2s\u001b[0m 1ms/step - loss: 9.8717 - mae: 2.1031 - val_loss: 7.1248 - val_mae: 1.5582\n",
      "Epoch 46/50\n",
      "\u001b[1m1420/1420\u001b[0m \u001b[32m━━━━━━━━━━━━━━━━━━━━\u001b[0m\u001b[37m\u001b[0m \u001b[1m2s\u001b[0m 1ms/step - loss: 9.8441 - mae: 2.1157 - val_loss: 6.7126 - val_mae: 1.5783\n",
      "Epoch 47/50\n",
      "\u001b[1m1420/1420\u001b[0m \u001b[32m━━━━━━━━━━━━━━━━━━━━\u001b[0m\u001b[37m\u001b[0m \u001b[1m2s\u001b[0m 1ms/step - loss: 10.2412 - mae: 2.1322 - val_loss: 6.9286 - val_mae: 1.6236\n",
      "Epoch 48/50\n",
      "\u001b[1m1420/1420\u001b[0m \u001b[32m━━━━━━━━━━━━━━━━━━━━\u001b[0m\u001b[37m\u001b[0m \u001b[1m2s\u001b[0m 1ms/step - loss: 9.9111 - mae: 2.1109 - val_loss: 6.6947 - val_mae: 1.5656\n",
      "Epoch 49/50\n",
      "\u001b[1m1420/1420\u001b[0m \u001b[32m━━━━━━━━━━━━━━━━━━━━\u001b[0m\u001b[37m\u001b[0m \u001b[1m2s\u001b[0m 1ms/step - loss: 9.3787 - mae: 2.0879 - val_loss: 6.6457 - val_mae: 1.6083\n",
      "Epoch 50/50\n",
      "\u001b[1m1420/1420\u001b[0m \u001b[32m━━━━━━━━━━━━━━━━━━━━\u001b[0m\u001b[37m\u001b[0m \u001b[1m2s\u001b[0m 1ms/step - loss: 9.6451 - mae: 2.1131 - val_loss: 6.7093 - val_mae: 1.5791\n",
      "\u001b[1m198/198\u001b[0m \u001b[32m━━━━━━━━━━━━━━━━━━━━\u001b[0m\u001b[37m\u001b[0m \u001b[1m0s\u001b[0m 1ms/step  \n",
      "MSE: 8.4303\n",
      "MAE: 1.6503\n",
      "R² Score: 0.6337\n"
     ]
    }
   ],
   "source": [
    "from sklearn.metrics import mean_squared_error, mean_absolute_error, r2_score\n",
    "# Step 3: Train the BiLSTM model\n",
    "model = create_bilstm_model(input_shape=(1, X_train.shape[2]), units=best_units)\n",
    "model.add(Dropout(best_dropout))\n",
    "model.add(Dense(1))\n",
    "model.compile(optimizer='adam', loss='mean_squared_error')\n",
    "model.fit(X_train, Y_train,epochs=50,batch_size=best_batch_size,validation_split=0.1,verbose=1)\n",
    "\n",
    "# Step 4: Make predictions\n",
    "Y_pred = model.predict(X_test)\n",
    "\n",
    "# Step 5: Evaluate\n",
    "mse = mean_squared_error(Y_test, Y_pred)\n",
    "mae = mean_absolute_error(Y_test, Y_pred)\n",
    "r2 = r2_score(Y_test, Y_pred)\n",
    "\n",
    "print(f\"MSE: {mse:.4f}\")\n",
    "print(f\"MAE: {mae:.4f}\")\n",
    "print(f\"R² Score: {r2:.4f}\")"
   ]
  },
  {
   "cell_type": "code",
   "execution_count": 324,
   "id": "e4b81134",
   "metadata": {},
   "outputs": [
    {
     "data": {
      "image/png": "[encoded data removed]",
      "text/plain": [
       "<Figure size 1500x500 with 1 Axes>"
      ]
     },
     "metadata": {},
     "output_type": "display_data"
    }
   ],
   "source": [
    "import matplotlib.pyplot as plt\n",
    "\n",
    "plt.figure(figsize=(15, 5))\n",
    "plt.plot(Y_test, label='Actual', linewidth=2)\n",
    "plt.plot(Y_pred, label='Predicted', linewidth=2)\n",
    "plt.title(\"Actual vs Predicted Wind Speed (FFF) - Full Test Set\")\n",
    "plt.xlabel(\"Sample Index\")\n",
    "plt.ylabel(\"Wind Speed\")\n",
    "plt.legend()\n",
    "plt.grid(True)\n",
    "plt.tight_layout()\n",
    "plt.show()"
   ]
  },
  {
   "cell_type": "code",
   "execution_count": 325,
   "id": "3af11eb5",
   "metadata": {},
   "outputs": [
    {
     "name": "stdout",
     "output_type": "stream",
     "text": [
      "Results appended to CSV: plot/history_TH_bi.csv\n"
     ]
    }
   ],
   "source": [
    "import os\n",
    "import matplotlib.pyplot as plt\n",
    "from datetime import datetime\n",
    "\n",
    "# Directory for saving plots and CSV\n",
    "output_dir = \"plot\"\n",
    "os.makedirs(output_dir, exist_ok=True)\n",
    "\n",
    "timestamp = datetime.now().strftime(\"%Y-%m-%d_%H-%M-%S\")\n",
    "\n",
    "import pandas as pd\n",
    "\n",
    "# Replace with actual best values from your GWO\n",
    "result = {\n",
    "    \"Timestamp\": timestamp,\n",
    "    \"Units\": best_units,\n",
    "    \"Dropout\":best_dropout,\n",
    "    \"Batch Size\":best_batch_size,\n",
    "    \"MAE\": mae,\n",
    "    \"MSE\": mse,\n",
    "    \"R2\":r2\n",
    "}\n",
    "\n",
    "csv_path = os.path.join(output_dir, \"history_TH_bi.csv\")\n",
    "\n",
    "# Append to CSV\n",
    "if os.path.exists(csv_path):\n",
    "    df_existing = pd.read_csv(csv_path)\n",
    "    df_existing = pd.concat([df_existing, pd.DataFrame([result])], ignore_index=True)\n",
    "    df_existing.to_csv(csv_path, index=False)\n",
    "else:\n",
    "    pd.DataFrame([result]).to_csv(csv_path, index=False)\n",
    "\n",
    "print(f\"Results appended to CSV: {csv_path}\")"
   ]
  }
 ],
 "metadata": {
  "kernelspec": {
   "display_name": "Python 3",
   "language": "python",
   "name": "python3"
  },
  "language_info": {
   "codemirror_mode": {
    "name": "ipython",
    "version": 3
   },
   "file_extension": ".py",
   "mimetype": "text/x-python",
   "name": "python",
   "nbconvert_exporter": "python",
   "pygments_lexer": "ipython3",
   "version": "3.12.4"
  }
 },
 "nbformat": 4,
 "nbformat_minor": 5
}
