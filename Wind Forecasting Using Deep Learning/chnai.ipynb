{
 "cells": [
  {
   "cell_type": "code",
   "execution_count": 1,
   "id": "21774165",
   "metadata": {},
   "outputs": [
    {
     "name": "stderr",
     "output_type": "stream",
     "text": [
      "/var/folders/kt/q0sjjgn94nz3_lf77pxkgr6h0000gn/T/ipykernel_8105/204841611.py:3: DtypeWarning: Columns (11,12,13,15) have mixed types. Specify dtype option on import or set low_memory=False.\n",
      "  df=pd.read_csv(\"CHENNAI.csv\")\n"
     ]
    }
   ],
   "source": [
    "import pandas as pd \n",
    "import numpy as np\n",
    "df=pd.read_csv(\"CHENNAI.csv\")"
   ]
  },
  {
   "cell_type": "code",
   "execution_count": 2,
   "id": "7341abcc",
   "metadata": {},
   "outputs": [
    {
     "name": "stdout",
     "output_type": "stream",
     "text": [
      "            INDEX  YEAR  MN      HR      DT   SLP  MSLP   DBT  WBT   DPT  ...  \\\n",
      "43279 2010      1    12   1  1013.1  1014.9  24.0  22.6  21.9   88  26.3  ...   \n",
      "      2010      1    12   2  1014.0  1015.8  24.0  22.6  21.9   88  26.3  ...   \n",
      "      2010      1    12   3  1014.7  1016.5  25.2  22.0  20.3   74  23.8  ...   \n",
      "      2010      1    12   4  1013.6  1015.4  22.0  20.4  19.5   86  22.7  ...   \n",
      "      2010      1    12   5  1011.3  1013.1  22.0  20.8  20.1   89  23.5  ...   \n",
      "...           ...   ...  ..     ...     ...   ...   ...   ...  ...   ...  ...   \n",
      "      2020     12    84  27  1009.0  1010.8  22.6  22.0  21.6   95  25.8  ...   \n",
      "      2020     12    84  28  1009.5  1011.3  24.6  22.4  21.3   82  25.3  ...   \n",
      "      2020     12    84  29  1010.0  1011.8  26.2  23.6  22.3   79  26.9  ...   \n",
      "      2020     12    84  30  1009.1  1010.9  25.8  23.6  22.5   82  27.3  ...   \n",
      "      2020     12    84  31  1011.0  1012.8  23.0  21.6  20.9   88  24.7  ...   \n",
      "\n",
      "            c  a  Ht    RF  EVP  DW  P  H  WAT Unnamed: 36  \n",
      "43279 2010  6  1  20  0000  020            223         NaN  \n",
      "      2010  6  1  20  0000  017            295         NaN  \n",
      "      2010  6  1  20  0000  020            222         NaN  \n",
      "      2010  6  1  20  0000  005            199         NaN  \n",
      "      2010  6  1  20  0000  005            200         NaN  \n",
      "...        .. ..  ..   ...  ...  .. .. ..  ...         ...  \n",
      "      2020  6  3  20  0000  020                        NaN  \n",
      "      2020  6  3  20  0000  020                        NaN  \n",
      "      2020  6  4  20  0000  020                        NaN  \n",
      "      2020  6  6  18  0005  020                        NaN  \n",
      "      2020  6  3  20  0000  020                        NaN  \n",
      "\n",
      "[30154 rows x 37 columns]\n"
     ]
    }
   ],
   "source": [
    "print(df)"
   ]
  },
  {
   "cell_type": "code",
   "execution_count": 3,
   "id": "26f39fe5",
   "metadata": {},
   "outputs": [],
   "source": [
    "df.reset_index(inplace=True)\n",
    "df.columns = df.columns[2:].tolist() + df.columns[:2].tolist()"
   ]
  },
  {
   "cell_type": "code",
   "execution_count": 4,
   "id": "566279a2",
   "metadata": {},
   "outputs": [
    {
     "name": "stdout",
     "output_type": "stream",
     "text": [
      "       INDEX  YEAR  MN  HR  DT     SLP    MSLP   DBT   WBT   DPT  ...  Ht RF  \\\n",
      "0      43279  2010   1  12   1  1013.1  1014.9  24.0  22.6  21.9  ...   6  1   \n",
      "1      43279  2010   1  12   2  1014.0  1015.8  24.0  22.6  21.9  ...   6  1   \n",
      "2      43279  2010   1  12   3  1014.7  1016.5  25.2  22.0  20.3  ...   6  1   \n",
      "3      43279  2010   1  12   4  1013.6  1015.4  22.0  20.4  19.5  ...   6  1   \n",
      "4      43279  2010   1  12   5  1011.3  1013.1  22.0  20.8  20.1  ...   6  1   \n",
      "...      ...   ...  ..  ..  ..     ...     ...   ...   ...   ...  ...  .. ..   \n",
      "30149  43279  2020  12  84  27  1009.0  1010.8  22.6  22.0  21.6  ...   6  3   \n",
      "30150  43279  2020  12  84  28  1009.5  1011.3  24.6  22.4  21.3  ...   6  3   \n",
      "30151  43279  2020  12  84  29  1010.0  1011.8  26.2  23.6  22.3  ...   6  4   \n",
      "30152  43279  2020  12  84  30  1009.1  1010.9  25.8  23.6  22.5  ...   6  6   \n",
      "30153  43279  2020  12  84  31  1011.0  1012.8  23.0  21.6  20.9  ...   6  3   \n",
      "\n",
      "      EVP    DW    P   H WAT Unnamed: 36 level_0 level_1  \n",
      "0      20  0000  020                         223     NaN  \n",
      "1      20  0000  017                         295     NaN  \n",
      "2      20  0000  020                         222     NaN  \n",
      "3      20  0000  005                         199     NaN  \n",
      "4      20  0000  005                         200     NaN  \n",
      "...    ..   ...  ...  ..  ..         ...     ...     ...  \n",
      "30149  20  0000  020                                 NaN  \n",
      "30150  20  0000  020                                 NaN  \n",
      "30151  20  0000  020                                 NaN  \n",
      "30152  18  0005  020                                 NaN  \n",
      "30153  20  0000  020                                 NaN  \n",
      "\n",
      "[30154 rows x 39 columns]\n"
     ]
    }
   ],
   "source": [
    "print(df)"
   ]
  },
  {
   "cell_type": "code",
   "execution_count": 5,
   "id": "60d4dc9c",
   "metadata": {},
   "outputs": [
    {
     "name": "stdout",
     "output_type": "stream",
     "text": [
      "<class 'pandas.core.frame.DataFrame'>\n",
      "RangeIndex: 30154 entries, 0 to 30153\n",
      "Data columns (total 39 columns):\n",
      " #   Column       Non-Null Count  Dtype  \n",
      "---  ------       --------------  -----  \n",
      " 0   INDEX        30154 non-null  int64  \n",
      " 1   YEAR         30154 non-null  int64  \n",
      " 2   MN           30154 non-null  int64  \n",
      " 3   HR           30154 non-null  int64  \n",
      " 4   DT           30154 non-null  int64  \n",
      " 5   SLP          30154 non-null  float64\n",
      " 6   MSLP         30154 non-null  float64\n",
      " 7   DBT          30154 non-null  float64\n",
      " 8   WBT          30154 non-null  float64\n",
      " 9   DPT          30154 non-null  float64\n",
      " 10  RH           30154 non-null  int64  \n",
      " 11  VP           30154 non-null  object \n",
      " 12  DD           30154 non-null  object \n",
      " 13  FFF          30154 non-null  object \n",
      " 14  AW           30154 non-null  object \n",
      " 15  VV           30154 non-null  object \n",
      " 16  Cl           30154 non-null  object \n",
      " 17  A            30154 non-null  object \n",
      " 18  Cm           30154 non-null  object \n",
      " 19  A.1          30154 non-null  object \n",
      " 20  Ch           30154 non-null  object \n",
      " 21  A.2          30154 non-null  object \n",
      " 22  Dl           30154 non-null  object \n",
      " 23  Dm           30154 non-null  object \n",
      " 24  Dh           30154 non-null  object \n",
      " 25  TC           30154 non-null  object \n",
      " 26  h            30154 non-null  object \n",
      " 27  c            30154 non-null  object \n",
      " 28  a            30154 non-null  object \n",
      " 29  Ht           30154 non-null  object \n",
      " 30  RF           30154 non-null  object \n",
      " 31  EVP          30154 non-null  object \n",
      " 32  DW           30154 non-null  object \n",
      " 33  P            30154 non-null  object \n",
      " 34  H            30154 non-null  object \n",
      " 35  WAT          30154 non-null  object \n",
      " 36  Unnamed: 36  30154 non-null  object \n",
      " 37  level_0      30154 non-null  object \n",
      " 38  level_1      0 non-null      float64\n",
      "dtypes: float64(6), int64(6), object(27)\n",
      "memory usage: 9.0+ MB\n"
     ]
    }
   ],
   "source": [
    "df.info()"
   ]
  },
  {
   "cell_type": "code",
   "execution_count": 6,
   "id": "13eaabdd",
   "metadata": {},
   "outputs": [],
   "source": [
    "df=df.apply(pd.to_numeric,errors='coerce')"
   ]
  },
  {
   "cell_type": "code",
   "execution_count": 7,
   "id": "aa6c5970",
   "metadata": {},
   "outputs": [
    {
     "name": "stdout",
     "output_type": "stream",
     "text": [
      "<class 'pandas.core.frame.DataFrame'>\n",
      "RangeIndex: 30154 entries, 0 to 30153\n",
      "Data columns (total 39 columns):\n",
      " #   Column       Non-Null Count  Dtype  \n",
      "---  ------       --------------  -----  \n",
      " 0   INDEX        30154 non-null  int64  \n",
      " 1   YEAR         30154 non-null  int64  \n",
      " 2   MN           30154 non-null  int64  \n",
      " 3   HR           30154 non-null  int64  \n",
      " 4   DT           30154 non-null  int64  \n",
      " 5   SLP          30154 non-null  float64\n",
      " 6   MSLP         30154 non-null  float64\n",
      " 7   DBT          30154 non-null  float64\n",
      " 8   WBT          30154 non-null  float64\n",
      " 9   DPT          30154 non-null  float64\n",
      " 10  RH           30154 non-null  int64  \n",
      " 11  VP           30151 non-null  float64\n",
      " 12  DD           30140 non-null  float64\n",
      " 13  FFF          30143 non-null  float64\n",
      " 14  AW           7698 non-null   float64\n",
      " 15  VV           30150 non-null  float64\n",
      " 16  Cl           30142 non-null  float64\n",
      " 17  A            30140 non-null  float64\n",
      " 18  Cm           30130 non-null  float64\n",
      " 19  A.1          30127 non-null  float64\n",
      " 20  Ch           27031 non-null  float64\n",
      " 21  A.2          27674 non-null  float64\n",
      " 22  Dl           29497 non-null  float64\n",
      " 23  Dm           29487 non-null  float64\n",
      " 24  Dh           27054 non-null  float64\n",
      " 25  TC           30140 non-null  float64\n",
      " 26  h            30140 non-null  float64\n",
      " 27  c            29942 non-null  float64\n",
      " 28  a            30141 non-null  float64\n",
      " 29  Ht           29942 non-null  float64\n",
      " 30  RF           29946 non-null  float64\n",
      " 31  EVP          29959 non-null  float64\n",
      " 32  DW           29946 non-null  float64\n",
      " 33  P            10077 non-null  float64\n",
      " 34  H            4 non-null      float64\n",
      " 35  WAT          2 non-null      float64\n",
      " 36  Unnamed: 36  2 non-null      float64\n",
      " 37  level_0      8443 non-null   float64\n",
      " 38  level_1      0 non-null      float64\n",
      "dtypes: float64(33), int64(6)\n",
      "memory usage: 9.0 MB\n"
     ]
    }
   ],
   "source": [
    "df.info()"
   ]
  },
  {
   "cell_type": "code",
   "execution_count": 8,
   "id": "12582486",
   "metadata": {},
   "outputs": [
    {
     "data": {
      "text/plain": [
       "INDEX              0\n",
       "YEAR               0\n",
       "MN                 0\n",
       "HR                 0\n",
       "DT                 0\n",
       "SLP                0\n",
       "MSLP               0\n",
       "DBT                0\n",
       "WBT                0\n",
       "DPT                0\n",
       "RH                 0\n",
       "VP                 3\n",
       "DD                14\n",
       "FFF               11\n",
       "AW             22456\n",
       "VV                 4\n",
       "Cl                12\n",
       "A                 14\n",
       "Cm                24\n",
       "A.1               27\n",
       "Ch              3123\n",
       "A.2             2480\n",
       "Dl               657\n",
       "Dm               667\n",
       "Dh              3100\n",
       "TC                14\n",
       "h                 14\n",
       "c                212\n",
       "a                 13\n",
       "Ht               212\n",
       "RF               208\n",
       "EVP              195\n",
       "DW               208\n",
       "P              20077\n",
       "H              30150\n",
       "WAT            30152\n",
       "Unnamed: 36    30152\n",
       "level_0        21711\n",
       "level_1        30154\n",
       "dtype: int64"
      ]
     },
     "execution_count": 8,
     "metadata": {},
     "output_type": "execute_result"
    }
   ],
   "source": [
    "df.isnull().sum()"
   ]
  },
  {
   "cell_type": "code",
   "execution_count": 9,
   "id": "8c567915",
   "metadata": {},
   "outputs": [],
   "source": [
    "# For below columns more than 70% data is missing.\n",
    "df.drop(columns=['P', 'H', 'WAT', 'Unnamed: 36', 'level_0', 'level_1','AW'], inplace=True)       "
   ]
  },
  {
   "cell_type": "code",
   "execution_count": 10,
   "id": "1649affb",
   "metadata": {},
   "outputs": [
    {
     "data": {
      "text/plain": [
       "INDEX       0\n",
       "YEAR        0\n",
       "MN          0\n",
       "HR          0\n",
       "DT          0\n",
       "SLP         0\n",
       "MSLP        0\n",
       "DBT         0\n",
       "WBT         0\n",
       "DPT         0\n",
       "RH          0\n",
       "VP          3\n",
       "DD         14\n",
       "FFF        11\n",
       "VV          4\n",
       "Cl         12\n",
       "A          14\n",
       "Cm         24\n",
       "A.1        27\n",
       "Ch       3123\n",
       "A.2      2480\n",
       "Dl        657\n",
       "Dm        667\n",
       "Dh       3100\n",
       "TC         14\n",
       "h          14\n",
       "c         212\n",
       "a          13\n",
       "Ht        212\n",
       "RF        208\n",
       "EVP       195\n",
       "DW        208\n",
       "dtype: int64"
      ]
     },
     "execution_count": 10,
     "metadata": {},
     "output_type": "execute_result"
    }
   ],
   "source": [
    "df.isnull().sum()"
   ]
  },
  {
   "cell_type": "code",
   "execution_count": 11,
   "id": "46005100",
   "metadata": {},
   "outputs": [],
   "source": [
    "# Fill categorical columns by month-wise mode\n",
    "categorical_cols = ['DD', 'Cl', 'A', 'Cm', 'A.1','A.2', 'Ch', 'Dl', 'Dm', 'Dh', 'TC', 'h', 'c', 'a', 'DW']\n",
    "for col in categorical_cols:\n",
    "    df[col] = df.groupby('MN')[col].transform(lambda x: x.fillna(x.mode().iloc[0]) if not x.mode().empty else x.fillna(\"Unknown\"))\n",
    "\n",
    "# Fill numerical columns by month-wise median\n",
    "numerical_cols = ['VP', 'FFF', 'VV', 'RF', 'EVP', 'Ht']\n",
    "for col in numerical_cols:\n",
    "    df[col] = df.groupby('MN')[col].transform(lambda x: x.fillna(x.median()))\n"
   ]
  },
  {
   "cell_type": "code",
   "execution_count": 12,
   "id": "af32ab56",
   "metadata": {},
   "outputs": [],
   "source": [
    "# Removing INDEX and setime datetime as new Index\n",
    "df=df.drop('INDEX',axis=1)\n",
    "df['datetime']=pd.to_datetime(df[['YEAR','MN','DT','HR']].rename(columns={\n",
    "    'YEAR':'year',\n",
    "    'MN':'month',\n",
    "    'DT':'day',\n",
    "    'HR':'hour'\n",
    "}),errors='coerce')\n",
    "\n",
    "df.index = pd.to_datetime(df.index)\n",
    "# df = df[df['datetime'].dt.year != 2020]\n",
    "df.set_index('datetime',inplace=True)\n",
    "\n",
    "# As month,day and time don't affect fff much so drop them\n",
    "df.drop(['YEAR','MN','DT','HR'],axis=1,inplace=True)\n",
    "\n",
    "# Sorting the dataframe by timestamp\n",
    "df = df.sort_values('datetime')"
   ]
  },
  {
   "cell_type": "code",
   "execution_count": 13,
   "id": "a5f78c4f",
   "metadata": {},
   "outputs": [],
   "source": [
    "from scipy.stats import zscore\n",
    "import numpy as np\n",
    "\n",
    "# Step 1: Select numeric columns only\n",
    "numeric_cols = df.select_dtypes(include=['float64', 'int64']).columns\n",
    "\n",
    "# Step 2: Compute Z-scores for each numeric column\n",
    "z_scores = np.abs(zscore(df[numeric_cols]))\n",
    "\n",
    "# Step 3: Define a threshold and filter out outliers\n",
    "threshold = 3\n",
    "df = df[(z_scores < threshold).all(axis=1)]"
   ]
  },
  {
   "cell_type": "code",
   "execution_count": 14,
   "id": "fef657e5",
   "metadata": {},
   "outputs": [
    {
     "data": {
      "text/plain": [
       "SLP     0\n",
       "MSLP    0\n",
       "DBT     0\n",
       "WBT     0\n",
       "DPT     0\n",
       "RH      0\n",
       "VP      0\n",
       "DD      0\n",
       "FFF     0\n",
       "VV      0\n",
       "Cl      0\n",
       "A       0\n",
       "Cm      0\n",
       "A.1     0\n",
       "Ch      0\n",
       "A.2     0\n",
       "Dl      0\n",
       "Dm      0\n",
       "Dh      0\n",
       "TC      0\n",
       "h       0\n",
       "c       0\n",
       "a       0\n",
       "Ht      0\n",
       "RF      0\n",
       "EVP     0\n",
       "DW      0\n",
       "dtype: int64"
      ]
     },
     "execution_count": 14,
     "metadata": {},
     "output_type": "execute_result"
    }
   ],
   "source": [
    "df.isnull().sum()"
   ]
  },
  {
   "cell_type": "code",
   "execution_count": 15,
   "id": "f54de8d0",
   "metadata": {},
   "outputs": [
    {
     "name": "stdout",
     "output_type": "stream",
     "text": [
      "FFF     1.000000\n",
      "DBT     0.532016\n",
      "DD      0.516794\n",
      "VV      0.406326\n",
      "WBT     0.298904\n",
      "A.2     0.032159\n",
      "a       0.028891\n",
      "h       0.027686\n",
      "Ch      0.019794\n",
      "EVP     0.019692\n",
      "VP      0.017004\n",
      "DPT     0.010314\n",
      "Cl     -0.006076\n",
      "Dh     -0.010082\n",
      "A      -0.014857\n",
      "Ht     -0.017020\n",
      "c      -0.017020\n",
      "Dl     -0.018756\n",
      "TC     -0.021238\n",
      "RF     -0.030463\n",
      "Dm     -0.034120\n",
      "Cm     -0.038557\n",
      "A.1    -0.049139\n",
      "DW     -0.059570\n",
      "SLP    -0.209516\n",
      "MSLP   -0.211061\n",
      "RH     -0.523470\n",
      "Name: FFF, dtype: float64\n"
     ]
    }
   ],
   "source": [
    "correlation_with_fff = df.corr()['FFF'].sort_values(ascending=False)\n",
    "print(correlation_with_fff)"
   ]
  },
  {
   "cell_type": "code",
   "execution_count": 16,
   "id": "d056640c",
   "metadata": {},
   "outputs": [
    {
     "data": {
      "text/plain": [
       "SLP              float64\n",
       "MSLP             float64\n",
       "DBT              float64\n",
       "WBT              float64\n",
       "DPT              float64\n",
       "RH                 int64\n",
       "VP               float64\n",
       "DD               float64\n",
       "FFF              float64\n",
       "VV               float64\n",
       "Cl               float64\n",
       "A                float64\n",
       "Cm               float64\n",
       "A.1              float64\n",
       "Ch               float64\n",
       "A.2              float64\n",
       "Dl               float64\n",
       "Dm               float64\n",
       "Dh               float64\n",
       "TC               float64\n",
       "h                float64\n",
       "c                float64\n",
       "a                float64\n",
       "Ht               float64\n",
       "RF               float64\n",
       "EVP              float64\n",
       "DW               float64\n",
       "VP_log           float64\n",
       "RF_sqrt          float64\n",
       "temp_diff        float64\n",
       "humid_ratio      float64\n",
       "wind_humidity    float64\n",
       "VV_squared       float64\n",
       "DPT_squared      float64\n",
       "VP_roll3         float64\n",
       "RF_lag1          float64\n",
       "RF_winz          float64\n",
       "month_sin        float64\n",
       "month_cos        float64\n",
       "season_1            bool\n",
       "season_2            bool\n",
       "season_3            bool\n",
       "season_4            bool\n",
       "dtype: object"
      ]
     },
     "execution_count": 16,
     "metadata": {},
     "output_type": "execute_result"
    }
   ],
   "source": [
    "import numpy as np\n",
    "df['VP_log'] = np.log1p(df['VP'])      \n",
    "df['RF_sqrt'] = np.sqrt(df['RF'])       # for skewed rainfall\n",
    "\n",
    "df['temp_diff'] = df['DBT'] - df['WBT']     # humidity proxy\n",
    "df['humid_ratio'] = df['VP'] / (df['DBT'] + 0.1)\n",
    "df['wind_humidity'] = df['RH'] * df['VV']\n",
    "\n",
    "df['VV_squared'] = df['VV'] ** 2\n",
    "df['DPT_squared'] = df['DPT'] ** 2\n",
    "\n",
    "df['VP_roll3'] = df['VP'].rolling(window=3).mean()\n",
    "df['RF_lag1'] = df['RF'].shift(1)\n",
    "\n",
    "from scipy.stats.mstats import winsorize\n",
    "\n",
    "df['RF_winz'] = winsorize(df['RF'], limits=[0.01, 0.01])\n",
    "\n",
    "df['month'] = df.index.month\n",
    "df['season'] = df['month'] % 12 // 3 + 1  # Season: 1=spring, ..., 4=winter\n",
    "\n",
    "# Cyclic encode ==>> As months are in a cycle 1->12->1\n",
    "df['month_sin'] = np.sin(2 * np.pi * df['month'] / 12)\n",
    "df['month_cos'] = np.cos(2 * np.pi * df['month'] / 12)\n",
    "\n",
    "# (Optional) Drop original month column\n",
    "df.drop('month', axis=1, inplace=True)\n",
    "\n",
    "# One hot encoding ==>> COnverting categorical into Binary data\n",
    "season_dummies = pd.get_dummies(df['season'], prefix='season')\n",
    "df = pd.concat([df, season_dummies], axis=1)\n",
    "df.drop('season', axis=1, inplace=True)\n",
    "\n",
    "df.dropna(axis=0,inplace=True)\n",
    "df.isnull().sum()\n",
    "df.dtypes"
   ]
  },
  {
   "cell_type": "code",
   "execution_count": 17,
   "id": "ba75b8a8",
   "metadata": {},
   "outputs": [
    {
     "name": "stdout",
     "output_type": "stream",
     "text": [
      "FFF              1.000000\n",
      "DBT              0.531956\n",
      "DD               0.516743\n",
      "temp_diff        0.514616\n",
      "VV_squared       0.406457\n",
      "VV               0.406290\n",
      "WBT              0.298827\n",
      "season_2         0.159727\n",
      "season_3         0.104949\n",
      "month_sin        0.096059\n",
      "VP_roll3         0.091414\n",
      "A.2              0.032061\n",
      "a                0.028871\n",
      "h                0.027666\n",
      "Ch               0.019688\n",
      "EVP              0.019664\n",
      "VP               0.016951\n",
      "DPT_squared      0.015285\n",
      "VP_log           0.010310\n",
      "DPT              0.010264\n",
      "Cl              -0.006057\n",
      "Dh              -0.010235\n",
      "RF_lag1         -0.014201\n",
      "A               -0.014941\n",
      "Ht              -0.016993\n",
      "c               -0.016993\n",
      "Dl              -0.018722\n",
      "TC              -0.021390\n",
      "RF              -0.030569\n",
      "RF_sqrt         -0.031456\n",
      "RF_winz         -0.031478\n",
      "Dm              -0.034202\n",
      "Cm              -0.038629\n",
      "A.1             -0.049210\n",
      "DW              -0.059591\n",
      "season_1        -0.118879\n",
      "season_4        -0.151911\n",
      "SLP             -0.209403\n",
      "MSLP            -0.210947\n",
      "month_cos       -0.232630\n",
      "humid_ratio     -0.418885\n",
      "wind_humidity   -0.521454\n",
      "RH              -0.523422\n",
      "Name: FFF, dtype: float64\n"
     ]
    }
   ],
   "source": [
    "correlation_with_fff = df.corr()['FFF'].sort_values(ascending=False)\n",
    "print(correlation_with_fff)"
   ]
  },
  {
   "cell_type": "code",
   "execution_count": 18,
   "id": "faceaf20",
   "metadata": {},
   "outputs": [
    {
     "name": "stdout",
     "output_type": "stream",
     "text": [
      "DD             0.632505\n",
      "DBT            0.062989\n",
      "VP_roll3       0.056578\n",
      "temp_diff      0.043960\n",
      "TC             0.020388\n",
      "WBT            0.017878\n",
      "RF_lag1        0.017268\n",
      "month_sin      0.015947\n",
      "A              0.014742\n",
      "DPT_squared    0.011536\n",
      "VP_log         0.011509\n",
      "VP             0.011506\n",
      "DPT            0.011494\n",
      "Cl             0.011097\n",
      "month_cos      0.010114\n",
      "A.1            0.009583\n",
      "RF             0.005083\n",
      "RF_sqrt        0.004976\n",
      "Cm             0.004933\n",
      "RF_winz        0.004752\n",
      "season_2       0.003347\n",
      "VV_squared     0.002998\n",
      "VV             0.002883\n",
      "Dm             0.002341\n",
      "Dl             0.002130\n",
      "Ht             0.001853\n",
      "c              0.001642\n",
      "season_3       0.001506\n",
      "season_4       0.001453\n",
      "season_1       0.001008\n",
      "dtype: float64\n"
     ]
    }
   ],
   "source": [
    "# Feature columns (you can fine-tune this list)\n",
    "features = [\n",
    "     'DD', 'DBT', 'WBT', 'A', 'temp_diff', 'Cl', 'TC', 'Dl', 'c', 'Ht',\n",
    "    'DPT_squared', 'VP', 'VP_roll3', 'RF_sqrt', 'VV_squared', 'VV',\n",
    "    'RF_lag1', 'DPT', 'VP_log', 'RF_winz', 'RF', 'Dm', 'Cm', 'A.1','season_1','season_2','season_3','season_4','month_sin','month_cos'\n",
    "]\n",
    "from sklearn.ensemble import RandomForestRegressor\n",
    "from sklearn.model_selection import train_test_split\n",
    "import pandas as pd\n",
    "\n",
    "# X = your features, y = your target (e.g. FFF)\n",
    "X = df[features]  # your selected columns\n",
    "Y = df['FFF']\n",
    "\n",
    "# Train-test split\n",
    "X_train, X_test, Y_train, Y_test = train_test_split(X, Y, test_size=0.2, random_state=42)\n",
    "\n",
    "# Train the model\n",
    "rf = RandomForestRegressor(n_estimators=100, random_state=42)\n",
    "rf.fit(X_train, Y_train)\n",
    "\n",
    "# Get feature importances\n",
    "importances = pd.Series(rf.feature_importances_, index=X.columns).sort_values(ascending=False)\n",
    "print(importances)"
   ]
  },
  {
   "cell_type": "code",
   "execution_count": null,
   "id": "c6e9e58c",
   "metadata": {},
   "outputs": [],
   "source": [
    "selected_features = [\n",
    "    'DD',          # High correlation & importance\n",
    "    'DBT',         # High correlation & importance\n",
    "    'temp_diff',   # High correlation & importance\n",
    "    'VP_roll3',    # Moderate correlation & good importance\n",
    "    'WBT',         # Moderate correlation & decent importance\n",
    "    'month_sin',   # Lower correlation but good importance\n",
    "    'VP_log',      # Low correlation but decent importance\n",
    "    'DPT_squared', # Low correlation but decent importance\n",
    "    'VP',          # Low correlation but still included\n",
    "    'DPT',         # Low correlation but included\n",
    "    'A'            # Slightly negative correlation, but decent importance\n",
    "   \n",
    "]"
   ]
  },
  {
   "cell_type": "code",
   "execution_count": 20,
   "id": "caedec56",
   "metadata": {},
   "outputs": [
    {
     "name": "stdout",
     "output_type": "stream",
     "text": [
      "Input shape for BiLSTM: (21256, 1, 16)\n"
     ]
    }
   ],
   "source": [
    "# BiLSTM\n",
    "\n",
    "# Step 1: Reshape input for BiLSTM\n",
    "import numpy as np\n",
    "from sklearn.model_selection import train_test_split\n",
    "\n",
    "# X = your selected primary features\n",
    "# Y = target variable (FFF)\n",
    "\n",
    "X = df[selected_features].values\n",
    "Y = df['FFF'].values\n",
    "\n",
    "# Split into train and test sets\n",
    "X_train, X_test, Y_train, Y_test = train_test_split(X, Y, test_size=0.2, random_state=42)\n",
    "\n",
    "# Ensure input and output are float32\n",
    "X_train = X_train.astype('float32')\n",
    "X_test = X_test.astype('float32')\n",
    "Y_train = Y_train.astype('float32')\n",
    "Y_test = Y_test.astype('float32')\n",
    "\n",
    "\n",
    "# Reshape for LSTM: (samples, timesteps, features)\n",
    "# Here, timesteps = 1 for one-step prediction\n",
    "X_train = X_train.reshape((X_train.shape[0], 1, X_train.shape[1]))\n",
    "X_test = X_test.reshape((X_test.shape[0], 1, X_test.shape[1]))\n",
    "input_shape = (1, X_train.shape[2])\n",
    "print(\"Input shape for BiLSTM:\", X_train.shape)\n",
    "\n"
   ]
  },
  {
   "cell_type": "code",
   "execution_count": 21,
   "id": "551d9a31",
   "metadata": {},
   "outputs": [],
   "source": [
    "\n",
    "# Step 2: Define BiLSTM model architecture\n",
    "\n",
    "from tensorflow.keras.models import Sequential\n",
    "from tensorflow.keras.layers import Bidirectional, LSTM, Dense, Dropout\n",
    "from tensorflow.keras.optimizers import Adam\n",
    "\n",
    "def create_bilstm_model(input_shape, units=64, dropout_rate=0.2):\n",
    "    \"\"\"\n",
    "    Builds and returns a compiled BiLSTM model.\n",
    "    Args:\n",
    "        input_shape (tuple): Shape of input (timesteps, features)\n",
    "        units (int): Number of LSTM units\n",
    "        dropout_rate (float): Dropout rate after BiLSTM layer\n",
    "    Returns:\n",
    "        model (Sequential): Compiled Keras model\n",
    "    \"\"\"\n",
    "    model = Sequential()\n",
    "    model.add(Bidirectional(LSTM(units, return_sequences=False), input_shape=input_shape))\n",
    "    model.add(Dropout(dropout_rate))\n",
    "    model.add(Dense(1))  # Output layer for regression (wind speed)\n",
    "    model.compile(optimizer=Adam(), loss='mse', metrics=['mae'])\n",
    "    return model\n",
    "\n"
   ]
  },
  {
   "cell_type": "code",
   "execution_count": 22,
   "id": "a5ecbe1a",
   "metadata": {},
   "outputs": [
    {
     "name": "stdout",
     "output_type": "stream",
     "text": [
      "\n",
      "Iteration 1/10\n"
     ]
    },
    {
     "name": "stderr",
     "output_type": "stream",
     "text": [
      "/Library/Frameworks/Python.framework/Versions/3.12/lib/python3.12/site-packages/keras/src/layers/rnn/bidirectional.py:107: UserWarning: Do not pass an `input_shape`/`input_dim` argument to a layer. When using Sequential models, prefer using an `Input(shape)` object as the first layer in the model instead.\n",
      "  super().__init__(**kwargs)\n"
     ]
    },
    {
     "name": "stdout",
     "output_type": "stream",
     "text": [
      "\u001b[1m167/167\u001b[0m \u001b[32m━━━━━━━━━━━━━━━━━━━━\u001b[0m\u001b[37m\u001b[0m \u001b[1m0s\u001b[0m 1ms/step\n"
     ]
    },
    {
     "name": "stderr",
     "output_type": "stream",
     "text": [
      "/Library/Frameworks/Python.framework/Versions/3.12/lib/python3.12/site-packages/keras/src/layers/rnn/bidirectional.py:107: UserWarning: Do not pass an `input_shape`/`input_dim` argument to a layer. When using Sequential models, prefer using an `Input(shape)` object as the first layer in the model instead.\n",
      "  super().__init__(**kwargs)\n"
     ]
    },
    {
     "name": "stdout",
     "output_type": "stream",
     "text": [
      "\u001b[1m167/167\u001b[0m \u001b[32m━━━━━━━━━━━━━━━━━━━━\u001b[0m\u001b[37m\u001b[0m \u001b[1m0s\u001b[0m 2ms/step\n"
     ]
    },
    {
     "name": "stderr",
     "output_type": "stream",
     "text": [
      "/Library/Frameworks/Python.framework/Versions/3.12/lib/python3.12/site-packages/keras/src/layers/rnn/bidirectional.py:107: UserWarning: Do not pass an `input_shape`/`input_dim` argument to a layer. When using Sequential models, prefer using an `Input(shape)` object as the first layer in the model instead.\n",
      "  super().__init__(**kwargs)\n"
     ]
    },
    {
     "name": "stdout",
     "output_type": "stream",
     "text": [
      "\u001b[1m167/167\u001b[0m \u001b[32m━━━━━━━━━━━━━━━━━━━━\u001b[0m\u001b[37m\u001b[0m \u001b[1m1s\u001b[0m 2ms/step\n"
     ]
    },
    {
     "name": "stderr",
     "output_type": "stream",
     "text": [
      "/Library/Frameworks/Python.framework/Versions/3.12/lib/python3.12/site-packages/keras/src/layers/rnn/bidirectional.py:107: UserWarning: Do not pass an `input_shape`/`input_dim` argument to a layer. When using Sequential models, prefer using an `Input(shape)` object as the first layer in the model instead.\n",
      "  super().__init__(**kwargs)\n"
     ]
    },
    {
     "name": "stdout",
     "output_type": "stream",
     "text": [
      "\u001b[1m167/167\u001b[0m \u001b[32m━━━━━━━━━━━━━━━━━━━━\u001b[0m\u001b[37m\u001b[0m \u001b[1m0s\u001b[0m 2ms/step\n"
     ]
    },
    {
     "name": "stderr",
     "output_type": "stream",
     "text": [
      "/Library/Frameworks/Python.framework/Versions/3.12/lib/python3.12/site-packages/keras/src/layers/rnn/bidirectional.py:107: UserWarning: Do not pass an `input_shape`/`input_dim` argument to a layer. When using Sequential models, prefer using an `Input(shape)` object as the first layer in the model instead.\n",
      "  super().__init__(**kwargs)\n"
     ]
    },
    {
     "name": "stdout",
     "output_type": "stream",
     "text": [
      "\u001b[1m167/167\u001b[0m \u001b[32m━━━━━━━━━━━━━━━━━━━━\u001b[0m\u001b[37m\u001b[0m \u001b[1m0s\u001b[0m 2ms/step\n",
      "\n",
      "Iteration 2/10\n"
     ]
    },
    {
     "name": "stderr",
     "output_type": "stream",
     "text": [
      "/Library/Frameworks/Python.framework/Versions/3.12/lib/python3.12/site-packages/keras/src/layers/rnn/bidirectional.py:107: UserWarning: Do not pass an `input_shape`/`input_dim` argument to a layer. When using Sequential models, prefer using an `Input(shape)` object as the first layer in the model instead.\n",
      "  super().__init__(**kwargs)\n"
     ]
    },
    {
     "name": "stdout",
     "output_type": "stream",
     "text": [
      "\u001b[1m167/167\u001b[0m \u001b[32m━━━━━━━━━━━━━━━━━━━━\u001b[0m\u001b[37m\u001b[0m \u001b[1m0s\u001b[0m 2ms/step\n"
     ]
    },
    {
     "name": "stderr",
     "output_type": "stream",
     "text": [
      "/Library/Frameworks/Python.framework/Versions/3.12/lib/python3.12/site-packages/keras/src/layers/rnn/bidirectional.py:107: UserWarning: Do not pass an `input_shape`/`input_dim` argument to a layer. When using Sequential models, prefer using an `Input(shape)` object as the first layer in the model instead.\n",
      "  super().__init__(**kwargs)\n"
     ]
    },
    {
     "name": "stdout",
     "output_type": "stream",
     "text": [
      "\u001b[1m167/167\u001b[0m \u001b[32m━━━━━━━━━━━━━━━━━━━━\u001b[0m\u001b[37m\u001b[0m \u001b[1m0s\u001b[0m 2ms/step\n"
     ]
    },
    {
     "name": "stderr",
     "output_type": "stream",
     "text": [
      "/Library/Frameworks/Python.framework/Versions/3.12/lib/python3.12/site-packages/keras/src/layers/rnn/bidirectional.py:107: UserWarning: Do not pass an `input_shape`/`input_dim` argument to a layer. When using Sequential models, prefer using an `Input(shape)` object as the first layer in the model instead.\n",
      "  super().__init__(**kwargs)\n"
     ]
    },
    {
     "name": "stdout",
     "output_type": "stream",
     "text": [
      "\u001b[1m167/167\u001b[0m \u001b[32m━━━━━━━━━━━━━━━━━━━━\u001b[0m\u001b[37m\u001b[0m \u001b[1m1s\u001b[0m 2ms/step\n"
     ]
    },
    {
     "name": "stderr",
     "output_type": "stream",
     "text": [
      "/Library/Frameworks/Python.framework/Versions/3.12/lib/python3.12/site-packages/keras/src/layers/rnn/bidirectional.py:107: UserWarning: Do not pass an `input_shape`/`input_dim` argument to a layer. When using Sequential models, prefer using an `Input(shape)` object as the first layer in the model instead.\n",
      "  super().__init__(**kwargs)\n"
     ]
    },
    {
     "name": "stdout",
     "output_type": "stream",
     "text": [
      "\u001b[1m167/167\u001b[0m \u001b[32m━━━━━━━━━━━━━━━━━━━━\u001b[0m\u001b[37m\u001b[0m \u001b[1m0s\u001b[0m 2ms/step\n"
     ]
    },
    {
     "name": "stderr",
     "output_type": "stream",
     "text": [
      "/Library/Frameworks/Python.framework/Versions/3.12/lib/python3.12/site-packages/keras/src/layers/rnn/bidirectional.py:107: UserWarning: Do not pass an `input_shape`/`input_dim` argument to a layer. When using Sequential models, prefer using an `Input(shape)` object as the first layer in the model instead.\n",
      "  super().__init__(**kwargs)\n"
     ]
    },
    {
     "name": "stdout",
     "output_type": "stream",
     "text": [
      "\u001b[1m167/167\u001b[0m \u001b[32m━━━━━━━━━━━━━━━━━━━━\u001b[0m\u001b[37m\u001b[0m \u001b[1m0s\u001b[0m 2ms/step\n",
      "\n",
      "Iteration 3/10\n"
     ]
    },
    {
     "name": "stderr",
     "output_type": "stream",
     "text": [
      "/Library/Frameworks/Python.framework/Versions/3.12/lib/python3.12/site-packages/keras/src/layers/rnn/bidirectional.py:107: UserWarning: Do not pass an `input_shape`/`input_dim` argument to a layer. When using Sequential models, prefer using an `Input(shape)` object as the first layer in the model instead.\n",
      "  super().__init__(**kwargs)\n"
     ]
    },
    {
     "name": "stdout",
     "output_type": "stream",
     "text": [
      "\u001b[1m167/167\u001b[0m \u001b[32m━━━━━━━━━━━━━━━━━━━━\u001b[0m\u001b[37m\u001b[0m \u001b[1m0s\u001b[0m 2ms/step\n"
     ]
    },
    {
     "name": "stderr",
     "output_type": "stream",
     "text": [
      "/Library/Frameworks/Python.framework/Versions/3.12/lib/python3.12/site-packages/keras/src/layers/rnn/bidirectional.py:107: UserWarning: Do not pass an `input_shape`/`input_dim` argument to a layer. When using Sequential models, prefer using an `Input(shape)` object as the first layer in the model instead.\n",
      "  super().__init__(**kwargs)\n"
     ]
    },
    {
     "name": "stdout",
     "output_type": "stream",
     "text": [
      "\u001b[1m167/167\u001b[0m \u001b[32m━━━━━━━━━━━━━━━━━━━━\u001b[0m\u001b[37m\u001b[0m \u001b[1m1s\u001b[0m 2ms/step\n"
     ]
    },
    {
     "name": "stderr",
     "output_type": "stream",
     "text": [
      "/Library/Frameworks/Python.framework/Versions/3.12/lib/python3.12/site-packages/keras/src/layers/rnn/bidirectional.py:107: UserWarning: Do not pass an `input_shape`/`input_dim` argument to a layer. When using Sequential models, prefer using an `Input(shape)` object as the first layer in the model instead.\n",
      "  super().__init__(**kwargs)\n"
     ]
    },
    {
     "name": "stdout",
     "output_type": "stream",
     "text": [
      "\u001b[1m167/167\u001b[0m \u001b[32m━━━━━━━━━━━━━━━━━━━━\u001b[0m\u001b[37m\u001b[0m \u001b[1m0s\u001b[0m 2ms/step\n"
     ]
    },
    {
     "name": "stderr",
     "output_type": "stream",
     "text": [
      "/Library/Frameworks/Python.framework/Versions/3.12/lib/python3.12/site-packages/keras/src/layers/rnn/bidirectional.py:107: UserWarning: Do not pass an `input_shape`/`input_dim` argument to a layer. When using Sequential models, prefer using an `Input(shape)` object as the first layer in the model instead.\n",
      "  super().__init__(**kwargs)\n"
     ]
    },
    {
     "name": "stdout",
     "output_type": "stream",
     "text": [
      "\u001b[1m167/167\u001b[0m \u001b[32m━━━━━━━━━━━━━━━━━━━━\u001b[0m\u001b[37m\u001b[0m \u001b[1m0s\u001b[0m 2ms/step\n"
     ]
    },
    {
     "name": "stderr",
     "output_type": "stream",
     "text": [
      "/Library/Frameworks/Python.framework/Versions/3.12/lib/python3.12/site-packages/keras/src/layers/rnn/bidirectional.py:107: UserWarning: Do not pass an `input_shape`/`input_dim` argument to a layer. When using Sequential models, prefer using an `Input(shape)` object as the first layer in the model instead.\n",
      "  super().__init__(**kwargs)\n"
     ]
    },
    {
     "name": "stdout",
     "output_type": "stream",
     "text": [
      "\u001b[1m167/167\u001b[0m \u001b[32m━━━━━━━━━━━━━━━━━━━━\u001b[0m\u001b[37m\u001b[0m \u001b[1m0s\u001b[0m 1ms/step\n",
      "\n",
      "Iteration 4/10\n"
     ]
    },
    {
     "name": "stderr",
     "output_type": "stream",
     "text": [
      "/Library/Frameworks/Python.framework/Versions/3.12/lib/python3.12/site-packages/keras/src/layers/rnn/bidirectional.py:107: UserWarning: Do not pass an `input_shape`/`input_dim` argument to a layer. When using Sequential models, prefer using an `Input(shape)` object as the first layer in the model instead.\n",
      "  super().__init__(**kwargs)\n"
     ]
    },
    {
     "name": "stdout",
     "output_type": "stream",
     "text": [
      "\u001b[1m167/167\u001b[0m \u001b[32m━━━━━━━━━━━━━━━━━━━━\u001b[0m\u001b[37m\u001b[0m \u001b[1m0s\u001b[0m 2ms/step\n"
     ]
    },
    {
     "name": "stderr",
     "output_type": "stream",
     "text": [
      "/Library/Frameworks/Python.framework/Versions/3.12/lib/python3.12/site-packages/keras/src/layers/rnn/bidirectional.py:107: UserWarning: Do not pass an `input_shape`/`input_dim` argument to a layer. When using Sequential models, prefer using an `Input(shape)` object as the first layer in the model instead.\n",
      "  super().__init__(**kwargs)\n"
     ]
    },
    {
     "name": "stdout",
     "output_type": "stream",
     "text": [
      "\u001b[1m167/167\u001b[0m \u001b[32m━━━━━━━━━━━━━━━━━━━━\u001b[0m\u001b[37m\u001b[0m \u001b[1m1s\u001b[0m 2ms/step\n"
     ]
    },
    {
     "name": "stderr",
     "output_type": "stream",
     "text": [
      "/Library/Frameworks/Python.framework/Versions/3.12/lib/python3.12/site-packages/keras/src/layers/rnn/bidirectional.py:107: UserWarning: Do not pass an `input_shape`/`input_dim` argument to a layer. When using Sequential models, prefer using an `Input(shape)` object as the first layer in the model instead.\n",
      "  super().__init__(**kwargs)\n"
     ]
    },
    {
     "name": "stdout",
     "output_type": "stream",
     "text": [
      "\u001b[1m167/167\u001b[0m \u001b[32m━━━━━━━━━━━━━━━━━━━━\u001b[0m\u001b[37m\u001b[0m \u001b[1m1s\u001b[0m 2ms/step\n"
     ]
    },
    {
     "name": "stderr",
     "output_type": "stream",
     "text": [
      "/Library/Frameworks/Python.framework/Versions/3.12/lib/python3.12/site-packages/keras/src/layers/rnn/bidirectional.py:107: UserWarning: Do not pass an `input_shape`/`input_dim` argument to a layer. When using Sequential models, prefer using an `Input(shape)` object as the first layer in the model instead.\n",
      "  super().__init__(**kwargs)\n"
     ]
    },
    {
     "name": "stdout",
     "output_type": "stream",
     "text": [
      "\u001b[1m167/167\u001b[0m \u001b[32m━━━━━━━━━━━━━━━━━━━━\u001b[0m\u001b[37m\u001b[0m \u001b[1m0s\u001b[0m 2ms/step\n"
     ]
    },
    {
     "name": "stderr",
     "output_type": "stream",
     "text": [
      "/Library/Frameworks/Python.framework/Versions/3.12/lib/python3.12/site-packages/keras/src/layers/rnn/bidirectional.py:107: UserWarning: Do not pass an `input_shape`/`input_dim` argument to a layer. When using Sequential models, prefer using an `Input(shape)` object as the first layer in the model instead.\n",
      "  super().__init__(**kwargs)\n"
     ]
    },
    {
     "name": "stdout",
     "output_type": "stream",
     "text": [
      "\u001b[1m167/167\u001b[0m \u001b[32m━━━━━━━━━━━━━━━━━━━━\u001b[0m\u001b[37m\u001b[0m \u001b[1m0s\u001b[0m 2ms/step\n",
      "\n",
      "Iteration 5/10\n"
     ]
    },
    {
     "name": "stderr",
     "output_type": "stream",
     "text": [
      "/Library/Frameworks/Python.framework/Versions/3.12/lib/python3.12/site-packages/keras/src/layers/rnn/bidirectional.py:107: UserWarning: Do not pass an `input_shape`/`input_dim` argument to a layer. When using Sequential models, prefer using an `Input(shape)` object as the first layer in the model instead.\n",
      "  super().__init__(**kwargs)\n"
     ]
    },
    {
     "name": "stdout",
     "output_type": "stream",
     "text": [
      "\u001b[1m167/167\u001b[0m \u001b[32m━━━━━━━━━━━━━━━━━━━━\u001b[0m\u001b[37m\u001b[0m \u001b[1m0s\u001b[0m 2ms/step\n"
     ]
    },
    {
     "name": "stderr",
     "output_type": "stream",
     "text": [
      "/Library/Frameworks/Python.framework/Versions/3.12/lib/python3.12/site-packages/keras/src/layers/rnn/bidirectional.py:107: UserWarning: Do not pass an `input_shape`/`input_dim` argument to a layer. When using Sequential models, prefer using an `Input(shape)` object as the first layer in the model instead.\n",
      "  super().__init__(**kwargs)\n"
     ]
    },
    {
     "name": "stdout",
     "output_type": "stream",
     "text": [
      "\u001b[1m167/167\u001b[0m \u001b[32m━━━━━━━━━━━━━━━━━━━━\u001b[0m\u001b[37m\u001b[0m \u001b[1m1s\u001b[0m 2ms/step\n"
     ]
    },
    {
     "name": "stderr",
     "output_type": "stream",
     "text": [
      "/Library/Frameworks/Python.framework/Versions/3.12/lib/python3.12/site-packages/keras/src/layers/rnn/bidirectional.py:107: UserWarning: Do not pass an `input_shape`/`input_dim` argument to a layer. When using Sequential models, prefer using an `Input(shape)` object as the first layer in the model instead.\n",
      "  super().__init__(**kwargs)\n"
     ]
    },
    {
     "name": "stdout",
     "output_type": "stream",
     "text": [
      "\u001b[1m167/167\u001b[0m \u001b[32m━━━━━━━━━━━━━━━━━━━━\u001b[0m\u001b[37m\u001b[0m \u001b[1m1s\u001b[0m 2ms/step\n"
     ]
    },
    {
     "name": "stderr",
     "output_type": "stream",
     "text": [
      "/Library/Frameworks/Python.framework/Versions/3.12/lib/python3.12/site-packages/keras/src/layers/rnn/bidirectional.py:107: UserWarning: Do not pass an `input_shape`/`input_dim` argument to a layer. When using Sequential models, prefer using an `Input(shape)` object as the first layer in the model instead.\n",
      "  super().__init__(**kwargs)\n"
     ]
    },
    {
     "name": "stdout",
     "output_type": "stream",
     "text": [
      "\u001b[1m167/167\u001b[0m \u001b[32m━━━━━━━━━━━━━━━━━━━━\u001b[0m\u001b[37m\u001b[0m \u001b[1m1s\u001b[0m 6ms/step\n"
     ]
    },
    {
     "name": "stderr",
     "output_type": "stream",
     "text": [
      "/Library/Frameworks/Python.framework/Versions/3.12/lib/python3.12/site-packages/keras/src/layers/rnn/bidirectional.py:107: UserWarning: Do not pass an `input_shape`/`input_dim` argument to a layer. When using Sequential models, prefer using an `Input(shape)` object as the first layer in the model instead.\n",
      "  super().__init__(**kwargs)\n"
     ]
    },
    {
     "name": "stdout",
     "output_type": "stream",
     "text": [
      "\u001b[1m167/167\u001b[0m \u001b[32m━━━━━━━━━━━━━━━━━━━━\u001b[0m\u001b[37m\u001b[0m \u001b[1m1s\u001b[0m 2ms/step\n",
      "\n",
      "Iteration 6/10\n"
     ]
    },
    {
     "name": "stderr",
     "output_type": "stream",
     "text": [
      "/Library/Frameworks/Python.framework/Versions/3.12/lib/python3.12/site-packages/keras/src/layers/rnn/bidirectional.py:107: UserWarning: Do not pass an `input_shape`/`input_dim` argument to a layer. When using Sequential models, prefer using an `Input(shape)` object as the first layer in the model instead.\n",
      "  super().__init__(**kwargs)\n"
     ]
    },
    {
     "name": "stdout",
     "output_type": "stream",
     "text": [
      "\u001b[1m167/167\u001b[0m \u001b[32m━━━━━━━━━━━━━━━━━━━━\u001b[0m\u001b[37m\u001b[0m \u001b[1m0s\u001b[0m 2ms/step\n"
     ]
    },
    {
     "name": "stderr",
     "output_type": "stream",
     "text": [
      "/Library/Frameworks/Python.framework/Versions/3.12/lib/python3.12/site-packages/keras/src/layers/rnn/bidirectional.py:107: UserWarning: Do not pass an `input_shape`/`input_dim` argument to a layer. When using Sequential models, prefer using an `Input(shape)` object as the first layer in the model instead.\n",
      "  super().__init__(**kwargs)\n"
     ]
    },
    {
     "name": "stdout",
     "output_type": "stream",
     "text": [
      "\u001b[1m167/167\u001b[0m \u001b[32m━━━━━━━━━━━━━━━━━━━━\u001b[0m\u001b[37m\u001b[0m \u001b[1m0s\u001b[0m 2ms/step\n"
     ]
    },
    {
     "name": "stderr",
     "output_type": "stream",
     "text": [
      "/Library/Frameworks/Python.framework/Versions/3.12/lib/python3.12/site-packages/keras/src/layers/rnn/bidirectional.py:107: UserWarning: Do not pass an `input_shape`/`input_dim` argument to a layer. When using Sequential models, prefer using an `Input(shape)` object as the first layer in the model instead.\n",
      "  super().__init__(**kwargs)\n"
     ]
    },
    {
     "name": "stdout",
     "output_type": "stream",
     "text": [
      "\u001b[1m167/167\u001b[0m \u001b[32m━━━━━━━━━━━━━━━━━━━━\u001b[0m\u001b[37m\u001b[0m \u001b[1m0s\u001b[0m 2ms/step\n"
     ]
    },
    {
     "name": "stderr",
     "output_type": "stream",
     "text": [
      "/Library/Frameworks/Python.framework/Versions/3.12/lib/python3.12/site-packages/keras/src/layers/rnn/bidirectional.py:107: UserWarning: Do not pass an `input_shape`/`input_dim` argument to a layer. When using Sequential models, prefer using an `Input(shape)` object as the first layer in the model instead.\n",
      "  super().__init__(**kwargs)\n"
     ]
    },
    {
     "name": "stdout",
     "output_type": "stream",
     "text": [
      "\u001b[1m167/167\u001b[0m \u001b[32m━━━━━━━━━━━━━━━━━━━━\u001b[0m\u001b[37m\u001b[0m \u001b[1m0s\u001b[0m 2ms/step\n"
     ]
    },
    {
     "name": "stderr",
     "output_type": "stream",
     "text": [
      "/Library/Frameworks/Python.framework/Versions/3.12/lib/python3.12/site-packages/keras/src/layers/rnn/bidirectional.py:107: UserWarning: Do not pass an `input_shape`/`input_dim` argument to a layer. When using Sequential models, prefer using an `Input(shape)` object as the first layer in the model instead.\n",
      "  super().__init__(**kwargs)\n"
     ]
    },
    {
     "name": "stdout",
     "output_type": "stream",
     "text": [
      "\u001b[1m167/167\u001b[0m \u001b[32m━━━━━━━━━━━━━━━━━━━━\u001b[0m\u001b[37m\u001b[0m \u001b[1m1s\u001b[0m 3ms/step\n",
      "\n",
      "Iteration 7/10\n"
     ]
    },
    {
     "name": "stderr",
     "output_type": "stream",
     "text": [
      "/Library/Frameworks/Python.framework/Versions/3.12/lib/python3.12/site-packages/keras/src/layers/rnn/bidirectional.py:107: UserWarning: Do not pass an `input_shape`/`input_dim` argument to a layer. When using Sequential models, prefer using an `Input(shape)` object as the first layer in the model instead.\n",
      "  super().__init__(**kwargs)\n"
     ]
    },
    {
     "name": "stdout",
     "output_type": "stream",
     "text": [
      "\u001b[1m167/167\u001b[0m \u001b[32m━━━━━━━━━━━━━━━━━━━━\u001b[0m\u001b[37m\u001b[0m \u001b[1m1s\u001b[0m 2ms/step\n"
     ]
    },
    {
     "name": "stderr",
     "output_type": "stream",
     "text": [
      "/Library/Frameworks/Python.framework/Versions/3.12/lib/python3.12/site-packages/keras/src/layers/rnn/bidirectional.py:107: UserWarning: Do not pass an `input_shape`/`input_dim` argument to a layer. When using Sequential models, prefer using an `Input(shape)` object as the first layer in the model instead.\n",
      "  super().__init__(**kwargs)\n"
     ]
    },
    {
     "name": "stdout",
     "output_type": "stream",
     "text": [
      "\u001b[1m167/167\u001b[0m \u001b[32m━━━━━━━━━━━━━━━━━━━━\u001b[0m\u001b[37m\u001b[0m \u001b[1m1s\u001b[0m 3ms/step\n"
     ]
    },
    {
     "name": "stderr",
     "output_type": "stream",
     "text": [
      "/Library/Frameworks/Python.framework/Versions/3.12/lib/python3.12/site-packages/keras/src/layers/rnn/bidirectional.py:107: UserWarning: Do not pass an `input_shape`/`input_dim` argument to a layer. When using Sequential models, prefer using an `Input(shape)` object as the first layer in the model instead.\n",
      "  super().__init__(**kwargs)\n"
     ]
    },
    {
     "name": "stdout",
     "output_type": "stream",
     "text": [
      "\u001b[1m167/167\u001b[0m \u001b[32m━━━━━━━━━━━━━━━━━━━━\u001b[0m\u001b[37m\u001b[0m \u001b[1m0s\u001b[0m 1ms/step\n"
     ]
    },
    {
     "name": "stderr",
     "output_type": "stream",
     "text": [
      "/Library/Frameworks/Python.framework/Versions/3.12/lib/python3.12/site-packages/keras/src/layers/rnn/bidirectional.py:107: UserWarning: Do not pass an `input_shape`/`input_dim` argument to a layer. When using Sequential models, prefer using an `Input(shape)` object as the first layer in the model instead.\n",
      "  super().__init__(**kwargs)\n"
     ]
    },
    {
     "name": "stdout",
     "output_type": "stream",
     "text": [
      "\u001b[1m167/167\u001b[0m \u001b[32m━━━━━━━━━━━━━━━━━━━━\u001b[0m\u001b[37m\u001b[0m \u001b[1m1s\u001b[0m 2ms/step\n"
     ]
    },
    {
     "name": "stderr",
     "output_type": "stream",
     "text": [
      "/Library/Frameworks/Python.framework/Versions/3.12/lib/python3.12/site-packages/keras/src/layers/rnn/bidirectional.py:107: UserWarning: Do not pass an `input_shape`/`input_dim` argument to a layer. When using Sequential models, prefer using an `Input(shape)` object as the first layer in the model instead.\n",
      "  super().__init__(**kwargs)\n"
     ]
    },
    {
     "name": "stdout",
     "output_type": "stream",
     "text": [
      "\u001b[1m167/167\u001b[0m \u001b[32m━━━━━━━━━━━━━━━━━━━━\u001b[0m\u001b[37m\u001b[0m \u001b[1m0s\u001b[0m 1ms/step\n",
      "\n",
      "Iteration 8/10\n"
     ]
    },
    {
     "name": "stderr",
     "output_type": "stream",
     "text": [
      "/Library/Frameworks/Python.framework/Versions/3.12/lib/python3.12/site-packages/keras/src/layers/rnn/bidirectional.py:107: UserWarning: Do not pass an `input_shape`/`input_dim` argument to a layer. When using Sequential models, prefer using an `Input(shape)` object as the first layer in the model instead.\n",
      "  super().__init__(**kwargs)\n"
     ]
    },
    {
     "name": "stdout",
     "output_type": "stream",
     "text": [
      "\u001b[1m167/167\u001b[0m \u001b[32m━━━━━━━━━━━━━━━━━━━━\u001b[0m\u001b[37m\u001b[0m \u001b[1m0s\u001b[0m 2ms/step\n"
     ]
    },
    {
     "name": "stderr",
     "output_type": "stream",
     "text": [
      "/Library/Frameworks/Python.framework/Versions/3.12/lib/python3.12/site-packages/keras/src/layers/rnn/bidirectional.py:107: UserWarning: Do not pass an `input_shape`/`input_dim` argument to a layer. When using Sequential models, prefer using an `Input(shape)` object as the first layer in the model instead.\n",
      "  super().__init__(**kwargs)\n"
     ]
    },
    {
     "name": "stdout",
     "output_type": "stream",
     "text": [
      "\u001b[1m167/167\u001b[0m \u001b[32m━━━━━━━━━━━━━━━━━━━━\u001b[0m\u001b[37m\u001b[0m \u001b[1m0s\u001b[0m 1ms/step\n"
     ]
    },
    {
     "name": "stderr",
     "output_type": "stream",
     "text": [
      "/Library/Frameworks/Python.framework/Versions/3.12/lib/python3.12/site-packages/keras/src/layers/rnn/bidirectional.py:107: UserWarning: Do not pass an `input_shape`/`input_dim` argument to a layer. When using Sequential models, prefer using an `Input(shape)` object as the first layer in the model instead.\n",
      "  super().__init__(**kwargs)\n"
     ]
    },
    {
     "name": "stdout",
     "output_type": "stream",
     "text": [
      "\u001b[1m167/167\u001b[0m \u001b[32m━━━━━━━━━━━━━━━━━━━━\u001b[0m\u001b[37m\u001b[0m \u001b[1m0s\u001b[0m 1ms/step\n"
     ]
    },
    {
     "name": "stderr",
     "output_type": "stream",
     "text": [
      "/Library/Frameworks/Python.framework/Versions/3.12/lib/python3.12/site-packages/keras/src/layers/rnn/bidirectional.py:107: UserWarning: Do not pass an `input_shape`/`input_dim` argument to a layer. When using Sequential models, prefer using an `Input(shape)` object as the first layer in the model instead.\n",
      "  super().__init__(**kwargs)\n"
     ]
    },
    {
     "name": "stdout",
     "output_type": "stream",
     "text": [
      "\u001b[1m167/167\u001b[0m \u001b[32m━━━━━━━━━━━━━━━━━━━━\u001b[0m\u001b[37m\u001b[0m \u001b[1m0s\u001b[0m 1ms/step\n"
     ]
    },
    {
     "name": "stderr",
     "output_type": "stream",
     "text": [
      "/Library/Frameworks/Python.framework/Versions/3.12/lib/python3.12/site-packages/keras/src/layers/rnn/bidirectional.py:107: UserWarning: Do not pass an `input_shape`/`input_dim` argument to a layer. When using Sequential models, prefer using an `Input(shape)` object as the first layer in the model instead.\n",
      "  super().__init__(**kwargs)\n"
     ]
    },
    {
     "name": "stdout",
     "output_type": "stream",
     "text": [
      "\u001b[1m167/167\u001b[0m \u001b[32m━━━━━━━━━━━━━━━━━━━━\u001b[0m\u001b[37m\u001b[0m \u001b[1m0s\u001b[0m 1ms/step\n",
      "\n",
      "Iteration 9/10\n"
     ]
    },
    {
     "name": "stderr",
     "output_type": "stream",
     "text": [
      "/Library/Frameworks/Python.framework/Versions/3.12/lib/python3.12/site-packages/keras/src/layers/rnn/bidirectional.py:107: UserWarning: Do not pass an `input_shape`/`input_dim` argument to a layer. When using Sequential models, prefer using an `Input(shape)` object as the first layer in the model instead.\n",
      "  super().__init__(**kwargs)\n"
     ]
    },
    {
     "name": "stdout",
     "output_type": "stream",
     "text": [
      "\u001b[1m167/167\u001b[0m \u001b[32m━━━━━━━━━━━━━━━━━━━━\u001b[0m\u001b[37m\u001b[0m \u001b[1m0s\u001b[0m 2ms/step\n"
     ]
    },
    {
     "name": "stderr",
     "output_type": "stream",
     "text": [
      "/Library/Frameworks/Python.framework/Versions/3.12/lib/python3.12/site-packages/keras/src/layers/rnn/bidirectional.py:107: UserWarning: Do not pass an `input_shape`/`input_dim` argument to a layer. When using Sequential models, prefer using an `Input(shape)` object as the first layer in the model instead.\n",
      "  super().__init__(**kwargs)\n"
     ]
    },
    {
     "name": "stdout",
     "output_type": "stream",
     "text": [
      "\u001b[1m167/167\u001b[0m \u001b[32m━━━━━━━━━━━━━━━━━━━━\u001b[0m\u001b[37m\u001b[0m \u001b[1m0s\u001b[0m 1ms/step\n"
     ]
    },
    {
     "name": "stderr",
     "output_type": "stream",
     "text": [
      "/Library/Frameworks/Python.framework/Versions/3.12/lib/python3.12/site-packages/keras/src/layers/rnn/bidirectional.py:107: UserWarning: Do not pass an `input_shape`/`input_dim` argument to a layer. When using Sequential models, prefer using an `Input(shape)` object as the first layer in the model instead.\n",
      "  super().__init__(**kwargs)\n"
     ]
    },
    {
     "name": "stdout",
     "output_type": "stream",
     "text": [
      "\u001b[1m167/167\u001b[0m \u001b[32m━━━━━━━━━━━━━━━━━━━━\u001b[0m\u001b[37m\u001b[0m \u001b[1m0s\u001b[0m 1ms/step\n"
     ]
    },
    {
     "name": "stderr",
     "output_type": "stream",
     "text": [
      "/Library/Frameworks/Python.framework/Versions/3.12/lib/python3.12/site-packages/keras/src/layers/rnn/bidirectional.py:107: UserWarning: Do not pass an `input_shape`/`input_dim` argument to a layer. When using Sequential models, prefer using an `Input(shape)` object as the first layer in the model instead.\n",
      "  super().__init__(**kwargs)\n"
     ]
    },
    {
     "name": "stdout",
     "output_type": "stream",
     "text": [
      "\u001b[1m167/167\u001b[0m \u001b[32m━━━━━━━━━━━━━━━━━━━━\u001b[0m\u001b[37m\u001b[0m \u001b[1m0s\u001b[0m 2ms/step\n"
     ]
    },
    {
     "name": "stderr",
     "output_type": "stream",
     "text": [
      "/Library/Frameworks/Python.framework/Versions/3.12/lib/python3.12/site-packages/keras/src/layers/rnn/bidirectional.py:107: UserWarning: Do not pass an `input_shape`/`input_dim` argument to a layer. When using Sequential models, prefer using an `Input(shape)` object as the first layer in the model instead.\n",
      "  super().__init__(**kwargs)\n"
     ]
    },
    {
     "name": "stdout",
     "output_type": "stream",
     "text": [
      "\u001b[1m167/167\u001b[0m \u001b[32m━━━━━━━━━━━━━━━━━━━━\u001b[0m\u001b[37m\u001b[0m \u001b[1m0s\u001b[0m 1ms/step\n",
      "\n",
      "Iteration 10/10\n"
     ]
    },
    {
     "name": "stderr",
     "output_type": "stream",
     "text": [
      "/Library/Frameworks/Python.framework/Versions/3.12/lib/python3.12/site-packages/keras/src/layers/rnn/bidirectional.py:107: UserWarning: Do not pass an `input_shape`/`input_dim` argument to a layer. When using Sequential models, prefer using an `Input(shape)` object as the first layer in the model instead.\n",
      "  super().__init__(**kwargs)\n"
     ]
    },
    {
     "name": "stdout",
     "output_type": "stream",
     "text": [
      "\u001b[1m167/167\u001b[0m \u001b[32m━━━━━━━━━━━━━━━━━━━━\u001b[0m\u001b[37m\u001b[0m \u001b[1m0s\u001b[0m 1ms/step\n"
     ]
    },
    {
     "name": "stderr",
     "output_type": "stream",
     "text": [
      "/Library/Frameworks/Python.framework/Versions/3.12/lib/python3.12/site-packages/keras/src/layers/rnn/bidirectional.py:107: UserWarning: Do not pass an `input_shape`/`input_dim` argument to a layer. When using Sequential models, prefer using an `Input(shape)` object as the first layer in the model instead.\n",
      "  super().__init__(**kwargs)\n"
     ]
    },
    {
     "name": "stdout",
     "output_type": "stream",
     "text": [
      "\u001b[1m167/167\u001b[0m \u001b[32m━━━━━━━━━━━━━━━━━━━━\u001b[0m\u001b[37m\u001b[0m \u001b[1m0s\u001b[0m 1ms/step\n"
     ]
    },
    {
     "name": "stderr",
     "output_type": "stream",
     "text": [
      "/Library/Frameworks/Python.framework/Versions/3.12/lib/python3.12/site-packages/keras/src/layers/rnn/bidirectional.py:107: UserWarning: Do not pass an `input_shape`/`input_dim` argument to a layer. When using Sequential models, prefer using an `Input(shape)` object as the first layer in the model instead.\n",
      "  super().__init__(**kwargs)\n"
     ]
    },
    {
     "name": "stdout",
     "output_type": "stream",
     "text": [
      "\u001b[1m167/167\u001b[0m \u001b[32m━━━━━━━━━━━━━━━━━━━━\u001b[0m\u001b[37m\u001b[0m \u001b[1m0s\u001b[0m 1ms/step\n"
     ]
    },
    {
     "name": "stderr",
     "output_type": "stream",
     "text": [
      "/Library/Frameworks/Python.framework/Versions/3.12/lib/python3.12/site-packages/keras/src/layers/rnn/bidirectional.py:107: UserWarning: Do not pass an `input_shape`/`input_dim` argument to a layer. When using Sequential models, prefer using an `Input(shape)` object as the first layer in the model instead.\n",
      "  super().__init__(**kwargs)\n"
     ]
    },
    {
     "name": "stdout",
     "output_type": "stream",
     "text": [
      "\u001b[1m167/167\u001b[0m \u001b[32m━━━━━━━━━━━━━━━━━━━━\u001b[0m\u001b[37m\u001b[0m \u001b[1m0s\u001b[0m 1ms/step\n"
     ]
    },
    {
     "name": "stderr",
     "output_type": "stream",
     "text": [
      "/Library/Frameworks/Python.framework/Versions/3.12/lib/python3.12/site-packages/keras/src/layers/rnn/bidirectional.py:107: UserWarning: Do not pass an `input_shape`/`input_dim` argument to a layer. When using Sequential models, prefer using an `Input(shape)` object as the first layer in the model instead.\n",
      "  super().__init__(**kwargs)\n"
     ]
    },
    {
     "name": "stdout",
     "output_type": "stream",
     "text": [
      "\u001b[1m167/167\u001b[0m \u001b[32m━━━━━━━━━━━━━━━━━━━━\u001b[0m\u001b[37m\u001b[0m \u001b[1m0s\u001b[0m 1ms/step\n",
      "Best MSE so far: 8.0507\n",
      "Best Params → Units: 51, Dropout: 0.30, Batch Size: 37\n"
     ]
    }
   ],
   "source": [
    "\n",
    "def pso_objective(params):\n",
    "    from sklearn.metrics import mean_squared_error\n",
    "    \"\"\"\n",
    "    Objective function for PSO. Builds and evaluates a BiLSTM model with given hyperparameters.\n",
    "    params: [units, dropout, batch_size]\n",
    "    \"\"\"\n",
    "    units = int(params[0])\n",
    "    dropout = float(params[1])\n",
    "    batch_size = int(params[2])\n",
    "\n",
    "    # Build model\n",
    "    model = create_bilstm_model(input_shape=(1, X_train.shape[2]), units=units, dropout_rate=dropout)\n",
    "\n",
    "    # Train briefly (you can increase epochs later)\n",
    "    model.fit(X_train, Y_train, epochs=10, batch_size=batch_size, verbose=0, validation_split=0.1)\n",
    "\n",
    "    # Predict and calculate MSE\n",
    "    preds = model.predict(X_test)\n",
    "    mse = mean_squared_error(Y_test, preds)\n",
    "    return mse\n",
    "\n",
    "import random\n",
    "\n",
    "class Particle:\n",
    "    def __init__(self, bounds):\n",
    "        self.position = [random.uniform(b[0], b[1]) for b in bounds]\n",
    "        self.velocity = [random.uniform(-1, 1) for _ in bounds]\n",
    "        self.best_position = list(self.position)\n",
    "        self.best_score = float('inf')\n",
    "        self.score = float('inf')\n",
    "\n",
    "    def update_velocity(self, global_best, w=0.5, c1=1, c2=2):\n",
    "        for i in range(len(self.velocity)):\n",
    "            r1, r2 = random.random(), random.random()\n",
    "            cognitive = c1 * r1 * (self.best_position[i] - self.position[i])\n",
    "            social = c2 * r2 * (global_best[i] - self.position[i])\n",
    "            self.velocity[i] = w * self.velocity[i] + cognitive + social\n",
    "\n",
    "    def update_position(self, bounds):\n",
    "        for i in range(len(self.position)):\n",
    "            self.position[i] += self.velocity[i]\n",
    "            # Clamp to bounds\n",
    "            self.position[i] = max(bounds[i][0], min(bounds[i][1], self.position[i]))\n",
    "\n",
    "# Define bounds: (min, max) for each parameter\n",
    "# Format: [units, dropout, batch_size]\n",
    "bounds = [\n",
    "    (32, 128),    # LSTM units\n",
    "    (0.1, 0.5),   # Dropout\n",
    "    (16, 64)      # Batch size\n",
    "]\n",
    "\n",
    "# PSO Settings\n",
    "num_particles = 5\n",
    "num_iterations = 10\n",
    "\n",
    "# Initialize swarm\n",
    "swarm = [Particle(bounds) for _ in range(num_particles)]\n",
    "global_best_position = None\n",
    "global_best_score = float('inf')\n",
    "\n",
    "for iter in range(num_iterations):\n",
    "    print(f\"\\nIteration {iter+1}/{num_iterations}\")\n",
    "    \n",
    "    for particle in swarm:\n",
    "        # Evaluate current position\n",
    "        score = pso_objective(particle.position)\n",
    "        particle.score = score\n",
    "\n",
    "        # Update personal best\n",
    "        if score < particle.best_score:\n",
    "            particle.best_score = score\n",
    "            particle.best_position = list(particle.position)\n",
    "\n",
    "        # Update global best\n",
    "        if score < global_best_score:\n",
    "            global_best_score = score\n",
    "            global_best_position = list(particle.position)\n",
    "\n",
    "    # Update velocities and positions\n",
    "    for particle in swarm:\n",
    "        particle.update_velocity(global_best_position)\n",
    "        particle.update_position(bounds)\n",
    "\n",
    "\n",
    "best_units = int(global_best_position[0])\n",
    "best_dropout = float(global_best_position[1])\n",
    "best_batch_size = int(global_best_position[2])\n",
    "\n",
    "print(f\"Best MSE so far: {global_best_score:.4f}\")\n",
    "print(f\"Best Params → Units: {best_units}, Dropout: {best_dropout:.2f}, Batch Size: {best_batch_size}\")\n",
    "\n"
   ]
  },
  {
   "cell_type": "code",
   "execution_count": 23,
   "id": "231f9625",
   "metadata": {},
   "outputs": [
    {
     "name": "stdout",
     "output_type": "stream",
     "text": [
      "Epoch 1/50\n"
     ]
    },
    {
     "name": "stderr",
     "output_type": "stream",
     "text": [
      "/Library/Frameworks/Python.framework/Versions/3.12/lib/python3.12/site-packages/keras/src/layers/rnn/bidirectional.py:107: UserWarning: Do not pass an `input_shape`/`input_dim` argument to a layer. When using Sequential models, prefer using an `Input(shape)` object as the first layer in the model instead.\n",
      "  super().__init__(**kwargs)\n"
     ]
    },
    {
     "name": "stdout",
     "output_type": "stream",
     "text": [
      "\u001b[1m518/518\u001b[0m \u001b[32m━━━━━━━━━━━━━━━━━━━━\u001b[0m\u001b[37m\u001b[0m \u001b[1m2s\u001b[0m 2ms/step - loss: 34.5529 - mae: 4.5794 - val_loss: 15.2784 - val_mae: 2.7231\n",
      "Epoch 2/50\n",
      "\u001b[1m518/518\u001b[0m \u001b[32m━━━━━━━━━━━━━━━━━━━━\u001b[0m\u001b[37m\u001b[0m \u001b[1m1s\u001b[0m 2ms/step - loss: 23.9008 - mae: 3.5334 - val_loss: 14.1292 - val_mae: 2.6042\n",
      "Epoch 3/50\n",
      "\u001b[1m518/518\u001b[0m \u001b[32m━━━━━━━━━━━━━━━━━━━━\u001b[0m\u001b[37m\u001b[0m \u001b[1m1s\u001b[0m 1ms/step - loss: 23.1382 - mae: 3.4673 - val_loss: 12.7474 - val_mae: 2.3848\n",
      "Epoch 4/50\n",
      "\u001b[1m518/518\u001b[0m \u001b[32m━━━━━━━━━━━━━━━━━━━━\u001b[0m\u001b[37m\u001b[0m \u001b[1m1s\u001b[0m 2ms/step - loss: 21.3887 - mae: 3.3904 - val_loss: 13.1879 - val_mae: 2.3808\n",
      "Epoch 5/50\n",
      "\u001b[1m518/518\u001b[0m \u001b[32m━━━━━━━━━━━━━━━━━━━━\u001b[0m\u001b[37m\u001b[0m \u001b[1m1s\u001b[0m 1ms/step - loss: 20.3056 - mae: 3.3050 - val_loss: 11.8950 - val_mae: 2.3874\n",
      "Epoch 6/50\n",
      "\u001b[1m518/518\u001b[0m \u001b[32m━━━━━━━━━━━━━━━━━━━━\u001b[0m\u001b[37m\u001b[0m \u001b[1m1s\u001b[0m 2ms/step - loss: 19.1681 - mae: 3.2342 - val_loss: 11.6450 - val_mae: 2.5016\n",
      "Epoch 7/50\n",
      "\u001b[1m518/518\u001b[0m \u001b[32m━━━━━━━━━━━━━━━━━━━━\u001b[0m\u001b[37m\u001b[0m \u001b[1m1s\u001b[0m 2ms/step - loss: 17.7292 - mae: 3.1486 - val_loss: 11.6013 - val_mae: 2.5078\n",
      "Epoch 8/50\n",
      "\u001b[1m518/518\u001b[0m \u001b[32m━━━━━━━━━━━━━━━━━━━━\u001b[0m\u001b[37m\u001b[0m \u001b[1m1s\u001b[0m 1ms/step - loss: 17.2220 - mae: 3.0994 - val_loss: 10.9619 - val_mae: 2.4014\n",
      "Epoch 9/50\n",
      "\u001b[1m518/518\u001b[0m \u001b[32m━━━━━━━━━━━━━━━━━━━━\u001b[0m\u001b[37m\u001b[0m \u001b[1m1s\u001b[0m 1ms/step - loss: 16.3835 - mae: 3.0610 - val_loss: 10.8896 - val_mae: 2.5012\n",
      "Epoch 10/50\n",
      "\u001b[1m518/518\u001b[0m \u001b[32m━━━━━━━━━━━━━━━━━━━━\u001b[0m\u001b[37m\u001b[0m \u001b[1m1s\u001b[0m 1ms/step - loss: 15.4945 - mae: 2.9676 - val_loss: 10.4419 - val_mae: 2.5016\n",
      "Epoch 11/50\n",
      "\u001b[1m518/518\u001b[0m \u001b[32m━━━━━━━━━━━━━━━━━━━━\u001b[0m\u001b[37m\u001b[0m \u001b[1m1s\u001b[0m 2ms/step - loss: 15.3566 - mae: 2.9498 - val_loss: 10.2608 - val_mae: 2.4831\n",
      "Epoch 12/50\n",
      "\u001b[1m518/518\u001b[0m \u001b[32m━━━━━━━━━━━━━━━━━━━━\u001b[0m\u001b[37m\u001b[0m \u001b[1m1s\u001b[0m 1ms/step - loss: 15.1718 - mae: 2.9540 - val_loss: 10.1563 - val_mae: 2.4538\n",
      "Epoch 13/50\n",
      "\u001b[1m518/518\u001b[0m \u001b[32m━━━━━━━━━━━━━━━━━━━━\u001b[0m\u001b[37m\u001b[0m \u001b[1m1s\u001b[0m 1ms/step - loss: 14.7072 - mae: 2.9184 - val_loss: 9.8757 - val_mae: 2.4110\n",
      "Epoch 14/50\n",
      "\u001b[1m518/518\u001b[0m \u001b[32m━━━━━━━━━━━━━━━━━━━━\u001b[0m\u001b[37m\u001b[0m \u001b[1m1s\u001b[0m 1ms/step - loss: 14.2349 - mae: 2.8785 - val_loss: 9.7675 - val_mae: 2.4814\n",
      "Epoch 15/50\n",
      "\u001b[1m518/518\u001b[0m \u001b[32m━━━━━━━━━━━━━━━━━━━━\u001b[0m\u001b[37m\u001b[0m \u001b[1m1s\u001b[0m 2ms/step - loss: 14.0880 - mae: 2.8788 - val_loss: 9.8345 - val_mae: 2.3958\n",
      "Epoch 16/50\n",
      "\u001b[1m518/518\u001b[0m \u001b[32m━━━━━━━━━━━━━━━━━━━━\u001b[0m\u001b[37m\u001b[0m \u001b[1m1s\u001b[0m 1ms/step - loss: 13.6128 - mae: 2.8333 - val_loss: 9.6107 - val_mae: 2.4798\n",
      "Epoch 17/50\n",
      "\u001b[1m518/518\u001b[0m \u001b[32m━━━━━━━━━━━━━━━━━━━━\u001b[0m\u001b[37m\u001b[0m \u001b[1m1s\u001b[0m 1ms/step - loss: 13.5842 - mae: 2.8048 - val_loss: 9.7719 - val_mae: 2.4539\n",
      "Epoch 18/50\n",
      "\u001b[1m518/518\u001b[0m \u001b[32m━━━━━━━━━━━━━━━━━━━━\u001b[0m\u001b[37m\u001b[0m \u001b[1m1s\u001b[0m 1ms/step - loss: 13.4853 - mae: 2.8101 - val_loss: 9.8021 - val_mae: 2.4938\n",
      "Epoch 19/50\n",
      "\u001b[1m518/518\u001b[0m \u001b[32m━━━━━━━━━━━━━━━━━━━━\u001b[0m\u001b[37m\u001b[0m \u001b[1m1s\u001b[0m 1ms/step - loss: 13.9654 - mae: 2.8444 - val_loss: 9.6881 - val_mae: 2.5031\n",
      "Epoch 20/50\n",
      "\u001b[1m518/518\u001b[0m \u001b[32m━━━━━━━━━━━━━━━━━━━━\u001b[0m\u001b[37m\u001b[0m \u001b[1m1s\u001b[0m 1ms/step - loss: 13.7819 - mae: 2.8405 - val_loss: 10.2889 - val_mae: 2.6322\n",
      "Epoch 21/50\n",
      "\u001b[1m518/518\u001b[0m \u001b[32m━━━━━━━━━━━━━━━━━━━━\u001b[0m\u001b[37m\u001b[0m \u001b[1m1s\u001b[0m 1ms/step - loss: 13.4739 - mae: 2.8048 - val_loss: 9.5660 - val_mae: 2.4701\n",
      "Epoch 22/50\n",
      "\u001b[1m518/518\u001b[0m \u001b[32m━━━━━━━━━━━━━━━━━━━━\u001b[0m\u001b[37m\u001b[0m \u001b[1m1s\u001b[0m 1ms/step - loss: 13.0302 - mae: 2.7485 - val_loss: 9.6354 - val_mae: 2.5119\n",
      "Epoch 23/50\n",
      "\u001b[1m518/518\u001b[0m \u001b[32m━━━━━━━━━━━━━━━━━━━━\u001b[0m\u001b[37m\u001b[0m \u001b[1m1s\u001b[0m 1ms/step - loss: 13.7395 - mae: 2.8183 - val_loss: 9.5669 - val_mae: 2.5115\n",
      "Epoch 24/50\n",
      "\u001b[1m518/518\u001b[0m \u001b[32m━━━━━━━━━━━━━━━━━━━━\u001b[0m\u001b[37m\u001b[0m \u001b[1m1s\u001b[0m 2ms/step - loss: 13.6236 - mae: 2.7992 - val_loss: 9.6900 - val_mae: 2.5000\n",
      "Epoch 25/50\n",
      "\u001b[1m518/518\u001b[0m \u001b[32m━━━━━━━━━━━━━━━━━━━━\u001b[0m\u001b[37m\u001b[0m \u001b[1m1s\u001b[0m 2ms/step - loss: 13.4137 - mae: 2.8018 - val_loss: 9.4778 - val_mae: 2.4507\n",
      "Epoch 26/50\n",
      "\u001b[1m518/518\u001b[0m \u001b[32m━━━━━━━━━━━━━━━━━━━━\u001b[0m\u001b[37m\u001b[0m \u001b[1m1s\u001b[0m 2ms/step - loss: 13.6095 - mae: 2.8096 - val_loss: 10.1256 - val_mae: 2.5509\n",
      "Epoch 27/50\n",
      "\u001b[1m518/518\u001b[0m \u001b[32m━━━━━━━━━━━━━━━━━━━━\u001b[0m\u001b[37m\u001b[0m \u001b[1m1s\u001b[0m 2ms/step - loss: 14.2115 - mae: 2.8666 - val_loss: 9.5158 - val_mae: 2.5021\n",
      "Epoch 28/50\n",
      "\u001b[1m518/518\u001b[0m \u001b[32m━━━━━━━━━━━━━━━━━━━━\u001b[0m\u001b[37m\u001b[0m \u001b[1m1s\u001b[0m 2ms/step - loss: 13.5548 - mae: 2.8111 - val_loss: 9.6820 - val_mae: 2.5128\n",
      "Epoch 29/50\n",
      "\u001b[1m518/518\u001b[0m \u001b[32m━━━━━━━━━━━━━━━━━━━━\u001b[0m\u001b[37m\u001b[0m \u001b[1m1s\u001b[0m 2ms/step - loss: 13.5192 - mae: 2.8089 - val_loss: 9.8158 - val_mae: 2.5409\n",
      "Epoch 30/50\n",
      "\u001b[1m518/518\u001b[0m \u001b[32m━━━━━━━━━━━━━━━━━━━━\u001b[0m\u001b[37m\u001b[0m \u001b[1m1s\u001b[0m 1ms/step - loss: 13.4727 - mae: 2.8111 - val_loss: 10.2918 - val_mae: 2.5892\n",
      "Epoch 31/50\n",
      "\u001b[1m518/518\u001b[0m \u001b[32m━━━━━━━━━━━━━━━━━━━━\u001b[0m\u001b[37m\u001b[0m \u001b[1m1s\u001b[0m 1ms/step - loss: 13.8836 - mae: 2.8435 - val_loss: 9.4042 - val_mae: 2.5061\n",
      "Epoch 32/50\n",
      "\u001b[1m518/518\u001b[0m \u001b[32m━━━━━━━━━━━━━━━━━━━━\u001b[0m\u001b[37m\u001b[0m \u001b[1m1s\u001b[0m 2ms/step - loss: 13.2807 - mae: 2.7868 - val_loss: 9.8566 - val_mae: 2.5811\n",
      "Epoch 33/50\n",
      "\u001b[1m518/518\u001b[0m \u001b[32m━━━━━━━━━━━━━━━━━━━━\u001b[0m\u001b[37m\u001b[0m \u001b[1m1s\u001b[0m 1ms/step - loss: 13.3171 - mae: 2.7861 - val_loss: 10.0358 - val_mae: 2.5988\n",
      "Epoch 34/50\n",
      "\u001b[1m518/518\u001b[0m \u001b[32m━━━━━━━━━━━━━━━━━━━━\u001b[0m\u001b[37m\u001b[0m \u001b[1m1s\u001b[0m 2ms/step - loss: 13.4366 - mae: 2.7817 - val_loss: 9.4928 - val_mae: 2.5015\n",
      "Epoch 35/50\n",
      "\u001b[1m518/518\u001b[0m \u001b[32m━━━━━━━━━━━━━━━━━━━━\u001b[0m\u001b[37m\u001b[0m \u001b[1m1s\u001b[0m 2ms/step - loss: 13.3041 - mae: 2.7871 - val_loss: 9.4673 - val_mae: 2.4892\n",
      "Epoch 36/50\n",
      "\u001b[1m518/518\u001b[0m \u001b[32m━━━━━━━━━━━━━━━━━━━━\u001b[0m\u001b[37m\u001b[0m \u001b[1m1s\u001b[0m 1ms/step - loss: 13.5711 - mae: 2.8087 - val_loss: 9.7964 - val_mae: 2.5413\n",
      "Epoch 37/50\n",
      "\u001b[1m518/518\u001b[0m \u001b[32m━━━━━━━━━━━━━━━━━━━━\u001b[0m\u001b[37m\u001b[0m \u001b[1m1s\u001b[0m 2ms/step - loss: 13.5108 - mae: 2.8120 - val_loss: 9.5496 - val_mae: 2.5347\n",
      "Epoch 38/50\n",
      "\u001b[1m518/518\u001b[0m \u001b[32m━━━━━━━━━━━━━━━━━━━━\u001b[0m\u001b[37m\u001b[0m \u001b[1m1s\u001b[0m 2ms/step - loss: 13.4098 - mae: 2.7843 - val_loss: 9.4914 - val_mae: 2.5019\n",
      "Epoch 39/50\n",
      "\u001b[1m518/518\u001b[0m \u001b[32m━━━━━━━━━━━━━━━━━━━━\u001b[0m\u001b[37m\u001b[0m \u001b[1m1s\u001b[0m 1ms/step - loss: 13.5189 - mae: 2.7947 - val_loss: 9.9369 - val_mae: 2.5415\n",
      "Epoch 40/50\n",
      "\u001b[1m518/518\u001b[0m \u001b[32m━━━━━━━━━━━━━━━━━━━━\u001b[0m\u001b[37m\u001b[0m \u001b[1m1s\u001b[0m 1ms/step - loss: 13.3929 - mae: 2.7892 - val_loss: 9.7598 - val_mae: 2.4916\n",
      "Epoch 41/50\n",
      "\u001b[1m518/518\u001b[0m \u001b[32m━━━━━━━━━━━━━━━━━━━━\u001b[0m\u001b[37m\u001b[0m \u001b[1m1s\u001b[0m 1ms/step - loss: 13.7097 - mae: 2.8269 - val_loss: 9.4027 - val_mae: 2.4591\n",
      "Epoch 42/50\n",
      "\u001b[1m518/518\u001b[0m \u001b[32m━━━━━━━━━━━━━━━━━━━━\u001b[0m\u001b[37m\u001b[0m \u001b[1m1s\u001b[0m 1ms/step - loss: 13.2765 - mae: 2.7608 - val_loss: 9.4087 - val_mae: 2.4840\n",
      "Epoch 43/50\n",
      "\u001b[1m518/518\u001b[0m \u001b[32m━━━━━━━━━━━━━━━━━━━━\u001b[0m\u001b[37m\u001b[0m \u001b[1m1s\u001b[0m 1ms/step - loss: 13.7579 - mae: 2.8428 - val_loss: 9.3525 - val_mae: 2.5144\n",
      "Epoch 44/50\n",
      "\u001b[1m518/518\u001b[0m \u001b[32m━━━━━━━━━━━━━━━━━━━━\u001b[0m\u001b[37m\u001b[0m \u001b[1m1s\u001b[0m 1ms/step - loss: 13.3135 - mae: 2.7692 - val_loss: 9.7556 - val_mae: 2.5794\n",
      "Epoch 45/50\n",
      "\u001b[1m518/518\u001b[0m \u001b[32m━━━━━━━━━━━━━━━━━━━━\u001b[0m\u001b[37m\u001b[0m \u001b[1m1s\u001b[0m 1ms/step - loss: 13.5031 - mae: 2.7871 - val_loss: 9.2624 - val_mae: 2.4490\n",
      "Epoch 46/50\n",
      "\u001b[1m518/518\u001b[0m \u001b[32m━━━━━━━━━━━━━━━━━━━━\u001b[0m\u001b[37m\u001b[0m \u001b[1m1s\u001b[0m 2ms/step - loss: 13.0860 - mae: 2.7519 - val_loss: 9.4888 - val_mae: 2.4868\n",
      "Epoch 47/50\n",
      "\u001b[1m518/518\u001b[0m \u001b[32m━━━━━━━━━━━━━━━━━━━━\u001b[0m\u001b[37m\u001b[0m \u001b[1m1s\u001b[0m 1ms/step - loss: 13.5444 - mae: 2.8015 - val_loss: 9.2434 - val_mae: 2.4345\n",
      "Epoch 48/50\n",
      "\u001b[1m518/518\u001b[0m \u001b[32m━━━━━━━━━━━━━━━━━━━━\u001b[0m\u001b[37m\u001b[0m \u001b[1m1s\u001b[0m 1ms/step - loss: 13.2786 - mae: 2.7631 - val_loss: 9.6268 - val_mae: 2.5057\n",
      "Epoch 49/50\n",
      "\u001b[1m518/518\u001b[0m \u001b[32m━━━━━━━━━━━━━━━━━━━━\u001b[0m\u001b[37m\u001b[0m \u001b[1m1s\u001b[0m 1ms/step - loss: 13.4929 - mae: 2.7954 - val_loss: 9.5244 - val_mae: 2.5180\n",
      "Epoch 50/50\n",
      "\u001b[1m518/518\u001b[0m \u001b[32m━━━━━━━━━━━━━━━━━━━━\u001b[0m\u001b[37m\u001b[0m \u001b[1m1s\u001b[0m 1ms/step - loss: 12.9859 - mae: 2.7355 - val_loss: 9.3779 - val_mae: 2.4904\n",
      "\u001b[1m167/167\u001b[0m \u001b[32m━━━━━━━━━━━━━━━━━━━━\u001b[0m\u001b[37m\u001b[0m \u001b[1m0s\u001b[0m 1ms/step\n",
      "MSE: 9.4537\n",
      "MAE: 2.4933\n",
      "R² Score: 0.5925\n"
     ]
    }
   ],
   "source": [
    "\n",
    "from sklearn.metrics import mean_squared_error, mean_absolute_error, r2_score\n",
    "# Step 3: Train the BiLSTM model\n",
    "model = create_bilstm_model(input_shape=(1, X_train.shape[2]), units=best_units)\n",
    "model.add(Dropout(best_dropout))\n",
    "model.add(Dense(1))\n",
    "model.compile(optimizer='adam', loss='mean_squared_error')\n",
    "model.fit(X_train, Y_train,epochs=50,batch_size=best_batch_size,validation_split=0.1,verbose=1)\n",
    "\n",
    "# Step 4: Make predictions\n",
    "Y_pred = model.predict(X_test)\n",
    "\n",
    "# Step 5: Evaluate\n",
    "mse = mean_squared_error(Y_test, Y_pred)\n",
    "mae = mean_absolute_error(Y_test, Y_pred)\n",
    "r2 = r2_score(Y_test, Y_pred)\n",
    "\n",
    "print(f\"MSE: {mse:.4f}\")\n",
    "print(f\"MAE: {mae:.4f}\")\n",
    "print(f\"R² Score: {r2:.4f}\")\n",
    "\n"
   ]
  },
  {
   "cell_type": "code",
   "execution_count": 24,
   "id": "8216441d",
   "metadata": {},
   "outputs": [
    {
     "data": {
      "image/png": "[encoded data removed]",
      "text/plain": [
       "<Figure size 1500x500 with 1 Axes>"
      ]
     },
     "metadata": {},
     "output_type": "display_data"
    }
   ],
   "source": [
    "\n",
    "import matplotlib.pyplot as plt\n",
    "\n",
    "plt.figure(figsize=(15, 5))\n",
    "plt.plot(Y_test, label='Actual', linewidth=2)\n",
    "plt.plot(Y_pred, label='Predicted', linewidth=2)\n",
    "plt.title(\"Actual vs Predicted Wind Speed (FFF) - Full Test Set\")\n",
    "plt.xlabel(\"Sample Index\")\n",
    "plt.ylabel(\"Wind Speed\")\n",
    "plt.legend()\n",
    "plt.grid(True)\n",
    "plt.tight_layout()\n",
    "plt.show()\n"
   ]
  },
  {
   "cell_type": "code",
   "execution_count": 25,
   "id": "d945e456",
   "metadata": {},
   "outputs": [
    {
     "name": "stdout",
     "output_type": "stream",
     "text": [
      "Results appended to CSV: plot/history_CH_bi.csv\n"
     ]
    }
   ],
   "source": [
    "\n",
    "import os\n",
    "import matplotlib.pyplot as plt\n",
    "from datetime import datetime\n",
    "\n",
    "# Directory for saving plots and CSV\n",
    "output_dir = \"plot\"\n",
    "os.makedirs(output_dir, exist_ok=True)\n",
    "\n",
    "timestamp = datetime.now().strftime(\"%Y-%m-%d_%H-%M-%S\")\n",
    "\n",
    "import pandas as pd\n",
    "\n",
    "# Replace with actual best values from your GWO\n",
    "result = {\n",
    "    \"Timestamp\": timestamp,\n",
    "    \"Units\": best_units,\n",
    "    \"Dropout\":best_dropout,\n",
    "    \"Batch Size\":best_batch_size,\n",
    "    \"MAE\": mae,\n",
    "    \"MSE\": mse,\n",
    "    \"R2\":r2\n",
    "}\n",
    "\n",
    "csv_path = os.path.join(output_dir, \"history_CH_bi.csv\")\n",
    "\n",
    "# Append to CSV\n",
    "if os.path.exists(csv_path):\n",
    "    df_existing = pd.read_csv(csv_path)\n",
    "    df_existing = pd.concat([df_existing, pd.DataFrame([result])], ignore_index=True)\n",
    "    df_existing.to_csv(csv_path, index=False)\n",
    "else:\n",
    "    pd.DataFrame([result]).to_csv(csv_path, index=False)\n",
    "\n",
    "print(f\"Results appended to CSV: {csv_path}\")"
   ]
  }
 ],
 "metadata": {
  "kernelspec": {
   "display_name": "Python 3",
   "language": "python",
   "name": "python3"
  },
  "language_info": {
   "codemirror_mode": {
    "name": "ipython",
    "version": 3
   },
   "file_extension": ".py",
   "mimetype": "text/x-python",
   "name": "python",
   "nbconvert_exporter": "python",
   "pygments_lexer": "ipython3",
   "version": "3.12.4"
  }
 },
 "nbformat": 4,
 "nbformat_minor": 5
}
