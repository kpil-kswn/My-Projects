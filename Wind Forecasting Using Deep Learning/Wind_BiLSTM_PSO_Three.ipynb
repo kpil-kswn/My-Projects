{
 "cells": [
  {
   "cell_type": "code",
   "execution_count": 1,
   "id": "90f00c67",
   "metadata": {},
   "outputs": [
    {
     "name": "stderr",
     "output_type": "stream",
     "text": [
      "/var/folders/kt/q0sjjgn94nz3_lf77pxkgr6h0000gn/T/ipykernel_1074/2495537555.py:3: DtypeWarning: Columns (12,18,19,22,26) have mixed types. Specify dtype option on import or set low_memory=False.\n",
      "  df=pd.read_csv(\"MUMBAI.csv\")\n"
     ]
    }
   ],
   "source": [
    "import pandas as pd \n",
    "import numpy as np\n",
    "df=pd.read_csv(\"MUMBAI.csv\")"
   ]
  },
  {
   "cell_type": "markdown",
   "id": "297f720b",
   "metadata": {},
   "source": [
    "INDEX : Index No. of the station\n",
    "\n",
    "MN    : Month\n",
    "\n",
    "HR    : Hour Code\n",
    "\n",
    "DT    : Date\n",
    "\n",
    "SLP   : Station Level Pressure hpa\n",
    "\n",
    "MSLP  : Mean Sea Level Pressure hpa\n",
    "\n",
    "DBT   : Dry bulb Temperature oC\n",
    "\n",
    "WBT   : Wet bulb Temperature oC\n",
    "\n",
    "DPT   : Dew point Temperature oC\n",
    "\n",
    "RH    : Relative Humidity in %, i.e. 090 means 90 %.\n",
    "\n",
    "VP    : Vapour Pressure in hpa\n",
    "\n",
    "DD    : Wind Direction in 16 points of compass\n",
    "\n",
    "FFF   : Wind Speed in Km. per hour\n",
    "\n",
    "AW    : Average Wind speed\n",
    "\n",
    "VV    : Visibility\n",
    "\n",
    "Cl    : Form of Low cloud \n",
    "\n",
    "A     : Amount of Low cloud \n",
    "\n",
    "Cm    : Form of Medium cloud\n",
    "\n",
    "A.1   : Amount of Medium cloud \n",
    "\n",
    "Ch    : Form of High Cloud\n",
    "\n",
    "A.2   : Amount of High cloud\n",
    "\n",
    "Dl    : Direction of low cloud in 8 points of compass (in code)\n",
    "\n",
    "Dm    : Direction of medium cloud in 8 points of compass (in code)\n",
    "\n",
    "Dh    : Direction of high cloud in 8 points of compass (in code)\n",
    "\n",
    "TC    : Total amount of cloud (in oktas)\n",
    "\n",
    "h     : Height of low cloud\n",
    "\n",
    "c     : Form of individual Layer of cloud\n",
    "\n",
    "a     : Amount of individual Layer of cloud\n",
    "\n",
    "Ht    : Height of individual Layer of cloud (in code)\n",
    "\n",
    "RF    : Total Rainfall since previous observation in mm\n",
    "\n",
    "EVP   : Total Evaporation in mm\n",
    "\n",
    "DW    : Direction of Wave in 16 points of compass (in code)\n",
    "\n",
    "P     : Period of wave (in code)\n",
    "\n",
    "H     : Height of wave (in code)\n",
    "\n",
    "WAT   : Water Temperature in degree C\n",
    "   "
   ]
  },
  {
   "cell_type": "code",
   "execution_count": 2,
   "id": "57820c9e",
   "metadata": {},
   "outputs": [],
   "source": [
    "df=df.iloc[:,:-2]\n",
    "df=df.apply(pd.to_numeric,errors='coerce')\n",
    "\n",
    "# As avg wind speed is missing for 21126 columns \n",
    "df[['AW','FFF']].corr()\n",
    "# So correlation is moderate and 75% of AW data is missing let's drop it.\n",
    "df.drop([\"AW\"], axis=1,inplace=True)\n",
    "\n",
    "df[\"HR\"]=df[\"HR\"]/4\n",
    "\n",
    "# List of categorical columns to fill by month-wise mode\n",
    "cat_cols_by_month = ['DD', 'Cm', 'A.1', 'Dl', 'Dm', 'TC', 'h', 'c', 'Ht']\n",
    "\n",
    "# Filling each categorical column's null values using the mode of its month\n",
    "for col in cat_cols_by_month:\n",
    "    df[col] = df.groupby('MN')[col].transform(lambda x: x.fillna(x.mode().iloc[0]) if not x.mode().empty else x.fillna(\"Unknown\"))\n",
    "\n",
    "# Fill high-null categorical columns with month-wise mode or 'Unknown'\n",
    "for col in ['Ch', 'A.2', 'Dh']:\n",
    "    df[col] = df.groupby('MN')[col].transform(lambda x: x.fillna(x.mode().iloc[0]) if not x.mode().empty else x.fillna(\"Unknown\"))\n",
    "\n",
    "# Fill numeric columns with median of the respective month\n",
    "for col in ['VP', 'FFF', 'VV']:\n",
    "    df[col] = df.groupby('MN')[col].transform(lambda x: x.fillna(x.median()))\n",
    "\n",
    "# Fill 'DD' with mode of respective month\n",
    "df['DD'] = df.groupby('MN')['DD'].transform(lambda x: x.fillna(x.mode().iloc[0]) if not x.mode().empty else x.fillna(\"Unknown\"))\n",
    "\n",
    "# Fill missing values with month-wise median\n",
    "df['RF'] = df.groupby('MN')['RF'].transform(lambda x: x.fillna(x.median()))\n",
    "# Fill by daily median first , Beacuse it may vary day to day a lot.\n",
    "df['EVP'] = df.groupby(['YEAR', 'MN', 'DT'])['EVP'].transform(lambda x: x.fillna(x.median()))\n",
    "\n",
    "# Removing INDEX and setime datetime as new Index\n",
    "df=df.drop('INDEX',axis=1)\n",
    "df['datetime']=pd.to_datetime(df[['YEAR','MN','DT','HR']].rename(columns={\n",
    "    'YEAR':'year',\n",
    "    'MN':'month',\n",
    "    'DT':'day',\n",
    "    'HR':'hour'\n",
    "}),errors='coerce')\n",
    "\n",
    "df.index = pd.to_datetime(df.index)\n",
    "df = df[df['datetime'].dt.year != 2020]\n",
    "df.set_index('datetime',inplace=True)"
   ]
  },
  {
   "cell_type": "code",
   "execution_count": 3,
   "id": "4a1ac1c9",
   "metadata": {},
   "outputs": [],
   "source": [
    "# As month,day and time don't affect fff much so drop them\n",
    "df.drop(['YEAR','MN','DT','HR'],axis=1,inplace=True)\n",
    "\n",
    "# Sorting the dataframe by timestamp\n",
    "df = df.sort_values('datetime')"
   ]
  },
  {
   "cell_type": "markdown",
   "id": "177b50a3",
   "metadata": {},
   "source": [
    "Outlier Detection"
   ]
  },
  {
   "cell_type": "code",
   "execution_count": 4,
   "id": "5e112343",
   "metadata": {},
   "outputs": [],
   "source": [
    "from scipy.stats import zscore\n",
    "import numpy as np\n",
    "\n",
    "# Step 1: Select numeric columns only\n",
    "numeric_cols = df.select_dtypes(include=['float64', 'int64']).columns\n",
    "\n",
    "# Step 2: Compute Z-scores for each numeric column\n",
    "z_scores = np.abs(zscore(df[numeric_cols]))\n",
    "\n",
    "# Step 3: Define a threshold and filter out outliers\n",
    "threshold = 3\n",
    "df = df[(z_scores < threshold).all(axis=1)]"
   ]
  },
  {
   "cell_type": "code",
   "execution_count": 5,
   "id": "4652059b",
   "metadata": {},
   "outputs": [
    {
     "name": "stdout",
     "output_type": "stream",
     "text": [
      "FFF     1.000000\n",
      "DD      0.805569\n",
      "DBT     0.503113\n",
      "WBT     0.371896\n",
      "A       0.288358\n",
      "Cl      0.278726\n",
      "TC      0.277204\n",
      "Dl      0.254787\n",
      "c       0.251594\n",
      "Ht      0.251594\n",
      "VP      0.236208\n",
      "VV      0.221812\n",
      "DPT     0.216186\n",
      "RF      0.208417\n",
      "Dm      0.188280\n",
      "Cm      0.178491\n",
      "A.1     0.149542\n",
      "A.2     0.001219\n",
      "Ch     -0.001513\n",
      "Dh     -0.004911\n",
      "RH     -0.233898\n",
      "EVP    -0.237352\n",
      "h      -0.265520\n",
      "a      -0.266727\n",
      "SLP    -0.364263\n",
      "MSLP   -0.366972\n",
      "Name: FFF, dtype: float64\n"
     ]
    }
   ],
   "source": [
    "correlation_with_fff = df.corr()['FFF'].sort_values(ascending=False)\n",
    "print(correlation_with_fff)"
   ]
  },
  {
   "cell_type": "code",
   "execution_count": 6,
   "id": "73d9718d",
   "metadata": {},
   "outputs": [
    {
     "data": {
      "text/plain": [
       "SLP              float64\n",
       "MSLP             float64\n",
       "DBT              float64\n",
       "WBT              float64\n",
       "DPT              float64\n",
       "RH                 int64\n",
       "VP               float64\n",
       "DD               float64\n",
       "FFF              float64\n",
       "VV               float64\n",
       "Cl                 int64\n",
       "A                  int64\n",
       "Cm               float64\n",
       "A.1              float64\n",
       "Ch               float64\n",
       "A.2              float64\n",
       "Dl               float64\n",
       "Dm               float64\n",
       "Dh               float64\n",
       "TC               float64\n",
       "h                float64\n",
       "c                float64\n",
       "a                  int64\n",
       "Ht               float64\n",
       "RF               float64\n",
       "EVP              float64\n",
       "VP_log           float64\n",
       "RF_sqrt          float64\n",
       "temp_diff        float64\n",
       "humid_ratio      float64\n",
       "wind_humidity    float64\n",
       "VV_squared       float64\n",
       "DPT_squared      float64\n",
       "VP_roll3         float64\n",
       "RF_lag1          float64\n",
       "RF_winz          float64\n",
       "month_sin        float64\n",
       "month_cos        float64\n",
       "season_1           int64\n",
       "season_2           int64\n",
       "season_3           int64\n",
       "season_4           int64\n",
       "dtype: object"
      ]
     },
     "execution_count": 6,
     "metadata": {},
     "output_type": "execute_result"
    }
   ],
   "source": [
    "import numpy as np\n",
    "df['VP_log'] = np.log1p(df['VP'])      \n",
    "df['RF_sqrt'] = np.sqrt(df['RF'])       # for skewed rainfall\n",
    "\n",
    "df['temp_diff'] = df['DBT'] - df['WBT']     # humidity proxy\n",
    "df['humid_ratio'] = df['VP'] / (df['DBT'] + 0.1)\n",
    "df['wind_humidity'] = df['RH'] * df['VV']\n",
    "\n",
    "df['VV_squared'] = df['VV'] ** 2\n",
    "df['DPT_squared'] = df['DPT'] ** 2\n",
    "\n",
    "df['VP_roll3'] = df['VP'].rolling(window=3).mean()\n",
    "df['RF_lag1'] = df['RF'].shift(1)\n",
    "\n",
    "from scipy.stats.mstats import winsorize\n",
    "\n",
    "df['RF_winz'] = winsorize(df['RF'], limits=[0.01, 0.01])\n",
    "\n",
    "df['month'] = df.index.month\n",
    "df['season'] = df['month'] % 12 // 3 + 1  # Season: 1=spring, ..., 4=winter\n",
    "\n",
    "# Cyclic encode ==>> As months are in a cycle 1->12->1\n",
    "df['month_sin'] = np.sin(2 * np.pi * df['month'] / 12)\n",
    "df['month_cos'] = np.cos(2 * np.pi * df['month'] / 12)\n",
    "\n",
    "# (Optional) Drop original month column\n",
    "df.drop('month', axis=1, inplace=True)\n",
    "\n",
    "# One hot encoding ==>> COnverting categorical into Binary data\n",
    "season_dummies = pd.get_dummies(df['season'], prefix='season')\n",
    "df = pd.concat([df, season_dummies], axis=1)\n",
    "df.drop('season', axis=1, inplace=True)\n",
    "\n",
    "# Convert boolean columns to int (0 or 1) after one-hot encoding\n",
    "for col in season_dummies.columns:\n",
    "    df[col] = df[col].astype(int)\n",
    "\n",
    "df.dropna(axis=0,inplace=True)\n",
    "df.isnull().sum()\n",
    "df.dtypes"
   ]
  },
  {
   "cell_type": "code",
   "execution_count": 7,
   "id": "ceee21c6",
   "metadata": {},
   "outputs": [
    {
     "name": "stdout",
     "output_type": "stream",
     "text": [
      "FFF              1.000000\n",
      "DD               0.805563\n",
      "DBT              0.503082\n",
      "WBT              0.371856\n",
      "season_3         0.318829\n",
      "A                0.288327\n",
      "Cl               0.278701\n",
      "TC               0.277176\n",
      "temp_diff        0.268573\n",
      "Dl               0.254756\n",
      "Ht               0.251561\n",
      "c                0.251561\n",
      "VP               0.236170\n",
      "DPT_squared      0.235686\n",
      "VP_roll3         0.235277\n",
      "RF_sqrt          0.224903\n",
      "VV_squared       0.221806\n",
      "VV               0.221806\n",
      "DPT              0.216145\n",
      "RF_lag1          0.214820\n",
      "VP_log           0.214292\n",
      "RF_winz          0.211845\n",
      "RF               0.208381\n",
      "Dm               0.188260\n",
      "Cm               0.178474\n",
      "A.1              0.149546\n",
      "season_2         0.034374\n",
      "A.2              0.001219\n",
      "Ch              -0.001514\n",
      "Dh              -0.004912\n",
      "month_sin       -0.047058\n",
      "humid_ratio     -0.065695\n",
      "season_1        -0.178314\n",
      "season_4        -0.193495\n",
      "wind_humidity   -0.232113\n",
      "RH              -0.233935\n",
      "EVP             -0.237316\n",
      "h               -0.265488\n",
      "a               -0.266697\n",
      "month_cos       -0.351492\n",
      "SLP             -0.364267\n",
      "MSLP            -0.366976\n",
      "Name: FFF, dtype: float64\n"
     ]
    }
   ],
   "source": [
    "correlation_with_fff = df.corr()['FFF'].sort_values(ascending=False)\n",
    "print(correlation_with_fff)"
   ]
  },
  {
   "cell_type": "code",
   "execution_count": 8,
   "id": "36105cd0",
   "metadata": {},
   "outputs": [
    {
     "name": "stdout",
     "output_type": "stream",
     "text": [
      "DD             0.772277\n",
      "VP_roll3       0.045990\n",
      "temp_diff      0.026797\n",
      "DBT            0.025460\n",
      "WBT            0.013895\n",
      "season_3       0.012982\n",
      "VP_log         0.008638\n",
      "VP             0.008501\n",
      "RF_lag1        0.008400\n",
      "month_cos      0.008382\n",
      "DPT_squared    0.008250\n",
      "TC             0.008248\n",
      "DPT            0.007986\n",
      "month_sin      0.007818\n",
      "A              0.005571\n",
      "Cl             0.004424\n",
      "A.1            0.004071\n",
      "season_2       0.003314\n",
      "VV             0.002629\n",
      "VV_squared     0.002608\n",
      "RF             0.002600\n",
      "RF_sqrt        0.002541\n",
      "RF_winz        0.002368\n",
      "Cm             0.002046\n",
      "Ht             0.001233\n",
      "c              0.001162\n",
      "Dm             0.000799\n",
      "season_4       0.000470\n",
      "season_1       0.000295\n",
      "Dl             0.000242\n",
      "dtype: float64\n"
     ]
    }
   ],
   "source": [
    "# Feature columns (you can fine-tune this list)\n",
    "features = [\n",
    "     'DD', 'DBT', 'WBT', 'A', 'temp_diff', 'Cl', 'TC', 'Dl', 'c', 'Ht',\n",
    "    'DPT_squared', 'VP', 'VP_roll3', 'RF_sqrt', 'VV_squared', 'VV',\n",
    "    'RF_lag1', 'DPT', 'VP_log', 'RF_winz', 'RF', 'Dm', 'Cm', 'A.1','season_1','season_2','season_3','season_4','month_sin','month_cos'\n",
    "]\n",
    "from sklearn.ensemble import RandomForestRegressor\n",
    "from sklearn.model_selection import train_test_split\n",
    "import pandas as pd\n",
    "\n",
    "# X = your features, y = your target (e.g. FFF)\n",
    "X = df[features]  # your selected columns\n",
    "Y = df['FFF']\n",
    "\n",
    "# Train-test split\n",
    "X_train, X_test, Y_train, Y_test = train_test_split(X, Y, test_size=0.2, random_state=42)\n",
    "\n",
    "# Train the model\n",
    "rf = RandomForestRegressor(n_estimators=100, random_state=42)\n",
    "rf.fit(X_train, Y_train)\n",
    "\n",
    "# Get feature importances\n",
    "importances = pd.Series(rf.feature_importances_, index=X.columns).sort_values(ascending=False)\n",
    "print(importances)"
   ]
  },
  {
   "cell_type": "markdown",
   "id": "141fcf27",
   "metadata": {},
   "source": [
    "WE WILL KEEP FEATURES OF importance ≥ 0.005 AND |correlation| ≥ 0.15"
   ]
  },
  {
   "cell_type": "code",
   "execution_count": 9,
   "id": "9ba9191e",
   "metadata": {},
   "outputs": [],
   "source": [
    "# SO NOW WILL SPLIT FEATURES INTO 3 GROUPS\n",
    "primary_features=['DD', 'DBT', 'WBT', 'DPT', 'DPT_squared', 'VP_log', 'VP_roll3', 'RF_lag1',\n",
    " 'VP', 'temp_diff', 'TC', 'A', 'Cl','season_3','month_sin','month_cos']\n",
    "# Will try with these also and check is model performing more better or not.\n",
    "secondary_features=['Dl','Ht', 'c', 'VV', 'Dm', 'Cm','season_2']\n"
   ]
  },
  {
   "cell_type": "markdown",
   "id": "b4c35fab",
   "metadata": {},
   "source": [
    "Using BiLSTM"
   ]
  },
  {
   "cell_type": "code",
   "execution_count": 10,
   "id": "37e8bb3b",
   "metadata": {},
   "outputs": [],
   "source": [
    "# Reshape input for BiLSTM\n",
    "import numpy as np\n",
    "from sklearn.model_selection import train_test_split\n",
    "\n",
    "# X = your selected primary features\n",
    "# Y = target variable (FFF)\n",
    "\n",
    "# Identify non-numeric columns in df[primary_features]\n",
    "non_numeric_cols = df[primary_features].select_dtypes(exclude=np.number).columns\n",
    "\n",
    "# Convert non-numeric columns to numeric, coercing errors\n",
    "for col in non_numeric_cols:\n",
    "    df[col] = pd.to_numeric(df[col], errors='coerce')\n",
    "\n",
    "X = df[primary_features].values\n",
    "Y = df['FFF'].values\n",
    "\n",
    "def create_lookback_sequences(X, Y, lookback):\n",
    "    Xs, Ys = [], []\n",
    "    for i in range(lookback, len(X)):\n",
    "        Xs.append(X[i - lookback:i])\n",
    "        Ys.append(Y[i])\n",
    "    return np.array(Xs), np.array(Ys)\n",
    "\n",
    "lookback = 24  # will come from GWO population\n",
    "\n",
    "X_combined, Y_combined = create_lookback_sequences(X, Y, lookback)\n",
    "\n",
    "# Split after generating sequences\n",
    "X_train, X_test, Y_train, Y_test = train_test_split(X_combined, Y_combined, test_size=0.2, random_state=42)\n",
    "input_shape = (X_train.shape[1], X_train.shape[2])\n"
   ]
  },
  {
   "cell_type": "code",
   "execution_count": 11,
   "id": "dc0e0a0f",
   "metadata": {},
   "outputs": [],
   "source": [
    "# Step 2: Define BiLSTM model architecture\n",
    "\n",
    "from tensorflow.keras.models import Sequential\n",
    "from tensorflow.keras.layers import Bidirectional, LSTM, Dense, Dropout\n",
    "from tensorflow.keras.optimizers import Adam\n",
    "\n",
    "def create_bilstm_model(input_shape, units=64, dropout_rate=0.2, num_layers=1, learning_rate=0.001):\n",
    "    from tensorflow.keras.models import Sequential\n",
    "    from tensorflow.keras.layers import Bidirectional, LSTM, Dropout, Dense\n",
    "    from tensorflow.keras.optimizers import Adam\n",
    "\n",
    "    model = Sequential()\n",
    "    for i in range(num_layers):\n",
    "        return_seq = i < num_layers - 1\n",
    "        model.add(Bidirectional(LSTM(units, return_sequences=return_seq), input_shape=input_shape if i == 0 else None))\n",
    "        model.add(Dropout(dropout_rate))\n",
    "\n",
    "    model.add(Dense(1))\n",
    "    model.compile(optimizer=Adam(learning_rate=learning_rate), loss='mse', metrics=['mae'])\n",
    "    return model\n"
   ]
  },
  {
   "cell_type": "markdown",
   "id": "77b494b8",
   "metadata": {},
   "source": [
    "Using PSO"
   ]
  },
  {
   "cell_type": "code",
   "execution_count": 12,
   "id": "16093edd",
   "metadata": {},
   "outputs": [
    {
     "name": "stdout",
     "output_type": "stream",
     "text": [
      "\n",
      "Iteration 1/10\n"
     ]
    },
    {
     "name": "stderr",
     "output_type": "stream",
     "text": [
      "/Library/Frameworks/Python.framework/Versions/3.12/lib/python3.12/site-packages/keras/src/layers/rnn/bidirectional.py:107: UserWarning: Do not pass an `input_shape`/`input_dim` argument to a layer. When using Sequential models, prefer using an `Input(shape)` object as the first layer in the model instead.\n",
      "  super().__init__(**kwargs)\n"
     ]
    },
    {
     "name": "stdout",
     "output_type": "stream",
     "text": [
      "\u001b[1m141/141\u001b[0m \u001b[32m━━━━━━━━━━━━━━━━━━━━\u001b[0m\u001b[37m\u001b[0m \u001b[1m0s\u001b[0m 3ms/step\n"
     ]
    },
    {
     "name": "stderr",
     "output_type": "stream",
     "text": [
      "/Library/Frameworks/Python.framework/Versions/3.12/lib/python3.12/site-packages/keras/src/layers/rnn/bidirectional.py:107: UserWarning: Do not pass an `input_shape`/`input_dim` argument to a layer. When using Sequential models, prefer using an `Input(shape)` object as the first layer in the model instead.\n",
      "  super().__init__(**kwargs)\n"
     ]
    },
    {
     "name": "stdout",
     "output_type": "stream",
     "text": [
      "\u001b[1m141/141\u001b[0m \u001b[32m━━━━━━━━━━━━━━━━━━━━\u001b[0m\u001b[37m\u001b[0m \u001b[1m1s\u001b[0m 5ms/step\n"
     ]
    },
    {
     "name": "stderr",
     "output_type": "stream",
     "text": [
      "/Library/Frameworks/Python.framework/Versions/3.12/lib/python3.12/site-packages/keras/src/layers/rnn/bidirectional.py:107: UserWarning: Do not pass an `input_shape`/`input_dim` argument to a layer. When using Sequential models, prefer using an `Input(shape)` object as the first layer in the model instead.\n",
      "  super().__init__(**kwargs)\n"
     ]
    },
    {
     "name": "stdout",
     "output_type": "stream",
     "text": [
      "\u001b[1m141/141\u001b[0m \u001b[32m━━━━━━━━━━━━━━━━━━━━\u001b[0m\u001b[37m\u001b[0m \u001b[1m1s\u001b[0m 3ms/step\n"
     ]
    },
    {
     "name": "stderr",
     "output_type": "stream",
     "text": [
      "/Library/Frameworks/Python.framework/Versions/3.12/lib/python3.12/site-packages/keras/src/layers/rnn/bidirectional.py:107: UserWarning: Do not pass an `input_shape`/`input_dim` argument to a layer. When using Sequential models, prefer using an `Input(shape)` object as the first layer in the model instead.\n",
      "  super().__init__(**kwargs)\n"
     ]
    },
    {
     "name": "stdout",
     "output_type": "stream",
     "text": [
      "\u001b[1m141/141\u001b[0m \u001b[32m━━━━━━━━━━━━━━━━━━━━\u001b[0m\u001b[37m\u001b[0m \u001b[1m0s\u001b[0m 2ms/step\n"
     ]
    },
    {
     "name": "stderr",
     "output_type": "stream",
     "text": [
      "/Library/Frameworks/Python.framework/Versions/3.12/lib/python3.12/site-packages/keras/src/layers/rnn/bidirectional.py:107: UserWarning: Do not pass an `input_shape`/`input_dim` argument to a layer. When using Sequential models, prefer using an `Input(shape)` object as the first layer in the model instead.\n",
      "  super().__init__(**kwargs)\n"
     ]
    },
    {
     "name": "stdout",
     "output_type": "stream",
     "text": [
      "\u001b[1m141/141\u001b[0m \u001b[32m━━━━━━━━━━━━━━━━━━━━\u001b[0m\u001b[37m\u001b[0m \u001b[1m2s\u001b[0m 9ms/step\n",
      "\n",
      "Iteration 2/10\n"
     ]
    },
    {
     "name": "stderr",
     "output_type": "stream",
     "text": [
      "/Library/Frameworks/Python.framework/Versions/3.12/lib/python3.12/site-packages/keras/src/layers/rnn/bidirectional.py:107: UserWarning: Do not pass an `input_shape`/`input_dim` argument to a layer. When using Sequential models, prefer using an `Input(shape)` object as the first layer in the model instead.\n",
      "  super().__init__(**kwargs)\n"
     ]
    },
    {
     "name": "stdout",
     "output_type": "stream",
     "text": [
      "\u001b[1m141/141\u001b[0m \u001b[32m━━━━━━━━━━━━━━━━━━━━\u001b[0m\u001b[37m\u001b[0m \u001b[1m1s\u001b[0m 4ms/step\n"
     ]
    },
    {
     "name": "stderr",
     "output_type": "stream",
     "text": [
      "/Library/Frameworks/Python.framework/Versions/3.12/lib/python3.12/site-packages/keras/src/layers/rnn/bidirectional.py:107: UserWarning: Do not pass an `input_shape`/`input_dim` argument to a layer. When using Sequential models, prefer using an `Input(shape)` object as the first layer in the model instead.\n",
      "  super().__init__(**kwargs)\n"
     ]
    },
    {
     "name": "stdout",
     "output_type": "stream",
     "text": [
      "\u001b[1m141/141\u001b[0m \u001b[32m━━━━━━━━━━━━━━━━━━━━\u001b[0m\u001b[37m\u001b[0m \u001b[1m1s\u001b[0m 2ms/step \n"
     ]
    },
    {
     "name": "stderr",
     "output_type": "stream",
     "text": [
      "/Library/Frameworks/Python.framework/Versions/3.12/lib/python3.12/site-packages/keras/src/layers/rnn/bidirectional.py:107: UserWarning: Do not pass an `input_shape`/`input_dim` argument to a layer. When using Sequential models, prefer using an `Input(shape)` object as the first layer in the model instead.\n",
      "  super().__init__(**kwargs)\n"
     ]
    },
    {
     "name": "stdout",
     "output_type": "stream",
     "text": [
      "\u001b[1m141/141\u001b[0m \u001b[32m━━━━━━━━━━━━━━━━━━━━\u001b[0m\u001b[37m\u001b[0m \u001b[1m1s\u001b[0m 3ms/step\n"
     ]
    },
    {
     "name": "stderr",
     "output_type": "stream",
     "text": [
      "/Library/Frameworks/Python.framework/Versions/3.12/lib/python3.12/site-packages/keras/src/layers/rnn/bidirectional.py:107: UserWarning: Do not pass an `input_shape`/`input_dim` argument to a layer. When using Sequential models, prefer using an `Input(shape)` object as the first layer in the model instead.\n",
      "  super().__init__(**kwargs)\n"
     ]
    },
    {
     "name": "stdout",
     "output_type": "stream",
     "text": [
      "\u001b[1m141/141\u001b[0m \u001b[32m━━━━━━━━━━━━━━━━━━━━\u001b[0m\u001b[37m\u001b[0m \u001b[1m1s\u001b[0m 3ms/step\n"
     ]
    },
    {
     "name": "stderr",
     "output_type": "stream",
     "text": [
      "/Library/Frameworks/Python.framework/Versions/3.12/lib/python3.12/site-packages/keras/src/layers/rnn/bidirectional.py:107: UserWarning: Do not pass an `input_shape`/`input_dim` argument to a layer. When using Sequential models, prefer using an `Input(shape)` object as the first layer in the model instead.\n",
      "  super().__init__(**kwargs)\n"
     ]
    },
    {
     "name": "stdout",
     "output_type": "stream",
     "text": [
      "\u001b[1m141/141\u001b[0m \u001b[32m━━━━━━━━━━━━━━━━━━━━\u001b[0m\u001b[37m\u001b[0m \u001b[1m1s\u001b[0m 4ms/step\n",
      "\n",
      "Iteration 3/10\n"
     ]
    },
    {
     "name": "stderr",
     "output_type": "stream",
     "text": [
      "/Library/Frameworks/Python.framework/Versions/3.12/lib/python3.12/site-packages/keras/src/layers/rnn/bidirectional.py:107: UserWarning: Do not pass an `input_shape`/`input_dim` argument to a layer. When using Sequential models, prefer using an `Input(shape)` object as the first layer in the model instead.\n",
      "  super().__init__(**kwargs)\n"
     ]
    },
    {
     "name": "stdout",
     "output_type": "stream",
     "text": [
      "\u001b[1m141/141\u001b[0m \u001b[32m━━━━━━━━━━━━━━━━━━━━\u001b[0m\u001b[37m\u001b[0m \u001b[1m1s\u001b[0m 4ms/step\n"
     ]
    },
    {
     "name": "stderr",
     "output_type": "stream",
     "text": [
      "/Library/Frameworks/Python.framework/Versions/3.12/lib/python3.12/site-packages/keras/src/layers/rnn/bidirectional.py:107: UserWarning: Do not pass an `input_shape`/`input_dim` argument to a layer. When using Sequential models, prefer using an `Input(shape)` object as the first layer in the model instead.\n",
      "  super().__init__(**kwargs)\n"
     ]
    },
    {
     "name": "stdout",
     "output_type": "stream",
     "text": [
      "\u001b[1m141/141\u001b[0m \u001b[32m━━━━━━━━━━━━━━━━━━━━\u001b[0m\u001b[37m\u001b[0m \u001b[1m1s\u001b[0m 2ms/step\n"
     ]
    },
    {
     "name": "stderr",
     "output_type": "stream",
     "text": [
      "/Library/Frameworks/Python.framework/Versions/3.12/lib/python3.12/site-packages/keras/src/layers/rnn/bidirectional.py:107: UserWarning: Do not pass an `input_shape`/`input_dim` argument to a layer. When using Sequential models, prefer using an `Input(shape)` object as the first layer in the model instead.\n",
      "  super().__init__(**kwargs)\n"
     ]
    },
    {
     "name": "stdout",
     "output_type": "stream",
     "text": [
      "\u001b[1m141/141\u001b[0m \u001b[32m━━━━━━━━━━━━━━━━━━━━\u001b[0m\u001b[37m\u001b[0m \u001b[1m1s\u001b[0m 3ms/step\n"
     ]
    },
    {
     "name": "stderr",
     "output_type": "stream",
     "text": [
      "/Library/Frameworks/Python.framework/Versions/3.12/lib/python3.12/site-packages/keras/src/layers/rnn/bidirectional.py:107: UserWarning: Do not pass an `input_shape`/`input_dim` argument to a layer. When using Sequential models, prefer using an `Input(shape)` object as the first layer in the model instead.\n",
      "  super().__init__(**kwargs)\n"
     ]
    },
    {
     "name": "stdout",
     "output_type": "stream",
     "text": [
      "\u001b[1m141/141\u001b[0m \u001b[32m━━━━━━━━━━━━━━━━━━━━\u001b[0m\u001b[37m\u001b[0m \u001b[1m1s\u001b[0m 4ms/step\n"
     ]
    },
    {
     "name": "stderr",
     "output_type": "stream",
     "text": [
      "/Library/Frameworks/Python.framework/Versions/3.12/lib/python3.12/site-packages/keras/src/layers/rnn/bidirectional.py:107: UserWarning: Do not pass an `input_shape`/`input_dim` argument to a layer. When using Sequential models, prefer using an `Input(shape)` object as the first layer in the model instead.\n",
      "  super().__init__(**kwargs)\n"
     ]
    },
    {
     "name": "stdout",
     "output_type": "stream",
     "text": [
      "\u001b[1m141/141\u001b[0m \u001b[32m━━━━━━━━━━━━━━━━━━━━\u001b[0m\u001b[37m\u001b[0m \u001b[1m1s\u001b[0m 6ms/step\n",
      "\n",
      "Iteration 4/10\n"
     ]
    },
    {
     "name": "stderr",
     "output_type": "stream",
     "text": [
      "/Library/Frameworks/Python.framework/Versions/3.12/lib/python3.12/site-packages/keras/src/layers/rnn/bidirectional.py:107: UserWarning: Do not pass an `input_shape`/`input_dim` argument to a layer. When using Sequential models, prefer using an `Input(shape)` object as the first layer in the model instead.\n",
      "  super().__init__(**kwargs)\n"
     ]
    },
    {
     "name": "stdout",
     "output_type": "stream",
     "text": [
      "\u001b[1m141/141\u001b[0m \u001b[32m━━━━━━━━━━━━━━━━━━━━\u001b[0m\u001b[37m\u001b[0m \u001b[1m0s\u001b[0m 2ms/step\n"
     ]
    },
    {
     "name": "stderr",
     "output_type": "stream",
     "text": [
      "/Library/Frameworks/Python.framework/Versions/3.12/lib/python3.12/site-packages/keras/src/layers/rnn/bidirectional.py:107: UserWarning: Do not pass an `input_shape`/`input_dim` argument to a layer. When using Sequential models, prefer using an `Input(shape)` object as the first layer in the model instead.\n",
      "  super().__init__(**kwargs)\n"
     ]
    },
    {
     "name": "stdout",
     "output_type": "stream",
     "text": [
      "\u001b[1m141/141\u001b[0m \u001b[32m━━━━━━━━━━━━━━━━━━━━\u001b[0m\u001b[37m\u001b[0m \u001b[1m1s\u001b[0m 8ms/step\n"
     ]
    },
    {
     "name": "stderr",
     "output_type": "stream",
     "text": [
      "/Library/Frameworks/Python.framework/Versions/3.12/lib/python3.12/site-packages/keras/src/layers/rnn/bidirectional.py:107: UserWarning: Do not pass an `input_shape`/`input_dim` argument to a layer. When using Sequential models, prefer using an `Input(shape)` object as the first layer in the model instead.\n",
      "  super().__init__(**kwargs)\n"
     ]
    },
    {
     "name": "stdout",
     "output_type": "stream",
     "text": [
      "\u001b[1m141/141\u001b[0m \u001b[32m━━━━━━━━━━━━━━━━━━━━\u001b[0m\u001b[37m\u001b[0m \u001b[1m1s\u001b[0m 3ms/step\n"
     ]
    },
    {
     "name": "stderr",
     "output_type": "stream",
     "text": [
      "/Library/Frameworks/Python.framework/Versions/3.12/lib/python3.12/site-packages/keras/src/layers/rnn/bidirectional.py:107: UserWarning: Do not pass an `input_shape`/`input_dim` argument to a layer. When using Sequential models, prefer using an `Input(shape)` object as the first layer in the model instead.\n",
      "  super().__init__(**kwargs)\n"
     ]
    },
    {
     "name": "stdout",
     "output_type": "stream",
     "text": [
      "\u001b[1m141/141\u001b[0m \u001b[32m━━━━━━━━━━━━━━━━━━━━\u001b[0m\u001b[37m\u001b[0m \u001b[1m1s\u001b[0m 4ms/step\n"
     ]
    },
    {
     "name": "stderr",
     "output_type": "stream",
     "text": [
      "/Library/Frameworks/Python.framework/Versions/3.12/lib/python3.12/site-packages/keras/src/layers/rnn/bidirectional.py:107: UserWarning: Do not pass an `input_shape`/`input_dim` argument to a layer. When using Sequential models, prefer using an `Input(shape)` object as the first layer in the model instead.\n",
      "  super().__init__(**kwargs)\n"
     ]
    },
    {
     "name": "stdout",
     "output_type": "stream",
     "text": [
      "\u001b[1m141/141\u001b[0m \u001b[32m━━━━━━━━━━━━━━━━━━━━\u001b[0m\u001b[37m\u001b[0m \u001b[1m1s\u001b[0m 7ms/step\n",
      "\n",
      "Iteration 5/10\n"
     ]
    },
    {
     "name": "stderr",
     "output_type": "stream",
     "text": [
      "/Library/Frameworks/Python.framework/Versions/3.12/lib/python3.12/site-packages/keras/src/layers/rnn/bidirectional.py:107: UserWarning: Do not pass an `input_shape`/`input_dim` argument to a layer. When using Sequential models, prefer using an `Input(shape)` object as the first layer in the model instead.\n",
      "  super().__init__(**kwargs)\n"
     ]
    },
    {
     "name": "stdout",
     "output_type": "stream",
     "text": [
      "\u001b[1m141/141\u001b[0m \u001b[32m━━━━━━━━━━━━━━━━━━━━\u001b[0m\u001b[37m\u001b[0m \u001b[1m0s\u001b[0m 3ms/step\n"
     ]
    },
    {
     "name": "stderr",
     "output_type": "stream",
     "text": [
      "/Library/Frameworks/Python.framework/Versions/3.12/lib/python3.12/site-packages/keras/src/layers/rnn/bidirectional.py:107: UserWarning: Do not pass an `input_shape`/`input_dim` argument to a layer. When using Sequential models, prefer using an `Input(shape)` object as the first layer in the model instead.\n",
      "  super().__init__(**kwargs)\n"
     ]
    },
    {
     "name": "stdout",
     "output_type": "stream",
     "text": [
      "\u001b[1m141/141\u001b[0m \u001b[32m━━━━━━━━━━━━━━━━━━━━\u001b[0m\u001b[37m\u001b[0m \u001b[1m1s\u001b[0m 5ms/step\n"
     ]
    },
    {
     "name": "stderr",
     "output_type": "stream",
     "text": [
      "/Library/Frameworks/Python.framework/Versions/3.12/lib/python3.12/site-packages/keras/src/layers/rnn/bidirectional.py:107: UserWarning: Do not pass an `input_shape`/`input_dim` argument to a layer. When using Sequential models, prefer using an `Input(shape)` object as the first layer in the model instead.\n",
      "  super().__init__(**kwargs)\n"
     ]
    },
    {
     "name": "stdout",
     "output_type": "stream",
     "text": [
      "\u001b[1m141/141\u001b[0m \u001b[32m━━━━━━━━━━━━━━━━━━━━\u001b[0m\u001b[37m\u001b[0m \u001b[1m1s\u001b[0m 3ms/step\n"
     ]
    },
    {
     "name": "stderr",
     "output_type": "stream",
     "text": [
      "/Library/Frameworks/Python.framework/Versions/3.12/lib/python3.12/site-packages/keras/src/layers/rnn/bidirectional.py:107: UserWarning: Do not pass an `input_shape`/`input_dim` argument to a layer. When using Sequential models, prefer using an `Input(shape)` object as the first layer in the model instead.\n",
      "  super().__init__(**kwargs)\n"
     ]
    },
    {
     "name": "stdout",
     "output_type": "stream",
     "text": [
      "\u001b[1m141/141\u001b[0m \u001b[32m━━━━━━━━━━━━━━━━━━━━\u001b[0m\u001b[37m\u001b[0m \u001b[1m1s\u001b[0m 3ms/step\n"
     ]
    },
    {
     "name": "stderr",
     "output_type": "stream",
     "text": [
      "/Library/Frameworks/Python.framework/Versions/3.12/lib/python3.12/site-packages/keras/src/layers/rnn/bidirectional.py:107: UserWarning: Do not pass an `input_shape`/`input_dim` argument to a layer. When using Sequential models, prefer using an `Input(shape)` object as the first layer in the model instead.\n",
      "  super().__init__(**kwargs)\n"
     ]
    },
    {
     "name": "stdout",
     "output_type": "stream",
     "text": [
      "\u001b[1m141/141\u001b[0m \u001b[32m━━━━━━━━━━━━━━━━━━━━\u001b[0m\u001b[37m\u001b[0m \u001b[1m1s\u001b[0m 3ms/step\n",
      "\n",
      "Iteration 6/10\n"
     ]
    },
    {
     "name": "stderr",
     "output_type": "stream",
     "text": [
      "/Library/Frameworks/Python.framework/Versions/3.12/lib/python3.12/site-packages/keras/src/layers/rnn/bidirectional.py:107: UserWarning: Do not pass an `input_shape`/`input_dim` argument to a layer. When using Sequential models, prefer using an `Input(shape)` object as the first layer in the model instead.\n",
      "  super().__init__(**kwargs)\n"
     ]
    },
    {
     "name": "stdout",
     "output_type": "stream",
     "text": [
      "\u001b[1m141/141\u001b[0m \u001b[32m━━━━━━━━━━━━━━━━━━━━\u001b[0m\u001b[37m\u001b[0m \u001b[1m1s\u001b[0m 6ms/step\n"
     ]
    },
    {
     "name": "stderr",
     "output_type": "stream",
     "text": [
      "/Library/Frameworks/Python.framework/Versions/3.12/lib/python3.12/site-packages/keras/src/layers/rnn/bidirectional.py:107: UserWarning: Do not pass an `input_shape`/`input_dim` argument to a layer. When using Sequential models, prefer using an `Input(shape)` object as the first layer in the model instead.\n",
      "  super().__init__(**kwargs)\n"
     ]
    },
    {
     "name": "stdout",
     "output_type": "stream",
     "text": [
      "\u001b[1m141/141\u001b[0m \u001b[32m━━━━━━━━━━━━━━━━━━━━\u001b[0m\u001b[37m\u001b[0m \u001b[1m1s\u001b[0m 4ms/step\n"
     ]
    },
    {
     "name": "stderr",
     "output_type": "stream",
     "text": [
      "/Library/Frameworks/Python.framework/Versions/3.12/lib/python3.12/site-packages/keras/src/layers/rnn/bidirectional.py:107: UserWarning: Do not pass an `input_shape`/`input_dim` argument to a layer. When using Sequential models, prefer using an `Input(shape)` object as the first layer in the model instead.\n",
      "  super().__init__(**kwargs)\n"
     ]
    },
    {
     "name": "stdout",
     "output_type": "stream",
     "text": [
      "\u001b[1m141/141\u001b[0m \u001b[32m━━━━━━━━━━━━━━━━━━━━\u001b[0m\u001b[37m\u001b[0m \u001b[1m1s\u001b[0m 3ms/step\n"
     ]
    },
    {
     "name": "stderr",
     "output_type": "stream",
     "text": [
      "/Library/Frameworks/Python.framework/Versions/3.12/lib/python3.12/site-packages/keras/src/layers/rnn/bidirectional.py:107: UserWarning: Do not pass an `input_shape`/`input_dim` argument to a layer. When using Sequential models, prefer using an `Input(shape)` object as the first layer in the model instead.\n",
      "  super().__init__(**kwargs)\n"
     ]
    },
    {
     "name": "stdout",
     "output_type": "stream",
     "text": [
      "\u001b[1m141/141\u001b[0m \u001b[32m━━━━━━━━━━━━━━━━━━━━\u001b[0m\u001b[37m\u001b[0m \u001b[1m1s\u001b[0m 3ms/step\n"
     ]
    },
    {
     "name": "stderr",
     "output_type": "stream",
     "text": [
      "/Library/Frameworks/Python.framework/Versions/3.12/lib/python3.12/site-packages/keras/src/layers/rnn/bidirectional.py:107: UserWarning: Do not pass an `input_shape`/`input_dim` argument to a layer. When using Sequential models, prefer using an `Input(shape)` object as the first layer in the model instead.\n",
      "  super().__init__(**kwargs)\n"
     ]
    },
    {
     "name": "stdout",
     "output_type": "stream",
     "text": [
      "\u001b[1m141/141\u001b[0m \u001b[32m━━━━━━━━━━━━━━━━━━━━\u001b[0m\u001b[37m\u001b[0m \u001b[1m2s\u001b[0m 3ms/step\n",
      "\n",
      "Iteration 7/10\n"
     ]
    },
    {
     "name": "stderr",
     "output_type": "stream",
     "text": [
      "/Library/Frameworks/Python.framework/Versions/3.12/lib/python3.12/site-packages/keras/src/layers/rnn/bidirectional.py:107: UserWarning: Do not pass an `input_shape`/`input_dim` argument to a layer. When using Sequential models, prefer using an `Input(shape)` object as the first layer in the model instead.\n",
      "  super().__init__(**kwargs)\n"
     ]
    },
    {
     "name": "stdout",
     "output_type": "stream",
     "text": [
      "\u001b[1m141/141\u001b[0m \u001b[32m━━━━━━━━━━━━━━━━━━━━\u001b[0m\u001b[37m\u001b[0m \u001b[1m1s\u001b[0m 4ms/step\n"
     ]
    },
    {
     "name": "stderr",
     "output_type": "stream",
     "text": [
      "/Library/Frameworks/Python.framework/Versions/3.12/lib/python3.12/site-packages/keras/src/layers/rnn/bidirectional.py:107: UserWarning: Do not pass an `input_shape`/`input_dim` argument to a layer. When using Sequential models, prefer using an `Input(shape)` object as the first layer in the model instead.\n",
      "  super().__init__(**kwargs)\n"
     ]
    },
    {
     "name": "stdout",
     "output_type": "stream",
     "text": [
      "\u001b[1m141/141\u001b[0m \u001b[32m━━━━━━━━━━━━━━━━━━━━\u001b[0m\u001b[37m\u001b[0m \u001b[1m1s\u001b[0m 3ms/step\n"
     ]
    },
    {
     "name": "stderr",
     "output_type": "stream",
     "text": [
      "/Library/Frameworks/Python.framework/Versions/3.12/lib/python3.12/site-packages/keras/src/layers/rnn/bidirectional.py:107: UserWarning: Do not pass an `input_shape`/`input_dim` argument to a layer. When using Sequential models, prefer using an `Input(shape)` object as the first layer in the model instead.\n",
      "  super().__init__(**kwargs)\n"
     ]
    },
    {
     "name": "stdout",
     "output_type": "stream",
     "text": [
      "\u001b[1m141/141\u001b[0m \u001b[32m━━━━━━━━━━━━━━━━━━━━\u001b[0m\u001b[37m\u001b[0m \u001b[1m1s\u001b[0m 3ms/step\n"
     ]
    },
    {
     "name": "stderr",
     "output_type": "stream",
     "text": [
      "/Library/Frameworks/Python.framework/Versions/3.12/lib/python3.12/site-packages/keras/src/layers/rnn/bidirectional.py:107: UserWarning: Do not pass an `input_shape`/`input_dim` argument to a layer. When using Sequential models, prefer using an `Input(shape)` object as the first layer in the model instead.\n",
      "  super().__init__(**kwargs)\n"
     ]
    },
    {
     "name": "stdout",
     "output_type": "stream",
     "text": [
      "\u001b[1m141/141\u001b[0m \u001b[32m━━━━━━━━━━━━━━━━━━━━\u001b[0m\u001b[37m\u001b[0m \u001b[1m1s\u001b[0m 4ms/step\n"
     ]
    },
    {
     "name": "stderr",
     "output_type": "stream",
     "text": [
      "/Library/Frameworks/Python.framework/Versions/3.12/lib/python3.12/site-packages/keras/src/layers/rnn/bidirectional.py:107: UserWarning: Do not pass an `input_shape`/`input_dim` argument to a layer. When using Sequential models, prefer using an `Input(shape)` object as the first layer in the model instead.\n",
      "  super().__init__(**kwargs)\n"
     ]
    },
    {
     "name": "stdout",
     "output_type": "stream",
     "text": [
      "\u001b[1m141/141\u001b[0m \u001b[32m━━━━━━━━━━━━━━━━━━━━\u001b[0m\u001b[37m\u001b[0m \u001b[1m1s\u001b[0m 3ms/step\n",
      "\n",
      "Iteration 8/10\n"
     ]
    },
    {
     "name": "stderr",
     "output_type": "stream",
     "text": [
      "/Library/Frameworks/Python.framework/Versions/3.12/lib/python3.12/site-packages/keras/src/layers/rnn/bidirectional.py:107: UserWarning: Do not pass an `input_shape`/`input_dim` argument to a layer. When using Sequential models, prefer using an `Input(shape)` object as the first layer in the model instead.\n",
      "  super().__init__(**kwargs)\n"
     ]
    },
    {
     "name": "stdout",
     "output_type": "stream",
     "text": [
      "\u001b[1m141/141\u001b[0m \u001b[32m━━━━━━━━━━━━━━━━━━━━\u001b[0m\u001b[37m\u001b[0m \u001b[1m1s\u001b[0m 3ms/step\n"
     ]
    },
    {
     "name": "stderr",
     "output_type": "stream",
     "text": [
      "/Library/Frameworks/Python.framework/Versions/3.12/lib/python3.12/site-packages/keras/src/layers/rnn/bidirectional.py:107: UserWarning: Do not pass an `input_shape`/`input_dim` argument to a layer. When using Sequential models, prefer using an `Input(shape)` object as the first layer in the model instead.\n",
      "  super().__init__(**kwargs)\n"
     ]
    },
    {
     "name": "stdout",
     "output_type": "stream",
     "text": [
      "\u001b[1m141/141\u001b[0m \u001b[32m━━━━━━━━━━━━━━━━━━━━\u001b[0m\u001b[37m\u001b[0m \u001b[1m1s\u001b[0m 3ms/step\n"
     ]
    },
    {
     "name": "stderr",
     "output_type": "stream",
     "text": [
      "/Library/Frameworks/Python.framework/Versions/3.12/lib/python3.12/site-packages/keras/src/layers/rnn/bidirectional.py:107: UserWarning: Do not pass an `input_shape`/`input_dim` argument to a layer. When using Sequential models, prefer using an `Input(shape)` object as the first layer in the model instead.\n",
      "  super().__init__(**kwargs)\n"
     ]
    },
    {
     "name": "stdout",
     "output_type": "stream",
     "text": [
      "\u001b[1m141/141\u001b[0m \u001b[32m━━━━━━━━━━━━━━━━━━━━\u001b[0m\u001b[37m\u001b[0m \u001b[1m1s\u001b[0m 4ms/step\n"
     ]
    },
    {
     "name": "stderr",
     "output_type": "stream",
     "text": [
      "/Library/Frameworks/Python.framework/Versions/3.12/lib/python3.12/site-packages/keras/src/layers/rnn/bidirectional.py:107: UserWarning: Do not pass an `input_shape`/`input_dim` argument to a layer. When using Sequential models, prefer using an `Input(shape)` object as the first layer in the model instead.\n",
      "  super().__init__(**kwargs)\n"
     ]
    },
    {
     "name": "stdout",
     "output_type": "stream",
     "text": [
      "\u001b[1m141/141\u001b[0m \u001b[32m━━━━━━━━━━━━━━━━━━━━\u001b[0m\u001b[37m\u001b[0m \u001b[1m1s\u001b[0m 4ms/step\n"
     ]
    },
    {
     "name": "stderr",
     "output_type": "stream",
     "text": [
      "/Library/Frameworks/Python.framework/Versions/3.12/lib/python3.12/site-packages/keras/src/layers/rnn/bidirectional.py:107: UserWarning: Do not pass an `input_shape`/`input_dim` argument to a layer. When using Sequential models, prefer using an `Input(shape)` object as the first layer in the model instead.\n",
      "  super().__init__(**kwargs)\n"
     ]
    },
    {
     "name": "stdout",
     "output_type": "stream",
     "text": [
      "\u001b[1m141/141\u001b[0m \u001b[32m━━━━━━━━━━━━━━━━━━━━\u001b[0m\u001b[37m\u001b[0m \u001b[1m1s\u001b[0m 4ms/step\n",
      "\n",
      "Iteration 9/10\n"
     ]
    },
    {
     "name": "stderr",
     "output_type": "stream",
     "text": [
      "/Library/Frameworks/Python.framework/Versions/3.12/lib/python3.12/site-packages/keras/src/layers/rnn/bidirectional.py:107: UserWarning: Do not pass an `input_shape`/`input_dim` argument to a layer. When using Sequential models, prefer using an `Input(shape)` object as the first layer in the model instead.\n",
      "  super().__init__(**kwargs)\n"
     ]
    },
    {
     "name": "stdout",
     "output_type": "stream",
     "text": [
      "\u001b[1m141/141\u001b[0m \u001b[32m━━━━━━━━━━━━━━━━━━━━\u001b[0m\u001b[37m\u001b[0m \u001b[1m1s\u001b[0m 4ms/step\n"
     ]
    },
    {
     "name": "stderr",
     "output_type": "stream",
     "text": [
      "/Library/Frameworks/Python.framework/Versions/3.12/lib/python3.12/site-packages/keras/src/layers/rnn/bidirectional.py:107: UserWarning: Do not pass an `input_shape`/`input_dim` argument to a layer. When using Sequential models, prefer using an `Input(shape)` object as the first layer in the model instead.\n",
      "  super().__init__(**kwargs)\n"
     ]
    },
    {
     "name": "stdout",
     "output_type": "stream",
     "text": [
      "\u001b[1m141/141\u001b[0m \u001b[32m━━━━━━━━━━━━━━━━━━━━\u001b[0m\u001b[37m\u001b[0m \u001b[1m1s\u001b[0m 4ms/step\n"
     ]
    },
    {
     "name": "stderr",
     "output_type": "stream",
     "text": [
      "/Library/Frameworks/Python.framework/Versions/3.12/lib/python3.12/site-packages/keras/src/layers/rnn/bidirectional.py:107: UserWarning: Do not pass an `input_shape`/`input_dim` argument to a layer. When using Sequential models, prefer using an `Input(shape)` object as the first layer in the model instead.\n",
      "  super().__init__(**kwargs)\n"
     ]
    },
    {
     "name": "stdout",
     "output_type": "stream",
     "text": [
      "\u001b[1m141/141\u001b[0m \u001b[32m━━━━━━━━━━━━━━━━━━━━\u001b[0m\u001b[37m\u001b[0m \u001b[1m1s\u001b[0m 4ms/step\n"
     ]
    },
    {
     "name": "stderr",
     "output_type": "stream",
     "text": [
      "/Library/Frameworks/Python.framework/Versions/3.12/lib/python3.12/site-packages/keras/src/layers/rnn/bidirectional.py:107: UserWarning: Do not pass an `input_shape`/`input_dim` argument to a layer. When using Sequential models, prefer using an `Input(shape)` object as the first layer in the model instead.\n",
      "  super().__init__(**kwargs)\n"
     ]
    },
    {
     "name": "stdout",
     "output_type": "stream",
     "text": [
      "\u001b[1m141/141\u001b[0m \u001b[32m━━━━━━━━━━━━━━━━━━━━\u001b[0m\u001b[37m\u001b[0m \u001b[1m1s\u001b[0m 4ms/step\n"
     ]
    },
    {
     "name": "stderr",
     "output_type": "stream",
     "text": [
      "/Library/Frameworks/Python.framework/Versions/3.12/lib/python3.12/site-packages/keras/src/layers/rnn/bidirectional.py:107: UserWarning: Do not pass an `input_shape`/`input_dim` argument to a layer. When using Sequential models, prefer using an `Input(shape)` object as the first layer in the model instead.\n",
      "  super().__init__(**kwargs)\n"
     ]
    },
    {
     "name": "stdout",
     "output_type": "stream",
     "text": [
      "\u001b[1m141/141\u001b[0m \u001b[32m━━━━━━━━━━━━━━━━━━━━\u001b[0m\u001b[37m\u001b[0m \u001b[1m1s\u001b[0m 4ms/step\n",
      "\n",
      "Iteration 10/10\n"
     ]
    },
    {
     "name": "stderr",
     "output_type": "stream",
     "text": [
      "/Library/Frameworks/Python.framework/Versions/3.12/lib/python3.12/site-packages/keras/src/layers/rnn/bidirectional.py:107: UserWarning: Do not pass an `input_shape`/`input_dim` argument to a layer. When using Sequential models, prefer using an `Input(shape)` object as the first layer in the model instead.\n",
      "  super().__init__(**kwargs)\n"
     ]
    },
    {
     "name": "stdout",
     "output_type": "stream",
     "text": [
      "\u001b[1m141/141\u001b[0m \u001b[32m━━━━━━━━━━━━━━━━━━━━\u001b[0m\u001b[37m\u001b[0m \u001b[1m1s\u001b[0m 5ms/step\n"
     ]
    },
    {
     "name": "stderr",
     "output_type": "stream",
     "text": [
      "/Library/Frameworks/Python.framework/Versions/3.12/lib/python3.12/site-packages/keras/src/layers/rnn/bidirectional.py:107: UserWarning: Do not pass an `input_shape`/`input_dim` argument to a layer. When using Sequential models, prefer using an `Input(shape)` object as the first layer in the model instead.\n",
      "  super().__init__(**kwargs)\n"
     ]
    },
    {
     "name": "stdout",
     "output_type": "stream",
     "text": [
      "\u001b[1m141/141\u001b[0m \u001b[32m━━━━━━━━━━━━━━━━━━━━\u001b[0m\u001b[37m\u001b[0m \u001b[1m1s\u001b[0m 3ms/step\n"
     ]
    },
    {
     "name": "stderr",
     "output_type": "stream",
     "text": [
      "/Library/Frameworks/Python.framework/Versions/3.12/lib/python3.12/site-packages/keras/src/layers/rnn/bidirectional.py:107: UserWarning: Do not pass an `input_shape`/`input_dim` argument to a layer. When using Sequential models, prefer using an `Input(shape)` object as the first layer in the model instead.\n",
      "  super().__init__(**kwargs)\n"
     ]
    },
    {
     "name": "stdout",
     "output_type": "stream",
     "text": [
      "\u001b[1m141/141\u001b[0m \u001b[32m━━━━━━━━━━━━━━━━━━━━\u001b[0m\u001b[37m\u001b[0m \u001b[1m1s\u001b[0m 4ms/step\n"
     ]
    },
    {
     "name": "stderr",
     "output_type": "stream",
     "text": [
      "/Library/Frameworks/Python.framework/Versions/3.12/lib/python3.12/site-packages/keras/src/layers/rnn/bidirectional.py:107: UserWarning: Do not pass an `input_shape`/`input_dim` argument to a layer. When using Sequential models, prefer using an `Input(shape)` object as the first layer in the model instead.\n",
      "  super().__init__(**kwargs)\n"
     ]
    },
    {
     "name": "stdout",
     "output_type": "stream",
     "text": [
      "\u001b[1m141/141\u001b[0m \u001b[32m━━━━━━━━━━━━━━━━━━━━\u001b[0m\u001b[37m\u001b[0m \u001b[1m1s\u001b[0m 3ms/step\n"
     ]
    },
    {
     "name": "stderr",
     "output_type": "stream",
     "text": [
      "/Library/Frameworks/Python.framework/Versions/3.12/lib/python3.12/site-packages/keras/src/layers/rnn/bidirectional.py:107: UserWarning: Do not pass an `input_shape`/`input_dim` argument to a layer. When using Sequential models, prefer using an `Input(shape)` object as the first layer in the model instead.\n",
      "  super().__init__(**kwargs)\n"
     ]
    },
    {
     "name": "stdout",
     "output_type": "stream",
     "text": [
      "\u001b[1m141/141\u001b[0m \u001b[32m━━━━━━━━━━━━━━━━━━━━\u001b[0m\u001b[37m\u001b[0m \u001b[1m1s\u001b[0m 3ms/step\n",
      "Best MSE so far: 18.8249\n",
      "Best Params → Units: 63, Dropout: 0.10, Batch Size: 34\n"
     ]
    }
   ],
   "source": [
    "\n",
    "def pso_objective(params):\n",
    "    from sklearn.metrics import mean_squared_error\n",
    "    params = np.asarray(params, dtype=np.float64)\n",
    "    units = int(round(params[0]))\n",
    "    dropout = float(params[1])\n",
    "    batch_size = int(round(params[2]))\n",
    "    lookback = int(round(params[3]))\n",
    "    num_layers = int(round(params[4]))\n",
    "    learning_rate = float(params[5])\n",
    "\n",
    "    # Ensure lookback is at least 1\n",
    "    lookback = max(1, lookback)\n",
    "\n",
    "    X_combined, Y_combined = create_lookback_sequences(X, Y, lookback)\n",
    "\n",
    "    # Check if sequences are empty\n",
    "    if len(X_combined) == 0:\n",
    "        print(f\"Warning: No sequences created with lookback={lookback}. Returning a high MSE.\")\n",
    "        return float('inf')\n",
    "\n",
    "    X_train, X_test, Y_train, Y_test = train_test_split(X_combined, Y_combined, test_size=0.2, random_state=42)\n",
    "\n",
    "    # Explicitly cast data to float32\n",
    "    X_train = X_train.astype(np.float32)\n",
    "    Y_train = Y_train.astype(np.float32)\n",
    "\n",
    "\n",
    "    # Model\n",
    "    model = create_bilstm_model(\n",
    "        input_shape=(lookback, X.shape[1]),\n",
    "        units=units,\n",
    "        dropout_rate=dropout,\n",
    "        num_layers=num_layers,\n",
    "        learning_rate=learning_rate\n",
    "    )\n",
    "    model.fit(X_train, Y_train, epochs=10, batch_size=batch_size, verbose=0, validation_split=0.1)\n",
    "    preds = model.predict(X_test)\n",
    "    mse = mean_squared_error(Y_test, preds)\n",
    "    return mse\n",
    "\n",
    "\n",
    "import random\n",
    "\n",
    "class Particle:\n",
    "    def __init__(self, bounds):\n",
    "        self.position = [random.uniform(b[0], b[1]) for b in bounds]\n",
    "        self.velocity = [random.uniform(-1, 1) for _ in bounds]\n",
    "        self.best_position = list(self.position)\n",
    "        self.best_score = float('inf')\n",
    "        self.score = float('inf')\n",
    "\n",
    "    def update_velocity(self, global_best, w=0.5, c1=1, c2=2):\n",
    "        for i in range(len(self.velocity)):\n",
    "            r1, r2 = random.random(), random.random()\n",
    "            cognitive = c1 * r1 * (self.best_position[i] - self.position[i])\n",
    "            social = c2 * r2 * (global_best[i] - self.position[i])\n",
    "            self.velocity[i] = w * self.velocity[i] + cognitive + social\n",
    "\n",
    "    def update_position(self, bounds):\n",
    "        for i in range(len(self.position)):\n",
    "            self.position[i] += self.velocity[i]\n",
    "            # Clamp to bounds\n",
    "            self.position[i] = max(bounds[i][0], min(bounds[i][1], self.position[i]))\n",
    "\n",
    "# Define bounds: (min, max) for each parameter\n",
    "# Format: [units, dropout, batch_size, lookback, num_layers, learning_rate]\n",
    "bounds = [\n",
    "    (32, 128),     # LSTM units\n",
    "    (0.1, 0.5),    # Dropout\n",
    "    (16, 64),      # Batch size\n",
    "    (3, 24),       # Lookback\n",
    "    (1, 3),        # num_layers\n",
    "    (.0001, 0.01)  # learning_rate\n",
    "]\n",
    "\n",
    "# PSO Settings\n",
    "num_particles = 5\n",
    "num_iterations = 10\n",
    "\n",
    "# Initialize swarm\n",
    "swarm = [Particle(bounds) for _ in range(num_particles)]\n",
    "global_best_position = None\n",
    "global_best_score = float('inf')\n",
    "\n",
    "for iter in range(num_iterations):\n",
    "    print(f\"\\nIteration {iter+1}/{num_iterations}\")\n",
    "    \n",
    "    for particle in swarm:\n",
    "        # Evaluate current position\n",
    "        score = pso_objective(particle.position)\n",
    "        particle.score = score\n",
    "\n",
    "        # Update personal best\n",
    "        if score < particle.best_score:\n",
    "            particle.best_score = score\n",
    "            particle.best_position = list(particle.position)\n",
    "\n",
    "        # Update global best\n",
    "        if score < global_best_score:\n",
    "            global_best_score = score\n",
    "            global_best_position = list(particle.position)\n",
    "\n",
    "    # Update velocities and positions\n",
    "    for particle in swarm:\n",
    "        particle.update_velocity(global_best_position)\n",
    "        particle.update_position(bounds)\n",
    "\n",
    "\n",
    "best_units = int(global_best_position[0])\n",
    "best_dropout = float(global_best_position[1])\n",
    "best_batch_size = int(global_best_position[2])\n",
    "best_lookback = int(global_best_position[3])\n",
    "best_num_layers = int(global_best_position[4])\n",
    "best_learning_rate = float(global_best_position[5])\n",
    "\n",
    "print(f\"Best MSE so far: {global_best_score:.4f}\")\n",
    "print(f\"Best Params → Units: {best_units}, Dropout: {best_dropout:.2f}, Batch Size: {best_batch_size}\")"
   ]
  },
  {
   "cell_type": "code",
   "execution_count": 13,
   "id": "56388c69",
   "metadata": {},
   "outputs": [
    {
     "name": "stdout",
     "output_type": "stream",
     "text": [
      "Epoch 1/50\n"
     ]
    },
    {
     "name": "stderr",
     "output_type": "stream",
     "text": [
      "/Library/Frameworks/Python.framework/Versions/3.12/lib/python3.12/site-packages/keras/src/layers/rnn/bidirectional.py:107: UserWarning: Do not pass an `input_shape`/`input_dim` argument to a layer. When using Sequential models, prefer using an `Input(shape)` object as the first layer in the model instead.\n",
      "  super().__init__(**kwargs)\n"
     ]
    },
    {
     "name": "stdout",
     "output_type": "stream",
     "text": [
      "\u001b[1m478/478\u001b[0m \u001b[32m━━━━━━━━━━━━━━━━━━━━\u001b[0m\u001b[37m\u001b[0m \u001b[1m6s\u001b[0m 9ms/step - loss: 42.7649 - mae: 5.3217 - val_loss: 25.7925 - val_mae: 4.3149\n",
      "Epoch 2/50\n",
      "\u001b[1m478/478\u001b[0m \u001b[32m━━━━━━━━━━━━━━━━━━━━\u001b[0m\u001b[37m\u001b[0m \u001b[1m4s\u001b[0m 9ms/step - loss: 24.0073 - mae: 4.0848 - val_loss: 21.7526 - val_mae: 3.7790\n",
      "Epoch 3/50\n",
      "\u001b[1m478/478\u001b[0m \u001b[32m━━━━━━━━━━━━━━━━━━━━\u001b[0m\u001b[37m\u001b[0m \u001b[1m4s\u001b[0m 9ms/step - loss: 22.3772 - mae: 3.8500 - val_loss: 21.5242 - val_mae: 3.7140\n",
      "Epoch 4/50\n",
      "\u001b[1m478/478\u001b[0m \u001b[32m━━━━━━━━━━━━━━━━━━━━\u001b[0m\u001b[37m\u001b[0m \u001b[1m4s\u001b[0m 9ms/step - loss: 21.6742 - mae: 3.7259 - val_loss: 21.3777 - val_mae: 3.7140\n",
      "Epoch 5/50\n",
      "\u001b[1m478/478\u001b[0m \u001b[32m━━━━━━━━━━━━━━━━━━━━\u001b[0m\u001b[37m\u001b[0m \u001b[1m4s\u001b[0m 9ms/step - loss: 21.1564 - mae: 3.6812 - val_loss: 20.5131 - val_mae: 3.6263\n",
      "Epoch 6/50\n",
      "\u001b[1m478/478\u001b[0m \u001b[32m━━━━━━━━━━━━━━━━━━━━\u001b[0m\u001b[37m\u001b[0m \u001b[1m4s\u001b[0m 9ms/step - loss: 20.8941 - mae: 3.6490 - val_loss: 20.3497 - val_mae: 3.5470\n",
      "Epoch 7/50\n",
      "\u001b[1m478/478\u001b[0m \u001b[32m━━━━━━━━━━━━━━━━━━━━\u001b[0m\u001b[37m\u001b[0m \u001b[1m4s\u001b[0m 9ms/step - loss: 21.2274 - mae: 3.6697 - val_loss: 20.2232 - val_mae: 3.5133\n",
      "Epoch 8/50\n",
      "\u001b[1m478/478\u001b[0m \u001b[32m━━━━━━━━━━━━━━━━━━━━\u001b[0m\u001b[37m\u001b[0m \u001b[1m4s\u001b[0m 9ms/step - loss: 20.4425 - mae: 3.5954 - val_loss: 20.4465 - val_mae: 3.5835\n",
      "Epoch 9/50\n",
      "\u001b[1m478/478\u001b[0m \u001b[32m━━━━━━━━━━━━━━━━━━━━\u001b[0m\u001b[37m\u001b[0m \u001b[1m4s\u001b[0m 9ms/step - loss: 20.5659 - mae: 3.6232 - val_loss: 19.9736 - val_mae: 3.4917\n",
      "Epoch 10/50\n",
      "\u001b[1m478/478\u001b[0m \u001b[32m━━━━━━━━━━━━━━━━━━━━\u001b[0m\u001b[37m\u001b[0m \u001b[1m4s\u001b[0m 9ms/step - loss: 20.7465 - mae: 3.6166 - val_loss: 19.9201 - val_mae: 3.5018\n",
      "Epoch 11/50\n",
      "\u001b[1m478/478\u001b[0m \u001b[32m━━━━━━━━━━━━━━━━━━━━\u001b[0m\u001b[37m\u001b[0m \u001b[1m4s\u001b[0m 9ms/step - loss: 20.2345 - mae: 3.5760 - val_loss: 20.1525 - val_mae: 3.5629\n",
      "Epoch 12/50\n",
      "\u001b[1m478/478\u001b[0m \u001b[32m━━━━━━━━━━━━━━━━━━━━\u001b[0m\u001b[37m\u001b[0m \u001b[1m4s\u001b[0m 9ms/step - loss: 20.3642 - mae: 3.5692 - val_loss: 19.6957 - val_mae: 3.4920\n",
      "Epoch 13/50\n",
      "\u001b[1m478/478\u001b[0m \u001b[32m━━━━━━━━━━━━━━━━━━━━\u001b[0m\u001b[37m\u001b[0m \u001b[1m4s\u001b[0m 9ms/step - loss: 20.0998 - mae: 3.5456 - val_loss: 19.3160 - val_mae: 3.4600\n",
      "Epoch 14/50\n",
      "\u001b[1m478/478\u001b[0m \u001b[32m━━━━━━━━━━━━━━━━━━━━\u001b[0m\u001b[37m\u001b[0m \u001b[1m4s\u001b[0m 9ms/step - loss: 19.8660 - mae: 3.5290 - val_loss: 19.2854 - val_mae: 3.4181\n",
      "Epoch 15/50\n",
      "\u001b[1m478/478\u001b[0m \u001b[32m━━━━━━━━━━━━━━━━━━━━\u001b[0m\u001b[37m\u001b[0m \u001b[1m4s\u001b[0m 9ms/step - loss: 20.0369 - mae: 3.5275 - val_loss: 19.2688 - val_mae: 3.4229\n",
      "Epoch 16/50\n",
      "\u001b[1m478/478\u001b[0m \u001b[32m━━━━━━━━━━━━━━━━━━━━\u001b[0m\u001b[37m\u001b[0m \u001b[1m4s\u001b[0m 9ms/step - loss: 19.7343 - mae: 3.5309 - val_loss: 20.3992 - val_mae: 3.5181\n",
      "Epoch 17/50\n",
      "\u001b[1m478/478\u001b[0m \u001b[32m━━━━━━━━━━━━━━━━━━━━\u001b[0m\u001b[37m\u001b[0m \u001b[1m4s\u001b[0m 9ms/step - loss: 19.7750 - mae: 3.5068 - val_loss: 19.0769 - val_mae: 3.4014\n",
      "Epoch 18/50\n",
      "\u001b[1m478/478\u001b[0m \u001b[32m━━━━━━━━━━━━━━━━━━━━\u001b[0m\u001b[37m\u001b[0m \u001b[1m4s\u001b[0m 9ms/step - loss: 19.3842 - mae: 3.4758 - val_loss: 19.1153 - val_mae: 3.3975\n",
      "Epoch 19/50\n",
      "\u001b[1m478/478\u001b[0m \u001b[32m━━━━━━━━━━━━━━━━━━━━\u001b[0m\u001b[37m\u001b[0m \u001b[1m4s\u001b[0m 9ms/step - loss: 19.8456 - mae: 3.5126 - val_loss: 19.1385 - val_mae: 3.4452\n",
      "Epoch 20/50\n",
      "\u001b[1m478/478\u001b[0m \u001b[32m━━━━━━━━━━━━━━━━━━━━\u001b[0m\u001b[37m\u001b[0m \u001b[1m4s\u001b[0m 9ms/step - loss: 19.4355 - mae: 3.4911 - val_loss: 18.8805 - val_mae: 3.3966\n",
      "Epoch 21/50\n",
      "\u001b[1m478/478\u001b[0m \u001b[32m━━━━━━━━━━━━━━━━━━━━\u001b[0m\u001b[37m\u001b[0m \u001b[1m4s\u001b[0m 9ms/step - loss: 19.3618 - mae: 3.4576 - val_loss: 18.9117 - val_mae: 3.4078\n",
      "Epoch 22/50\n",
      "\u001b[1m478/478\u001b[0m \u001b[32m━━━━━━━━━━━━━━━━━━━━\u001b[0m\u001b[37m\u001b[0m \u001b[1m4s\u001b[0m 9ms/step - loss: 19.6497 - mae: 3.4981 - val_loss: 18.7605 - val_mae: 3.3959\n",
      "Epoch 23/50\n",
      "\u001b[1m478/478\u001b[0m \u001b[32m━━━━━━━━━━━━━━━━━━━━\u001b[0m\u001b[37m\u001b[0m \u001b[1m4s\u001b[0m 9ms/step - loss: 19.4011 - mae: 3.4721 - val_loss: 18.9294 - val_mae: 3.3910\n",
      "Epoch 24/50\n",
      "\u001b[1m478/478\u001b[0m \u001b[32m━━━━━━━━━━━━━━━━━━━━\u001b[0m\u001b[37m\u001b[0m \u001b[1m4s\u001b[0m 9ms/step - loss: 18.9168 - mae: 3.4315 - val_loss: 18.4201 - val_mae: 3.3455\n",
      "Epoch 25/50\n",
      "\u001b[1m478/478\u001b[0m \u001b[32m━━━━━━━━━━━━━━━━━━━━\u001b[0m\u001b[37m\u001b[0m \u001b[1m4s\u001b[0m 9ms/step - loss: 19.1960 - mae: 3.4455 - val_loss: 18.6420 - val_mae: 3.3932\n",
      "Epoch 26/50\n",
      "\u001b[1m478/478\u001b[0m \u001b[32m━━━━━━━━━━━━━━━━━━━━\u001b[0m\u001b[37m\u001b[0m \u001b[1m4s\u001b[0m 9ms/step - loss: 19.1445 - mae: 3.4212 - val_loss: 18.4347 - val_mae: 3.3435\n",
      "Epoch 27/50\n",
      "\u001b[1m478/478\u001b[0m \u001b[32m━━━━━━━━━━━━━━━━━━━━\u001b[0m\u001b[37m\u001b[0m \u001b[1m4s\u001b[0m 9ms/step - loss: 19.6976 - mae: 3.4810 - val_loss: 18.4688 - val_mae: 3.3217\n",
      "Epoch 28/50\n",
      "\u001b[1m478/478\u001b[0m \u001b[32m━━━━━━━━━━━━━━━━━━━━\u001b[0m\u001b[37m\u001b[0m \u001b[1m4s\u001b[0m 9ms/step - loss: 19.3882 - mae: 3.4540 - val_loss: 18.6138 - val_mae: 3.3235\n",
      "Epoch 29/50\n",
      "\u001b[1m478/478\u001b[0m \u001b[32m━━━━━━━━━━━━━━━━━━━━\u001b[0m\u001b[37m\u001b[0m \u001b[1m4s\u001b[0m 9ms/step - loss: 19.1410 - mae: 3.4324 - val_loss: 18.2449 - val_mae: 3.3243\n",
      "Epoch 30/50\n",
      "\u001b[1m478/478\u001b[0m \u001b[32m━━━━━━━━━━━━━━━━━━━━\u001b[0m\u001b[37m\u001b[0m \u001b[1m4s\u001b[0m 9ms/step - loss: 18.7622 - mae: 3.4019 - val_loss: 18.7577 - val_mae: 3.3970\n",
      "Epoch 31/50\n",
      "\u001b[1m478/478\u001b[0m \u001b[32m━━━━━━━━━━━━━━━━━━━━\u001b[0m\u001b[37m\u001b[0m \u001b[1m4s\u001b[0m 9ms/step - loss: 19.0656 - mae: 3.4250 - val_loss: 18.4133 - val_mae: 3.3479\n",
      "Epoch 32/50\n",
      "\u001b[1m478/478\u001b[0m \u001b[32m━━━━━━━━━━━━━━━━━━━━\u001b[0m\u001b[37m\u001b[0m \u001b[1m4s\u001b[0m 9ms/step - loss: 19.1658 - mae: 3.4258 - val_loss: 18.5366 - val_mae: 3.3045\n",
      "Epoch 33/50\n",
      "\u001b[1m478/478\u001b[0m \u001b[32m━━━━━━━━━━━━━━━━━━━━\u001b[0m\u001b[37m\u001b[0m \u001b[1m4s\u001b[0m 9ms/step - loss: 19.1045 - mae: 3.4069 - val_loss: 18.0486 - val_mae: 3.2904\n",
      "Epoch 34/50\n",
      "\u001b[1m478/478\u001b[0m \u001b[32m━━━━━━━━━━━━━━━━━━━━\u001b[0m\u001b[37m\u001b[0m \u001b[1m4s\u001b[0m 9ms/step - loss: 18.6189 - mae: 3.3936 - val_loss: 17.9443 - val_mae: 3.3030\n",
      "Epoch 35/50\n",
      "\u001b[1m478/478\u001b[0m \u001b[32m━━━━━━━━━━━━━━━━━━━━\u001b[0m\u001b[37m\u001b[0m \u001b[1m4s\u001b[0m 9ms/step - loss: 18.4807 - mae: 3.3812 - val_loss: 18.1031 - val_mae: 3.2871\n",
      "Epoch 36/50\n",
      "\u001b[1m478/478\u001b[0m \u001b[32m━━━━━━━━━━━━━━━━━━━━\u001b[0m\u001b[37m\u001b[0m \u001b[1m4s\u001b[0m 9ms/step - loss: 18.0968 - mae: 3.3275 - val_loss: 17.9885 - val_mae: 3.3287\n",
      "Epoch 37/50\n",
      "\u001b[1m478/478\u001b[0m \u001b[32m━━━━━━━━━━━━━━━━━━━━\u001b[0m\u001b[37m\u001b[0m \u001b[1m4s\u001b[0m 9ms/step - loss: 18.2276 - mae: 3.3686 - val_loss: 18.0233 - val_mae: 3.2910\n",
      "Epoch 38/50\n",
      "\u001b[1m478/478\u001b[0m \u001b[32m━━━━━━━━━━━━━━━━━━━━\u001b[0m\u001b[37m\u001b[0m \u001b[1m4s\u001b[0m 9ms/step - loss: 18.3706 - mae: 3.3589 - val_loss: 17.9067 - val_mae: 3.2992\n",
      "Epoch 39/50\n",
      "\u001b[1m478/478\u001b[0m \u001b[32m━━━━━━━━━━━━━━━━━━━━\u001b[0m\u001b[37m\u001b[0m \u001b[1m4s\u001b[0m 9ms/step - loss: 18.8224 - mae: 3.4004 - val_loss: 18.1188 - val_mae: 3.3034\n",
      "Epoch 40/50\n",
      "\u001b[1m478/478\u001b[0m \u001b[32m━━━━━━━━━━━━━━━━━━━━\u001b[0m\u001b[37m\u001b[0m \u001b[1m4s\u001b[0m 9ms/step - loss: 18.8144 - mae: 3.4042 - val_loss: 18.0316 - val_mae: 3.2520\n",
      "Epoch 41/50\n",
      "\u001b[1m478/478\u001b[0m \u001b[32m━━━━━━━━━━━━━━━━━━━━\u001b[0m\u001b[37m\u001b[0m \u001b[1m4s\u001b[0m 9ms/step - loss: 18.1425 - mae: 3.2983 - val_loss: 18.0095 - val_mae: 3.2979\n",
      "Epoch 42/50\n",
      "\u001b[1m478/478\u001b[0m \u001b[32m━━━━━━━━━━━━━━━━━━━━\u001b[0m\u001b[37m\u001b[0m \u001b[1m4s\u001b[0m 9ms/step - loss: 18.1719 - mae: 3.3451 - val_loss: 18.2174 - val_mae: 3.3120\n",
      "Epoch 43/50\n",
      "\u001b[1m478/478\u001b[0m \u001b[32m━━━━━━━━━━━━━━━━━━━━\u001b[0m\u001b[37m\u001b[0m \u001b[1m4s\u001b[0m 9ms/step - loss: 18.6094 - mae: 3.3538 - val_loss: 18.0139 - val_mae: 3.2871\n",
      "Epoch 44/50\n",
      "\u001b[1m478/478\u001b[0m \u001b[32m━━━━━━━━━━━━━━━━━━━━\u001b[0m\u001b[37m\u001b[0m \u001b[1m4s\u001b[0m 9ms/step - loss: 17.9692 - mae: 3.3214 - val_loss: 17.8835 - val_mae: 3.2600\n",
      "Epoch 45/50\n",
      "\u001b[1m478/478\u001b[0m \u001b[32m━━━━━━━━━━━━━━━━━━━━\u001b[0m\u001b[37m\u001b[0m \u001b[1m4s\u001b[0m 9ms/step - loss: 18.5511 - mae: 3.3813 - val_loss: 18.5682 - val_mae: 3.3729\n",
      "Epoch 46/50\n",
      "\u001b[1m478/478\u001b[0m \u001b[32m━━━━━━━━━━━━━━━━━━━━\u001b[0m\u001b[37m\u001b[0m \u001b[1m4s\u001b[0m 9ms/step - loss: 18.3549 - mae: 3.3379 - val_loss: 17.9330 - val_mae: 3.3022\n",
      "Epoch 47/50\n",
      "\u001b[1m478/478\u001b[0m \u001b[32m━━━━━━━━━━━━━━━━━━━━\u001b[0m\u001b[37m\u001b[0m \u001b[1m4s\u001b[0m 9ms/step - loss: 18.2198 - mae: 3.3355 - val_loss: 17.8123 - val_mae: 3.2815\n",
      "Epoch 48/50\n",
      "\u001b[1m478/478\u001b[0m \u001b[32m━━━━━━━━━━━━━━━━━━━━\u001b[0m\u001b[37m\u001b[0m \u001b[1m4s\u001b[0m 9ms/step - loss: 18.0575 - mae: 3.3314 - val_loss: 17.9063 - val_mae: 3.2749\n",
      "Epoch 49/50\n",
      "\u001b[1m478/478\u001b[0m \u001b[32m━━━━━━━━━━━━━━━━━━━━\u001b[0m\u001b[37m\u001b[0m \u001b[1m4s\u001b[0m 9ms/step - loss: 18.2991 - mae: 3.3340 - val_loss: 18.4782 - val_mae: 3.3598\n",
      "Epoch 50/50\n",
      "\u001b[1m478/478\u001b[0m \u001b[32m━━━━━━━━━━━━━━━━━━━━\u001b[0m\u001b[37m\u001b[0m \u001b[1m4s\u001b[0m 9ms/step - loss: 17.9412 - mae: 3.3085 - val_loss: 18.6095 - val_mae: 3.3723\n",
      "\u001b[1m141/141\u001b[0m \u001b[32m━━━━━━━━━━━━━━━━━━━━\u001b[0m\u001b[37m\u001b[0m \u001b[1m1s\u001b[0m 4ms/step\n",
      "MSE: 18.7548\n",
      "MAE: 3.4006\n",
      "R² Score: 0.4320\n"
     ]
    }
   ],
   "source": [
    "# BiLSTM CONTINUES\n",
    "X_seq, Y_seq = create_lookback_sequences(X, Y, best_lookback) # Use lookbackk from GWO results\n",
    "X_train, X_test, Y_train, Y_test = train_test_split(X_seq, Y_seq, test_size=0.2, random_state=42)\n",
    "\n",
    "# Explicitly cast data to float32\n",
    "X_train = X_train.astype(np.float32)\n",
    "Y_train = Y_train.astype(np.float32)\n",
    "X_test = X_test.astype(np.float32)\n",
    "Y_test = Y_test.astype(np.float32)\n",
    "\n",
    "\n",
    "from sklearn.metrics import mean_squared_error, mean_absolute_error, r2_score\n",
    "# Build the model\n",
    "model = Sequential()\n",
    "for i in range(best_num_layers):\n",
    "    return_seq = i < best_num_layers - 1\n",
    "    if i == 0:\n",
    "        model.add(Bidirectional(LSTM(best_units, return_sequences=return_seq), input_shape=(best_lookback, X.shape[1])))\n",
    "    else:\n",
    "        model.add(Bidirectional(LSTM(best_units, return_sequences=return_seq)))\n",
    "    model.add(Dropout(best_dropout))\n",
    "\n",
    "# Output layer\n",
    "model.add(Dense(1))\n",
    "\n",
    "# Compile model\n",
    "model.compile(optimizer=Adam(learning_rate=best_learning_rate), loss='mean_squared_error', metrics=['mae'])\n",
    "\n",
    "# Train model\n",
    "model.fit(X_train, Y_train, epochs=50, batch_size=best_batch_size, validation_split=0.1, verbose=1)\n",
    "\n",
    "# Make predictions\n",
    "Y_pred = model.predict(X_test)\n",
    "\n",
    "# Evaluate\n",
    "mse = mean_squared_error(Y_test, Y_pred)\n",
    "mae = mean_absolute_error(Y_test, Y_pred)\n",
    "r2 = r2_score(Y_test, Y_pred)\n",
    "\n",
    "print(f\"MSE: {mse:.4f}\")\n",
    "print(f\"MAE: {mae:.4f}\")\n",
    "print(f\"R² Score: {r2:.4f}\")"
   ]
  },
  {
   "cell_type": "code",
   "execution_count": 14,
   "id": "464c850d",
   "metadata": {},
   "outputs": [
    {
     "data": {
      "image/png": "[encoded data removed]",
      "text/plain": [
       "<Figure size 1500x500 with 1 Axes>"
      ]
     },
     "metadata": {},
     "output_type": "display_data"
    }
   ],
   "source": [
    "import matplotlib.pyplot as plt\n",
    "\n",
    "plt.figure(figsize=(15, 5))\n",
    "plt.plot(Y_test, label='Actual', linewidth=2)\n",
    "plt.plot(Y_pred, label='Predicted', linewidth=2)\n",
    "plt.title(\"Actual vs Predicted Wind Speed (FFF) - Full Test Set\")\n",
    "plt.xlabel(\"Sample Index\")\n",
    "plt.ylabel(\"Wind Speed\")\n",
    "plt.legend()\n",
    "plt.grid(True)\n",
    "plt.tight_layout()\n",
    "plt.show()\n"
   ]
  },
  {
   "cell_type": "code",
   "execution_count": 15,
   "id": "4def8614",
   "metadata": {},
   "outputs": [
    {
     "name": "stdout",
     "output_type": "stream",
     "text": [
      "Results appended to CSV: plot/history_bi.csv\n"
     ]
    }
   ],
   "source": [
    "import os\n",
    "import matplotlib.pyplot as plt\n",
    "from datetime import datetime\n",
    "\n",
    "# Directory for saving plots and CSV\n",
    "output_dir = \"plot\"\n",
    "os.makedirs(output_dir, exist_ok=True)\n",
    "\n",
    "timestamp = datetime.now().strftime(\"%Y-%m-%d_%H-%M-%S\")\n",
    "\n",
    "import pandas as pd\n",
    "\n",
    "# Replace with actual best values from your GWO\n",
    "result = {\n",
    "    \"Timestamp\": timestamp,\n",
    "    \"Units\": best_units,\n",
    "    \"Dropout\":best_dropout,\n",
    "    \"Batch Size\":best_batch_size,\n",
    "    \"Lookback\":best_lookback,\n",
    "    \"Num_layers\":best_num_layers,\n",
    "    \"Learning_rate\":best_learning_rate,\n",
    "    \"MAE\": mae,\n",
    "    \"MSE\": mse,\n",
    "    \"R2\":r2\n",
    "}\n",
    "\n",
    "csv_path = os.path.join(output_dir, \"history_bi.csv\")\n",
    "\n",
    "# Append to CSV\n",
    "if os.path.exists(csv_path):\n",
    "    df_existing = pd.read_csv(csv_path)\n",
    "    df_existing = pd.concat([df_existing, pd.DataFrame([result])], ignore_index=True)\n",
    "    df_existing.to_csv(csv_path, index=False)\n",
    "else:\n",
    "    pd.DataFrame([result]).to_csv(csv_path, index=False)\n",
    "\n",
    "print(f\"Results appended to CSV: {csv_path}\")\n"
   ]
  }
 ],
 "metadata": {
  "kernelspec": {
   "display_name": "Python 3",
   "language": "python",
   "name": "python3"
  },
  "language_info": {
   "codemirror_mode": {
    "name": "ipython",
    "version": 3
   },
   "file_extension": ".py",
   "mimetype": "text/x-python",
   "name": "python",
   "nbconvert_exporter": "python",
   "pygments_lexer": "ipython3",
   "version": "3.12.4"
  }
 },
 "nbformat": 4,
 "nbformat_minor": 5
}
