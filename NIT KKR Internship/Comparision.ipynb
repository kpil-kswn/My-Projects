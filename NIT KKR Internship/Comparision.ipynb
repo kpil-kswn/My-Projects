{
 "cells": [
  {
   "cell_type": "code",
   "execution_count": 1,
   "id": "6e88445a",
   "metadata": {},
   "outputs": [
    {
     "name": "stdout",
     "output_type": "stream",
     "text": [
      "\n",
      "===== Model Result Summary =====\n",
      "| Model   | Optimizer   |   Units |   Dropout |   Batch Size |   Lookback |   Num_layers |   Learning_rate |   MAE |      MSE |   R2 |\n",
      "|---------|-------------|---------|-----------|--------------|------------|--------------|-----------------|-------|----------|------|\n",
      "| BiLSTM  | PSO         |      64 |      0.1  |           60 |          1 |            1 |        0.001    | 37.57 | 3854.95  | 0.79 |\n",
      "| BiLSTM  | GWO         |     116 |      0.33 |           98 |         13 |            2 |        0.000689 |  3.17 |   17.055 | 0.46 |\n",
      "| BiLSTM  | GA          |      96 |      0.2  |           64 |         12 |            3 |        0.001    |  3.15 |   17.23  | 0.49 |\n"
     ]
    }
   ],
   "source": [
    "import pandas as pd\n",
    "result = [\n",
    "    {\n",
    "    \"Model\": \"BiLSTM\",\n",
    "    \"Optimizer\": \"PSO\",\n",
    "    \"Units\": 64,\n",
    "    \"Dropout\": 0.1,\n",
    "    \"Batch Size\": 60,\n",
    "    \"Lookback\": \"1\",\n",
    "    \"Num_layers\": \"1\",\n",
    "    \"Learning_rate\": \"0.001\",\n",
    "    \"MAE\": 37.57,\n",
    "    \"MSE\": 3854.95,\n",
    "    \"R2\": 0.79\n",
    "    },\n",
    "    {\n",
    "    \"Model\": \"BiLSTM\",\n",
    "    \"Optimizer\": \"GWO\",\n",
    "    \"Units\": 116,\n",
    "    \"Dropout\": 0.33,\n",
    "    \"Batch Size\": 98,\n",
    "    \"Lookback\": 13,\n",
    "    \"Num_layers\":2,\n",
    "    \"Learning_rate\":0.000689,\n",
    "    \"MAE\": 3.17,\n",
    "    \"MSE\": 17.055,\n",
    "    \"R2\":0.46\n",
    "    },\n",
    "    {\n",
    "    \"Model\": \"BiLSTM\",\n",
    "    \"Optimizer\": \"GA\",\n",
    "    \"Units\": 96,\n",
    "    \"Dropout\": 0.2,\n",
    "    \"Batch Size\":64,\n",
    "    \"Lookback\": 12,\n",
    "    \"Num_layers\":3,\n",
    "    \"Learning_rate\":0.001,\n",
    "    \"MAE\": 3.15,\n",
    "    \"MSE\": 17.23,\n",
    "    \"R2\":0.49\n",
    "    }\n",
    "]\n",
    "\n",
    "# Create a DataFrame from the result dictionary\n",
    "result_df = pd.DataFrame(result)\n",
    "\n",
    "# Print it in tabular format\n",
    "from tabulate import tabulate\n",
    "print(\"\\n===== Model Result Summary =====\")\n",
    "print(tabulate(result_df, headers='keys', tablefmt='github', showindex=False))"
   ]
  }
 ],
 "metadata": {
  "kernelspec": {
   "display_name": "Python 3",
   "language": "python",
   "name": "python3"
  },
  "language_info": {
   "codemirror_mode": {
    "name": "ipython",
    "version": 3
   },
   "file_extension": ".py",
   "mimetype": "text/x-python",
   "name": "python",
   "nbconvert_exporter": "python",
   "pygments_lexer": "ipython3",
   "version": "3.12.4"
  }
 },
 "nbformat": 4,
 "nbformat_minor": 5
}
